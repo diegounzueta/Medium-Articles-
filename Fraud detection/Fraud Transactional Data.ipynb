{
 "cells": [
  {
   "cell_type": "markdown",
   "id": "fd555f03-65e8-4764-be97-e8d29bcdf5ed",
   "metadata": {},
   "source": [
    "# Fraud data analysis"
   ]
  },
  {
   "cell_type": "markdown",
   "id": "76b831c7-b0e9-46c5-8303-fee7b0cf2939",
   "metadata": {},
   "source": [
    "## Context"
   ]
  },
  {
   "cell_type": "markdown",
   "id": "321d1a86-cde9-49e2-8f84-b6967befbdbe",
   "metadata": {},
   "source": [
    "It is important that credit card companies are able to recognize fraudulent credit card transactions so that customers are not charged for items that they did not purchase."
   ]
  },
  {
   "cell_type": "markdown",
   "id": "d935eaf8-7bef-4a97-b96e-a87ed5077e5e",
   "metadata": {},
   "source": [
    "## Content"
   ]
  },
  {
   "cell_type": "markdown",
   "id": "d41f5a20-5ee8-4948-8db2-7f0af958b244",
   "metadata": {},
   "source": [
    "The dataset contains transactions made by credit cards in September 2013 by European cardholders.\n",
    "This dataset presents transactions that occurred in two days, where we have 492 frauds out of 284,807 transactions. The dataset is highly unbalanced, the positive class (frauds) account for 0.172% of all transactions.\n",
    "\n",
    "It contains only numerical input variables which are the result of a PCA transformation. Unfortunately, due to confidentiality issues, we cannot provide the original features and more background information about the data. Features V1, V2, … V28 are the principal components obtained with PCA, the only features which have not been transformed with PCA are 'Time' and 'Amount'. Feature 'Time' contains the seconds elapsed between each transaction and the first transaction in the dataset. The feature 'Amount' is the transaction Amount, this feature can be used for example-dependant cost-sensitive learning. Feature 'Class' is the response variable and it takes value 1 in case of fraud and 0 otherwise.\n",
    "\n",
    "Given the class imbalance ratio, we recommend measuring the accuracy using the Area Under the Precision-Recall Curve (AUPRC). Confusion matrix accuracy is not meaningful for unbalanced classification."
   ]
  },
  {
   "cell_type": "markdown",
   "id": "01a2e7a3-d29a-4510-93a8-c0d45ea797da",
   "metadata": {},
   "source": [
    "## Kaggle dataset"
   ]
  },
  {
   "cell_type": "code",
   "execution_count": 115,
   "id": "532bf4da-c704-49fa-ac3c-07ddc4d82a4e",
   "metadata": {},
   "outputs": [],
   "source": [
    "import pandas as pd\n",
    "import matplotlib.pyplot as plt\n",
    "import numpy as np\n",
    "import seaborn as sns"
   ]
  },
  {
   "cell_type": "code",
   "execution_count": 6,
   "id": "2729ef59-6d51-4a62-ade9-4a3df7e31756",
   "metadata": {},
   "outputs": [],
   "source": [
    "try:\n",
    "    import opendatasets as od\n",
    "except:\n",
    "    print(\"Installing opendatasets\")\n",
    "    !pip install opendatasets\n",
    "    import opendatasets as od"
   ]
  },
  {
   "cell_type": "code",
   "execution_count": 15,
   "id": "d03c06b0-4367-43ad-8745-e39bfdada11f",
   "metadata": {},
   "outputs": [],
   "source": [
    "try:\n",
    "    df = pd.read_csv(\"./creditcardfraud/creditcard.csv\")\n",
    "\n",
    "except Exception as e:\n",
    "    print(\"Downloading dataset\")\n",
    "    od.download(\"https://www.kaggle.com/mlg-ulb/creditcardfraud\")\n",
    "    try:\n",
    "        df = pd.read_csv(\"./creditcardfraud/creditcard.csv\")\n",
    "    except:\n",
    "        raise"
   ]
  },
  {
   "cell_type": "markdown",
   "id": "e4aa1be5-f129-4f28-9a00-e8cb529b9f34",
   "metadata": {},
   "source": [
    "# EDA"
   ]
  },
  {
   "cell_type": "markdown",
   "id": "3d42bfda-f0eb-4c6f-a732-849545120c30",
   "metadata": {},
   "source": [
    "Before starting any project I like doing a good exploratory data analysis. Making sure you properly understand the data may save you a lot of time when coding later on."
   ]
  },
  {
   "cell_type": "markdown",
   "id": "e62544a4-6e9d-4dfb-ae15-ccd340f63ffd",
   "metadata": {},
   "source": [
    "## Looking at generic data properties"
   ]
  },
  {
   "cell_type": "markdown",
   "id": "2cc0fd30-a643-4f37-8b7e-fcf0f04f50d6",
   "metadata": {},
   "source": [
    "First thing I like to do is to have a look at the data to become familiar with it. I want to know its size and what the columns are. I also look for any missing values or any inconsistent data types"
   ]
  },
  {
   "cell_type": "code",
   "execution_count": 17,
   "id": "f264dfb5-cda3-4260-a844-4b70f1583f8b",
   "metadata": {},
   "outputs": [
    {
     "data": {
      "text/html": [
       "<div>\n",
       "<style scoped>\n",
       "    .dataframe tbody tr th:only-of-type {\n",
       "        vertical-align: middle;\n",
       "    }\n",
       "\n",
       "    .dataframe tbody tr th {\n",
       "        vertical-align: top;\n",
       "    }\n",
       "\n",
       "    .dataframe thead th {\n",
       "        text-align: right;\n",
       "    }\n",
       "</style>\n",
       "<table border=\"1\" class=\"dataframe\">\n",
       "  <thead>\n",
       "    <tr style=\"text-align: right;\">\n",
       "      <th></th>\n",
       "      <th>Time</th>\n",
       "      <th>V1</th>\n",
       "      <th>V2</th>\n",
       "      <th>V3</th>\n",
       "      <th>V4</th>\n",
       "      <th>V5</th>\n",
       "      <th>V6</th>\n",
       "      <th>V7</th>\n",
       "      <th>V8</th>\n",
       "      <th>V9</th>\n",
       "      <th>...</th>\n",
       "      <th>V21</th>\n",
       "      <th>V22</th>\n",
       "      <th>V23</th>\n",
       "      <th>V24</th>\n",
       "      <th>V25</th>\n",
       "      <th>V26</th>\n",
       "      <th>V27</th>\n",
       "      <th>V28</th>\n",
       "      <th>Amount</th>\n",
       "      <th>Class</th>\n",
       "    </tr>\n",
       "  </thead>\n",
       "  <tbody>\n",
       "    <tr>\n",
       "      <th>0</th>\n",
       "      <td>0.0</td>\n",
       "      <td>-1.359807</td>\n",
       "      <td>-0.072781</td>\n",
       "      <td>2.536347</td>\n",
       "      <td>1.378155</td>\n",
       "      <td>-0.338321</td>\n",
       "      <td>0.462388</td>\n",
       "      <td>0.239599</td>\n",
       "      <td>0.098698</td>\n",
       "      <td>0.363787</td>\n",
       "      <td>...</td>\n",
       "      <td>-0.018307</td>\n",
       "      <td>0.277838</td>\n",
       "      <td>-0.110474</td>\n",
       "      <td>0.066928</td>\n",
       "      <td>0.128539</td>\n",
       "      <td>-0.189115</td>\n",
       "      <td>0.133558</td>\n",
       "      <td>-0.021053</td>\n",
       "      <td>149.62</td>\n",
       "      <td>0</td>\n",
       "    </tr>\n",
       "    <tr>\n",
       "      <th>1</th>\n",
       "      <td>0.0</td>\n",
       "      <td>1.191857</td>\n",
       "      <td>0.266151</td>\n",
       "      <td>0.166480</td>\n",
       "      <td>0.448154</td>\n",
       "      <td>0.060018</td>\n",
       "      <td>-0.082361</td>\n",
       "      <td>-0.078803</td>\n",
       "      <td>0.085102</td>\n",
       "      <td>-0.255425</td>\n",
       "      <td>...</td>\n",
       "      <td>-0.225775</td>\n",
       "      <td>-0.638672</td>\n",
       "      <td>0.101288</td>\n",
       "      <td>-0.339846</td>\n",
       "      <td>0.167170</td>\n",
       "      <td>0.125895</td>\n",
       "      <td>-0.008983</td>\n",
       "      <td>0.014724</td>\n",
       "      <td>2.69</td>\n",
       "      <td>0</td>\n",
       "    </tr>\n",
       "    <tr>\n",
       "      <th>2</th>\n",
       "      <td>1.0</td>\n",
       "      <td>-1.358354</td>\n",
       "      <td>-1.340163</td>\n",
       "      <td>1.773209</td>\n",
       "      <td>0.379780</td>\n",
       "      <td>-0.503198</td>\n",
       "      <td>1.800499</td>\n",
       "      <td>0.791461</td>\n",
       "      <td>0.247676</td>\n",
       "      <td>-1.514654</td>\n",
       "      <td>...</td>\n",
       "      <td>0.247998</td>\n",
       "      <td>0.771679</td>\n",
       "      <td>0.909412</td>\n",
       "      <td>-0.689281</td>\n",
       "      <td>-0.327642</td>\n",
       "      <td>-0.139097</td>\n",
       "      <td>-0.055353</td>\n",
       "      <td>-0.059752</td>\n",
       "      <td>378.66</td>\n",
       "      <td>0</td>\n",
       "    </tr>\n",
       "    <tr>\n",
       "      <th>3</th>\n",
       "      <td>1.0</td>\n",
       "      <td>-0.966272</td>\n",
       "      <td>-0.185226</td>\n",
       "      <td>1.792993</td>\n",
       "      <td>-0.863291</td>\n",
       "      <td>-0.010309</td>\n",
       "      <td>1.247203</td>\n",
       "      <td>0.237609</td>\n",
       "      <td>0.377436</td>\n",
       "      <td>-1.387024</td>\n",
       "      <td>...</td>\n",
       "      <td>-0.108300</td>\n",
       "      <td>0.005274</td>\n",
       "      <td>-0.190321</td>\n",
       "      <td>-1.175575</td>\n",
       "      <td>0.647376</td>\n",
       "      <td>-0.221929</td>\n",
       "      <td>0.062723</td>\n",
       "      <td>0.061458</td>\n",
       "      <td>123.50</td>\n",
       "      <td>0</td>\n",
       "    </tr>\n",
       "    <tr>\n",
       "      <th>4</th>\n",
       "      <td>2.0</td>\n",
       "      <td>-1.158233</td>\n",
       "      <td>0.877737</td>\n",
       "      <td>1.548718</td>\n",
       "      <td>0.403034</td>\n",
       "      <td>-0.407193</td>\n",
       "      <td>0.095921</td>\n",
       "      <td>0.592941</td>\n",
       "      <td>-0.270533</td>\n",
       "      <td>0.817739</td>\n",
       "      <td>...</td>\n",
       "      <td>-0.009431</td>\n",
       "      <td>0.798278</td>\n",
       "      <td>-0.137458</td>\n",
       "      <td>0.141267</td>\n",
       "      <td>-0.206010</td>\n",
       "      <td>0.502292</td>\n",
       "      <td>0.219422</td>\n",
       "      <td>0.215153</td>\n",
       "      <td>69.99</td>\n",
       "      <td>0</td>\n",
       "    </tr>\n",
       "  </tbody>\n",
       "</table>\n",
       "<p>5 rows × 31 columns</p>\n",
       "</div>"
      ],
      "text/plain": [
       "   Time        V1        V2        V3        V4        V5        V6        V7  \\\n",
       "0   0.0 -1.359807 -0.072781  2.536347  1.378155 -0.338321  0.462388  0.239599   \n",
       "1   0.0  1.191857  0.266151  0.166480  0.448154  0.060018 -0.082361 -0.078803   \n",
       "2   1.0 -1.358354 -1.340163  1.773209  0.379780 -0.503198  1.800499  0.791461   \n",
       "3   1.0 -0.966272 -0.185226  1.792993 -0.863291 -0.010309  1.247203  0.237609   \n",
       "4   2.0 -1.158233  0.877737  1.548718  0.403034 -0.407193  0.095921  0.592941   \n",
       "\n",
       "         V8        V9  ...       V21       V22       V23       V24       V25  \\\n",
       "0  0.098698  0.363787  ... -0.018307  0.277838 -0.110474  0.066928  0.128539   \n",
       "1  0.085102 -0.255425  ... -0.225775 -0.638672  0.101288 -0.339846  0.167170   \n",
       "2  0.247676 -1.514654  ...  0.247998  0.771679  0.909412 -0.689281 -0.327642   \n",
       "3  0.377436 -1.387024  ... -0.108300  0.005274 -0.190321 -1.175575  0.647376   \n",
       "4 -0.270533  0.817739  ... -0.009431  0.798278 -0.137458  0.141267 -0.206010   \n",
       "\n",
       "        V26       V27       V28  Amount  Class  \n",
       "0 -0.189115  0.133558 -0.021053  149.62      0  \n",
       "1  0.125895 -0.008983  0.014724    2.69      0  \n",
       "2 -0.139097 -0.055353 -0.059752  378.66      0  \n",
       "3 -0.221929  0.062723  0.061458  123.50      0  \n",
       "4  0.502292  0.219422  0.215153   69.99      0  \n",
       "\n",
       "[5 rows x 31 columns]"
      ]
     },
     "execution_count": 17,
     "metadata": {},
     "output_type": "execute_result"
    }
   ],
   "source": [
    "df.head()"
   ]
  },
  {
   "cell_type": "markdown",
   "id": "134f5110-ada9-4ad2-a20c-2968dfd81334",
   "metadata": {},
   "source": [
    "DATA: 28 unknown PCA variables, time of transaction, amount and class"
   ]
  },
  {
   "cell_type": "code",
   "execution_count": 18,
   "id": "d60f17c7-db0e-40ce-8486-fd6cb7aa5f65",
   "metadata": {},
   "outputs": [
    {
     "data": {
      "text/plain": [
       "Index(['Time', 'V1', 'V2', 'V3', 'V4', 'V5', 'V6', 'V7', 'V8', 'V9', 'V10',\n",
       "       'V11', 'V12', 'V13', 'V14', 'V15', 'V16', 'V17', 'V18', 'V19', 'V20',\n",
       "       'V21', 'V22', 'V23', 'V24', 'V25', 'V26', 'V27', 'V28', 'Amount',\n",
       "       'Class'],\n",
       "      dtype='object')"
      ]
     },
     "execution_count": 18,
     "metadata": {},
     "output_type": "execute_result"
    }
   ],
   "source": [
    "df.columns"
   ]
  },
  {
   "cell_type": "markdown",
   "id": "aecc2b6a-b65c-454a-a370-7bdd2aec200a",
   "metadata": {},
   "source": [
    "Most of the data is non fraudulent, average transaction is 88"
   ]
  },
  {
   "cell_type": "code",
   "execution_count": 29,
   "id": "8ee4d407-378e-480b-b47c-1ae7b01cdd9d",
   "metadata": {},
   "outputs": [
    {
     "data": {
      "text/html": [
       "<div>\n",
       "<style scoped>\n",
       "    .dataframe tbody tr th:only-of-type {\n",
       "        vertical-align: middle;\n",
       "    }\n",
       "\n",
       "    .dataframe tbody tr th {\n",
       "        vertical-align: top;\n",
       "    }\n",
       "\n",
       "    .dataframe thead th {\n",
       "        text-align: right;\n",
       "    }\n",
       "</style>\n",
       "<table border=\"1\" class=\"dataframe\">\n",
       "  <thead>\n",
       "    <tr style=\"text-align: right;\">\n",
       "      <th></th>\n",
       "      <th>Amount</th>\n",
       "      <th>Class</th>\n",
       "    </tr>\n",
       "  </thead>\n",
       "  <tbody>\n",
       "    <tr>\n",
       "      <th>count</th>\n",
       "      <td>284807.000</td>\n",
       "      <td>284807.000</td>\n",
       "    </tr>\n",
       "    <tr>\n",
       "      <th>mean</th>\n",
       "      <td>88.350</td>\n",
       "      <td>0.002</td>\n",
       "    </tr>\n",
       "    <tr>\n",
       "      <th>std</th>\n",
       "      <td>250.120</td>\n",
       "      <td>0.042</td>\n",
       "    </tr>\n",
       "    <tr>\n",
       "      <th>min</th>\n",
       "      <td>0.000</td>\n",
       "      <td>0.000</td>\n",
       "    </tr>\n",
       "    <tr>\n",
       "      <th>25%</th>\n",
       "      <td>5.600</td>\n",
       "      <td>0.000</td>\n",
       "    </tr>\n",
       "    <tr>\n",
       "      <th>50%</th>\n",
       "      <td>22.000</td>\n",
       "      <td>0.000</td>\n",
       "    </tr>\n",
       "    <tr>\n",
       "      <th>75%</th>\n",
       "      <td>77.165</td>\n",
       "      <td>0.000</td>\n",
       "    </tr>\n",
       "    <tr>\n",
       "      <th>max</th>\n",
       "      <td>25691.160</td>\n",
       "      <td>1.000</td>\n",
       "    </tr>\n",
       "  </tbody>\n",
       "</table>\n",
       "</div>"
      ],
      "text/plain": [
       "           Amount       Class\n",
       "count  284807.000  284807.000\n",
       "mean       88.350       0.002\n",
       "std       250.120       0.042\n",
       "min         0.000       0.000\n",
       "25%         5.600       0.000\n",
       "50%        22.000       0.000\n",
       "75%        77.165       0.000\n",
       "max     25691.160       1.000"
      ]
     },
     "execution_count": 29,
     "metadata": {},
     "output_type": "execute_result"
    }
   ],
   "source": [
    "df[[\"Amount\", \"Class\"]].describe().round(3)"
   ]
  },
  {
   "cell_type": "markdown",
   "id": "37591fdc-e6ee-4c5c-8d24-61dbdd329ce6",
   "metadata": {},
   "source": [
    "No missing values or inconsistent types"
   ]
  },
  {
   "cell_type": "code",
   "execution_count": 34,
   "id": "1f5eb87c-379a-472f-8425-bd1e78928ef8",
   "metadata": {},
   "outputs": [
    {
     "data": {
      "text/html": [
       "<div>\n",
       "<style scoped>\n",
       "    .dataframe tbody tr th:only-of-type {\n",
       "        vertical-align: middle;\n",
       "    }\n",
       "\n",
       "    .dataframe tbody tr th {\n",
       "        vertical-align: top;\n",
       "    }\n",
       "\n",
       "    .dataframe thead th {\n",
       "        text-align: right;\n",
       "    }\n",
       "</style>\n",
       "<table border=\"1\" class=\"dataframe\">\n",
       "  <thead>\n",
       "    <tr style=\"text-align: right;\">\n",
       "      <th></th>\n",
       "      <th>Missing Values</th>\n",
       "      <th>Type</th>\n",
       "    </tr>\n",
       "  </thead>\n",
       "  <tbody>\n",
       "    <tr>\n",
       "      <th>Time</th>\n",
       "      <td>0</td>\n",
       "      <td>float64</td>\n",
       "    </tr>\n",
       "    <tr>\n",
       "      <th>V1</th>\n",
       "      <td>0</td>\n",
       "      <td>float64</td>\n",
       "    </tr>\n",
       "    <tr>\n",
       "      <th>V2</th>\n",
       "      <td>0</td>\n",
       "      <td>float64</td>\n",
       "    </tr>\n",
       "    <tr>\n",
       "      <th>V3</th>\n",
       "      <td>0</td>\n",
       "      <td>float64</td>\n",
       "    </tr>\n",
       "    <tr>\n",
       "      <th>V4</th>\n",
       "      <td>0</td>\n",
       "      <td>float64</td>\n",
       "    </tr>\n",
       "    <tr>\n",
       "      <th>V5</th>\n",
       "      <td>0</td>\n",
       "      <td>float64</td>\n",
       "    </tr>\n",
       "    <tr>\n",
       "      <th>V6</th>\n",
       "      <td>0</td>\n",
       "      <td>float64</td>\n",
       "    </tr>\n",
       "    <tr>\n",
       "      <th>V7</th>\n",
       "      <td>0</td>\n",
       "      <td>float64</td>\n",
       "    </tr>\n",
       "    <tr>\n",
       "      <th>V8</th>\n",
       "      <td>0</td>\n",
       "      <td>float64</td>\n",
       "    </tr>\n",
       "    <tr>\n",
       "      <th>V9</th>\n",
       "      <td>0</td>\n",
       "      <td>float64</td>\n",
       "    </tr>\n",
       "    <tr>\n",
       "      <th>V10</th>\n",
       "      <td>0</td>\n",
       "      <td>float64</td>\n",
       "    </tr>\n",
       "    <tr>\n",
       "      <th>V11</th>\n",
       "      <td>0</td>\n",
       "      <td>float64</td>\n",
       "    </tr>\n",
       "    <tr>\n",
       "      <th>V12</th>\n",
       "      <td>0</td>\n",
       "      <td>float64</td>\n",
       "    </tr>\n",
       "    <tr>\n",
       "      <th>V13</th>\n",
       "      <td>0</td>\n",
       "      <td>float64</td>\n",
       "    </tr>\n",
       "    <tr>\n",
       "      <th>V14</th>\n",
       "      <td>0</td>\n",
       "      <td>float64</td>\n",
       "    </tr>\n",
       "    <tr>\n",
       "      <th>V15</th>\n",
       "      <td>0</td>\n",
       "      <td>float64</td>\n",
       "    </tr>\n",
       "    <tr>\n",
       "      <th>V16</th>\n",
       "      <td>0</td>\n",
       "      <td>float64</td>\n",
       "    </tr>\n",
       "    <tr>\n",
       "      <th>V17</th>\n",
       "      <td>0</td>\n",
       "      <td>float64</td>\n",
       "    </tr>\n",
       "    <tr>\n",
       "      <th>V18</th>\n",
       "      <td>0</td>\n",
       "      <td>float64</td>\n",
       "    </tr>\n",
       "    <tr>\n",
       "      <th>V19</th>\n",
       "      <td>0</td>\n",
       "      <td>float64</td>\n",
       "    </tr>\n",
       "    <tr>\n",
       "      <th>V20</th>\n",
       "      <td>0</td>\n",
       "      <td>float64</td>\n",
       "    </tr>\n",
       "    <tr>\n",
       "      <th>V21</th>\n",
       "      <td>0</td>\n",
       "      <td>float64</td>\n",
       "    </tr>\n",
       "    <tr>\n",
       "      <th>V22</th>\n",
       "      <td>0</td>\n",
       "      <td>float64</td>\n",
       "    </tr>\n",
       "    <tr>\n",
       "      <th>V23</th>\n",
       "      <td>0</td>\n",
       "      <td>float64</td>\n",
       "    </tr>\n",
       "    <tr>\n",
       "      <th>V24</th>\n",
       "      <td>0</td>\n",
       "      <td>float64</td>\n",
       "    </tr>\n",
       "    <tr>\n",
       "      <th>V25</th>\n",
       "      <td>0</td>\n",
       "      <td>float64</td>\n",
       "    </tr>\n",
       "    <tr>\n",
       "      <th>V26</th>\n",
       "      <td>0</td>\n",
       "      <td>float64</td>\n",
       "    </tr>\n",
       "    <tr>\n",
       "      <th>V27</th>\n",
       "      <td>0</td>\n",
       "      <td>float64</td>\n",
       "    </tr>\n",
       "    <tr>\n",
       "      <th>V28</th>\n",
       "      <td>0</td>\n",
       "      <td>float64</td>\n",
       "    </tr>\n",
       "    <tr>\n",
       "      <th>Amount</th>\n",
       "      <td>0</td>\n",
       "      <td>float64</td>\n",
       "    </tr>\n",
       "    <tr>\n",
       "      <th>Class</th>\n",
       "      <td>0</td>\n",
       "      <td>int64</td>\n",
       "    </tr>\n",
       "  </tbody>\n",
       "</table>\n",
       "</div>"
      ],
      "text/plain": [
       "       Missing Values     Type\n",
       "Time                0  float64\n",
       "V1                  0  float64\n",
       "V2                  0  float64\n",
       "V3                  0  float64\n",
       "V4                  0  float64\n",
       "V5                  0  float64\n",
       "V6                  0  float64\n",
       "V7                  0  float64\n",
       "V8                  0  float64\n",
       "V9                  0  float64\n",
       "V10                 0  float64\n",
       "V11                 0  float64\n",
       "V12                 0  float64\n",
       "V13                 0  float64\n",
       "V14                 0  float64\n",
       "V15                 0  float64\n",
       "V16                 0  float64\n",
       "V17                 0  float64\n",
       "V18                 0  float64\n",
       "V19                 0  float64\n",
       "V20                 0  float64\n",
       "V21                 0  float64\n",
       "V22                 0  float64\n",
       "V23                 0  float64\n",
       "V24                 0  float64\n",
       "V25                 0  float64\n",
       "V26                 0  float64\n",
       "V27                 0  float64\n",
       "V28                 0  float64\n",
       "Amount              0  float64\n",
       "Class               0    int64"
      ]
     },
     "execution_count": 34,
     "metadata": {},
     "output_type": "execute_result"
    }
   ],
   "source": [
    "a = pd.DataFrame([df.isna().sum(), df.dtypes]).T\n",
    "a.columns = [\"Missing Values\", \"Type\"]\n",
    "a"
   ]
  },
  {
   "cell_type": "markdown",
   "id": "14d933e6-83d7-4559-a349-6a463943826b",
   "metadata": {},
   "source": [
    "## Visualisations"
   ]
  },
  {
   "cell_type": "markdown",
   "id": "495c9a75-b91b-402b-8731-0f8fb60771d1",
   "metadata": {},
   "source": [
    "Here I focus on visualisations to do with fraudulent transactions because it is what we are interested in. It is difficult sometimes to do with specially with a dataset this unbalanced"
   ]
  },
  {
   "cell_type": "markdown",
   "id": "1d43b0a7-a7fa-4540-82dc-748cf5759b12",
   "metadata": {},
   "source": [
    "## FRAUD"
   ]
  },
  {
   "cell_type": "code",
   "execution_count": 59,
   "id": "fdc30890-3b91-4d36-9a9c-aedc36048809",
   "metadata": {},
   "outputs": [],
   "source": [
    "fraud = df.loc[df[\"Class\"] == 1]\n",
    "nofraud = df.loc[df[\"Class\"] == 0]"
   ]
  },
  {
   "cell_type": "code",
   "execution_count": 43,
   "id": "adc99fa6-340b-45f9-b752-cd953e2efdbd",
   "metadata": {},
   "outputs": [
    {
     "data": {
      "text/plain": [
       "(492, 284807)"
      ]
     },
     "execution_count": 43,
     "metadata": {},
     "output_type": "execute_result"
    }
   ],
   "source": [
    "len(fraud), len(df)"
   ]
  },
  {
   "cell_type": "code",
   "execution_count": 62,
   "id": "1e9aa44d-f171-4bfc-ad77-9bbf0e48f404",
   "metadata": {},
   "outputs": [
    {
     "data": {
      "text/plain": [
       "(284807, 31)"
      ]
     },
     "execution_count": 62,
     "metadata": {},
     "output_type": "execute_result"
    }
   ],
   "source": [
    "df.shape"
   ]
  },
  {
   "cell_type": "code",
   "execution_count": 129,
   "id": "62cf4bc0-e18e-47ea-9c35-de2231c0b690",
   "metadata": {},
   "outputs": [],
   "source": [
    "def plot_data(fraud, nofraud, features=None):\n",
    "    \"\"\"\n",
    "    Input: 2 dataframes, fraudulent transactions and non fraudulent\n",
    "           list of features to visualise \n",
    "    \n",
    "    Output:\n",
    "    normalised histograms of the selected features\n",
    "    \"\"\"\n",
    "    \n",
    "    if features == None:\n",
    "        features = df.columns\n",
    "    \n",
    "    try:\n",
    "        fraud = fraud[features]\n",
    "        nofraud = nofraud[features]\n",
    "    except:\n",
    "        raise\n",
    "        return()\n",
    "    \n",
    "    n_rows = len(features)//3 +1\n",
    "\n",
    "    _, ax = plt.subplots(n_rows, 3, figsize = (5*3, 5*n_rows))\n",
    "\n",
    "    for index, i in enumerate(features):\n",
    "        axis = ax[index//3][index%3]\n",
    "        axis.hist(nofraud[i], density = True, bins = 50, stacked = True, label = \"Non Fraudulent\")\n",
    "        axis.hist(fraud[i], bins = 50, density = True, stacked = True, label = \"Fraudulent\")\n",
    "        axis.set_title(i)\n",
    "        axis.set_ylabel(\"Percentage of transactions\")\n",
    "        axis.set_xlabel(\"Value of {}\".format(i))\n",
    "        axis.legend()\n",
    "    plt.tight_layout()"
   ]
  },
  {
   "cell_type": "code",
   "execution_count": 130,
   "id": "7c4a85b5-ab99-404f-a4d1-bda4768b3555",
   "metadata": {},
   "outputs": [
    {
     "data": {
      "image/png": "[encoded data removed]",
      "text/plain": [
       "<Figure size 1080x1440 with 12 Axes>"
      ]
     },
     "metadata": {
      "needs_background": "light"
     },
     "output_type": "display_data"
    }
   ],
   "source": [
    "plot_data(fraud, nofraud, [\"Time\", \"V3\", \"V4\", \"V9\", \"V10\", \"V11\", \"V12\", \"V14\", \"V17\", \"Amount\"])"
   ]
  },
  {
   "cell_type": "code",
   "execution_count": null,
   "id": "ea84318c-fb7c-47b8-929a-863e77cbd67c",
   "metadata": {},
   "outputs": [],
   "source": []
  },
  {
   "cell_type": "markdown",
   "id": "c836d5e8-9219-4da0-b50b-280a00dbff0b",
   "metadata": {},
   "source": [
    "## AMOUNT AND FRAUD"
   ]
  },
  {
   "cell_type": "markdown",
   "id": "56064059-2baf-423c-b939-21a61af9fb3d",
   "metadata": {},
   "source": [
    "I'm curious about the amount transfered and the fraud. Amount is the only variable we know other than time and fraud"
   ]
  },
  {
   "cell_type": "code",
   "execution_count": 132,
   "id": "fed5615f-5008-4849-8492-4a34333c8da6",
   "metadata": {},
   "outputs": [
    {
     "name": "stderr",
     "output_type": "stream",
     "text": [
      "<ipython-input-132-4116f14ad675>:2: RuntimeWarning: divide by zero encountered in log\n",
      "  ax[1].plot(np.log(sorted(df[\"Amount\"])))\n"
     ]
    },
    {
     "data": {
      "text/plain": [
       "Text(0, 0.5, 'Amount')"
      ]
     },
     "execution_count": 132,
     "metadata": {},
     "output_type": "execute_result"
    },
    {
     "data": {
      "image/png": "[encoded data removed]",
      "text/plain": [
       "<Figure size 720x360 with 2 Axes>"
      ]
     },
     "metadata": {
      "needs_background": "light"
     },
     "output_type": "display_data"
    }
   ],
   "source": [
    "_, ax = plt.subplots(1,2, figsize= (10, 5))\n",
    "ax[1].plot(np.log(sorted(df[\"Amount\"])))\n",
    "ax[1].set_xlabel(\"Sorted Transactions\")\n",
    "ax[1].set_ylabel(\"Log Amount\")\n",
    "\n",
    "ax[0].plot(sorted(df[\"Amount\"]))\n",
    "ax[0].set_xlabel(\"Sorted Transactions\")\n",
    "ax[0].set_ylabel(\"Amount\")"
   ]
  },
  {
   "cell_type": "code",
   "execution_count": 135,
   "id": "20c339b7-9dce-47e3-919f-12119e224e30",
   "metadata": {},
   "outputs": [
    {
     "name": "stderr",
     "output_type": "stream",
     "text": [
      "<ipython-input-135-3a7ef4c47dca>:2: RuntimeWarning: divide by zero encountered in log\n",
      "  ax[1].scatter(np.linspace(0, 1, len(fraud)), np.log(sorted(fraud[\"Amount\"])), s = 1, label = \"Fraud\")\n",
      "<ipython-input-135-3a7ef4c47dca>:3: RuntimeWarning: divide by zero encountered in log\n",
      "  ax[1].scatter(np.linspace(0, 1, len(nofraud)), np.log(sorted(nofraud[\"Amount\"])), s =1, label = \"No Fraud\")\n"
     ]
    },
    {
     "data": {
      "text/plain": [
       "Text(0, 0.5, 'Amount')"
      ]
     },
     "execution_count": 135,
     "metadata": {},
     "output_type": "execute_result"
    },
    {
     "data": {
      "image/png": "[encoded data removed]",
      "text/plain": [
       "<Figure size 720x360 with 2 Axes>"
      ]
     },
     "metadata": {
      "needs_background": "light"
     },
     "output_type": "display_data"
    }
   ],
   "source": [
    "_, ax = plt.subplots(1,2, figsize= (10, 5))\n",
    "ax[1].scatter(np.linspace(0, 1, len(fraud)), np.log(sorted(fraud[\"Amount\"])), s = 1, label = \"Fraud\")\n",
    "ax[1].scatter(np.linspace(0, 1, len(nofraud)), np.log(sorted(nofraud[\"Amount\"])), s =1, label = \"No Fraud\")\n",
    "ax[1].legend()\n",
    "ax[1].set_xlabel(\"Sorted Transactions\")\n",
    "ax[1].set_ylabel(\"Log Amount\")\n",
    "\n",
    "ax[0].scatter(np.linspace(0, 1, len(fraud)), sorted(fraud[\"Amount\"]), s = 1, label = \"Fraud\")\n",
    "ax[0].scatter(np.linspace(0, 1, len(nofraud)), sorted(nofraud[\"Amount\"]), s =1, label = \"No Fraud\")\n",
    "ax[0].legend()\n",
    "ax[0].set_xlabel(\"Sorted Transactions\")\n",
    "ax[0].set_ylabel(\"Amount\")"
   ]
  },
  {
   "cell_type": "markdown",
   "id": "b0688e7a-c09e-45d6-bac5-0e3bd0bff3b8",
   "metadata": {},
   "source": [
    "Most transactions are very low valued, vert low valyes are usually not fraudulent"
   ]
  },
  {
   "cell_type": "code",
   "execution_count": 111,
   "id": "f41b405a-9a2c-4ebc-86e6-1d3b1550714f",
   "metadata": {},
   "outputs": [],
   "source": [
    "\n",
    "def plot_box(df):\n",
    "    \n",
    "    _, ax = plt.subplots(1,2, figsize= (10, 5))\n",
    "    sns.boxplot(data = df,  x = \"Class\", y = \"Amount\",ax = ax[0])\n",
    "    \n",
    "    df[\"Amount_log\"] = np.log(df[\"Amount\"])\n",
    "    sns.boxplot(data = df,  x = \"Class\", y = \"Amount_log\",ax = ax[1])\n"
   ]
  },
  {
   "cell_type": "code",
   "execution_count": 112,
   "id": "9a63ff49-7a74-4c64-8c14-878a4fb9fe5a",
   "metadata": {},
   "outputs": [
    {
     "name": "stderr",
     "output_type": "stream",
     "text": [
      "C:\\Users\\UnzuetaRuedasD\\Anaconda3\\lib\\site-packages\\pandas\\core\\series.py:726: RuntimeWarning: divide by zero encountered in log\n",
      "  result = getattr(ufunc, method)(*inputs, **kwargs)\n"
     ]
    },
    {
     "data": {
      "image/png": "[encoded data removed]",
      "text/plain": [
       "<Figure size 720x360 with 2 Axes>"
      ]
     },
     "metadata": {
      "needs_background": "light"
     },
     "output_type": "display_data"
    }
   ],
   "source": [
    "plot_box(df)"
   ]
  },
  {
   "cell_type": "code",
   "execution_count": null,
   "id": "93c8603b-b003-44c2-adb0-cd118b769735",
   "metadata": {},
   "outputs": [],
   "source": []
  },
  {
   "cell_type": "markdown",
   "id": "8a1fdef5-badb-4a3c-bf9a-fe447af56444",
   "metadata": {},
   "source": [
    "## Belford's law"
   ]
  },
  {
   "cell_type": "markdown",
   "id": "295d6511-a1f3-4744-9dcd-b6cfee93dc26",
   "metadata": {},
   "source": [
    "Fraudulent transactions don't follow belford's law as well as non-fraudulent transactions"
   ]
  },
  {
   "cell_type": "code",
   "execution_count": null,
   "id": "e9267dc9-cb72-4522-a625-592ee5b6ac5d",
   "metadata": {},
   "outputs": [],
   "source": [
    "#these are the Benford Law weights)\n",
    "weights = np.asarray([0.301, 0.176, 0.124, 0.096, 0.079, 0.066, 0.057, 0.054, 0.047])"
   ]
  },
  {
   "cell_type": "code",
   "execution_count": 189,
   "id": "601567eb-9ca5-4499-98b2-44ba5285639e",
   "metadata": {},
   "outputs": [],
   "source": [
    "def get_belford_list(df):\n",
    "    l = []\n",
    "    for i in df[\"Amount\"]:\n",
    "        l.append(int(str(i)[0]))\n",
    "    l = sorted([i for i in l if i != 0])\n",
    "    return(l)"
   ]
  },
  {
   "cell_type": "code",
   "execution_count": 212,
   "id": "d647abd1-86b7-4a73-adce-6f1562110ba6",
   "metadata": {},
   "outputs": [
    {
     "data": {
      "text/plain": [
       "Text(0.5, 1.0, 'FRAUD')"
      ]
     },
     "execution_count": 212,
     "metadata": {},
     "output_type": "execute_result"
    },
    {
     "data": {
      "image/png": "[encoded data removed]",
      "text/plain": [
       "<Figure size 720x360 with 2 Axes>"
      ]
     },
     "metadata": {
      "needs_background": "light"
     },
     "output_type": "display_data"
    }
   ],
   "source": [
    "_, ax = plt.subplots(1, 2, figsize=  (10, 5))\n",
    "ax[0].hist(get_belford_list(nofraud), bins = 9)\n",
    "ax[0].plot(range(1, 10), weights*len(nofraud))\n",
    "ax[0].set_xlabel(\"Starting digit\")\n",
    "ax[0].set_ylabel(\"Number of transactions\")\n",
    "ax[0].set_title(\"NO FRAUD\")\n",
    "\n",
    "ax[1].hist(get_belford_list(fraud), bins = 9)\n",
    "ax[1].plot(range(1, 10), weights*len(fraud))\n",
    "ax[1].set_xlabel(\"Starting digit\")\n",
    "ax[1].set_ylabel(\"Number of transactions\")\n",
    "ax[1].set_title(\"FRAUD\")\n"
   ]
  },
  {
   "cell_type": "code",
   "execution_count": null,
   "id": "db5b2038-962f-464d-b986-241dad95ae65",
   "metadata": {},
   "outputs": [],
   "source": []
  },
  {
   "cell_type": "code",
   "execution_count": null,
   "id": "c9db80b4-6a34-4c0e-8725-6d669a294353",
   "metadata": {},
   "outputs": [],
   "source": []
  },
  {
   "cell_type": "code",
   "execution_count": null,
   "id": "5873f5c9-65f5-41ca-b1a1-114b9b7fb038",
   "metadata": {},
   "outputs": [],
   "source": []
  },
  {
   "cell_type": "code",
   "execution_count": null,
   "id": "74557754-7dfd-4f01-8b29-b73a01fe77a5",
   "metadata": {},
   "outputs": [],
   "source": []
  },
  {
   "cell_type": "code",
   "execution_count": null,
   "id": "51a54e15-f3c8-4f9a-a8cd-242efd5e3f84",
   "metadata": {},
   "outputs": [],
   "source": []
  },
  {
   "cell_type": "code",
   "execution_count": null,
   "id": "8e9341f0-aaa2-4557-875d-58d491742187",
   "metadata": {},
   "outputs": [],
   "source": []
  }
 ],
 "metadata": {
  "kernelspec": {
   "display_name": "Python 3",
   "language": "python",
   "name": "python3"
  },
  "language_info": {
   "codemirror_mode": {
    "name": "ipython",
    "version": 3
   },
   "file_extension": ".py",
   "mimetype": "text/x-python",
   "name": "python",
   "nbconvert_exporter": "python",
   "pygments_lexer": "ipython3",
   "version": "3.8.8"
  }
 },
 "nbformat": 4,
 "nbformat_minor": 5
}
