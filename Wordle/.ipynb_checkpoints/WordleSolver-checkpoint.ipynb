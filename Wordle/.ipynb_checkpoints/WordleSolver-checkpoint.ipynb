{
 "cells": [
  {
   "cell_type": "markdown",
   "id": "d872784e-c7b4-4b53-9990-51d7ebd009ad",
   "metadata": {},
   "source": [
    "# Replicating 3B1B Wordle Video Code"
   ]
  },
  {
   "cell_type": "markdown",
   "id": "9e5ebeb7-4d21-4ce7-b844-c9e19eca5fa2",
   "metadata": {},
   "source": [
    "I use turtle instead of manim and try to get close to what 3b1b produced in his video on wordle"
   ]
  },
  {
   "cell_type": "code",
   "execution_count": 1,
   "id": "02e8f842-927e-494e-8b72-d76766e1219c",
   "metadata": {},
   "outputs": [],
   "source": [
    "import turtle, random\n",
    "import math\n",
    "from itertools import product\n",
    "import matplotlib.pyplot as plt\n",
    "import pandas as pd\n",
    "import numpy as np\n",
    "import pickle"
   ]
  },
  {
   "cell_type": "code",
   "execution_count": 2,
   "id": "e5cec321-8d7f-4869-8edb-31e58232203f",
   "metadata": {},
   "outputs": [],
   "source": [
    "with open (\"sgb-words.txt\", \"r\") as myfile:\n",
    "    data = myfile.read().splitlines()"
   ]
  },
  {
   "cell_type": "code",
   "execution_count": 3,
   "id": "8c2151e4-4aa8-4eca-9465-00449cf42ef9",
   "metadata": {},
   "outputs": [
    {
     "data": {
      "text/plain": [
       "5757"
      ]
     },
     "execution_count": 3,
     "metadata": {},
     "output_type": "execute_result"
    }
   ],
   "source": [
    "len(data)"
   ]
  },
  {
   "cell_type": "markdown",
   "id": "d5db66b6-5889-41cb-aefe-e934ec87de65",
   "metadata": {},
   "source": [
    "# The game"
   ]
  },
  {
   "cell_type": "code",
   "execution_count": 49,
   "id": "5c4f2b7a-7e0b-4167-9306-5adb29c9d3ea",
   "metadata": {},
   "outputs": [],
   "source": [
    "class wordle:\n",
    "    def __init__(self):\n",
    "\n",
    "#         turtle.tracer(False)\n",
    "        self.draw_initial_squares()\n",
    "        \n",
    "        word_list = ['which', 'their', 'would', 'there', 'could', 'other', 'about', 'great', 'these', 'after', 'first', 'never', 'where', 'those', 'shall', 'being', 'might', 'every', 'think', 'under', 'found', 'still', 'while', 'again', 'place', 'young', 'years', 'three', 'right', 'house', 'whole', 'world', 'thing', 'night', 'going', 'heard', 'heart', 'among', 'asked', 'small', 'woman', 'whose', 'quite', 'words', 'given', 'taken', 'hands', 'until', 'since', 'light']\n",
    "        answer = \"maths\"#random.choice(word_list) # choose a random word from the list\n",
    "        y = 250 # y location\n",
    "        print(answer)\n",
    "        \n",
    "        for i in range(6): #Where the program starts\n",
    "            guess_prompt = \"What is guess \"+str(i+1)+\"?\" #Makes a nice string for the prompt\n",
    "            my_input = self.input_guess(guess_prompt) #calls input_guess function\n",
    "            self.check_guess(my_input,answer,y)  #checks the guess\n",
    "#             self.draw_initial_squares()\n",
    "            y -= 65 #y down by 75\n",
    "            if my_input == answer:\n",
    "                turtle.penup()\n",
    "                turtle.goto(-300,-200) #Always draws the congratulations in the same place\n",
    "                turtle.color(\"black\")\n",
    "                turtle.write(\"Well Done!\",font=(\"Verdana\", 42, \"normal\"))\n",
    "                break\n",
    "                \n",
    "        else: #Only runs if the for loop executes completely. i.e. You've used all your guesses.\n",
    "            turtle.penup()\n",
    "            turtle.goto(-300,-200)\n",
    "            turtle.color(\"black\")\n",
    "            turtle.write(\"Answer was: \", answer,font=(\"Verdana\", 42, \"normal\"))\n",
    "        turtle.done() #Needs if you are using Pycharm and some other Python editors.\n",
    "        \n",
    "    def draw_initial_squares(self):\n",
    "        turtle.color(\"black\")\n",
    "        y = 250\n",
    "        for guess in range(3):\n",
    "\n",
    "            x = -250 # x location\n",
    "            for word in range(5):\n",
    "  \n",
    "                turtle.penup()\n",
    "                turtle.goto(x,y)\n",
    "                turtle.pendown()\n",
    "#                 turtle.width(4)\n",
    "                turtle.fillcolor(\"black\") #\n",
    "\n",
    "                for i in range(4):     \n",
    "                    turtle.forward(60)\n",
    "                    turtle.right(90)\n",
    "                turtle.penup()\n",
    "\n",
    "                x += 65\n",
    "            y -= 65\n",
    "\n",
    "    def draw_square(self, x,y,col): # takes in x,y coordinates and a color\n",
    "        turtle.penup()\n",
    "        turtle.goto(x,y)\n",
    "        turtle.pendown()\n",
    "        turtle.fillcolor(col) # set the fillcolor\n",
    "        turtle.begin_fill() \n",
    "        turtle.width(1)\n",
    "        for i in range(4):     # drawing the square\n",
    "            turtle.forward(60)\n",
    "            turtle.right(90)\n",
    "        turtle.end_fill()\n",
    "        \n",
    "        turtle.fillcolor(\"black\") #\n",
    "        turtle.width(4)\n",
    "        for i in range(4):     # drawing the square\n",
    "            turtle.forward(60)\n",
    "            turtle.right(90)\n",
    "         # ending the filling of the color\n",
    "        turtle.penup()\n",
    "        \n",
    "        \n",
    "    def input_guess(self, prompt):\n",
    "        my_input = turtle.textinput(\"5 letter word\", prompt)\n",
    "\n",
    "        while type(my_input) != str:\n",
    "            my_input = turtle.textinput(\"Error\", \"Must be a string!\")\n",
    "\n",
    "        while len(my_input) != 5:\n",
    "            my_input = turtle.textinput(\"Error\", \"Must be 5 characters long!\")\n",
    "\n",
    "        while my_input not in data:\n",
    "            my_input = turtle.textinput(\"Error\", \"The word must exist!\")\n",
    "\n",
    "        return(my_input)\n",
    "\n",
    "    def check_guess(self, my_input,answer,y):\n",
    "        my_input = my_input.upper()\n",
    "\n",
    "        x = -250 # x location\n",
    "        for count, i in enumerate(my_input):\n",
    "            if i == answer[count].upper(): self.draw_square(x,y,\"#6BAA64\") #exact character match draws a green square\n",
    "            elif i in answer.upper(): self.draw_square(x,y,\"#C9B457\") #else if character anywhere in word draws yellow\n",
    "            else: self.draw_square(x,y,\"#787C7F\") # otherwise draws red\n",
    "\n",
    "            x += 65 # move x coordinate along by 75\n",
    "        turtle.penup() #Moves the turtle penup\n",
    "        \n",
    "        x = -228 #225\n",
    "        for i in range(len(my_input)): #text\n",
    "            turtle.goto(x, y-42) # -40\n",
    "            x += 65\n",
    "            turtle.color(\"white\")\n",
    "            turtle.write(my_input[i],font=(\"Verdana\", 15, \"bold\")) # font verdana, size 15, normal style\n",
    "\n",
    "\n"
   ]
  },
  {
   "cell_type": "code",
   "execution_count": null,
   "id": "205cbd6b-bbbd-4a84-98ae-86f3895a12d9",
   "metadata": {},
   "outputs": [
    {
     "name": "stdout",
     "output_type": "stream",
     "text": [
      "maths\n"
     ]
    }
   ],
   "source": [
    "wordle()"
   ]
  },
  {
   "cell_type": "markdown",
   "id": "e79b80bf-614f-4388-bde5-c35c958afe2a",
   "metadata": {},
   "source": [
    "## Selecting best guess, mutual information"
   ]
  },
  {
   "cell_type": "code",
   "execution_count": 4,
   "id": "7a9cd3fb-f613-4ad8-8fa8-6f9565500732",
   "metadata": {},
   "outputs": [],
   "source": [
    "def get_match(guess, answer):\n",
    "    \"\"\"\n",
    "    Gets the outcome of a guess\n",
    "    \"\"\"\n",
    "    match = []\n",
    "    for i, j in zip(guess, answer):\n",
    "        if i in answer:\n",
    "            match.append(1) # orange\n",
    "        elif i == j: \n",
    "            match.append(2) # green\n",
    "        else: \n",
    "            match.append(0) # gray\n",
    "    return(match)"
   ]
  },
  {
   "cell_type": "code",
   "execution_count": 5,
   "id": "97e872a9-df37-4fb2-94af-5eb2744e99a9",
   "metadata": {
    "tags": []
   },
   "outputs": [],
   "source": [
    "# all possible permutations of outcomes\n",
    "perms = np.array([roll for roll in product([0, 1, 2], repeat = 5)])"
   ]
  },
  {
   "cell_type": "code",
   "execution_count": 6,
   "id": "f9c08186-0790-4b08-9b6f-b211df88a440",
   "metadata": {},
   "outputs": [],
   "source": [
    "def get_word_dataframe(data):\n",
    "    mat = np.empty((0, 5))\n",
    "    for i in range(len(data)):\n",
    "        row = []\n",
    "        for j in range(5):\n",
    "            row.append(data[i][j])\n",
    "    #     print(row)\n",
    "        row = np.expand_dims(np.array(row), axis = 0)\n",
    "        mat = np.append(mat, row, axis=0)\n",
    "\n",
    "    df = pd.DataFrame(mat)\n",
    "    df.to_csv(\"5_letter_words.csv\", index = False)"
   ]
  },
  {
   "cell_type": "code",
   "execution_count": 7,
   "id": "b545ca66-6964-4025-88d0-26ab9c299df2",
   "metadata": {},
   "outputs": [],
   "source": [
    "df = pd.read_csv(\"5_letter_words.csv\", index_col = False)\n",
    "df.columns = range(5)"
   ]
  },
  {
   "cell_type": "code",
   "execution_count": 46,
   "id": "6e2ccf36-d069-415e-9e21-b8833cbe3386",
   "metadata": {},
   "outputs": [],
   "source": [
    "def get_words_from_match(word, match, df):\n",
    "    \"\"\"\n",
    "    Gets the words that match the condition\n",
    "    \"\"\"\n",
    "    subset = df.copy()\n",
    "    for index, i in enumerate(match):\n",
    "        if i == 0:\n",
    "#             subset = subset.loc[subset[index] != word[index]]\n",
    "            subset = subset.loc[(subset == word[index]).sum(axis = 1) == 0]\n",
    "        elif i == 1:\n",
    "            subset = subset.loc[((subset == word[index]).sum(axis = 1) >= 1) & (subset[index] != word[index])] # check if the word is in each row by summing over truth table\n",
    "            # should also remove the ones where it is on the same row\n",
    "            \n",
    "        elif i == 2:\n",
    "            subset = subset.loc[subset[index] == word[index]]\n",
    "    return(subset)"
   ]
  },
  {
   "cell_type": "code",
   "execution_count": 50,
   "id": "60b8bd8f-9806-4742-8491-411f91fe86d4",
   "metadata": {},
   "outputs": [
    {
     "data": {
      "text/html": [
       "<div>\n",
       "<style scoped>\n",
       "    .dataframe tbody tr th:only-of-type {\n",
       "        vertical-align: middle;\n",
       "    }\n",
       "\n",
       "    .dataframe tbody tr th {\n",
       "        vertical-align: top;\n",
       "    }\n",
       "\n",
       "    .dataframe thead th {\n",
       "        text-align: right;\n",
       "    }\n",
       "</style>\n",
       "<table border=\"1\" class=\"dataframe\">\n",
       "  <thead>\n",
       "    <tr style=\"text-align: right;\">\n",
       "      <th></th>\n",
       "      <th>0</th>\n",
       "      <th>1</th>\n",
       "      <th>2</th>\n",
       "      <th>3</th>\n",
       "      <th>4</th>\n",
       "    </tr>\n",
       "  </thead>\n",
       "  <tbody>\n",
       "    <tr>\n",
       "      <th>2</th>\n",
       "      <td>t</td>\n",
       "      <td>h</td>\n",
       "      <td>e</td>\n",
       "      <td>i</td>\n",
       "      <td>r</td>\n",
       "    </tr>\n",
       "    <tr>\n",
       "      <th>475</th>\n",
       "      <td>t</td>\n",
       "      <td>r</td>\n",
       "      <td>i</td>\n",
       "      <td>b</td>\n",
       "      <td>e</td>\n",
       "    </tr>\n",
       "    <tr>\n",
       "      <th>2707</th>\n",
       "      <td>t</td>\n",
       "      <td>r</td>\n",
       "      <td>i</td>\n",
       "      <td>p</td>\n",
       "      <td>e</td>\n",
       "    </tr>\n",
       "    <tr>\n",
       "      <th>2756</th>\n",
       "      <td>t</td>\n",
       "      <td>r</td>\n",
       "      <td>i</td>\n",
       "      <td>t</td>\n",
       "      <td>e</td>\n",
       "    </tr>\n",
       "    <tr>\n",
       "      <th>3493</th>\n",
       "      <td>t</td>\n",
       "      <td>r</td>\n",
       "      <td>i</td>\n",
       "      <td>c</td>\n",
       "      <td>e</td>\n",
       "    </tr>\n",
       "    <tr>\n",
       "      <th>3777</th>\n",
       "      <td>t</td>\n",
       "      <td>r</td>\n",
       "      <td>i</td>\n",
       "      <td>k</td>\n",
       "      <td>e</td>\n",
       "    </tr>\n",
       "  </tbody>\n",
       "</table>\n",
       "</div>"
      ],
      "text/plain": [
       "      0  1  2  3  4\n",
       "2     t  h  e  i  r\n",
       "475   t  r  i  b  e\n",
       "2707  t  r  i  p  e\n",
       "2756  t  r  i  t  e\n",
       "3493  t  r  i  c  e\n",
       "3777  t  r  i  k  e"
      ]
     },
     "execution_count": 50,
     "metadata": {},
     "output_type": "execute_result"
    }
   ],
   "source": [
    "get_words_from_match(\"tired\", [2,1,1,1,0], df) # anagrams their"
   ]
  },
  {
   "cell_type": "code",
   "execution_count": 66,
   "id": "f243f5d5-b02b-4d5d-952e-62a3b0e3bfbb",
   "metadata": {},
   "outputs": [
    {
     "data": {
      "text/html": [
       "<div>\n",
       "<style scoped>\n",
       "    .dataframe tbody tr th:only-of-type {\n",
       "        vertical-align: middle;\n",
       "    }\n",
       "\n",
       "    .dataframe tbody tr th {\n",
       "        vertical-align: top;\n",
       "    }\n",
       "\n",
       "    .dataframe thead th {\n",
       "        text-align: right;\n",
       "    }\n",
       "</style>\n",
       "<table border=\"1\" class=\"dataframe\">\n",
       "  <thead>\n",
       "    <tr style=\"text-align: right;\">\n",
       "      <th></th>\n",
       "      <th>0</th>\n",
       "      <th>1</th>\n",
       "      <th>2</th>\n",
       "      <th>3</th>\n",
       "      <th>4</th>\n",
       "    </tr>\n",
       "  </thead>\n",
       "  <tbody>\n",
       "    <tr>\n",
       "      <th>361</th>\n",
       "      <td>s</td>\n",
       "      <td>t</td>\n",
       "      <td>e</td>\n",
       "      <td>a</td>\n",
       "      <td>m</td>\n",
       "    </tr>\n",
       "  </tbody>\n",
       "</table>\n",
       "</div>"
      ],
      "text/plain": [
       "     0  1  2  3  4\n",
       "361  s  t  e  a  m"
      ]
     },
     "execution_count": 66,
     "metadata": {},
     "output_type": "execute_result"
    }
   ],
   "source": [
    "get_words_from_match(\"mates\", [1,1,1,1,1], df) # anagrams with no letters on same spots"
   ]
  },
  {
   "cell_type": "code",
   "execution_count": 67,
   "id": "80edc39a-9449-40d3-bda9-ddf8c099ea5f",
   "metadata": {},
   "outputs": [
    {
     "data": {
      "text/html": [
       "<div>\n",
       "<style scoped>\n",
       "    .dataframe tbody tr th:only-of-type {\n",
       "        vertical-align: middle;\n",
       "    }\n",
       "\n",
       "    .dataframe tbody tr th {\n",
       "        vertical-align: top;\n",
       "    }\n",
       "\n",
       "    .dataframe thead th {\n",
       "        text-align: right;\n",
       "    }\n",
       "</style>\n",
       "<table border=\"1\" class=\"dataframe\">\n",
       "  <thead>\n",
       "    <tr style=\"text-align: right;\">\n",
       "      <th></th>\n",
       "      <th>0</th>\n",
       "      <th>1</th>\n",
       "      <th>2</th>\n",
       "      <th>3</th>\n",
       "      <th>4</th>\n",
       "    </tr>\n",
       "  </thead>\n",
       "  <tbody>\n",
       "    <tr>\n",
       "      <th>0</th>\n",
       "      <td>w</td>\n",
       "      <td>h</td>\n",
       "      <td>i</td>\n",
       "      <td>c</td>\n",
       "      <td>h</td>\n",
       "    </tr>\n",
       "  </tbody>\n",
       "</table>\n",
       "</div>"
      ],
      "text/plain": [
       "   0  1  2  3  4\n",
       "0  w  h  i  c  h"
      ]
     },
     "execution_count": 67,
     "metadata": {},
     "output_type": "execute_result"
    }
   ],
   "source": [
    "get_words_from_match(\"which\", [2,2,2,2,2], df) # same word"
   ]
  },
  {
   "cell_type": "code",
   "execution_count": 68,
   "id": "46dbd801-f7c1-4eed-942a-9d6c445b8d97",
   "metadata": {},
   "outputs": [],
   "source": [
    "def get_probability(word):\n",
    "    \"\"\"\n",
    "    Get the probability of each outcome of the word with respect to each permuation\n",
    "    \"\"\"\n",
    "    p = []\n",
    "    for i in perms:\n",
    "        p.append(len(get_words_from_match(word, i, df)))\n",
    "    return(np.array(p)/sum(p))"
   ]
  },
  {
   "cell_type": "code",
   "execution_count": 81,
   "id": "50a828f7-350b-4db3-a934-3c82edce79f8",
   "metadata": {},
   "outputs": [],
   "source": [
    "p = get_probability(\"tares\")"
   ]
  },
  {
   "cell_type": "code",
   "execution_count": 82,
   "id": "97cb7798-d5a3-4aeb-a4ac-a154a5ab8c47",
   "metadata": {},
   "outputs": [],
   "source": [
    "# distribution of probabilities for each permutation\n",
    "def plot_dist(p):\n",
    "    plt.bar(range(len(p)), sorted(p, reverse = True))\n",
    "    plt.xlabel(\"Least to most useful permutation\")\n",
    "    plt.ylabel(\"Percentage of words left\")"
   ]
  },
  {
   "cell_type": "code",
   "execution_count": 83,
   "id": "b7fee95f-b6a9-4c61-8bd9-2873095c1fc8",
   "metadata": {},
   "outputs": [
    {
     "data": {
      "image/png": "[encoded data removed]",
      "text/plain": [
       "<Figure size 432x288 with 1 Axes>"
      ]
     },
     "metadata": {
      "needs_background": "light"
     },
     "output_type": "display_data"
    }
   ],
   "source": [
    "plot_dist(p)"
   ]
  },
  {
   "cell_type": "code",
   "execution_count": 84,
   "id": "de90c667-8430-4409-be99-7521449dc82e",
   "metadata": {},
   "outputs": [],
   "source": [
    "def calc_info(p):\n",
    "    # calculate expected information\n",
    "    E = 0\n",
    "    z = 0\n",
    "    for i in p:\n",
    "    #     print(i)\n",
    "        if i != 0:\n",
    "            E += i*math.log(1/i, 2)\n",
    "        else:\n",
    "            z+= 1\n",
    "#     print(z)\n",
    "    return(E)"
   ]
  },
  {
   "cell_type": "code",
   "execution_count": 85,
   "id": "5690a444-75c2-4aeb-a6af-339f290c8e8c",
   "metadata": {},
   "outputs": [
    {
     "data": {
      "text/plain": [
       "6.209181059719009"
      ]
     },
     "execution_count": 85,
     "metadata": {},
     "output_type": "execute_result"
    }
   ],
   "source": [
    "calc_info(p)"
   ]
  },
  {
   "cell_type": "markdown",
   "id": "75035988-ba0e-4b7b-994b-acf74b41abd4",
   "metadata": {},
   "source": [
    "## Initial Entropy"
   ]
  },
  {
   "cell_type": "code",
   "execution_count": 86,
   "id": "691b6206-97ed-43ac-b334-f7136abeb5bc",
   "metadata": {},
   "outputs": [
    {
     "name": "stdout",
     "output_type": "stream",
     "text": [
      "0 / 5757\n",
      "100 / 5757\n",
      "200 / 5757\n",
      "300 / 5757\n",
      "400 / 5757\n",
      "500 / 5757\n",
      "600 / 5757\n",
      "700 / 5757\n",
      "800 / 5757\n",
      "900 / 5757\n",
      "1000 / 5757\n",
      "1100 / 5757\n",
      "1200 / 5757\n",
      "1300 / 5757\n",
      "1400 / 5757\n",
      "1500 / 5757\n",
      "1600 / 5757\n",
      "1700 / 5757\n",
      "1800 / 5757\n",
      "1900 / 5757\n",
      "2000 / 5757\n",
      "2100 / 5757\n",
      "2200 / 5757\n",
      "2300 / 5757\n",
      "2400 / 5757\n",
      "2500 / 5757\n",
      "2600 / 5757\n",
      "2700 / 5757\n",
      "2800 / 5757\n",
      "2900 / 5757\n",
      "3000 / 5757\n",
      "3100 / 5757\n",
      "3200 / 5757\n",
      "3300 / 5757\n",
      "3400 / 5757\n",
      "3500 / 5757\n",
      "3600 / 5757\n",
      "3700 / 5757\n",
      "3800 / 5757\n",
      "3900 / 5757\n",
      "4000 / 5757\n",
      "4100 / 5757\n",
      "4200 / 5757\n",
      "4300 / 5757\n",
      "4400 / 5757\n",
      "4500 / 5757\n",
      "4600 / 5757\n",
      "4700 / 5757\n",
      "4800 / 5757\n",
      "4900 / 5757\n",
      "5000 / 5757\n",
      "5100 / 5757\n",
      "5200 / 5757\n",
      "5300 / 5757\n",
      "5400 / 5757\n",
      "5500 / 5757\n",
      "5600 / 5757\n",
      "5700 / 5757\n"
     ]
    }
   ],
   "source": [
    "# value = {}\n",
    "# for index, word in enumerate(data):\n",
    "#     p = get_probability(word)\n",
    "#     # calculate expected information\n",
    "#     value[word] = calc_info(p)\n",
    "    \n",
    "#     if index%100 == 0:\n",
    "#         print(index , \"/\", len(data))"
   ]
  },
  {
   "cell_type": "code",
   "execution_count": 87,
   "id": "4f094808-c5dc-4097-83a7-50ddfaf0a196",
   "metadata": {},
   "outputs": [],
   "source": [
    "# sorted_dict = dict(sorted(value.items(), key=lambda item: item[1]))"
   ]
  },
  {
   "cell_type": "code",
   "execution_count": 88,
   "id": "07927c2f-591d-4725-9423-1028a60122fd",
   "metadata": {},
   "outputs": [],
   "source": [
    "# import pickle\n",
    "# with open('saved_values.pkl', 'wb') as f:\n",
    "#     pickle.dump(sorted_dict, f)"
   ]
  },
  {
   "cell_type": "code",
   "execution_count": null,
   "id": "3e4853f2-e204-4a76-81a2-55f446c9c106",
   "metadata": {},
   "outputs": [],
   "source": []
  },
  {
   "cell_type": "markdown",
   "id": "a4f08249-f38a-4e33-9a07-db20ead3dafd",
   "metadata": {},
   "source": [
    "## Playing a Game"
   ]
  },
  {
   "cell_type": "code",
   "execution_count": 89,
   "id": "8783bbf6-d467-4b4e-bd17-1aa79843db9f",
   "metadata": {},
   "outputs": [],
   "source": [
    "def check_guess(guess, answer):\n",
    "    ret = []\n",
    "    for i, j in zip(guess, answer):\n",
    "        if i == j:\n",
    "            ret.append(2)\n",
    "        elif i in answer:\n",
    "            ret.append(1)\n",
    "        else: \n",
    "            ret.append(0)\n",
    "    return(ret)"
   ]
  },
  {
   "cell_type": "code",
   "execution_count": 90,
   "id": "99b59dec-d023-4804-be82-0d351fc45871",
   "metadata": {},
   "outputs": [],
   "source": [
    "# Answer is found\n",
    "answer = \"found\""
   ]
  },
  {
   "cell_type": "code",
   "execution_count": 91,
   "id": "dcb0f831-fb3f-417a-a9c9-2b0d943b373a",
   "metadata": {},
   "outputs": [],
   "source": [
    "initial_entropy = pickle.load(open(\"saved_values.pkl\", \"rb\"))"
   ]
  },
  {
   "cell_type": "code",
   "execution_count": 92,
   "id": "013af44a-5972-4588-80f4-8bc1a8588c4f",
   "metadata": {},
   "outputs": [
    {
     "data": {
      "text/plain": [
       "<BarContainer object of 10 artists>"
      ]
     },
     "execution_count": 92,
     "metadata": {},
     "output_type": "execute_result"
    },
    {
     "data": {
      "image/png": "[encoded data removed]",
      "text/plain": [
       "<Figure size 432x288 with 1 Axes>"
      ]
     },
     "metadata": {
      "needs_background": "light"
     },
     "output_type": "display_data"
    }
   ],
   "source": [
    "plt.barh(list(initial_entropy.keys())[-10:], list(initial_entropy.values())[-10:])"
   ]
  },
  {
   "cell_type": "code",
   "execution_count": 93,
   "id": "25c0bba9-53b2-4ffb-aa69-6fabaeabc38f",
   "metadata": {},
   "outputs": [],
   "source": [
    "def compute_entropy_dict(data):\n",
    "    value = {}\n",
    "    for index, word_vec in enumerate(data.iterrows()):\n",
    "        word = \"\".join(word_vec[1].values)\n",
    "        p = get_probability(word)\n",
    "        # calculate expected information\n",
    "        value[word] = calc_info(p)\n",
    "\n",
    "#         if index%100 == 0:\n",
    "#             print(index , \"/\", len(data))\n",
    "    return(value)"
   ]
  },
  {
   "cell_type": "code",
   "execution_count": 94,
   "id": "c5affcb2-d995-4b82-b026-8b11cbe5ac06",
   "metadata": {},
   "outputs": [],
   "source": [
    "record = {\"Iter\":[], \"N\": [], \"Guess\":[], \"Entropy\": []}"
   ]
  },
  {
   "cell_type": "code",
   "execution_count": 95,
   "id": "0fe2a420-4083-4674-9b1d-b66ae13a27ba",
   "metadata": {},
   "outputs": [],
   "source": [
    "def play_wordle(answer, df = df):\n",
    "    index = 0\n",
    "    converge = False\n",
    "    record = {\"Iter\":[], \"N\": [], \"Guess\":[], \"Entropy\": []}\n",
    "    \n",
    "    while converge == False:\n",
    "        \n",
    "        if len(df) == 5757:\n",
    "            guess = list(initial_entropy.keys())[-1]\n",
    "            max_e = list(initial_entropy.values())[-1]\n",
    "        else:\n",
    "            entropy = compute_entropy_dict(df) # compute entropy for remaining\n",
    "            guess = max(entropy, key=entropy.get)\n",
    "            max_e = max(entropy.values())\n",
    "        \n",
    "        \n",
    "        print(\"Iteration: \", index, \", possible words before guess:\", len(df), \", current guess:\", guess, \", entropy: \", max_e)\n",
    "        record[\"Iter\"].append(index)\n",
    "        record[\"N\"].append(len(df))\n",
    "        record[\"Guess\"].append(guess)\n",
    "        record[\"Entropy\"].append(max_e)\n",
    "        \n",
    "        if guess == answer:\n",
    "            converge = True\n",
    "            print(\"Success!\")\n",
    "        \n",
    "        else:\n",
    "            vec = check_guess(guess, answer)\n",
    "            df = get_words_from_match(guess, vec, df) \n",
    "        \n",
    "        index += 1\n",
    "    return(record)"
   ]
  },
  {
   "cell_type": "code",
   "execution_count": 96,
   "id": "ed30bf45-fcc2-419a-95ed-745619a58e48",
   "metadata": {},
   "outputs": [
    {
     "name": "stdout",
     "output_type": "stream",
     "text": [
      "Iteration:  0 , possible words before guess: 5757 , current guess: tares , entropy:  6.209181059719009\n",
      "Iteration:  1 , possible words before guess: 415 , current guess: doily , entropy:  4.749092791119546\n",
      "Iteration:  2 , possible words before guess: 10 , current guess: pound , entropy:  4.523929862617356\n",
      "Iteration:  3 , possible words before guess: 5 , current guess: mound , entropy:  4.458264758310057\n",
      "Iteration:  4 , possible words before guess: 4 , current guess: hound , entropy:  4.438688953613468\n",
      "Iteration:  5 , possible words before guess: 3 , current guess: bound , entropy:  4.381200231803414\n",
      "Iteration:  6 , possible words before guess: 2 , current guess: found , entropy:  4.265579850370326\n",
      "Success!\n"
     ]
    },
    {
     "data": {
      "text/plain": [
       "{'Iter': [0, 1, 2, 3, 4, 5, 6],\n",
       " 'N': [5757, 415, 10, 5, 4, 3, 2],\n",
       " 'Guess': ['tares', 'doily', 'pound', 'mound', 'hound', 'bound', 'found'],\n",
       " 'Entropy': [6.209181059719009,\n",
       "  4.749092791119546,\n",
       "  4.523929862617356,\n",
       "  4.458264758310057,\n",
       "  4.438688953613468,\n",
       "  4.381200231803414,\n",
       "  4.265579850370326]}"
      ]
     },
     "execution_count": 96,
     "metadata": {},
     "output_type": "execute_result"
    }
   ],
   "source": [
    "play_wordle(\"found\")"
   ]
  },
  {
   "cell_type": "code",
   "execution_count": 97,
   "id": "b7ed329d-8724-4280-9c28-93971d2e201d",
   "metadata": {},
   "outputs": [],
   "source": [
    "word_list = ['which', 'their', 'would', 'there', 'could', 'other', 'about', 'great', 'these', 'after', 'first', 'never', 'where', 'those', 'shall', 'being', 'might', 'every', 'think', 'under', 'found', 'still', 'while', 'again', 'place', 'young', 'years', 'three', 'right', 'house', 'whole', 'world', 'thing', 'night', 'going', 'heard', 'heart', 'among', 'asked', 'small', 'woman', 'whose', 'quite', 'words', 'given', 'taken', 'hands', 'until', 'since', 'light']\n",
    "        "
   ]
  },
  {
   "cell_type": "code",
   "execution_count": 98,
   "id": "a6cce1ce-ec60-4661-b4db-c00337e4d18a",
   "metadata": {},
   "outputs": [
    {
     "name": "stdout",
     "output_type": "stream",
     "text": [
      "which\n",
      "Iteration:  0 , possible words before guess: 5757 , current guess: tares , entropy:  6.209181059719009\n",
      "Iteration:  1 , possible words before guess: 415 , current guess: doily , entropy:  4.749092791119546\n",
      "Iteration:  2 , possible words before guess: 13 , current guess: cuing , entropy:  4.118309002821026\n",
      "Iteration:  3 , possible words before guess: 1 , current guess: which , entropy:  3.053463825276465\n",
      "Success!\n",
      "their\n",
      "Iteration:  0 , possible words before guess: 5757 , current guess: tares , entropy:  6.209181059719009\n",
      "Iteration:  1 , possible words before guess: 14 , current guess: tenor , entropy:  5.355744543148252\n",
      "Iteration:  2 , possible words before guess: 1 , current guess: their , entropy:  5.052735072703608\n",
      "Success!\n",
      "would\n",
      "Iteration:  0 , possible words before guess: 5757 , current guess: tares , entropy:  6.209181059719009\n",
      "Iteration:  1 , possible words before guess: 415 , current guess: doily , entropy:  4.749092791119546\n",
      "Iteration:  2 , possible words before guess: 3 , current guess: could , entropy:  4.627022169989781\n",
      "Iteration:  3 , possible words before guess: 2 , current guess: mould , entropy:  4.545115121642423\n",
      "Iteration:  4 , possible words before guess: 1 , current guess: would , entropy:  4.338638514672989\n",
      "Success!\n",
      "there\n",
      "Iteration:  0 , possible words before guess: 5757 , current guess: tares , entropy:  6.209181059719009\n",
      "Iteration:  1 , possible words before guess: 14 , current guess: tenor , entropy:  5.355744543148252\n",
      "Iteration:  2 , possible words before guess: 10 , current guess: trice , entropy:  5.254935842037271\n",
      "Iteration:  3 , possible words before guess: 1 , current guess: there , entropy:  4.3778291746063625\n",
      "Success!\n",
      "could\n",
      "Iteration:  0 , possible words before guess: 5757 , current guess: tares , entropy:  6.209181059719009\n",
      "Iteration:  1 , possible words before guess: 415 , current guess: doily , entropy:  4.749092791119546\n",
      "Iteration:  2 , possible words before guess: 3 , current guess: could , entropy:  4.627022169989781\n",
      "Success!\n",
      "other\n",
      "Iteration:  0 , possible words before guess: 5757 , current guess: tares , entropy:  6.209181059719009\n",
      "Iteration:  1 , possible words before guess: 24 , current guess: liter , entropy:  5.446025725144603\n",
      "Iteration:  2 , possible words before guess: 2 , current guess: other , entropy:  4.942638316235849\n",
      "Success!\n",
      "about\n",
      "Iteration:  0 , possible words before guess: 5757 , current guess: tares , entropy:  6.209181059719009\n",
      "Iteration:  1 , possible words before guess: 47 , current guess: loath , entropy:  5.024471628988163\n",
      "Iteration:  2 , possible words before guess: 4 , current guess: adopt , entropy:  4.682220373124909\n",
      "Iteration:  3 , possible words before guess: 2 , current guess: about , entropy:  4.497321464565944\n",
      "Success!\n",
      "great\n",
      "Iteration:  0 , possible words before guess: 5757 , current guess: tares , entropy:  6.209181059719009\n",
      "Iteration:  1 , possible words before guess: 12 , current guess: orate , entropy:  5.591103052180305\n",
      "Iteration:  2 , possible words before guess: 1 , current guess: great , entropy:  5.154697594650175\n",
      "Success!\n",
      "these\n",
      "Iteration:  0 , possible words before guess: 5757 , current guess: tares , entropy:  6.209181059719009\n",
      "Iteration:  1 , possible words before guess: 4 , current guess: those , entropy:  5.258303526919492\n",
      "Iteration:  2 , possible words before guess: 1 , current guess: these , entropy:  4.457517940508942\n",
      "Success!\n",
      "after\n",
      "Iteration:  0 , possible words before guess: 5757 , current guess: tares , entropy:  6.209181059719009\n",
      "Iteration:  1 , possible words before guess: 2 , current guess: alter , entropy:  5.571978260635179\n",
      "Iteration:  2 , possible words before guess: 1 , current guess: after , entropy:  5.055175705443397\n",
      "Success!\n",
      "first\n",
      "Iteration:  0 , possible words before guess: 5757 , current guess: tares , entropy:  6.209181059719009\n",
      "Iteration:  1 , possible words before guess: 10 , current guess: sprit , entropy:  5.19526916149961\n",
      "Iteration:  2 , possible words before guess: 1 , current guess: first , entropy:  4.9118441816110865\n",
      "Success!\n",
      "never\n",
      "Iteration:  0 , possible words before guess: 5757 , current guess: tares , entropy:  6.209181059719009\n",
      "Iteration:  1 , possible words before guess: 182 , current guess: loner , entropy:  5.420810738206855\n",
      "Iteration:  2 , possible words before guess: 8 , current guess: nicer , entropy:  5.100826484353857\n",
      "Iteration:  3 , possible words before guess: 3 , current guess: nuder , entropy:  4.942829649192425\n",
      "Iteration:  4 , possible words before guess: 2 , current guess: newer , entropy:  4.112230411948411\n",
      "Iteration:  5 , possible words before guess: 1 , current guess: never , entropy:  3.963566175723815\n",
      "Success!\n",
      "where\n",
      "Iteration:  0 , possible words before guess: 5757 , current guess: tares , entropy:  6.209181059719009\n",
      "Iteration:  1 , possible words before guess: 98 , current guess: noire , entropy:  5.381473226364013\n",
      "Iteration:  2 , possible words before guess: 2 , current guess: lucre , entropy:  4.947334938690346\n",
      "Iteration:  3 , possible words before guess: 1 , current guess: where , entropy:  3.866570276444642\n",
      "Success!\n",
      "those\n",
      "Iteration:  0 , possible words before guess: 5757 , current guess: tares , entropy:  6.209181059719009\n",
      "Iteration:  1 , possible words before guess: 4 , current guess: those , entropy:  5.258303526919492\n",
      "Success!\n",
      "shall\n",
      "Iteration:  0 , possible words before guess: 5757 , current guess: tares , entropy:  6.209181059719009\n",
      "Iteration:  1 , possible words before guess: 73 , current guess: slain , entropy:  5.416599891591978\n",
      "Iteration:  2 , possible words before guess: 6 , current guess: scald , entropy:  5.139516052369965\n",
      "Iteration:  3 , possible words before guess: 2 , current guess: shall , entropy:  4.440417944984542\n",
      "Success!\n",
      "being\n",
      "Iteration:  0 , possible words before guess: 5757 , current guess: tares , entropy:  6.209181059719009\n",
      "Iteration:  1 , possible words before guess: 239 , current guess: clone , entropy:  5.066254984271205\n",
      "Iteration:  2 , possible words before guess: 11 , current guess: fiend , entropy:  4.599113543310194\n",
      "Iteration:  3 , possible words before guess: 4 , current guess: being , entropy:  4.452756381625116\n",
      "Success!\n",
      "might\n",
      "Iteration:  0 , possible words before guess: 5757 , current guess: tares , entropy:  6.209181059719009\n",
      "Iteration:  1 , possible words before guess: 121 , current guess: pilot , entropy:  4.8771359073007545\n",
      "Iteration:  2 , possible words before guess: 8 , current guess: dicut , entropy:  4.435354350344282\n",
      "Iteration:  3 , possible words before guess: 5 , current guess: night , entropy:  4.120395011835791\n",
      "Iteration:  4 , possible words before guess: 3 , current guess: might , entropy:  3.9963481860319376\n",
      "Success!\n",
      "every\n",
      "Iteration:  0 , possible words before guess: 5757 , current guess: tares , entropy:  6.209181059719009\n",
      "Iteration:  1 , possible words before guess: 98 , current guess: noire , entropy:  5.381473226364013\n",
      "Iteration:  2 , possible words before guess: 10 , current guess: decry , entropy:  4.689848355199916\n",
      "Iteration:  3 , possible words before guess: 3 , current guess: query , entropy:  3.948159359645166\n",
      "Iteration:  4 , possible words before guess: 2 , current guess: emery , entropy:  3.814773287826466\n",
      "Iteration:  5 , possible words before guess: 1 , current guess: every , entropy:  3.4902490111760835\n",
      "Success!\n",
      "think\n",
      "Iteration:  0 , possible words before guess: 5757 , current guess: tares , entropy:  6.209181059719009\n",
      "Iteration:  1 , possible words before guess: 40 , current guess: tonic , entropy:  4.714661528486138\n",
      "Iteration:  2 , possible words before guess: 5 , current guess: think , entropy:  4.192018127094527\n",
      "Success!\n",
      "under\n",
      "Iteration:  0 , possible words before guess: 5757 , current guess: tares , entropy:  6.209181059719009\n",
      "Iteration:  1 , possible words before guess: 182 , current guess: loner , entropy:  5.420810738206855\n",
      "Iteration:  2 , possible words before guess: 8 , current guess: nicer , entropy:  5.100826484353857\n",
      "Iteration:  3 , possible words before guess: 2 , current guess: under , entropy:  4.829438382083762\n",
      "Success!\n",
      "found\n",
      "Iteration:  0 , possible words before guess: 5757 , current guess: tares , entropy:  6.209181059719009\n",
      "Iteration:  1 , possible words before guess: 415 , current guess: doily , entropy:  4.749092791119546\n",
      "Iteration:  2 , possible words before guess: 10 , current guess: pound , entropy:  4.523929862617356\n",
      "Iteration:  3 , possible words before guess: 5 , current guess: mound , entropy:  4.458264758310057\n",
      "Iteration:  4 , possible words before guess: 4 , current guess: hound , entropy:  4.438688953613468\n",
      "Iteration:  5 , possible words before guess: 3 , current guess: bound , entropy:  4.381200231803414\n",
      "Iteration:  6 , possible words before guess: 2 , current guess: found , entropy:  4.265579850370326\n",
      "Success!\n",
      "still\n",
      "Iteration:  0 , possible words before guess: 5757 , current guess: tares , entropy:  6.209181059719009\n",
      "Iteration:  1 , possible words before guess: 74 , current guess: silty , entropy:  5.160361246190985\n",
      "Iteration:  2 , possible words before guess: 3 , current guess: spilt , entropy:  5.123786452395156\n",
      "Iteration:  3 , possible words before guess: 1 , current guess: still , entropy:  4.449464561745715\n",
      "Success!\n",
      "while\n",
      "Iteration:  0 , possible words before guess: 5757 , current guess: tares , entropy:  6.209181059719009\n",
      "Iteration:  1 , possible words before guess: 239 , current guess: clone , entropy:  5.066254984271205\n",
      "Iteration:  2 , possible words before guess: 15 , current guess: guile , entropy:  4.817796658848367\n",
      "Iteration:  3 , possible words before guess: 2 , current guess: while , entropy:  4.558107858802654\n",
      "Success!\n",
      "again\n",
      "Iteration:  0 , possible words before guess: 5757 , current guess: tares , entropy:  6.209181059719009\n",
      "Iteration:  1 , possible words before guess: 191 , current guess: plaid , entropy:  4.869295307546868\n",
      "Iteration:  2 , possible words before guess: 2 , current guess: chain , entropy:  4.551579243555103\n",
      "Iteration:  3 , possible words before guess: 1 , current guess: again , entropy:  3.8380693133643238\n",
      "Success!\n",
      "place\n",
      "Iteration:  0 , possible words before guess: 5757 , current guess: tares , entropy:  6.209181059719009\n",
      "Iteration:  1 , possible words before guess: 122 , current guess: alone , entropy:  5.364074605779582\n",
      "Iteration:  2 , possible words before guess: 9 , current guess: place , entropy:  5.0840204469485935\n",
      "Success!\n",
      "young\n",
      "Iteration:  0 , possible words before guess: 5757 , current guess: tares , entropy:  6.209181059719009\n",
      "Iteration:  1 , possible words before guess: 415 , current guess: doily , entropy:  4.749092791119546\n",
      "Iteration:  2 , possible words before guess: 3 , current guess: young , entropy:  4.061183317559671\n",
      "Success!\n",
      "years\n",
      "Iteration:  0 , possible words before guess: 5757 , current guess: tares , entropy:  6.209181059719009\n",
      "Iteration:  1 , possible words before guess: 20 , current guess: reals , entropy:  6.00117258913889\n",
      "Iteration:  2 , possible words before guess: 10 , current guess: nears , entropy:  5.8676942183045115\n",
      "Iteration:  3 , possible words before guess: 9 , current guess: dears , entropy:  5.863955858812344\n",
      "Iteration:  4 , possible words before guess: 8 , current guess: pears , entropy:  5.824994510449955\n",
      "Iteration:  5 , possible words before guess: 7 , current guess: hears , entropy:  5.713436242502515\n",
      "Iteration:  6 , possible words before guess: 6 , current guess: bears , entropy:  5.668003188557765\n",
      "Iteration:  7 , possible words before guess: 5 , current guess: gears , entropy:  5.653574346491077\n",
      "Iteration:  8 , possible words before guess: 4 , current guess: years , entropy:  5.612471150922268\n",
      "Success!\n",
      "three\n",
      "Iteration:  0 , possible words before guess: 5757 , current guess: tares , entropy:  6.209181059719009\n",
      "Iteration:  1 , possible words before guess: 3 , current guess: tired , entropy:  5.438082717711503\n",
      "Iteration:  2 , possible words before guess: 2 , current guess: threw , entropy:  4.720520403396377\n",
      "Iteration:  3 , possible words before guess: 1 , current guess: three , entropy:  4.544939551180404\n",
      "Success!\n",
      "right\n",
      "Iteration:  0 , possible words before guess: 5757 , current guess: tares , entropy:  6.209181059719009\n",
      "Iteration:  1 , possible words before guess: 32 , current guess: nitro , entropy:  4.936989293449664\n",
      "Iteration:  2 , possible words before guess: 1 , current guess: right , entropy:  4.369648056266412\n",
      "Success!\n",
      "house\n",
      "Iteration:  0 , possible words before guess: 5757 , current guess: tares , entropy:  6.209181059719009\n",
      "Iteration:  1 , possible words before guess: 92 , current guess: sidle , entropy:  5.537284546391637\n",
      "Iteration:  2 , possible words before guess: 15 , current guess: mouse , entropy:  5.1183680996402146\n",
      "Iteration:  3 , possible words before guess: 2 , current guess: house , entropy:  5.089491480194006\n",
      "Success!\n",
      "whole\n",
      "Iteration:  0 , possible words before guess: 5757 , current guess: tares , entropy:  6.209181059719009\n",
      "Iteration:  1 , possible words before guess: 239 , current guess: clone , entropy:  5.066254984271205\n",
      "Iteration:  2 , possible words before guess: 1 , current guess: whole , entropy:  4.579642038109926\n",
      "Success!\n",
      "world\n",
      "Iteration:  0 , possible words before guess: 5757 , current guess: tares , entropy:  6.209181059719009\n",
      "Iteration:  1 , possible words before guess: 46 , current guess: lurid , entropy:  4.811300365860524\n",
      "Iteration:  2 , possible words before guess: 1 , current guess: world , entropy:  4.644811689866239\n",
      "Success!\n",
      "thing\n",
      "Iteration:  0 , possible words before guess: 5757 , current guess: tares , entropy:  6.209181059719009\n",
      "Iteration:  1 , possible words before guess: 40 , current guess: tonic , entropy:  4.714661528486138\n",
      "Iteration:  2 , possible words before guess: 5 , current guess: think , entropy:  4.192018127094527\n",
      "Iteration:  3 , possible words before guess: 1 , current guess: thing , entropy:  4.187498437296358\n",
      "Success!\n",
      "night\n",
      "Iteration:  0 , possible words before guess: 5757 , current guess: tares , entropy:  6.209181059719009\n",
      "Iteration:  1 , possible words before guess: 121 , current guess: pilot , entropy:  4.8771359073007545\n",
      "Iteration:  2 , possible words before guess: 8 , current guess: dicut , entropy:  4.435354350344282\n",
      "Iteration:  3 , possible words before guess: 5 , current guess: night , entropy:  4.120395011835791\n",
      "Success!\n",
      "going\n",
      "Iteration:  0 , possible words before guess: 5757 , current guess: tares , entropy:  6.209181059719009\n",
      "Iteration:  1 , possible words before guess: 415 , current guess: doily , entropy:  4.749092791119546\n",
      "Iteration:  2 , possible words before guess: 1 , current guess: going , entropy:  3.7323038388323755\n",
      "Success!\n",
      "heard\n",
      "Iteration:  0 , possible words before guess: 5757 , current guess: tares , entropy:  6.209181059719009\n",
      "Iteration:  1 , possible words before guess: 65 , current guess: learn , entropy:  5.459360868448388\n",
      "Iteration:  2 , possible words before guess: 5 , current guess: deary , entropy:  5.188020960111921\n",
      "Iteration:  3 , possible words before guess: 2 , current guess: heard , entropy:  5.181164417326083\n",
      "Success!\n",
      "heart\n",
      "Iteration:  0 , possible words before guess: 5757 , current guess: tares , entropy:  6.209181059719009\n",
      "Iteration:  1 , possible words before guess: 12 , current guess: orate , entropy:  5.591103052180305\n",
      "Iteration:  2 , possible words before guess: 2 , current guess: react , entropy:  5.407493622584256\n",
      "Iteration:  3 , possible words before guess: 1 , current guess: heart , entropy:  5.360933703008052\n",
      "Success!\n",
      "among\n",
      "Iteration:  0 , possible words before guess: 5757 , current guess: tares , entropy:  6.209181059719009\n",
      "Iteration:  1 , possible words before guess: 191 , current guess: plaid , entropy:  4.869295307546868\n",
      "Iteration:  2 , possible words before guess: 31 , current guess: conga , entropy:  4.489319267073051\n",
      "Iteration:  3 , possible words before guess: 2 , current guess: agony , entropy:  4.395054743570416\n",
      "Iteration:  4 , possible words before guess: 1 , current guess: among , entropy:  4.3001045230999235\n",
      "Success!\n",
      "asked\n",
      "Iteration:  0 , possible words before guess: 5757 , current guess: tares , entropy:  6.209181059719009\n",
      "Iteration:  1 , possible words before guess: 5 , current guess: aspen , entropy:  5.1934201398907405\n",
      "Iteration:  2 , possible words before guess: 3 , current guess: asked , entropy:  4.894986196228198\n",
      "Success!\n",
      "small\n",
      "Iteration:  0 , possible words before guess: 5757 , current guess: tares , entropy:  6.209181059719009\n",
      "Iteration:  1 , possible words before guess: 73 , current guess: slain , entropy:  5.416599891591978\n",
      "Iteration:  2 , possible words before guess: 6 , current guess: scald , entropy:  5.139516052369965\n",
      "Iteration:  3 , possible words before guess: 2 , current guess: shall , entropy:  4.440417944984542\n",
      "Iteration:  4 , possible words before guess: 1 , current guess: small , entropy:  4.398197924022428\n",
      "Success!\n",
      "woman\n",
      "Iteration:  0 , possible words before guess: 5757 , current guess: tares , entropy:  6.209181059719009\n",
      "Iteration:  1 , possible words before guess: 191 , current guess: plaid , entropy:  4.869295307546868\n",
      "Iteration:  2 , possible words before guess: 31 , current guess: conga , entropy:  4.489319267073051\n",
      "Iteration:  3 , possible words before guess: 2 , current guess: woman , entropy:  4.328194191368968\n",
      "Success!\n",
      "whose\n",
      "Iteration:  0 , possible words before guess: 5757 , current guess: tares , entropy:  6.209181059719009\n",
      "Iteration:  1 , possible words before guess: 92 , current guess: sidle , entropy:  5.537284546391637\n",
      "Iteration:  2 , possible words before guess: 15 , current guess: mouse , entropy:  5.1183680996402146\n",
      "Iteration:  3 , possible words before guess: 3 , current guess: chose , entropy:  5.004853625689962\n",
      "Iteration:  4 , possible words before guess: 1 , current guess: whose , entropy:  4.749601544161702\n",
      "Success!\n",
      "quite\n",
      "Iteration:  0 , possible words before guess: 5757 , current guess: tares , entropy:  6.209181059719009\n",
      "Iteration:  1 , possible words before guess: 63 , current guess: lento , entropy:  5.1985798579680536\n",
      "Iteration:  2 , possible words before guess: 7 , current guess: dieth , entropy:  4.853215443739847\n",
      "Iteration:  3 , possible words before guess: 1 , current guess: quite , entropy:  4.297998053007594\n",
      "Success!\n",
      "words\n",
      "Iteration:  0 , possible words before guess: 5757 , current guess: tares , entropy:  6.209181059719009\n",
      "Iteration:  1 , possible words before guess: 45 , current guess: lords , entropy:  5.419239462907101\n",
      "Iteration:  2 , possible words before guess: 3 , current guess: cords , entropy:  5.25933236304044\n",
      "Iteration:  3 , possible words before guess: 2 , current guess: words , entropy:  4.993620680153661\n",
      "Success!\n",
      "given\n",
      "Iteration:  0 , possible words before guess: 5757 , current guess: tares , entropy:  6.209181059719009\n",
      "Iteration:  1 , possible words before guess: 205 , current guess: oiled , entropy:  5.212678600559338\n",
      "Iteration:  2 , possible words before guess: 6 , current guess: piney , entropy:  4.8599640985424255\n",
      "Iteration:  3 , possible words before guess: 3 , current guess: given , entropy:  4.298142188094061\n",
      "Success!\n",
      "taken\n",
      "Iteration:  0 , possible words before guess: 5757 , current guess: tares , entropy:  6.209181059719009\n",
      "Iteration:  1 , possible words before guess: 5 , current guess: taped , entropy:  5.227390457549993\n",
      "Iteration:  2 , possible words before guess: 2 , current guess: taken , entropy:  5.0581374030760715\n",
      "Success!\n",
      "hands\n",
      "Iteration:  0 , possible words before guess: 5757 , current guess: tares , entropy:  6.209181059719009\n",
      "Iteration:  1 , possible words before guess: 106 , current guess: nails , entropy:  5.569521793755965\n",
      "Iteration:  2 , possible words before guess: 19 , current guess: damns , entropy:  5.166785972175932\n",
      "Iteration:  3 , possible words before guess: 4 , current guess: hands , entropy:  5.106398151523993\n",
      "Success!\n",
      "until\n",
      "Iteration:  0 , possible words before guess: 5757 , current guess: tares , entropy:  6.209181059719009\n",
      "Iteration:  1 , possible words before guess: 121 , current guess: pilot , entropy:  4.8771359073007545\n",
      "Iteration:  2 , possible words before guess: 3 , current guess: until , entropy:  4.489354218392521\n",
      "Success!\n",
      "since\n",
      "Iteration:  0 , possible words before guess: 5757 , current guess: tares , entropy:  6.209181059719009\n",
      "Iteration:  1 , possible words before guess: 92 , current guess: sidle , entropy:  5.537284546391637\n",
      "Iteration:  2 , possible words before guess: 4 , current guess: since , entropy:  5.378675311339621\n",
      "Success!\n",
      "light\n",
      "Iteration:  0 , possible words before guess: 5757 , current guess: tares , entropy:  6.209181059719009\n",
      "Iteration:  1 , possible words before guess: 121 , current guess: pilot , entropy:  4.8771359073007545\n",
      "Iteration:  2 , possible words before guess: 3 , current guess: light , entropy:  4.259849946029295\n",
      "Success!\n"
     ]
    }
   ],
   "source": [
    "records = []\n",
    "for i in word_list:\n",
    "    print(i)\n",
    "    word_record = play_wordle(i)\n",
    "    word_record[\"word\"] = [i]*len(word_record[\"Iter\"])\n",
    "    records.append(word_record)"
   ]
  },
  {
   "cell_type": "code",
   "execution_count": 99,
   "id": "9942ce31-0338-4c03-9d7e-e5ff5864c426",
   "metadata": {},
   "outputs": [],
   "source": [
    "# import pickle\n",
    "# with open('records.pkl', 'wb') as f:\n",
    "#     pickle.dump(records, f)"
   ]
  },
  {
   "cell_type": "code",
   "execution_count": 112,
   "id": "4d5c376f-eeb2-4a29-9284-9fe7a248153d",
   "metadata": {},
   "outputs": [
    {
     "data": {
      "text/plain": [
       "{'Iter': [0, 1, 2, 3],\n",
       " 'N': [5757, 415, 13, 1],\n",
       " 'Guess': ['tares', 'doily', 'cuing', 'which'],\n",
       " 'Entropy': [6.209181059719009,\n",
       "  4.749092791119546,\n",
       "  4.118309002821026,\n",
       "  3.053463825276465],\n",
       " 'word': ['which', 'which', 'which', 'which']}"
      ]
     },
     "execution_count": 112,
     "metadata": {},
     "output_type": "execute_result"
    }
   ],
   "source": [
    "records[0]"
   ]
  },
  {
   "cell_type": "code",
   "execution_count": 103,
   "id": "c2484816-1548-4734-a9e7-9a1041da1d24",
   "metadata": {},
   "outputs": [],
   "source": [
    "N = []\n",
    "for i in records:\n",
    "    N.append(len(i[\"Iter\"]))"
   ]
  },
  {
   "cell_type": "code",
   "execution_count": 111,
   "id": "04d2f75b-bebe-4844-b678-8b47b1b998a6",
   "metadata": {},
   "outputs": [
    {
     "data": {
      "text/plain": [
       "<AxesSubplot:ylabel='Count'>"
      ]
     },
     "execution_count": 111,
     "metadata": {},
     "output_type": "execute_result"
    },
    {
     "data": {
      "image/png": "[encoded data removed]",
      "text/plain": [
       "<Figure size 432x288 with 1 Axes>"
      ]
     },
     "metadata": {
      "needs_background": "light"
     },
     "output_type": "display_data"
    }
   ],
   "source": [
    "import seaborn as sns\n",
    "sns.histplot(N)"
   ]
  },
  {
   "cell_type": "code",
   "execution_count": 118,
   "id": "4277520f-408f-4db9-b214-0e926cbdd907",
   "metadata": {},
   "outputs": [
    {
     "data": {
      "image/png": "[encoded data removed]",
      "text/plain": [
       "<Figure size 432x288 with 1 Axes>"
      ]
     },
     "metadata": {
      "needs_background": "light"
     },
     "output_type": "display_data"
    }
   ],
   "source": [
    "for i in records:\n",
    "    plt.plot(np.log(i[\"N\"]))"
   ]
  },
  {
   "cell_type": "code",
   "execution_count": 120,
   "id": "73a69bc9-045a-47e3-bfcf-9ad9aa1a5731",
   "metadata": {},
   "outputs": [
    {
     "data": {
      "image/png": "[encoded data removed]",
      "text/plain": [
       "<Figure size 432x288 with 1 Axes>"
      ]
     },
     "metadata": {
      "needs_background": "light"
     },
     "output_type": "display_data"
    }
   ],
   "source": [
    "for i in records:\n",
    "    plt.plot(np.log(i[\"Entropy\"]))"
   ]
  },
  {
   "cell_type": "code",
   "execution_count": null,
   "id": "d8d2a933-840d-44fd-8ea5-e7ead4477d23",
   "metadata": {},
   "outputs": [],
   "source": []
  },
  {
   "cell_type": "code",
   "execution_count": null,
   "id": "ce8d5edc-b200-4562-b482-fb6a71467c17",
   "metadata": {},
   "outputs": [],
   "source": []
  },
  {
   "cell_type": "code",
   "execution_count": null,
   "id": "827dacfe-f331-44ea-b6b1-de6f8777045f",
   "metadata": {},
   "outputs": [],
   "source": []
  },
  {
   "cell_type": "code",
   "execution_count": 121,
   "id": "7574cf0d-de99-4438-8157-edc29002836a",
   "metadata": {},
   "outputs": [],
   "source": [
    "def wordle_bot(df = df):\n",
    "\n",
    "    index = 0\n",
    "    converge = False\n",
    "    record = {\"Iter\":[], \"N\": [], \"Guess\":[], \"Entropy\": []}\n",
    "    \n",
    "    while converge == False:\n",
    "        \n",
    "        if len(df) == 5757:\n",
    "            guess = list(initial_entropy.keys())[-1]\n",
    "            max_e = list(initial_entropy.values())[-1]\n",
    "        else:\n",
    "            entropy = compute_entropy_dict(df) # compute entropy for remaining\n",
    "            guess = max(entropy, key=entropy.get)\n",
    "            max_e = max(entropy.values())\n",
    "        \n",
    "        \n",
    "        print(\"Iteration: \", index, \", possible words before guess:\", len(df), \", current guess:\", guess, \", entropy: \", max_e)\n",
    "        record[\"Iter\"].append(index)\n",
    "        record[\"N\"].append(len(df))\n",
    "        record[\"Guess\"].append(guess)\n",
    "        record[\"Entropy\"].append(max_e)\n",
    "        \n",
    "        vec = input(\"Enter vector:\")\n",
    "        vec = [int(i) for i in vec]\n",
    "        if vec == [2,2,2,2,2]:\n",
    "            converge = True\n",
    "            print(\"Success!\")\n",
    "        \n",
    "        else:\n",
    "            df = get_words_from_match(guess, vec, df) \n",
    "        \n",
    "        index += 1\n",
    "    return(record)"
   ]
  },
  {
   "cell_type": "code",
   "execution_count": 122,
   "id": "9507fafc-3658-44da-a969-6add44bad3ee",
   "metadata": {},
   "outputs": [
    {
     "name": "stdout",
     "output_type": "stream",
     "text": [
      "Iteration:  0 , possible words before guess: 5757 , current guess: tares , entropy:  6.209181059719009\n"
     ]
    },
    {
     "name": "stdin",
     "output_type": "stream",
     "text": [
      "Enter vector: 00100\n"
     ]
    },
    {
     "name": "stdout",
     "output_type": "stream",
     "text": [
      "Iteration:  1 , possible words before guess: 137 , current guess: roily , entropy:  4.932697490763534\n"
     ]
    },
    {
     "name": "stdin",
     "output_type": "stream",
     "text": [
      "Enter vector: 11000\n"
     ]
    },
    {
     "name": "stdout",
     "output_type": "stream",
     "text": [
      "Iteration:  2 , possible words before guess: 34 , current guess: proud , entropy:  4.654717367689059\n"
     ]
    },
    {
     "name": "stdin",
     "output_type": "stream",
     "text": [
      "Enter vector: 01110\n"
     ]
    },
    {
     "name": "stdout",
     "output_type": "stream",
     "text": [
      "Iteration:  3 , possible words before guess: 1 , current guess: humor , entropy:  4.385323699373889\n"
     ]
    },
    {
     "name": "stdin",
     "output_type": "stream",
     "text": [
      "Enter vector: 22222\n"
     ]
    },
    {
     "name": "stdout",
     "output_type": "stream",
     "text": [
      "Success!\n"
     ]
    },
    {
     "data": {
      "text/plain": [
       "{'Iter': [0, 1, 2, 3],\n",
       " 'N': [5757, 137, 34, 1],\n",
       " 'Guess': ['tares', 'roily', 'proud', 'humor'],\n",
       " 'Entropy': [6.209181059719009,\n",
       "  4.932697490763534,\n",
       "  4.654717367689059,\n",
       "  4.385323699373889]}"
      ]
     },
     "execution_count": 122,
     "metadata": {},
     "output_type": "execute_result"
    }
   ],
   "source": [
    "wordle_bot()"
   ]
  },
  {
   "cell_type": "code",
   "execution_count": null,
   "id": "739a04db-8d54-40e6-b041-180bb98d96a4",
   "metadata": {},
   "outputs": [],
   "source": []
  }
 ],
 "metadata": {
  "kernelspec": {
   "display_name": "Python 3 (ipykernel)",
   "language": "python",
   "name": "python3"
  },
  "language_info": {
   "codemirror_mode": {
    "name": "ipython",
    "version": 3
   },
   "file_extension": ".py",
   "mimetype": "text/x-python",
   "name": "python",
   "nbconvert_exporter": "python",
   "pygments_lexer": "ipython3",
   "version": "3.8.12"
  }
 },
 "nbformat": 4,
 "nbformat_minor": 5
}
