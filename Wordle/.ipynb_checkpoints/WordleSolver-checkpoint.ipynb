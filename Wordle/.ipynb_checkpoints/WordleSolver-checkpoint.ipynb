{
 "cells": [
  {
   "cell_type": "markdown",
   "id": "d872784e-c7b4-4b53-9990-51d7ebd009ad",
   "metadata": {},
   "source": [
    "# Replicating 3B1B Wordle Video Code"
   ]
  },
  {
   "cell_type": "markdown",
   "id": "9e5ebeb7-4d21-4ce7-b844-c9e19eca5fa2",
   "metadata": {},
   "source": [
    "I use turtle instead of manim and try to get close to what 3b1b produced in his video on wordle"
   ]
  },
  {
   "cell_type": "code",
   "execution_count": null,
   "id": "02e8f842-927e-494e-8b72-d76766e1219c",
   "metadata": {},
   "outputs": [],
   "source": [
    "import turtle, random\n",
    "import math\n",
    "from itertools import product\n",
    "import matplotlib.pyplot as plt\n",
    "import pandas as pd\n",
    "import numpy as np"
   ]
  },
  {
   "cell_type": "code",
   "execution_count": 2,
   "id": "e5cec321-8d7f-4869-8edb-31e58232203f",
   "metadata": {},
   "outputs": [],
   "source": [
    "with open (\"sgb-words.txt\", \"r\") as myfile:\n",
    "    data = myfile.read().splitlines()"
   ]
  },
  {
   "cell_type": "code",
   "execution_count": 3,
   "id": "8c2151e4-4aa8-4eca-9465-00449cf42ef9",
   "metadata": {},
   "outputs": [
    {
     "data": {
      "text/plain": [
       "5757"
      ]
     },
     "execution_count": 3,
     "metadata": {},
     "output_type": "execute_result"
    }
   ],
   "source": [
    "len(data)"
   ]
  },
  {
   "cell_type": "markdown",
   "id": "d5db66b6-5889-41cb-aefe-e934ec87de65",
   "metadata": {},
   "source": [
    "# The game"
   ]
  },
  {
   "cell_type": "code",
   "execution_count": 4,
   "id": "5c4f2b7a-7e0b-4167-9306-5adb29c9d3ea",
   "metadata": {},
   "outputs": [],
   "source": [
    "class wordle:\n",
    "    def __init__(self):\n",
    "\n",
    "        turtle.tracer(False)\n",
    "        word_list = ['which', 'their', 'would', 'there', 'could', 'other', 'about', 'great', 'these', 'after', 'first', 'never', 'where', 'those', 'shall', 'being', 'might', 'every', 'think', 'under', 'found', 'still', 'while', 'again', 'place', 'young', 'years', 'three', 'right', 'house', 'whole', 'world', 'thing', 'night', 'going', 'heard', 'heart', 'among', 'asked', 'small', 'woman', 'whose', 'quite', 'words', 'given', 'taken', 'hands', 'until', 'since', 'light']\n",
    "        answer = random.choice(word_list) # choose a random word from the list\n",
    "        y = 250 # y location\n",
    "        print(answer)\n",
    "        \n",
    "        for i in range(6): #Where the program starts\n",
    "            guess_prompt = \"What is guess \"+str(i+1)+\"?\" #Makes a nice string for the prompt\n",
    "            my_input = self.input_guess(guess_prompt) #calls input_guess function\n",
    "            self.check_guess(my_input,answer,y)  #checks the guess\n",
    "            y -= 75 #y down by 75\n",
    "            if my_input == answer:\n",
    "                turtle.penup()\n",
    "                turtle.goto(-300,-200) #Always draws the congratulations in the same place\n",
    "                turtle.color(\"black\")\n",
    "                turtle.write(\"Well Done!\",font=(\"Verdana\", 42, \"normal\"))\n",
    "                break\n",
    "                \n",
    "        else: #Only runs if the for loop executes completely. i.e. You've used all your guesses.\n",
    "            turtle.penup()\n",
    "            turtle.goto(-300,-200)\n",
    "            turtle.color(\"black\")\n",
    "            turtle.write(\"Answer was: \", answer,font=(\"Verdana\", 42, \"normal\"))\n",
    "        turtle.done() #Needs if you are using Pycharm and some other Python editors.\n",
    "        \n",
    "\n",
    "    def draw_square(self, x,y,col): # takes in x,y coordinates and a color\n",
    "        turtle.penup()\n",
    "        turtle.goto(x,y)\n",
    "        turtle.pendown()\n",
    "        turtle.fillcolor(col) # set the fillcolor\n",
    "        turtle.begin_fill()     # start the filling color\n",
    "        for i in range(4):     # drawing the square\n",
    "            turtle.forward(60)\n",
    "            turtle.right(90)\n",
    "        turtle.end_fill() # ending the filling of the color\n",
    "\n",
    "    def input_guess(self, prompt):\n",
    "        my_input = turtle.textinput(\"5 letter word\", prompt)\n",
    "\n",
    "        while type(my_input) != str:\n",
    "            my_input = turtle.textinput(\"Error\", \"Must be a string!\")\n",
    "\n",
    "        while len(my_input) != 5:\n",
    "            my_input = turtle.textinput(\"Error\", \"Must be 5 characters long!\")\n",
    "\n",
    "        while my_input not in data:\n",
    "            my_input = turtle.textinput(\"Error\", \"The word must exist!\")\n",
    "\n",
    "        return(my_input)\n",
    "\n",
    "    def check_guess(self, my_input,answer,y):\n",
    "        my_input = my_input.upper()\n",
    "\n",
    "        x = -250 # x location\n",
    "        for count, i in enumerate(my_input):\n",
    "            if i == answer[count].upper(): self.draw_square(x,y,\"#6BAA64\") #exact character match draws a green square\n",
    "            elif i in answer.upper(): self.draw_square(x,y,\"#C9B457\") #else if character anywhere in word draws yellow\n",
    "            else: self.draw_square(x,y,\"#787C7F\") # otherwise draws red\n",
    "\n",
    "            x += 75 # move x coordinate along by 75\n",
    "        turtle.penup() #Moves the turtle penup\n",
    "        \n",
    "        x = -228 #225\n",
    "        for i in range(len(my_input)):\n",
    "            turtle.goto(x, y-42) # -40\n",
    "            x += 75\n",
    "            turtle.color(\"white\")\n",
    "            turtle.write(my_input[i],font=(\"Verdana\", 15, \"bold\")) # font verdana, size 15, normal style\n",
    "\n",
    "\n"
   ]
  },
  {
   "cell_type": "code",
   "execution_count": 7,
   "id": "205cbd6b-bbbd-4a84-98ae-86f3895a12d9",
   "metadata": {},
   "outputs": [
    {
     "name": "stdout",
     "output_type": "stream",
     "text": [
      "there\n"
     ]
    },
    {
     "data": {
      "text/plain": [
       "<__main__.wordle at 0x1cefe7650a0>"
      ]
     },
     "execution_count": 7,
     "metadata": {},
     "output_type": "execute_result"
    }
   ],
   "source": [
    "wordle()"
   ]
  },
  {
   "cell_type": "markdown",
   "id": "4dbe162e-57ae-4fa0-b83b-3002d29380c8",
   "metadata": {},
   "source": [
    "## Selecting best guess, mutual information"
   ]
  },
  {
   "cell_type": "code",
   "execution_count": null,
   "id": "7a9cd3fb-f613-4ad8-8fa8-6f9565500732",
   "metadata": {},
   "outputs": [],
   "source": [
    "def get_match(guess, answer):\n",
    "    \"\"\"\n",
    "    Gets the outcome of a guess\n",
    "    \"\"\"\n",
    "    match = []\n",
    "    for i, j in zip(guess, answer):\n",
    "        if i in answer:\n",
    "            match.append(1) # orange\n",
    "        elif i == j: \n",
    "            match.append(2) # green\n",
    "        else: \n",
    "            match.append(0) # gray\n",
    "    return(match)"
   ]
  },
  {
   "cell_type": "code",
   "execution_count": 203,
   "id": "97e872a9-df37-4fb2-94af-5eb2744e99a9",
   "metadata": {
    "tags": []
   },
   "outputs": [],
   "source": [
    "# all possible permutations of outcomes\n",
    "perms = [roll for roll in product([0, 1, 2], repeat = 5)]"
   ]
  },
  {
   "cell_type": "code",
   "execution_count": 218,
   "id": "f9c08186-0790-4b08-9b6f-b211df88a440",
   "metadata": {},
   "outputs": [],
   "source": [
    "def get_word_dataframe(data):\n",
    "    mat = np.empty((0, 5))\n",
    "    for i in range(len(data)):\n",
    "        row = []\n",
    "        for j in range(5):\n",
    "            row.append(data[i][j])\n",
    "    #     print(row)\n",
    "        row = np.expand_dims(np.array(row), axis = 0)\n",
    "        mat = np.append(mat, row, axis=0)\n",
    "\n",
    "    df = pd.DataFrame(mat)\n",
    "    df.to_csv(\"5_letter_words.csv\", index = False)"
   ]
  },
  {
   "cell_type": "code",
   "execution_count": 229,
   "id": "b545ca66-6964-4025-88d0-26ab9c299df2",
   "metadata": {},
   "outputs": [],
   "source": [
    "df = pd.read_csv(\"5_letter_words.csv\", index_col = False)\n",
    "df.columns = range(5)"
   ]
  },
  {
   "cell_type": "code",
   "execution_count": 236,
   "id": "6e2ccf36-d069-415e-9e21-b8833cbe3386",
   "metadata": {},
   "outputs": [],
   "source": [
    "def get_words_from_match(word, match, df):\n",
    "    \"\"\"\n",
    "    Gets the words that match the condition\n",
    "    \"\"\"\n",
    "    subset = df.copy()\n",
    "    for index, i in enumerate(match):\n",
    "        if i == 0:\n",
    "            subset = subset.loc[subset[index] != word[index]]\n",
    "        elif i == 1:\n",
    "            subset = subset.loc[(subset == word[index]).sum(axis = 1) >= 1] # check if the word is in each row by summing over truth table\n",
    "        elif i == 2:\n",
    "            subset = subset.loc[subset[index] == word[index]]\n",
    "    return(subset)"
   ]
  },
  {
   "cell_type": "code",
   "execution_count": 237,
   "id": "f243f5d5-b02b-4d5d-952e-62a3b0e3bfbb",
   "metadata": {},
   "outputs": [
    {
     "data": {
      "text/html": [
       "<div>\n",
       "<style scoped>\n",
       "    .dataframe tbody tr th:only-of-type {\n",
       "        vertical-align: middle;\n",
       "    }\n",
       "\n",
       "    .dataframe tbody tr th {\n",
       "        vertical-align: top;\n",
       "    }\n",
       "\n",
       "    .dataframe thead th {\n",
       "        text-align: right;\n",
       "    }\n",
       "</style>\n",
       "<table border=\"1\" class=\"dataframe\">\n",
       "  <thead>\n",
       "    <tr style=\"text-align: right;\">\n",
       "      <th></th>\n",
       "      <th>0</th>\n",
       "      <th>1</th>\n",
       "      <th>2</th>\n",
       "      <th>3</th>\n",
       "      <th>4</th>\n",
       "    </tr>\n",
       "  </thead>\n",
       "  <tbody>\n",
       "    <tr>\n",
       "      <th>0</th>\n",
       "      <td>w</td>\n",
       "      <td>h</td>\n",
       "      <td>i</td>\n",
       "      <td>c</td>\n",
       "      <td>h</td>\n",
       "    </tr>\n",
       "    <tr>\n",
       "      <th>773</th>\n",
       "      <td>w</td>\n",
       "      <td>i</td>\n",
       "      <td>t</td>\n",
       "      <td>c</td>\n",
       "      <td>h</td>\n",
       "    </tr>\n",
       "    <tr>\n",
       "      <th>3452</th>\n",
       "      <td>w</td>\n",
       "      <td>i</td>\n",
       "      <td>n</td>\n",
       "      <td>c</td>\n",
       "      <td>h</td>\n",
       "    </tr>\n",
       "  </tbody>\n",
       "</table>\n",
       "</div>"
      ],
      "text/plain": [
       "      0  1  2  3  4\n",
       "0     w  h  i  c  h\n",
       "773   w  i  t  c  h\n",
       "3452  w  i  n  c  h"
      ]
     },
     "execution_count": 237,
     "metadata": {},
     "output_type": "execute_result"
    }
   ],
   "source": [
    "get_words_from_match(\"which\", [1,1,1,1,1], df)"
   ]
  },
  {
   "cell_type": "code",
   "execution_count": 238,
   "id": "80edc39a-9449-40d3-bda9-ddf8c099ea5f",
   "metadata": {},
   "outputs": [
    {
     "data": {
      "text/html": [
       "<div>\n",
       "<style scoped>\n",
       "    .dataframe tbody tr th:only-of-type {\n",
       "        vertical-align: middle;\n",
       "    }\n",
       "\n",
       "    .dataframe tbody tr th {\n",
       "        vertical-align: top;\n",
       "    }\n",
       "\n",
       "    .dataframe thead th {\n",
       "        text-align: right;\n",
       "    }\n",
       "</style>\n",
       "<table border=\"1\" class=\"dataframe\">\n",
       "  <thead>\n",
       "    <tr style=\"text-align: right;\">\n",
       "      <th></th>\n",
       "      <th>0</th>\n",
       "      <th>1</th>\n",
       "      <th>2</th>\n",
       "      <th>3</th>\n",
       "      <th>4</th>\n",
       "    </tr>\n",
       "  </thead>\n",
       "  <tbody>\n",
       "    <tr>\n",
       "      <th>0</th>\n",
       "      <td>w</td>\n",
       "      <td>h</td>\n",
       "      <td>i</td>\n",
       "      <td>c</td>\n",
       "      <td>h</td>\n",
       "    </tr>\n",
       "  </tbody>\n",
       "</table>\n",
       "</div>"
      ],
      "text/plain": [
       "   0  1  2  3  4\n",
       "0  w  h  i  c  h"
      ]
     },
     "execution_count": 238,
     "metadata": {},
     "output_type": "execute_result"
    }
   ],
   "source": [
    "get_words_from_match(\"which\", [2,2,2,2,2], df)"
   ]
  },
  {
   "cell_type": "code",
   "execution_count": 259,
   "id": "46dbd801-f7c1-4eed-942a-9d6c445b8d97",
   "metadata": {},
   "outputs": [],
   "source": [
    "def get_probability(word):\n",
    "    \"\"\"\n",
    "    Get the probability of each outcome of the word with respect to each permuation\n",
    "    \"\"\"\n",
    "    p = []\n",
    "    for i in perms:\n",
    "        p.append(len(get_words_from_match(word, i, df)))\n",
    "    return(np.array(p)/sum(p))"
   ]
  },
  {
   "cell_type": "code",
   "execution_count": 260,
   "id": "50a828f7-350b-4db3-a934-3c82edce79f8",
   "metadata": {},
   "outputs": [],
   "source": [
    "p = get_probability(\"weary\")"
   ]
  },
  {
   "cell_type": "code",
   "execution_count": 257,
   "id": "97cb7798-d5a3-4aeb-a4ac-a154a5ab8c47",
   "metadata": {},
   "outputs": [],
   "source": [
    "# distribution of probabilities for each permutation\n",
    "def plot_dist(p):\n",
    "    plt.bar(range(len(p)), sorted(p, reverse = True))\n",
    "    plt.xlabel(\"Least to most useful permutation\")\n",
    "    plt.ylabel(\"Percentage of words left\")"
   ]
  },
  {
   "cell_type": "code",
   "execution_count": 261,
   "id": "b7fee95f-b6a9-4c61-8bd9-2873095c1fc8",
   "metadata": {},
   "outputs": [
    {
     "data": {
      "image/png": "[encoded data removed]",
      "text/plain": [
       "<Figure size 432x288 with 1 Axes>"
      ]
     },
     "metadata": {
      "needs_background": "light"
     },
     "output_type": "display_data"
    }
   ],
   "source": [
    "plot_dist(p)"
   ]
  },
  {
   "cell_type": "code",
   "execution_count": 262,
   "id": "de90c667-8430-4409-be99-7521449dc82e",
   "metadata": {},
   "outputs": [],
   "source": [
    "def calc_info(p):\n",
    "    # calculate expected information\n",
    "    E = 0\n",
    "    for i in p:\n",
    "    #     print(i)\n",
    "        if i != 0:\n",
    "            E += i*math.log(1/i, 2)\n",
    "    return(E)"
   ]
  },
  {
   "cell_type": "code",
   "execution_count": 263,
   "id": "5690a444-75c2-4aeb-a6af-339f290c8e8c",
   "metadata": {},
   "outputs": [
    {
     "data": {
      "text/plain": [
       "4.845989134030187"
      ]
     },
     "execution_count": 263,
     "metadata": {},
     "output_type": "execute_result"
    }
   ],
   "source": [
    "calc_info(p)"
   ]
  },
  {
   "cell_type": "code",
   "execution_count": 256,
   "id": "691b6206-97ed-43ac-b334-f7136abeb5bc",
   "metadata": {},
   "outputs": [
    {
     "name": "stdout",
     "output_type": "stream",
     "text": [
      "0 / 5757\n"
     ]
    },
    {
     "ename": "KeyboardInterrupt",
     "evalue": "",
     "output_type": "error",
     "traceback": [
      "\u001b[1;31m---------------------------------------------------------------------------\u001b[0m",
      "\u001b[1;31mKeyboardInterrupt\u001b[0m                         Traceback (most recent call last)",
      "\u001b[1;32mC:\\conda_tmp/ipykernel_17616/1923473951.py\u001b[0m in \u001b[0;36m<module>\u001b[1;34m\u001b[0m\n\u001b[0;32m      4\u001b[0m     \u001b[0mp\u001b[0m \u001b[1;33m=\u001b[0m \u001b[1;33m[\u001b[0m\u001b[1;33m]\u001b[0m\u001b[1;33m\u001b[0m\u001b[1;33m\u001b[0m\u001b[0m\n\u001b[0;32m      5\u001b[0m     \u001b[1;32mfor\u001b[0m \u001b[0mi\u001b[0m \u001b[1;32min\u001b[0m \u001b[0mperms\u001b[0m\u001b[1;33m:\u001b[0m\u001b[1;33m\u001b[0m\u001b[1;33m\u001b[0m\u001b[0m\n\u001b[1;32m----> 6\u001b[1;33m         \u001b[0mp\u001b[0m\u001b[1;33m.\u001b[0m\u001b[0mappend\u001b[0m\u001b[1;33m(\u001b[0m\u001b[0mlen\u001b[0m\u001b[1;33m(\u001b[0m\u001b[0mget_words_from_match\u001b[0m\u001b[1;33m(\u001b[0m\u001b[0mword\u001b[0m\u001b[1;33m,\u001b[0m \u001b[0mi\u001b[0m\u001b[1;33m,\u001b[0m \u001b[0mdf\u001b[0m\u001b[1;33m)\u001b[0m\u001b[1;33m)\u001b[0m\u001b[1;33m)\u001b[0m\u001b[1;33m\u001b[0m\u001b[1;33m\u001b[0m\u001b[0m\n\u001b[0m\u001b[0;32m      7\u001b[0m     \u001b[0mp\u001b[0m \u001b[1;33m=\u001b[0m \u001b[0mnp\u001b[0m\u001b[1;33m.\u001b[0m\u001b[0marray\u001b[0m\u001b[1;33m(\u001b[0m\u001b[0mp\u001b[0m\u001b[1;33m)\u001b[0m\u001b[1;33m/\u001b[0m\u001b[0msum\u001b[0m\u001b[1;33m(\u001b[0m\u001b[0mp\u001b[0m\u001b[1;33m)\u001b[0m\u001b[1;33m\u001b[0m\u001b[1;33m\u001b[0m\u001b[0m\n\u001b[0;32m      8\u001b[0m \u001b[1;31m#     print(p)\u001b[0m\u001b[1;33m\u001b[0m\u001b[1;33m\u001b[0m\u001b[1;33m\u001b[0m\u001b[0m\n",
      "\u001b[1;32mC:\\conda_tmp/ipykernel_17616/2653513378.py\u001b[0m in \u001b[0;36mget_words_from_match\u001b[1;34m(word, match, df)\u001b[0m\n\u001b[0;32m      3\u001b[0m     \u001b[1;32mfor\u001b[0m \u001b[0mindex\u001b[0m\u001b[1;33m,\u001b[0m \u001b[0mi\u001b[0m \u001b[1;32min\u001b[0m \u001b[0menumerate\u001b[0m\u001b[1;33m(\u001b[0m\u001b[0mmatch\u001b[0m\u001b[1;33m)\u001b[0m\u001b[1;33m:\u001b[0m\u001b[1;33m\u001b[0m\u001b[1;33m\u001b[0m\u001b[0m\n\u001b[0;32m      4\u001b[0m         \u001b[1;32mif\u001b[0m \u001b[0mi\u001b[0m \u001b[1;33m==\u001b[0m \u001b[1;36m0\u001b[0m\u001b[1;33m:\u001b[0m\u001b[1;33m\u001b[0m\u001b[1;33m\u001b[0m\u001b[0m\n\u001b[1;32m----> 5\u001b[1;33m             \u001b[0msubset\u001b[0m \u001b[1;33m=\u001b[0m \u001b[0msubset\u001b[0m\u001b[1;33m.\u001b[0m\u001b[0mloc\u001b[0m\u001b[1;33m[\u001b[0m\u001b[0msubset\u001b[0m\u001b[1;33m[\u001b[0m\u001b[0mindex\u001b[0m\u001b[1;33m]\u001b[0m \u001b[1;33m!=\u001b[0m \u001b[0mword\u001b[0m\u001b[1;33m[\u001b[0m\u001b[0mindex\u001b[0m\u001b[1;33m]\u001b[0m\u001b[1;33m]\u001b[0m\u001b[1;33m\u001b[0m\u001b[1;33m\u001b[0m\u001b[0m\n\u001b[0m\u001b[0;32m      6\u001b[0m         \u001b[1;32melif\u001b[0m \u001b[0mi\u001b[0m \u001b[1;33m==\u001b[0m \u001b[1;36m1\u001b[0m\u001b[1;33m:\u001b[0m\u001b[1;33m\u001b[0m\u001b[1;33m\u001b[0m\u001b[0m\n\u001b[0;32m      7\u001b[0m             \u001b[0msubset\u001b[0m \u001b[1;33m=\u001b[0m \u001b[0msubset\u001b[0m\u001b[1;33m.\u001b[0m\u001b[0mloc\u001b[0m\u001b[1;33m[\u001b[0m\u001b[1;33m(\u001b[0m\u001b[0msubset\u001b[0m \u001b[1;33m==\u001b[0m \u001b[0mword\u001b[0m\u001b[1;33m[\u001b[0m\u001b[0mindex\u001b[0m\u001b[1;33m]\u001b[0m\u001b[1;33m)\u001b[0m\u001b[1;33m.\u001b[0m\u001b[0msum\u001b[0m\u001b[1;33m(\u001b[0m\u001b[0maxis\u001b[0m \u001b[1;33m=\u001b[0m \u001b[1;36m1\u001b[0m\u001b[1;33m)\u001b[0m \u001b[1;33m>=\u001b[0m \u001b[1;36m1\u001b[0m\u001b[1;33m]\u001b[0m \u001b[1;31m# check if the word is in each row by summing over truth table\u001b[0m\u001b[1;33m\u001b[0m\u001b[1;33m\u001b[0m\u001b[0m\n",
      "\u001b[1;32m~\\anaconda3\\lib\\site-packages\\pandas\\core\\indexing.py\u001b[0m in \u001b[0;36m__getitem__\u001b[1;34m(self, key)\u001b[0m\n\u001b[0;32m    877\u001b[0m \u001b[1;33m\u001b[0m\u001b[0m\n\u001b[0;32m    878\u001b[0m             \u001b[0mmaybe_callable\u001b[0m \u001b[1;33m=\u001b[0m \u001b[0mcom\u001b[0m\u001b[1;33m.\u001b[0m\u001b[0mapply_if_callable\u001b[0m\u001b[1;33m(\u001b[0m\u001b[0mkey\u001b[0m\u001b[1;33m,\u001b[0m \u001b[0mself\u001b[0m\u001b[1;33m.\u001b[0m\u001b[0mobj\u001b[0m\u001b[1;33m)\u001b[0m\u001b[1;33m\u001b[0m\u001b[1;33m\u001b[0m\u001b[0m\n\u001b[1;32m--> 879\u001b[1;33m             \u001b[1;32mreturn\u001b[0m \u001b[0mself\u001b[0m\u001b[1;33m.\u001b[0m\u001b[0m_getitem_axis\u001b[0m\u001b[1;33m(\u001b[0m\u001b[0mmaybe_callable\u001b[0m\u001b[1;33m,\u001b[0m \u001b[0maxis\u001b[0m\u001b[1;33m=\u001b[0m\u001b[0maxis\u001b[0m\u001b[1;33m)\u001b[0m\u001b[1;33m\u001b[0m\u001b[1;33m\u001b[0m\u001b[0m\n\u001b[0m\u001b[0;32m    880\u001b[0m \u001b[1;33m\u001b[0m\u001b[0m\n\u001b[0;32m    881\u001b[0m     \u001b[1;32mdef\u001b[0m \u001b[0m_is_scalar_access\u001b[0m\u001b[1;33m(\u001b[0m\u001b[0mself\u001b[0m\u001b[1;33m,\u001b[0m \u001b[0mkey\u001b[0m\u001b[1;33m:\u001b[0m \u001b[0mTuple\u001b[0m\u001b[1;33m)\u001b[0m\u001b[1;33m:\u001b[0m\u001b[1;33m\u001b[0m\u001b[1;33m\u001b[0m\u001b[0m\n",
      "\u001b[1;32m~\\anaconda3\\lib\\site-packages\\pandas\\core\\indexing.py\u001b[0m in \u001b[0;36m_getitem_axis\u001b[1;34m(self, key, axis)\u001b[0m\n\u001b[0;32m   1088\u001b[0m             \u001b[1;32mreturn\u001b[0m \u001b[0mself\u001b[0m\u001b[1;33m.\u001b[0m\u001b[0m_get_slice_axis\u001b[0m\u001b[1;33m(\u001b[0m\u001b[0mkey\u001b[0m\u001b[1;33m,\u001b[0m \u001b[0maxis\u001b[0m\u001b[1;33m=\u001b[0m\u001b[0maxis\u001b[0m\u001b[1;33m)\u001b[0m\u001b[1;33m\u001b[0m\u001b[1;33m\u001b[0m\u001b[0m\n\u001b[0;32m   1089\u001b[0m         \u001b[1;32melif\u001b[0m \u001b[0mcom\u001b[0m\u001b[1;33m.\u001b[0m\u001b[0mis_bool_indexer\u001b[0m\u001b[1;33m(\u001b[0m\u001b[0mkey\u001b[0m\u001b[1;33m)\u001b[0m\u001b[1;33m:\u001b[0m\u001b[1;33m\u001b[0m\u001b[1;33m\u001b[0m\u001b[0m\n\u001b[1;32m-> 1090\u001b[1;33m             \u001b[1;32mreturn\u001b[0m \u001b[0mself\u001b[0m\u001b[1;33m.\u001b[0m\u001b[0m_getbool_axis\u001b[0m\u001b[1;33m(\u001b[0m\u001b[0mkey\u001b[0m\u001b[1;33m,\u001b[0m \u001b[0maxis\u001b[0m\u001b[1;33m=\u001b[0m\u001b[0maxis\u001b[0m\u001b[1;33m)\u001b[0m\u001b[1;33m\u001b[0m\u001b[1;33m\u001b[0m\u001b[0m\n\u001b[0m\u001b[0;32m   1091\u001b[0m         \u001b[1;32melif\u001b[0m \u001b[0mis_list_like_indexer\u001b[0m\u001b[1;33m(\u001b[0m\u001b[0mkey\u001b[0m\u001b[1;33m)\u001b[0m\u001b[1;33m:\u001b[0m\u001b[1;33m\u001b[0m\u001b[1;33m\u001b[0m\u001b[0m\n\u001b[0;32m   1092\u001b[0m \u001b[1;33m\u001b[0m\u001b[0m\n",
      "\u001b[1;32m~\\anaconda3\\lib\\site-packages\\pandas\\core\\indexing.py\u001b[0m in \u001b[0;36m_getbool_axis\u001b[1;34m(self, key, axis)\u001b[0m\n\u001b[0;32m    896\u001b[0m         \u001b[0mkey\u001b[0m \u001b[1;33m=\u001b[0m \u001b[0mcheck_bool_indexer\u001b[0m\u001b[1;33m(\u001b[0m\u001b[0mlabels\u001b[0m\u001b[1;33m,\u001b[0m \u001b[0mkey\u001b[0m\u001b[1;33m)\u001b[0m\u001b[1;33m\u001b[0m\u001b[1;33m\u001b[0m\u001b[0m\n\u001b[0;32m    897\u001b[0m         \u001b[0minds\u001b[0m \u001b[1;33m=\u001b[0m \u001b[0mkey\u001b[0m\u001b[1;33m.\u001b[0m\u001b[0mnonzero\u001b[0m\u001b[1;33m(\u001b[0m\u001b[1;33m)\u001b[0m\u001b[1;33m[\u001b[0m\u001b[1;36m0\u001b[0m\u001b[1;33m]\u001b[0m\u001b[1;33m\u001b[0m\u001b[1;33m\u001b[0m\u001b[0m\n\u001b[1;32m--> 898\u001b[1;33m         \u001b[1;32mreturn\u001b[0m \u001b[0mself\u001b[0m\u001b[1;33m.\u001b[0m\u001b[0mobj\u001b[0m\u001b[1;33m.\u001b[0m\u001b[0m_take_with_is_copy\u001b[0m\u001b[1;33m(\u001b[0m\u001b[0minds\u001b[0m\u001b[1;33m,\u001b[0m \u001b[0maxis\u001b[0m\u001b[1;33m=\u001b[0m\u001b[0maxis\u001b[0m\u001b[1;33m)\u001b[0m\u001b[1;33m\u001b[0m\u001b[1;33m\u001b[0m\u001b[0m\n\u001b[0m\u001b[0;32m    899\u001b[0m \u001b[1;33m\u001b[0m\u001b[0m\n\u001b[0;32m    900\u001b[0m \u001b[1;33m\u001b[0m\u001b[0m\n",
      "\u001b[1;32m~\\anaconda3\\lib\\site-packages\\pandas\\core\\generic.py\u001b[0m in \u001b[0;36m_take_with_is_copy\u001b[1;34m(self, indices, axis)\u001b[0m\n\u001b[0;32m   3361\u001b[0m         \u001b[0mSee\u001b[0m \u001b[0mthe\u001b[0m \u001b[0mdocstring\u001b[0m \u001b[0mof\u001b[0m\u001b[0;31m \u001b[0m\u001b[0;31m`\u001b[0m\u001b[0mtake\u001b[0m\u001b[0;31m`\u001b[0m \u001b[1;32mfor\u001b[0m \u001b[0mfull\u001b[0m \u001b[0mexplanation\u001b[0m \u001b[0mof\u001b[0m \u001b[0mthe\u001b[0m \u001b[0mparameters\u001b[0m\u001b[1;33m.\u001b[0m\u001b[1;33m\u001b[0m\u001b[1;33m\u001b[0m\u001b[0m\n\u001b[0;32m   3362\u001b[0m         \"\"\"\n\u001b[1;32m-> 3363\u001b[1;33m         \u001b[0mresult\u001b[0m \u001b[1;33m=\u001b[0m \u001b[0mself\u001b[0m\u001b[1;33m.\u001b[0m\u001b[0mtake\u001b[0m\u001b[1;33m(\u001b[0m\u001b[0mindices\u001b[0m\u001b[1;33m=\u001b[0m\u001b[0mindices\u001b[0m\u001b[1;33m,\u001b[0m \u001b[0maxis\u001b[0m\u001b[1;33m=\u001b[0m\u001b[0maxis\u001b[0m\u001b[1;33m)\u001b[0m\u001b[1;33m\u001b[0m\u001b[1;33m\u001b[0m\u001b[0m\n\u001b[0m\u001b[0;32m   3364\u001b[0m         \u001b[1;31m# Maybe set copy if we didn't actually change the index.\u001b[0m\u001b[1;33m\u001b[0m\u001b[1;33m\u001b[0m\u001b[1;33m\u001b[0m\u001b[0m\n\u001b[0;32m   3365\u001b[0m         \u001b[1;32mif\u001b[0m \u001b[1;32mnot\u001b[0m \u001b[0mresult\u001b[0m\u001b[1;33m.\u001b[0m\u001b[0m_get_axis\u001b[0m\u001b[1;33m(\u001b[0m\u001b[0maxis\u001b[0m\u001b[1;33m)\u001b[0m\u001b[1;33m.\u001b[0m\u001b[0mequals\u001b[0m\u001b[1;33m(\u001b[0m\u001b[0mself\u001b[0m\u001b[1;33m.\u001b[0m\u001b[0m_get_axis\u001b[0m\u001b[1;33m(\u001b[0m\u001b[0maxis\u001b[0m\u001b[1;33m)\u001b[0m\u001b[1;33m)\u001b[0m\u001b[1;33m:\u001b[0m\u001b[1;33m\u001b[0m\u001b[1;33m\u001b[0m\u001b[0m\n",
      "\u001b[1;32m~\\anaconda3\\lib\\site-packages\\pandas\\core\\generic.py\u001b[0m in \u001b[0;36mtake\u001b[1;34m(self, indices, axis, is_copy, **kwargs)\u001b[0m\n\u001b[0;32m   3348\u001b[0m         \u001b[0mself\u001b[0m\u001b[1;33m.\u001b[0m\u001b[0m_consolidate_inplace\u001b[0m\u001b[1;33m(\u001b[0m\u001b[1;33m)\u001b[0m\u001b[1;33m\u001b[0m\u001b[1;33m\u001b[0m\u001b[0m\n\u001b[0;32m   3349\u001b[0m \u001b[1;33m\u001b[0m\u001b[0m\n\u001b[1;32m-> 3350\u001b[1;33m         new_data = self._mgr.take(\n\u001b[0m\u001b[0;32m   3351\u001b[0m             \u001b[0mindices\u001b[0m\u001b[1;33m,\u001b[0m \u001b[0maxis\u001b[0m\u001b[1;33m=\u001b[0m\u001b[0mself\u001b[0m\u001b[1;33m.\u001b[0m\u001b[0m_get_block_manager_axis\u001b[0m\u001b[1;33m(\u001b[0m\u001b[0maxis\u001b[0m\u001b[1;33m)\u001b[0m\u001b[1;33m,\u001b[0m \u001b[0mverify\u001b[0m\u001b[1;33m=\u001b[0m\u001b[1;32mTrue\u001b[0m\u001b[1;33m\u001b[0m\u001b[1;33m\u001b[0m\u001b[0m\n\u001b[0;32m   3352\u001b[0m         )\n",
      "\u001b[1;32m~\\anaconda3\\lib\\site-packages\\pandas\\core\\internals\\managers.py\u001b[0m in \u001b[0;36mtake\u001b[1;34m(self, indexer, axis, verify, convert)\u001b[0m\n\u001b[0;32m   1438\u001b[0m         \u001b[0mn\u001b[0m \u001b[1;33m=\u001b[0m \u001b[0mself\u001b[0m\u001b[1;33m.\u001b[0m\u001b[0mshape\u001b[0m\u001b[1;33m[\u001b[0m\u001b[0maxis\u001b[0m\u001b[1;33m]\u001b[0m\u001b[1;33m\u001b[0m\u001b[1;33m\u001b[0m\u001b[0m\n\u001b[0;32m   1439\u001b[0m         \u001b[1;32mif\u001b[0m \u001b[0mconvert\u001b[0m\u001b[1;33m:\u001b[0m\u001b[1;33m\u001b[0m\u001b[1;33m\u001b[0m\u001b[0m\n\u001b[1;32m-> 1440\u001b[1;33m             \u001b[0mindexer\u001b[0m \u001b[1;33m=\u001b[0m \u001b[0mmaybe_convert_indices\u001b[0m\u001b[1;33m(\u001b[0m\u001b[0mindexer\u001b[0m\u001b[1;33m,\u001b[0m \u001b[0mn\u001b[0m\u001b[1;33m)\u001b[0m\u001b[1;33m\u001b[0m\u001b[1;33m\u001b[0m\u001b[0m\n\u001b[0m\u001b[0;32m   1441\u001b[0m \u001b[1;33m\u001b[0m\u001b[0m\n\u001b[0;32m   1442\u001b[0m         \u001b[1;32mif\u001b[0m \u001b[0mverify\u001b[0m\u001b[1;33m:\u001b[0m\u001b[1;33m\u001b[0m\u001b[1;33m\u001b[0m\u001b[0m\n",
      "\u001b[1;32m~\\anaconda3\\lib\\site-packages\\pandas\\core\\indexers.py\u001b[0m in \u001b[0;36mmaybe_convert_indices\u001b[1;34m(indices, n)\u001b[0m\n\u001b[0;32m    246\u001b[0m         \u001b[0mindices\u001b[0m\u001b[1;33m[\u001b[0m\u001b[0mmask\u001b[0m\u001b[1;33m]\u001b[0m \u001b[1;33m+=\u001b[0m \u001b[0mn\u001b[0m\u001b[1;33m\u001b[0m\u001b[1;33m\u001b[0m\u001b[0m\n\u001b[0;32m    247\u001b[0m \u001b[1;33m\u001b[0m\u001b[0m\n\u001b[1;32m--> 248\u001b[1;33m     \u001b[0mmask\u001b[0m \u001b[1;33m=\u001b[0m \u001b[1;33m(\u001b[0m\u001b[0mindices\u001b[0m \u001b[1;33m>=\u001b[0m \u001b[0mn\u001b[0m\u001b[1;33m)\u001b[0m \u001b[1;33m|\u001b[0m \u001b[1;33m(\u001b[0m\u001b[0mindices\u001b[0m \u001b[1;33m<\u001b[0m \u001b[1;36m0\u001b[0m\u001b[1;33m)\u001b[0m\u001b[1;33m\u001b[0m\u001b[1;33m\u001b[0m\u001b[0m\n\u001b[0m\u001b[0;32m    249\u001b[0m     \u001b[1;32mif\u001b[0m \u001b[0mmask\u001b[0m\u001b[1;33m.\u001b[0m\u001b[0many\u001b[0m\u001b[1;33m(\u001b[0m\u001b[1;33m)\u001b[0m\u001b[1;33m:\u001b[0m\u001b[1;33m\u001b[0m\u001b[1;33m\u001b[0m\u001b[0m\n\u001b[0;32m    250\u001b[0m         \u001b[1;32mraise\u001b[0m \u001b[0mIndexError\u001b[0m\u001b[1;33m(\u001b[0m\u001b[1;34m\"indices are out-of-bounds\"\u001b[0m\u001b[1;33m)\u001b[0m\u001b[1;33m\u001b[0m\u001b[1;33m\u001b[0m\u001b[0m\n",
      "\u001b[1;31mKeyboardInterrupt\u001b[0m: "
     ]
    }
   ],
   "source": [
    "value = {}\n",
    "for index, word in enumerate(data):\n",
    "    p = get_probability(word)\n",
    "    # calculate expected information\n",
    "    E = 0\n",
    "    for i in p:\n",
    "        if i != 0:\n",
    "            E += i*math.log(1/i, 2)\n",
    "    value[word] = E\n",
    "    if index%100 == 0:\n",
    "        print(index , \"/\", len(data))"
   ]
  },
  {
   "cell_type": "code",
   "execution_count": null,
   "id": "4f094808-c5dc-4097-83a7-50ddfaf0a196",
   "metadata": {},
   "outputs": [],
   "source": []
  }
 ],
 "metadata": {
  "kernelspec": {
   "display_name": "Python 3 (ipykernel)",
   "language": "python",
   "name": "python3"
  },
  "language_info": {
   "codemirror_mode": {
    "name": "ipython",
    "version": 3
   },
   "file_extension": ".py",
   "mimetype": "text/x-python",
   "name": "python",
   "nbconvert_exporter": "python",
   "pygments_lexer": "ipython3",
   "version": "3.8.12"
  }
 },
 "nbformat": 4,
 "nbformat_minor": 5
}
