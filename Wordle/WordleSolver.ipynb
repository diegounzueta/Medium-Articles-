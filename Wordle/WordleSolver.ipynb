{
 "cells": [
  {
   "cell_type": "markdown",
   "id": "d872784e-c7b4-4b53-9990-51d7ebd009ad",
   "metadata": {},
   "source": [
    "# Replicating 3B1B Wordle Video Code"
   ]
  },
  {
   "cell_type": "markdown",
   "id": "9e5ebeb7-4d21-4ce7-b844-c9e19eca5fa2",
   "metadata": {},
   "source": [
    "I use turtle instead of manim and try to get close to what 3b1b produced in his video on wordle"
   ]
  },
  {
   "cell_type": "code",
   "execution_count": 1,
   "id": "02e8f842-927e-494e-8b72-d76766e1219c",
   "metadata": {},
   "outputs": [],
   "source": [
    "import turtle, random\n",
    "import math\n",
    "from itertools import product\n",
    "import matplotlib.pyplot as plt\n",
    "import pandas as pd\n",
    "import numpy as np\n",
    "import pickle"
   ]
  },
  {
   "cell_type": "code",
   "execution_count": 2,
   "id": "e5cec321-8d7f-4869-8edb-31e58232203f",
   "metadata": {},
   "outputs": [],
   "source": [
    "with open (\"sgb-words.txt\", \"r\") as myfile:\n",
    "    data = myfile.read().splitlines()"
   ]
  },
  {
   "cell_type": "code",
   "execution_count": 3,
   "id": "8c2151e4-4aa8-4eca-9465-00449cf42ef9",
   "metadata": {},
   "outputs": [
    {
     "data": {
      "text/plain": [
       "5757"
      ]
     },
     "execution_count": 3,
     "metadata": {},
     "output_type": "execute_result"
    }
   ],
   "source": [
    "len(data)"
   ]
  },
  {
   "cell_type": "markdown",
   "id": "d5db66b6-5889-41cb-aefe-e934ec87de65",
   "metadata": {},
   "source": [
    "# The game"
   ]
  },
  {
   "cell_type": "code",
   "execution_count": 97,
   "id": "5c4f2b7a-7e0b-4167-9306-5adb29c9d3ea",
   "metadata": {},
   "outputs": [],
   "source": [
    "class wordle:\n",
    "    def __init__(self):\n",
    "\n",
    "        turtle.tracer(False)\n",
    "        word_list = ['which', 'their', 'would', 'there', 'could', 'other', 'about', 'great', 'these', 'after', 'first', 'never', 'where', 'those', 'shall', 'being', 'might', 'every', 'think', 'under', 'found', 'still', 'while', 'again', 'place', 'young', 'years', 'three', 'right', 'house', 'whole', 'world', 'thing', 'night', 'going', 'heard', 'heart', 'among', 'asked', 'small', 'woman', 'whose', 'quite', 'words', 'given', 'taken', 'hands', 'until', 'since', 'light']\n",
    "        answer = \"found\"#random.choice(word_list) # choose a random word from the list\n",
    "        y = 250 # y location\n",
    "        print(answer)\n",
    "        \n",
    "        for i in range(6): #Where the program starts\n",
    "            guess_prompt = \"What is guess \"+str(i+1)+\"?\" #Makes a nice string for the prompt\n",
    "            my_input = self.input_guess(guess_prompt) #calls input_guess function\n",
    "            self.check_guess(my_input,answer,y)  #checks the guess\n",
    "            y -= 75 #y down by 75\n",
    "            if my_input == answer:\n",
    "                turtle.penup()\n",
    "                turtle.goto(-300,-200) #Always draws the congratulations in the same place\n",
    "                turtle.color(\"black\")\n",
    "                turtle.write(\"Well Done!\",font=(\"Verdana\", 42, \"normal\"))\n",
    "                break\n",
    "                \n",
    "        else: #Only runs if the for loop executes completely. i.e. You've used all your guesses.\n",
    "            turtle.penup()\n",
    "            turtle.goto(-300,-200)\n",
    "            turtle.color(\"black\")\n",
    "            turtle.write(\"Answer was: \", answer,font=(\"Verdana\", 42, \"normal\"))\n",
    "        turtle.done() #Needs if you are using Pycharm and some other Python editors.\n",
    "        \n",
    "\n",
    "    def draw_square(self, x,y,col): # takes in x,y coordinates and a color\n",
    "        turtle.penup()\n",
    "        turtle.goto(x,y)\n",
    "        turtle.pendown()\n",
    "        turtle.fillcolor(col) # set the fillcolor\n",
    "        turtle.begin_fill()     # start the filling color\n",
    "        for i in range(4):     # drawing the square\n",
    "            turtle.forward(60)\n",
    "            turtle.right(90)\n",
    "        turtle.end_fill() # ending the filling of the color\n",
    "\n",
    "    def input_guess(self, prompt):\n",
    "        my_input = turtle.textinput(\"5 letter word\", prompt)\n",
    "\n",
    "        while type(my_input) != str:\n",
    "            my_input = turtle.textinput(\"Error\", \"Must be a string!\")\n",
    "\n",
    "        while len(my_input) != 5:\n",
    "            my_input = turtle.textinput(\"Error\", \"Must be 5 characters long!\")\n",
    "\n",
    "        while my_input not in data:\n",
    "            my_input = turtle.textinput(\"Error\", \"The word must exist!\")\n",
    "\n",
    "        return(my_input)\n",
    "\n",
    "    def check_guess(self, my_input,answer,y):\n",
    "        my_input = my_input.upper()\n",
    "\n",
    "        x = -250 # x location\n",
    "        for count, i in enumerate(my_input):\n",
    "            if i == answer[count].upper(): self.draw_square(x,y,\"#6BAA64\") #exact character match draws a green square\n",
    "            elif i in answer.upper(): self.draw_square(x,y,\"#C9B457\") #else if character anywhere in word draws yellow\n",
    "            else: self.draw_square(x,y,\"#787C7F\") # otherwise draws red\n",
    "\n",
    "            x += 75 # move x coordinate along by 75\n",
    "        turtle.penup() #Moves the turtle penup\n",
    "        \n",
    "        x = -228 #225\n",
    "        for i in range(len(my_input)):\n",
    "            turtle.goto(x, y-42) # -40\n",
    "            x += 75\n",
    "            turtle.color(\"white\")\n",
    "            turtle.write(my_input[i],font=(\"Verdana\", 15, \"bold\")) # font verdana, size 15, normal style\n",
    "\n",
    "\n"
   ]
  },
  {
   "cell_type": "code",
   "execution_count": 99,
   "id": "205cbd6b-bbbd-4a84-98ae-86f3895a12d9",
   "metadata": {},
   "outputs": [
    {
     "name": "stdout",
     "output_type": "stream",
     "text": [
      "found\n"
     ]
    },
    {
     "data": {
      "text/plain": [
       "<__main__.wordle at 0x195cdf58c10>"
      ]
     },
     "execution_count": 99,
     "metadata": {},
     "output_type": "execute_result"
    }
   ],
   "source": [
    "wordle()"
   ]
  },
  {
   "cell_type": "markdown",
   "id": "4dbe162e-57ae-4fa0-b83b-3002d29380c8",
   "metadata": {},
   "source": [
    "## Selecting best guess, mutual information"
   ]
  },
  {
   "cell_type": "code",
   "execution_count": 4,
   "id": "7a9cd3fb-f613-4ad8-8fa8-6f9565500732",
   "metadata": {},
   "outputs": [],
   "source": [
    "def get_match(guess, answer):\n",
    "    \"\"\"\n",
    "    Gets the outcome of a guess\n",
    "    \"\"\"\n",
    "    match = []\n",
    "    for i, j in zip(guess, answer):\n",
    "        if i in answer:\n",
    "            match.append(1) # orange\n",
    "        elif i == j: \n",
    "            match.append(2) # green\n",
    "        else: \n",
    "            match.append(0) # gray\n",
    "    return(match)"
   ]
  },
  {
   "cell_type": "code",
   "execution_count": 5,
   "id": "97e872a9-df37-4fb2-94af-5eb2744e99a9",
   "metadata": {
    "tags": []
   },
   "outputs": [],
   "source": [
    "# all possible permutations of outcomes\n",
    "perms = np.array([roll for roll in product([0, 1, 2], repeat = 5)])"
   ]
  },
  {
   "cell_type": "code",
   "execution_count": 6,
   "id": "f9c08186-0790-4b08-9b6f-b211df88a440",
   "metadata": {},
   "outputs": [],
   "source": [
    "def get_word_dataframe(data):\n",
    "    mat = np.empty((0, 5))\n",
    "    for i in range(len(data)):\n",
    "        row = []\n",
    "        for j in range(5):\n",
    "            row.append(data[i][j])\n",
    "    #     print(row)\n",
    "        row = np.expand_dims(np.array(row), axis = 0)\n",
    "        mat = np.append(mat, row, axis=0)\n",
    "\n",
    "    df = pd.DataFrame(mat)\n",
    "    df.to_csv(\"5_letter_words.csv\", index = False)"
   ]
  },
  {
   "cell_type": "code",
   "execution_count": 7,
   "id": "b545ca66-6964-4025-88d0-26ab9c299df2",
   "metadata": {},
   "outputs": [],
   "source": [
    "df = pd.read_csv(\"5_letter_words.csv\", index_col = False)\n",
    "df.columns = range(5)"
   ]
  },
  {
   "cell_type": "code",
   "execution_count": 46,
   "id": "6e2ccf36-d069-415e-9e21-b8833cbe3386",
   "metadata": {},
   "outputs": [],
   "source": [
    "def get_words_from_match(word, match, df):\n",
    "    \"\"\"\n",
    "    Gets the words that match the condition\n",
    "    \"\"\"\n",
    "    subset = df.copy()\n",
    "    for index, i in enumerate(match):\n",
    "        if i == 0:\n",
    "#             subset = subset.loc[subset[index] != word[index]]\n",
    "            subset = subset.loc[(subset == word[index]).sum(axis = 1) == 0]\n",
    "        elif i == 1:\n",
    "            subset = subset.loc[((subset == word[index]).sum(axis = 1) >= 1) & (subset[index] != word[index])] # check if the word is in each row by summing over truth table\n",
    "            # should also remove the ones where it is on the same row\n",
    "            \n",
    "        elif i == 2:\n",
    "            subset = subset.loc[subset[index] == word[index]]\n",
    "    return(subset)"
   ]
  },
  {
   "cell_type": "code",
   "execution_count": 50,
   "id": "60b8bd8f-9806-4742-8491-411f91fe86d4",
   "metadata": {},
   "outputs": [
    {
     "data": {
      "text/html": [
       "<div>\n",
       "<style scoped>\n",
       "    .dataframe tbody tr th:only-of-type {\n",
       "        vertical-align: middle;\n",
       "    }\n",
       "\n",
       "    .dataframe tbody tr th {\n",
       "        vertical-align: top;\n",
       "    }\n",
       "\n",
       "    .dataframe thead th {\n",
       "        text-align: right;\n",
       "    }\n",
       "</style>\n",
       "<table border=\"1\" class=\"dataframe\">\n",
       "  <thead>\n",
       "    <tr style=\"text-align: right;\">\n",
       "      <th></th>\n",
       "      <th>0</th>\n",
       "      <th>1</th>\n",
       "      <th>2</th>\n",
       "      <th>3</th>\n",
       "      <th>4</th>\n",
       "    </tr>\n",
       "  </thead>\n",
       "  <tbody>\n",
       "    <tr>\n",
       "      <th>2</th>\n",
       "      <td>t</td>\n",
       "      <td>h</td>\n",
       "      <td>e</td>\n",
       "      <td>i</td>\n",
       "      <td>r</td>\n",
       "    </tr>\n",
       "    <tr>\n",
       "      <th>475</th>\n",
       "      <td>t</td>\n",
       "      <td>r</td>\n",
       "      <td>i</td>\n",
       "      <td>b</td>\n",
       "      <td>e</td>\n",
       "    </tr>\n",
       "    <tr>\n",
       "      <th>2707</th>\n",
       "      <td>t</td>\n",
       "      <td>r</td>\n",
       "      <td>i</td>\n",
       "      <td>p</td>\n",
       "      <td>e</td>\n",
       "    </tr>\n",
       "    <tr>\n",
       "      <th>2756</th>\n",
       "      <td>t</td>\n",
       "      <td>r</td>\n",
       "      <td>i</td>\n",
       "      <td>t</td>\n",
       "      <td>e</td>\n",
       "    </tr>\n",
       "    <tr>\n",
       "      <th>3493</th>\n",
       "      <td>t</td>\n",
       "      <td>r</td>\n",
       "      <td>i</td>\n",
       "      <td>c</td>\n",
       "      <td>e</td>\n",
       "    </tr>\n",
       "    <tr>\n",
       "      <th>3777</th>\n",
       "      <td>t</td>\n",
       "      <td>r</td>\n",
       "      <td>i</td>\n",
       "      <td>k</td>\n",
       "      <td>e</td>\n",
       "    </tr>\n",
       "  </tbody>\n",
       "</table>\n",
       "</div>"
      ],
      "text/plain": [
       "      0  1  2  3  4\n",
       "2     t  h  e  i  r\n",
       "475   t  r  i  b  e\n",
       "2707  t  r  i  p  e\n",
       "2756  t  r  i  t  e\n",
       "3493  t  r  i  c  e\n",
       "3777  t  r  i  k  e"
      ]
     },
     "execution_count": 50,
     "metadata": {},
     "output_type": "execute_result"
    }
   ],
   "source": [
    "get_words_from_match(\"tired\", [2,1,1,1,0], df) # anagrams their"
   ]
  },
  {
   "cell_type": "code",
   "execution_count": 66,
   "id": "f243f5d5-b02b-4d5d-952e-62a3b0e3bfbb",
   "metadata": {},
   "outputs": [
    {
     "data": {
      "text/html": [
       "<div>\n",
       "<style scoped>\n",
       "    .dataframe tbody tr th:only-of-type {\n",
       "        vertical-align: middle;\n",
       "    }\n",
       "\n",
       "    .dataframe tbody tr th {\n",
       "        vertical-align: top;\n",
       "    }\n",
       "\n",
       "    .dataframe thead th {\n",
       "        text-align: right;\n",
       "    }\n",
       "</style>\n",
       "<table border=\"1\" class=\"dataframe\">\n",
       "  <thead>\n",
       "    <tr style=\"text-align: right;\">\n",
       "      <th></th>\n",
       "      <th>0</th>\n",
       "      <th>1</th>\n",
       "      <th>2</th>\n",
       "      <th>3</th>\n",
       "      <th>4</th>\n",
       "    </tr>\n",
       "  </thead>\n",
       "  <tbody>\n",
       "    <tr>\n",
       "      <th>361</th>\n",
       "      <td>s</td>\n",
       "      <td>t</td>\n",
       "      <td>e</td>\n",
       "      <td>a</td>\n",
       "      <td>m</td>\n",
       "    </tr>\n",
       "  </tbody>\n",
       "</table>\n",
       "</div>"
      ],
      "text/plain": [
       "     0  1  2  3  4\n",
       "361  s  t  e  a  m"
      ]
     },
     "execution_count": 66,
     "metadata": {},
     "output_type": "execute_result"
    }
   ],
   "source": [
    "get_words_from_match(\"mates\", [1,1,1,1,1], df) # anagrams with no letters on same spots"
   ]
  },
  {
   "cell_type": "code",
   "execution_count": 67,
   "id": "80edc39a-9449-40d3-bda9-ddf8c099ea5f",
   "metadata": {},
   "outputs": [
    {
     "data": {
      "text/html": [
       "<div>\n",
       "<style scoped>\n",
       "    .dataframe tbody tr th:only-of-type {\n",
       "        vertical-align: middle;\n",
       "    }\n",
       "\n",
       "    .dataframe tbody tr th {\n",
       "        vertical-align: top;\n",
       "    }\n",
       "\n",
       "    .dataframe thead th {\n",
       "        text-align: right;\n",
       "    }\n",
       "</style>\n",
       "<table border=\"1\" class=\"dataframe\">\n",
       "  <thead>\n",
       "    <tr style=\"text-align: right;\">\n",
       "      <th></th>\n",
       "      <th>0</th>\n",
       "      <th>1</th>\n",
       "      <th>2</th>\n",
       "      <th>3</th>\n",
       "      <th>4</th>\n",
       "    </tr>\n",
       "  </thead>\n",
       "  <tbody>\n",
       "    <tr>\n",
       "      <th>0</th>\n",
       "      <td>w</td>\n",
       "      <td>h</td>\n",
       "      <td>i</td>\n",
       "      <td>c</td>\n",
       "      <td>h</td>\n",
       "    </tr>\n",
       "  </tbody>\n",
       "</table>\n",
       "</div>"
      ],
      "text/plain": [
       "   0  1  2  3  4\n",
       "0  w  h  i  c  h"
      ]
     },
     "execution_count": 67,
     "metadata": {},
     "output_type": "execute_result"
    }
   ],
   "source": [
    "get_words_from_match(\"which\", [2,2,2,2,2], df) # same word"
   ]
  },
  {
   "cell_type": "code",
   "execution_count": 68,
   "id": "46dbd801-f7c1-4eed-942a-9d6c445b8d97",
   "metadata": {},
   "outputs": [],
   "source": [
    "def get_probability(word):\n",
    "    \"\"\"\n",
    "    Get the probability of each outcome of the word with respect to each permuation\n",
    "    \"\"\"\n",
    "    p = []\n",
    "    for i in perms:\n",
    "        p.append(len(get_words_from_match(word, i, df)))\n",
    "    return(np.array(p)/sum(p))"
   ]
  },
  {
   "cell_type": "code",
   "execution_count": 81,
   "id": "50a828f7-350b-4db3-a934-3c82edce79f8",
   "metadata": {},
   "outputs": [],
   "source": [
    "p = get_probability(\"tares\")"
   ]
  },
  {
   "cell_type": "code",
   "execution_count": 82,
   "id": "97cb7798-d5a3-4aeb-a4ac-a154a5ab8c47",
   "metadata": {},
   "outputs": [],
   "source": [
    "# distribution of probabilities for each permutation\n",
    "def plot_dist(p):\n",
    "    plt.bar(range(len(p)), sorted(p, reverse = True))\n",
    "    plt.xlabel(\"Least to most useful permutation\")\n",
    "    plt.ylabel(\"Percentage of words left\")"
   ]
  },
  {
   "cell_type": "code",
   "execution_count": 83,
   "id": "b7fee95f-b6a9-4c61-8bd9-2873095c1fc8",
   "metadata": {},
   "outputs": [
    {
     "data": {
      "image/png": "[encoded data removed]",
      "text/plain": [
       "<Figure size 432x288 with 1 Axes>"
      ]
     },
     "metadata": {
      "needs_background": "light"
     },
     "output_type": "display_data"
    }
   ],
   "source": [
    "plot_dist(p)"
   ]
  },
  {
   "cell_type": "code",
   "execution_count": 84,
   "id": "de90c667-8430-4409-be99-7521449dc82e",
   "metadata": {},
   "outputs": [],
   "source": [
    "def calc_info(p):\n",
    "    # calculate expected information\n",
    "    E = 0\n",
    "    z = 0\n",
    "    for i in p:\n",
    "    #     print(i)\n",
    "        if i != 0:\n",
    "            E += i*math.log(1/i, 2)\n",
    "        else:\n",
    "            z+= 1\n",
    "#     print(z)\n",
    "    return(E)"
   ]
  },
  {
   "cell_type": "code",
   "execution_count": 85,
   "id": "5690a444-75c2-4aeb-a6af-339f290c8e8c",
   "metadata": {},
   "outputs": [
    {
     "data": {
      "text/plain": [
       "6.209181059719009"
      ]
     },
     "execution_count": 85,
     "metadata": {},
     "output_type": "execute_result"
    }
   ],
   "source": [
    "calc_info(p)"
   ]
  },
  {
   "cell_type": "markdown",
   "id": "75035988-ba0e-4b7b-994b-acf74b41abd4",
   "metadata": {},
   "source": [
    "## Initial Entropy"
   ]
  },
  {
   "cell_type": "code",
   "execution_count": null,
   "id": "691b6206-97ed-43ac-b334-f7136abeb5bc",
   "metadata": {},
   "outputs": [
    {
     "name": "stdout",
     "output_type": "stream",
     "text": [
      "0 / 5757\n",
      "100 / 5757\n",
      "200 / 5757\n",
      "300 / 5757\n",
      "400 / 5757\n",
      "500 / 5757\n",
      "600 / 5757\n",
      "700 / 5757\n",
      "800 / 5757\n",
      "900 / 5757\n",
      "1000 / 5757\n",
      "1100 / 5757\n",
      "1200 / 5757\n",
      "1300 / 5757\n",
      "1400 / 5757\n",
      "1500 / 5757\n",
      "1600 / 5757\n",
      "1700 / 5757\n",
      "1800 / 5757\n",
      "1900 / 5757\n",
      "2000 / 5757\n",
      "2100 / 5757\n",
      "2200 / 5757\n",
      "2300 / 5757\n"
     ]
    }
   ],
   "source": [
    "# value = {}\n",
    "# for index, word in enumerate(data):\n",
    "#     p = get_probability(word)\n",
    "#     # calculate expected information\n",
    "#     value[word] = calc_info(p)\n",
    "    \n",
    "#     if index%100 == 0:\n",
    "#         print(index , \"/\", len(data))"
   ]
  },
  {
   "cell_type": "code",
   "execution_count": null,
   "id": "4f094808-c5dc-4097-83a7-50ddfaf0a196",
   "metadata": {},
   "outputs": [],
   "source": [
    "# sorted_dict = dict(sorted(value.items(), key=lambda item: item[1]))"
   ]
  },
  {
   "cell_type": "code",
   "execution_count": null,
   "id": "07927c2f-591d-4725-9423-1028a60122fd",
   "metadata": {},
   "outputs": [],
   "source": [
    "# import pickle\n",
    "# with open('saved_values.pkl', 'wb') as f:\n",
    "#     pickle.dump(sorted_dict, f)"
   ]
  },
  {
   "cell_type": "code",
   "execution_count": null,
   "id": "3e4853f2-e204-4a76-81a2-55f446c9c106",
   "metadata": {},
   "outputs": [],
   "source": []
  },
  {
   "cell_type": "markdown",
   "id": "a4f08249-f38a-4e33-9a07-db20ead3dafd",
   "metadata": {},
   "source": [
    "## Playing a Game"
   ]
  },
  {
   "cell_type": "code",
   "execution_count": 76,
   "id": "8783bbf6-d467-4b4e-bd17-1aa79843db9f",
   "metadata": {},
   "outputs": [],
   "source": [
    "def check_guess(guess, answer):\n",
    "    ret = []\n",
    "    for i, j in zip(guess, answer):\n",
    "        if i == j:\n",
    "            ret.append(2)\n",
    "        elif i in answer:\n",
    "            ret.append(1)\n",
    "        else: \n",
    "            ret.append(0)\n",
    "    return(ret)"
   ]
  },
  {
   "cell_type": "code",
   "execution_count": 77,
   "id": "99b59dec-d023-4804-be82-0d351fc45871",
   "metadata": {},
   "outputs": [],
   "source": [
    "# Answer is found\n",
    "answer = \"found\""
   ]
  },
  {
   "cell_type": "code",
   "execution_count": 78,
   "id": "dcb0f831-fb3f-417a-a9c9-2b0d943b373a",
   "metadata": {},
   "outputs": [],
   "source": [
    "initial_entropy = pickle.load(open(\"saved_values.pkl\", \"rb\"))"
   ]
  },
  {
   "cell_type": "code",
   "execution_count": 79,
   "id": "013af44a-5972-4588-80f4-8bc1a8588c4f",
   "metadata": {},
   "outputs": [
    {
     "data": {
      "text/plain": [
       "<BarContainer object of 10 artists>"
      ]
     },
     "execution_count": 79,
     "metadata": {},
     "output_type": "execute_result"
    },
    {
     "data": {
      "image/png": "[encoded data removed]",
      "text/plain": [
       "<Figure size 432x288 with 1 Axes>"
      ]
     },
     "metadata": {
      "needs_background": "light"
     },
     "output_type": "display_data"
    }
   ],
   "source": [
    "plt.barh(list(initial_entropy.keys())[-10:], list(initial_entropy.values())[-10:])"
   ]
  },
  {
   "cell_type": "code",
   "execution_count": 80,
   "id": "25c0bba9-53b2-4ffb-aa69-6fabaeabc38f",
   "metadata": {},
   "outputs": [],
   "source": [
    "def compute_entropy_dict(data):\n",
    "    value = {}\n",
    "    for index, word_vec in enumerate(data.iterrows()):\n",
    "        word = \"\".join(word_vec[1].values)\n",
    "        p = get_probability(word)\n",
    "        # calculate expected information\n",
    "        value[word] = calc_info(p)\n",
    "\n",
    "#         if index%100 == 0:\n",
    "#             print(index , \"/\", len(data))\n",
    "    return(value)"
   ]
  },
  {
   "cell_type": "code",
   "execution_count": 35,
   "id": "c5affcb2-d995-4b82-b026-8b11cbe5ac06",
   "metadata": {},
   "outputs": [],
   "source": [
    "record = {\"Iter\":[], \"N\": [], \"Guess\":[], \"Entropy\": []}"
   ]
  },
  {
   "cell_type": "code",
   "execution_count": 36,
   "id": "0fe2a420-4083-4674-9b1d-b66ae13a27ba",
   "metadata": {},
   "outputs": [],
   "source": [
    "def play_wordle(answer, df = df):\n",
    "    index = 0\n",
    "    converge = False\n",
    "    record = {\"Iter\":[], \"N\": [], \"Guess\":[], \"Entropy\": []}\n",
    "    \n",
    "    while converge == False:\n",
    "        \n",
    "        if len(df) == 5757:\n",
    "            guess = list(initial_entropy.keys())[-1]\n",
    "            max_e = list(initial_entropy.values())[-1]\n",
    "        else:\n",
    "            entropy = compute_entropy_dict(df) # compute entropy for remaining\n",
    "            guess = max(entropy, key=entropy.get)\n",
    "            max_e = max(entropy.values())\n",
    "        \n",
    "        \n",
    "        print(\"Iteration: \", index, \", possible words before guess:\", len(df), \", current guess:\", guess, \", entropy: \", max_e)\n",
    "        record[\"Iter\"].append(index)\n",
    "        record[\"N\"].append(len(df))\n",
    "        record[\"Guess\"].append(guess)\n",
    "        record[\"Entropy\"].append(max_e)\n",
    "        \n",
    "        if guess == answer:\n",
    "            converge = True\n",
    "            print(\"Success!\")\n",
    "        \n",
    "        else:\n",
    "            vec = check_guess(guess, answer)\n",
    "            df = get_words_from_match(guess, vec, df) \n",
    "        \n",
    "        index += 1\n",
    "    return(record)"
   ]
  },
  {
   "cell_type": "code",
   "execution_count": 96,
   "id": "ed30bf45-fcc2-419a-95ed-745619a58e48",
   "metadata": {},
   "outputs": [
    {
     "name": "stdout",
     "output_type": "stream",
     "text": [
      "Iteration:  0 5757 tares\n",
      "0 / 415\n",
      "100 / 415\n",
      "200 / 415\n",
      "300 / 415\n",
      "400 / 415\n",
      "Iteration:  1 415 doily\n",
      "0 / 12\n",
      "Iteration:  2 12 pound\n",
      "0 / 5\n",
      "Iteration:  3 5 bound\n",
      "0 / 4\n",
      "Iteration:  4 4 mound\n",
      "0 / 3\n",
      "Iteration:  5 3 hound\n",
      "0 / 2\n",
      "Iteration:  6 2 found\n",
      "Success!\n"
     ]
    }
   ],
   "source": [
    "play_wordle(\"found\")"
   ]
  },
  {
   "cell_type": "code",
   "execution_count": 42,
   "id": "b7ed329d-8724-4280-9c28-93971d2e201d",
   "metadata": {},
   "outputs": [],
   "source": [
    "word_list = ['which', 'their', 'would', 'there', 'could', 'other', 'about', 'great', 'these', 'after', 'first', 'never', 'where', 'those', 'shall', 'being', 'might', 'every', 'think', 'under', 'found', 'still', 'while', 'again', 'place', 'young', 'years', 'three', 'right', 'house', 'whole', 'world', 'thing', 'night', 'going', 'heard', 'heart', 'among', 'asked', 'small', 'woman', 'whose', 'quite', 'words', 'given', 'taken', 'hands', 'until', 'since', 'light']\n",
    "        "
   ]
  },
  {
   "cell_type": "code",
   "execution_count": 44,
   "id": "a6cce1ce-ec60-4661-b4db-c00337e4d18a",
   "metadata": {},
   "outputs": [
    {
     "name": "stdout",
     "output_type": "stream",
     "text": [
      "which\n",
      "Iteration:  0 , possible words before guess: 5757 , current guess: tares , entropy:  6.708347366665026\n",
      "Iteration:  1 , possible words before guess: 415 , current guess: doily , entropy:  5.482617360573649\n",
      "Iteration:  2 , possible words before guess: 13 , current guess: chink , entropy:  4.8643410270346985\n",
      "Iteration:  3 , possible words before guess: 3 , current guess: chimp , entropy:  4.629405676115274\n",
      "Iteration:  4 , possible words before guess: 2 , current guess: which , entropy:  3.848004474526619\n",
      "Success!\n",
      "their\n",
      "Iteration:  0 , possible words before guess: 5757 , current guess: tares , entropy:  6.708347366665026\n",
      "Iteration:  1 , possible words before guess: 38 , current guess: tired , entropy:  6.066474122203177\n",
      "Iteration:  2 , possible words before guess: 12 , current guess: tiler , entropy:  6.056200691979593\n",
      "Iteration:  3 , possible words before guess: 5 , current guess: timer , entropy:  5.827027516700695\n",
      "Iteration:  4 , possible words before guess: 4 , current guess: tiger , entropy:  5.651482649745391\n",
      "Iteration:  5 , possible words before guess: 3 , current guess: their , entropy:  5.360983155089577\n",
      "Success!\n",
      "would\n",
      "Iteration:  0 , possible words before guess: 5757 , current guess: tares , entropy:  6.708347366665026\n"
     ]
    },
    {
     "ename": "KeyboardInterrupt",
     "evalue": "",
     "output_type": "error",
     "traceback": [
      "\u001b[1;31m---------------------------------------------------------------------------\u001b[0m",
      "\u001b[1;31mKeyboardInterrupt\u001b[0m                         Traceback (most recent call last)",
      "\u001b[1;32mC:\\conda_tmp/ipykernel_12400/670246216.py\u001b[0m in \u001b[0;36m<module>\u001b[1;34m\u001b[0m\n\u001b[0;32m      2\u001b[0m \u001b[1;32mfor\u001b[0m \u001b[0mi\u001b[0m \u001b[1;32min\u001b[0m \u001b[0mword_list\u001b[0m\u001b[1;33m:\u001b[0m\u001b[1;33m\u001b[0m\u001b[1;33m\u001b[0m\u001b[0m\n\u001b[0;32m      3\u001b[0m     \u001b[0mprint\u001b[0m\u001b[1;33m(\u001b[0m\u001b[0mi\u001b[0m\u001b[1;33m)\u001b[0m\u001b[1;33m\u001b[0m\u001b[1;33m\u001b[0m\u001b[0m\n\u001b[1;32m----> 4\u001b[1;33m     \u001b[0mword_record\u001b[0m \u001b[1;33m=\u001b[0m \u001b[0mplay_wordle\u001b[0m\u001b[1;33m(\u001b[0m\u001b[0mi\u001b[0m\u001b[1;33m)\u001b[0m\u001b[1;33m\u001b[0m\u001b[1;33m\u001b[0m\u001b[0m\n\u001b[0m\u001b[0;32m      5\u001b[0m     \u001b[0mword_record\u001b[0m\u001b[1;33m[\u001b[0m\u001b[1;34m\"word\"\u001b[0m\u001b[1;33m]\u001b[0m \u001b[1;33m=\u001b[0m \u001b[1;33m[\u001b[0m\u001b[0mi\u001b[0m\u001b[1;33m]\u001b[0m\u001b[1;33m*\u001b[0m\u001b[0mlen\u001b[0m\u001b[1;33m(\u001b[0m\u001b[0mword_record\u001b[0m\u001b[1;33m[\u001b[0m\u001b[1;34m\"Iter\"\u001b[0m\u001b[1;33m]\u001b[0m\u001b[1;33m)\u001b[0m\u001b[1;33m\u001b[0m\u001b[1;33m\u001b[0m\u001b[0m\n\u001b[0;32m      6\u001b[0m     \u001b[0mrecords\u001b[0m\u001b[1;33m.\u001b[0m\u001b[0mappend\u001b[0m\u001b[1;33m(\u001b[0m\u001b[0mword_record\u001b[0m\u001b[1;33m)\u001b[0m\u001b[1;33m\u001b[0m\u001b[1;33m\u001b[0m\u001b[0m\n",
      "\u001b[1;32mC:\\conda_tmp/ipykernel_12400/3563888240.py\u001b[0m in \u001b[0;36mplay_wordle\u001b[1;34m(answer, df)\u001b[0m\n\u001b[0;32m     10\u001b[0m             \u001b[0mmax_e\u001b[0m \u001b[1;33m=\u001b[0m \u001b[0mlist\u001b[0m\u001b[1;33m(\u001b[0m\u001b[0minitial_entropy\u001b[0m\u001b[1;33m.\u001b[0m\u001b[0mvalues\u001b[0m\u001b[1;33m(\u001b[0m\u001b[1;33m)\u001b[0m\u001b[1;33m)\u001b[0m\u001b[1;33m[\u001b[0m\u001b[1;33m-\u001b[0m\u001b[1;36m1\u001b[0m\u001b[1;33m]\u001b[0m\u001b[1;33m\u001b[0m\u001b[1;33m\u001b[0m\u001b[0m\n\u001b[0;32m     11\u001b[0m         \u001b[1;32melse\u001b[0m\u001b[1;33m:\u001b[0m\u001b[1;33m\u001b[0m\u001b[1;33m\u001b[0m\u001b[0m\n\u001b[1;32m---> 12\u001b[1;33m             \u001b[0mentropy\u001b[0m \u001b[1;33m=\u001b[0m \u001b[0mcompute_entropy_dict\u001b[0m\u001b[1;33m(\u001b[0m\u001b[0mdf\u001b[0m\u001b[1;33m)\u001b[0m \u001b[1;31m# compute entropy for remaining\u001b[0m\u001b[1;33m\u001b[0m\u001b[1;33m\u001b[0m\u001b[0m\n\u001b[0m\u001b[0;32m     13\u001b[0m             \u001b[0mguess\u001b[0m \u001b[1;33m=\u001b[0m \u001b[0mmax\u001b[0m\u001b[1;33m(\u001b[0m\u001b[0mentropy\u001b[0m\u001b[1;33m,\u001b[0m \u001b[0mkey\u001b[0m\u001b[1;33m=\u001b[0m\u001b[0mentropy\u001b[0m\u001b[1;33m.\u001b[0m\u001b[0mget\u001b[0m\u001b[1;33m)\u001b[0m\u001b[1;33m\u001b[0m\u001b[1;33m\u001b[0m\u001b[0m\n\u001b[0;32m     14\u001b[0m             \u001b[0mmax_e\u001b[0m \u001b[1;33m=\u001b[0m \u001b[0mmax\u001b[0m\u001b[1;33m(\u001b[0m\u001b[0mentropy\u001b[0m\u001b[1;33m.\u001b[0m\u001b[0mvalues\u001b[0m\u001b[1;33m(\u001b[0m\u001b[1;33m)\u001b[0m\u001b[1;33m)\u001b[0m\u001b[1;33m\u001b[0m\u001b[1;33m\u001b[0m\u001b[0m\n",
      "\u001b[1;32mC:\\conda_tmp/ipykernel_12400/2508442060.py\u001b[0m in \u001b[0;36mcompute_entropy_dict\u001b[1;34m(data)\u001b[0m\n\u001b[0;32m      3\u001b[0m     \u001b[1;32mfor\u001b[0m \u001b[0mindex\u001b[0m\u001b[1;33m,\u001b[0m \u001b[0mword_vec\u001b[0m \u001b[1;32min\u001b[0m \u001b[0menumerate\u001b[0m\u001b[1;33m(\u001b[0m\u001b[0mdata\u001b[0m\u001b[1;33m.\u001b[0m\u001b[0miterrows\u001b[0m\u001b[1;33m(\u001b[0m\u001b[1;33m)\u001b[0m\u001b[1;33m)\u001b[0m\u001b[1;33m:\u001b[0m\u001b[1;33m\u001b[0m\u001b[1;33m\u001b[0m\u001b[0m\n\u001b[0;32m      4\u001b[0m         \u001b[0mword\u001b[0m \u001b[1;33m=\u001b[0m \u001b[1;34m\"\"\u001b[0m\u001b[1;33m.\u001b[0m\u001b[0mjoin\u001b[0m\u001b[1;33m(\u001b[0m\u001b[0mword_vec\u001b[0m\u001b[1;33m[\u001b[0m\u001b[1;36m1\u001b[0m\u001b[1;33m]\u001b[0m\u001b[1;33m.\u001b[0m\u001b[0mvalues\u001b[0m\u001b[1;33m)\u001b[0m\u001b[1;33m\u001b[0m\u001b[1;33m\u001b[0m\u001b[0m\n\u001b[1;32m----> 5\u001b[1;33m         \u001b[0mp\u001b[0m \u001b[1;33m=\u001b[0m \u001b[0mget_probability\u001b[0m\u001b[1;33m(\u001b[0m\u001b[0mword\u001b[0m\u001b[1;33m)\u001b[0m\u001b[1;33m\u001b[0m\u001b[1;33m\u001b[0m\u001b[0m\n\u001b[0m\u001b[0;32m      6\u001b[0m         \u001b[1;31m# calculate expected information\u001b[0m\u001b[1;33m\u001b[0m\u001b[1;33m\u001b[0m\u001b[1;33m\u001b[0m\u001b[0m\n\u001b[0;32m      7\u001b[0m         \u001b[0mvalue\u001b[0m\u001b[1;33m[\u001b[0m\u001b[0mword\u001b[0m\u001b[1;33m]\u001b[0m \u001b[1;33m=\u001b[0m \u001b[0mcalc_info\u001b[0m\u001b[1;33m(\u001b[0m\u001b[0mp\u001b[0m\u001b[1;33m)\u001b[0m\u001b[1;33m\u001b[0m\u001b[1;33m\u001b[0m\u001b[0m\n",
      "\u001b[1;32mC:\\conda_tmp/ipykernel_12400/282539136.py\u001b[0m in \u001b[0;36mget_probability\u001b[1;34m(word)\u001b[0m\n\u001b[0;32m      5\u001b[0m     \u001b[0mp\u001b[0m \u001b[1;33m=\u001b[0m \u001b[1;33m[\u001b[0m\u001b[1;33m]\u001b[0m\u001b[1;33m\u001b[0m\u001b[1;33m\u001b[0m\u001b[0m\n\u001b[0;32m      6\u001b[0m     \u001b[1;32mfor\u001b[0m \u001b[0mi\u001b[0m \u001b[1;32min\u001b[0m \u001b[0mperms\u001b[0m\u001b[1;33m:\u001b[0m\u001b[1;33m\u001b[0m\u001b[1;33m\u001b[0m\u001b[0m\n\u001b[1;32m----> 7\u001b[1;33m         \u001b[0mp\u001b[0m\u001b[1;33m.\u001b[0m\u001b[0mappend\u001b[0m\u001b[1;33m(\u001b[0m\u001b[0mlen\u001b[0m\u001b[1;33m(\u001b[0m\u001b[0mget_words_from_match\u001b[0m\u001b[1;33m(\u001b[0m\u001b[0mword\u001b[0m\u001b[1;33m,\u001b[0m \u001b[0mi\u001b[0m\u001b[1;33m,\u001b[0m \u001b[0mdf\u001b[0m\u001b[1;33m)\u001b[0m\u001b[1;33m)\u001b[0m\u001b[1;33m)\u001b[0m\u001b[1;33m\u001b[0m\u001b[1;33m\u001b[0m\u001b[0m\n\u001b[0m\u001b[0;32m      8\u001b[0m     \u001b[1;32mreturn\u001b[0m\u001b[1;33m(\u001b[0m\u001b[0mnp\u001b[0m\u001b[1;33m.\u001b[0m\u001b[0marray\u001b[0m\u001b[1;33m(\u001b[0m\u001b[0mp\u001b[0m\u001b[1;33m)\u001b[0m\u001b[1;33m/\u001b[0m\u001b[0msum\u001b[0m\u001b[1;33m(\u001b[0m\u001b[0mp\u001b[0m\u001b[1;33m)\u001b[0m\u001b[1;33m)\u001b[0m\u001b[1;33m\u001b[0m\u001b[1;33m\u001b[0m\u001b[0m\n",
      "\u001b[1;32mC:\\conda_tmp/ipykernel_12400/2504384105.py\u001b[0m in \u001b[0;36mget_words_from_match\u001b[1;34m(word, match, df)\u001b[0m\n\u001b[0;32m      7\u001b[0m         \u001b[1;32mif\u001b[0m \u001b[0mi\u001b[0m \u001b[1;33m==\u001b[0m \u001b[1;36m0\u001b[0m\u001b[1;33m:\u001b[0m\u001b[1;33m\u001b[0m\u001b[1;33m\u001b[0m\u001b[0m\n\u001b[0;32m      8\u001b[0m \u001b[1;31m#             subset = subset.loc[subset[index] != word[index]]\u001b[0m\u001b[1;33m\u001b[0m\u001b[1;33m\u001b[0m\u001b[1;33m\u001b[0m\u001b[0m\n\u001b[1;32m----> 9\u001b[1;33m             \u001b[0msubset\u001b[0m \u001b[1;33m=\u001b[0m \u001b[0msubset\u001b[0m\u001b[1;33m.\u001b[0m\u001b[0mloc\u001b[0m\u001b[1;33m[\u001b[0m\u001b[1;33m(\u001b[0m\u001b[0msubset\u001b[0m \u001b[1;33m==\u001b[0m \u001b[0mword\u001b[0m\u001b[1;33m[\u001b[0m\u001b[0mindex\u001b[0m\u001b[1;33m]\u001b[0m\u001b[1;33m)\u001b[0m\u001b[1;33m.\u001b[0m\u001b[0msum\u001b[0m\u001b[1;33m(\u001b[0m\u001b[0maxis\u001b[0m \u001b[1;33m=\u001b[0m \u001b[1;36m1\u001b[0m\u001b[1;33m)\u001b[0m \u001b[1;33m==\u001b[0m \u001b[1;36m0\u001b[0m\u001b[1;33m]\u001b[0m\u001b[1;33m\u001b[0m\u001b[1;33m\u001b[0m\u001b[0m\n\u001b[0m\u001b[0;32m     10\u001b[0m         \u001b[1;32melif\u001b[0m \u001b[0mi\u001b[0m \u001b[1;33m==\u001b[0m \u001b[1;36m1\u001b[0m\u001b[1;33m:\u001b[0m\u001b[1;33m\u001b[0m\u001b[1;33m\u001b[0m\u001b[0m\n\u001b[0;32m     11\u001b[0m             \u001b[0msubset\u001b[0m \u001b[1;33m=\u001b[0m \u001b[0msubset\u001b[0m\u001b[1;33m.\u001b[0m\u001b[0mloc\u001b[0m\u001b[1;33m[\u001b[0m\u001b[1;33m(\u001b[0m\u001b[0msubset\u001b[0m \u001b[1;33m==\u001b[0m \u001b[0mword\u001b[0m\u001b[1;33m[\u001b[0m\u001b[0mindex\u001b[0m\u001b[1;33m]\u001b[0m\u001b[1;33m)\u001b[0m\u001b[1;33m.\u001b[0m\u001b[0msum\u001b[0m\u001b[1;33m(\u001b[0m\u001b[0maxis\u001b[0m \u001b[1;33m=\u001b[0m \u001b[1;36m1\u001b[0m\u001b[1;33m)\u001b[0m \u001b[1;33m>=\u001b[0m \u001b[1;36m1\u001b[0m\u001b[1;33m]\u001b[0m \u001b[1;31m# check if the word is in each row by summing over truth table\u001b[0m\u001b[1;33m\u001b[0m\u001b[1;33m\u001b[0m\u001b[0m\n",
      "\u001b[1;32m~\\anaconda3\\lib\\site-packages\\pandas\\core\\generic.py\u001b[0m in \u001b[0;36mstat_func\u001b[1;34m(self, axis, skipna, level, numeric_only, min_count, **kwargs)\u001b[0m\n\u001b[0;32m  11420\u001b[0m                 \u001b[0mname\u001b[0m\u001b[1;33m,\u001b[0m \u001b[0maxis\u001b[0m\u001b[1;33m=\u001b[0m\u001b[0maxis\u001b[0m\u001b[1;33m,\u001b[0m \u001b[0mlevel\u001b[0m\u001b[1;33m=\u001b[0m\u001b[0mlevel\u001b[0m\u001b[1;33m,\u001b[0m \u001b[0mskipna\u001b[0m\u001b[1;33m=\u001b[0m\u001b[0mskipna\u001b[0m\u001b[1;33m,\u001b[0m \u001b[0mmin_count\u001b[0m\u001b[1;33m=\u001b[0m\u001b[0mmin_count\u001b[0m\u001b[1;33m\u001b[0m\u001b[1;33m\u001b[0m\u001b[0m\n\u001b[0;32m  11421\u001b[0m             )\n\u001b[1;32m> 11422\u001b[1;33m         return self._reduce(\n\u001b[0m\u001b[0;32m  11423\u001b[0m             \u001b[0mfunc\u001b[0m\u001b[1;33m,\u001b[0m\u001b[1;33m\u001b[0m\u001b[1;33m\u001b[0m\u001b[0m\n\u001b[0;32m  11424\u001b[0m             \u001b[0mname\u001b[0m\u001b[1;33m=\u001b[0m\u001b[0mname\u001b[0m\u001b[1;33m,\u001b[0m\u001b[1;33m\u001b[0m\u001b[1;33m\u001b[0m\u001b[0m\n",
      "\u001b[1;32m~\\anaconda3\\lib\\site-packages\\pandas\\core\\frame.py\u001b[0m in \u001b[0;36m_reduce\u001b[1;34m(self, op, name, axis, skipna, numeric_only, filter_type, **kwds)\u001b[0m\n\u001b[0;32m   8652\u001b[0m \u001b[1;33m\u001b[0m\u001b[0m\n\u001b[0;32m   8653\u001b[0m             \u001b[1;32mtry\u001b[0m\u001b[1;33m:\u001b[0m\u001b[1;33m\u001b[0m\u001b[1;33m\u001b[0m\u001b[0m\n\u001b[1;32m-> 8654\u001b[1;33m                 \u001b[0mresult\u001b[0m \u001b[1;33m=\u001b[0m \u001b[0mfunc\u001b[0m\u001b[1;33m(\u001b[0m\u001b[0mvalues\u001b[0m\u001b[1;33m)\u001b[0m\u001b[1;33m\u001b[0m\u001b[1;33m\u001b[0m\u001b[0m\n\u001b[0m\u001b[0;32m   8655\u001b[0m \u001b[1;33m\u001b[0m\u001b[0m\n\u001b[0;32m   8656\u001b[0m             \u001b[1;32mexcept\u001b[0m \u001b[0mTypeError\u001b[0m\u001b[1;33m:\u001b[0m\u001b[1;33m\u001b[0m\u001b[1;33m\u001b[0m\u001b[0m\n",
      "\u001b[1;32m~\\anaconda3\\lib\\site-packages\\pandas\\core\\frame.py\u001b[0m in \u001b[0;36mfunc\u001b[1;34m(values)\u001b[0m\n\u001b[0;32m   8573\u001b[0m                 \u001b[1;32mreturn\u001b[0m \u001b[0mextract_array\u001b[0m\u001b[1;33m(\u001b[0m\u001b[0mvalues\u001b[0m\u001b[1;33m)\u001b[0m\u001b[1;33m.\u001b[0m\u001b[0m_reduce\u001b[0m\u001b[1;33m(\u001b[0m\u001b[0mname\u001b[0m\u001b[1;33m,\u001b[0m \u001b[0mskipna\u001b[0m\u001b[1;33m=\u001b[0m\u001b[0mskipna\u001b[0m\u001b[1;33m,\u001b[0m \u001b[1;33m**\u001b[0m\u001b[0mkwds\u001b[0m\u001b[1;33m)\u001b[0m\u001b[1;33m\u001b[0m\u001b[1;33m\u001b[0m\u001b[0m\n\u001b[0;32m   8574\u001b[0m             \u001b[1;32melse\u001b[0m\u001b[1;33m:\u001b[0m\u001b[1;33m\u001b[0m\u001b[1;33m\u001b[0m\u001b[0m\n\u001b[1;32m-> 8575\u001b[1;33m                 \u001b[1;32mreturn\u001b[0m \u001b[0mop\u001b[0m\u001b[1;33m(\u001b[0m\u001b[0mvalues\u001b[0m\u001b[1;33m,\u001b[0m \u001b[0maxis\u001b[0m\u001b[1;33m=\u001b[0m\u001b[0maxis\u001b[0m\u001b[1;33m,\u001b[0m \u001b[0mskipna\u001b[0m\u001b[1;33m=\u001b[0m\u001b[0mskipna\u001b[0m\u001b[1;33m,\u001b[0m \u001b[1;33m**\u001b[0m\u001b[0mkwds\u001b[0m\u001b[1;33m)\u001b[0m\u001b[1;33m\u001b[0m\u001b[1;33m\u001b[0m\u001b[0m\n\u001b[0m\u001b[0;32m   8576\u001b[0m \u001b[1;33m\u001b[0m\u001b[0m\n\u001b[0;32m   8577\u001b[0m         \u001b[1;32mdef\u001b[0m \u001b[0m_get_data\u001b[0m\u001b[1;33m(\u001b[0m\u001b[0maxis_matters\u001b[0m\u001b[1;33m)\u001b[0m\u001b[1;33m:\u001b[0m\u001b[1;33m\u001b[0m\u001b[1;33m\u001b[0m\u001b[0m\n",
      "\u001b[1;32m~\\anaconda3\\lib\\site-packages\\pandas\\core\\nanops.py\u001b[0m in \u001b[0;36m_f\u001b[1;34m(*args, **kwargs)\u001b[0m\n\u001b[0;32m     69\u001b[0m             \u001b[1;32mtry\u001b[0m\u001b[1;33m:\u001b[0m\u001b[1;33m\u001b[0m\u001b[1;33m\u001b[0m\u001b[0m\n\u001b[0;32m     70\u001b[0m                 \u001b[1;32mwith\u001b[0m \u001b[0mnp\u001b[0m\u001b[1;33m.\u001b[0m\u001b[0merrstate\u001b[0m\u001b[1;33m(\u001b[0m\u001b[0minvalid\u001b[0m\u001b[1;33m=\u001b[0m\u001b[1;34m\"ignore\"\u001b[0m\u001b[1;33m)\u001b[0m\u001b[1;33m:\u001b[0m\u001b[1;33m\u001b[0m\u001b[1;33m\u001b[0m\u001b[0m\n\u001b[1;32m---> 71\u001b[1;33m                     \u001b[1;32mreturn\u001b[0m \u001b[0mf\u001b[0m\u001b[1;33m(\u001b[0m\u001b[1;33m*\u001b[0m\u001b[0margs\u001b[0m\u001b[1;33m,\u001b[0m \u001b[1;33m**\u001b[0m\u001b[0mkwargs\u001b[0m\u001b[1;33m)\u001b[0m\u001b[1;33m\u001b[0m\u001b[1;33m\u001b[0m\u001b[0m\n\u001b[0m\u001b[0;32m     72\u001b[0m             \u001b[1;32mexcept\u001b[0m \u001b[0mValueError\u001b[0m \u001b[1;32mas\u001b[0m \u001b[0me\u001b[0m\u001b[1;33m:\u001b[0m\u001b[1;33m\u001b[0m\u001b[1;33m\u001b[0m\u001b[0m\n\u001b[0;32m     73\u001b[0m                 \u001b[1;31m# we want to transform an object array\u001b[0m\u001b[1;33m\u001b[0m\u001b[1;33m\u001b[0m\u001b[1;33m\u001b[0m\u001b[0m\n",
      "\u001b[1;32m~\\anaconda3\\lib\\site-packages\\pandas\\core\\nanops.py\u001b[0m in \u001b[0;36mnansum\u001b[1;34m(values, axis, skipna, min_count, mask)\u001b[0m\n\u001b[0;32m    507\u001b[0m     \u001b[1;32melif\u001b[0m \u001b[0mis_timedelta64_dtype\u001b[0m\u001b[1;33m(\u001b[0m\u001b[0mdtype\u001b[0m\u001b[1;33m)\u001b[0m\u001b[1;33m:\u001b[0m\u001b[1;33m\u001b[0m\u001b[1;33m\u001b[0m\u001b[0m\n\u001b[0;32m    508\u001b[0m         \u001b[0mdtype_sum\u001b[0m \u001b[1;33m=\u001b[0m \u001b[0mnp\u001b[0m\u001b[1;33m.\u001b[0m\u001b[0mfloat64\u001b[0m\u001b[1;33m\u001b[0m\u001b[1;33m\u001b[0m\u001b[0m\n\u001b[1;32m--> 509\u001b[1;33m     \u001b[0mthe_sum\u001b[0m \u001b[1;33m=\u001b[0m \u001b[0mvalues\u001b[0m\u001b[1;33m.\u001b[0m\u001b[0msum\u001b[0m\u001b[1;33m(\u001b[0m\u001b[0maxis\u001b[0m\u001b[1;33m,\u001b[0m \u001b[0mdtype\u001b[0m\u001b[1;33m=\u001b[0m\u001b[0mdtype_sum\u001b[0m\u001b[1;33m)\u001b[0m\u001b[1;33m\u001b[0m\u001b[1;33m\u001b[0m\u001b[0m\n\u001b[0m\u001b[0;32m    510\u001b[0m     \u001b[0mthe_sum\u001b[0m \u001b[1;33m=\u001b[0m \u001b[0m_maybe_null_out\u001b[0m\u001b[1;33m(\u001b[0m\u001b[0mthe_sum\u001b[0m\u001b[1;33m,\u001b[0m \u001b[0maxis\u001b[0m\u001b[1;33m,\u001b[0m \u001b[0mmask\u001b[0m\u001b[1;33m,\u001b[0m \u001b[0mvalues\u001b[0m\u001b[1;33m.\u001b[0m\u001b[0mshape\u001b[0m\u001b[1;33m,\u001b[0m \u001b[0mmin_count\u001b[0m\u001b[1;33m=\u001b[0m\u001b[0mmin_count\u001b[0m\u001b[1;33m)\u001b[0m\u001b[1;33m\u001b[0m\u001b[1;33m\u001b[0m\u001b[0m\n\u001b[0;32m    511\u001b[0m \u001b[1;33m\u001b[0m\u001b[0m\n",
      "\u001b[1;32m~\\anaconda3\\lib\\site-packages\\numpy\\core\\_methods.py\u001b[0m in \u001b[0;36m_sum\u001b[1;34m(a, axis, dtype, out, keepdims, initial, where)\u001b[0m\n\u001b[0;32m     46\u001b[0m def _sum(a, axis=None, dtype=None, out=None, keepdims=False,\n\u001b[0;32m     47\u001b[0m          initial=_NoValue, where=True):\n\u001b[1;32m---> 48\u001b[1;33m     \u001b[1;32mreturn\u001b[0m \u001b[0mumr_sum\u001b[0m\u001b[1;33m(\u001b[0m\u001b[0ma\u001b[0m\u001b[1;33m,\u001b[0m \u001b[0maxis\u001b[0m\u001b[1;33m,\u001b[0m \u001b[0mdtype\u001b[0m\u001b[1;33m,\u001b[0m \u001b[0mout\u001b[0m\u001b[1;33m,\u001b[0m \u001b[0mkeepdims\u001b[0m\u001b[1;33m,\u001b[0m \u001b[0minitial\u001b[0m\u001b[1;33m,\u001b[0m \u001b[0mwhere\u001b[0m\u001b[1;33m)\u001b[0m\u001b[1;33m\u001b[0m\u001b[1;33m\u001b[0m\u001b[0m\n\u001b[0m\u001b[0;32m     49\u001b[0m \u001b[1;33m\u001b[0m\u001b[0m\n\u001b[0;32m     50\u001b[0m def _prod(a, axis=None, dtype=None, out=None, keepdims=False,\n",
      "\u001b[1;31mKeyboardInterrupt\u001b[0m: "
     ]
    }
   ],
   "source": [
    "records = []\n",
    "for i in word_list:\n",
    "    print(i)\n",
    "    word_record = play_wordle(i)\n",
    "    word_record[\"word\"] = [i]*len(word_record[\"Iter\"])\n",
    "    records.append(word_record)"
   ]
  },
  {
   "cell_type": "code",
   "execution_count": null,
   "id": "7574cf0d-de99-4438-8157-edc29002836a",
   "metadata": {},
   "outputs": [],
   "source": []
  }
 ],
 "metadata": {
  "kernelspec": {
   "display_name": "Python 3 (ipykernel)",
   "language": "python",
   "name": "python3"
  },
  "language_info": {
   "codemirror_mode": {
    "name": "ipython",
    "version": 3
   },
   "file_extension": ".py",
   "mimetype": "text/x-python",
   "name": "python",
   "nbconvert_exporter": "python",
   "pygments_lexer": "ipython3",
   "version": "3.8.12"
  }
 },
 "nbformat": 4,
 "nbformat_minor": 5
}
