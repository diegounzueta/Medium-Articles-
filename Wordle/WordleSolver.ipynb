{
 "cells": [
  {
   "cell_type": "markdown",
   "id": "d872784e-c7b4-4b53-9990-51d7ebd009ad",
   "metadata": {},
   "source": [
    "# Replicating 3B1B Wordle Video Code"
   ]
  },
  {
   "cell_type": "markdown",
   "id": "9e5ebeb7-4d21-4ce7-b844-c9e19eca5fa2",
   "metadata": {},
   "source": [
    "I use turtle instead of manim and try to get close to what 3b1b produced in his video on wordle"
   ]
  },
  {
   "cell_type": "code",
   "execution_count": 5,
   "id": "02e8f842-927e-494e-8b72-d76766e1219c",
   "metadata": {},
   "outputs": [],
   "source": [
    "import turtle, random\n",
    "import math\n",
    "from itertools import product\n",
    "import matplotlib.pyplot as plt\n",
    "import pandas as pd\n",
    "import numpy as np\n",
    "import pickle"
   ]
  },
  {
   "cell_type": "code",
   "execution_count": 6,
   "id": "e5cec321-8d7f-4869-8edb-31e58232203f",
   "metadata": {},
   "outputs": [],
   "source": [
    "with open (\"sgb-words.txt\", \"r\") as myfile:\n",
    "    data = myfile.read().splitlines()"
   ]
  },
  {
   "cell_type": "code",
   "execution_count": 7,
   "id": "8c2151e4-4aa8-4eca-9465-00449cf42ef9",
   "metadata": {},
   "outputs": [
    {
     "data": {
      "text/plain": [
       "5757"
      ]
     },
     "execution_count": 7,
     "metadata": {},
     "output_type": "execute_result"
    }
   ],
   "source": [
    "len(data)"
   ]
  },
  {
   "cell_type": "markdown",
   "id": "d5db66b6-5889-41cb-aefe-e934ec87de65",
   "metadata": {},
   "source": [
    "# The game"
   ]
  },
  {
   "cell_type": "code",
   "execution_count": 8,
   "id": "5c4f2b7a-7e0b-4167-9306-5adb29c9d3ea",
   "metadata": {},
   "outputs": [],
   "source": [
    "class wordle:\n",
    "    def __init__(self):\n",
    "\n",
    "        turtle.tracer(False)\n",
    "        self.draw_initial_squares()\n",
    "        \n",
    "        word_list = ['which', 'their', 'would', 'there', 'could', 'other', 'about', 'great', 'these', 'after', 'first', 'never', 'where', 'those', 'shall', 'being', 'might', 'every', 'think', 'under', 'found', 'still', 'while', 'again', 'place', 'young', 'years', 'three', 'right', 'house', 'whole', 'world', 'thing', 'night', 'going', 'heard', 'heart', 'among', 'asked', 'small', 'woman', 'whose', 'quite', 'words', 'given', 'taken', 'hands', 'until', 'since', 'light']\n",
    "        answer = \"great\"#random.choice(word_list) # choose a random word from the list\n",
    "        y = 250 # y location\n",
    "        print(answer)\n",
    "        \n",
    "        for i in range(6): #Where the program starts\n",
    "            guess_prompt = \"What is guess \"+str(i+1)+\"?\" #Makes a nice string for the prompt\n",
    "            my_input = self.input_guess(guess_prompt) #calls input_guess function\n",
    "            self.check_guess(my_input,answer,y)  #checks the guess\n",
    "#             self.draw_initial_squares()\n",
    "            y -= 65 #y down by 75\n",
    "            if my_input == answer:\n",
    "                turtle.penup()\n",
    "                turtle.goto(-300,-200) #Always draws the congratulations in the same place\n",
    "                turtle.color(\"black\")\n",
    "                turtle.write(\"Well Done!\",font=(\"Verdana\", 42, \"normal\"))\n",
    "                break\n",
    "                \n",
    "        else: #Only runs if the for loop executes completely. i.e. You've used all your guesses.\n",
    "            turtle.penup()\n",
    "            turtle.goto(-300,-200)\n",
    "            turtle.color(\"black\")\n",
    "#             turtle.write(\"Answer was: \", answer,font=(\"Verdana\", 42, \"normal\"))\n",
    "        turtle.done() #Needs if you are using Pycharm and some other Python editors.\n",
    "        \n",
    "    def draw_initial_squares(self):\n",
    "        turtle.color(\"black\")\n",
    "        y = 250\n",
    "        for guess in range(7):\n",
    "\n",
    "            x = -250 # x location\n",
    "            for word in range(5):\n",
    "  \n",
    "                turtle.penup()\n",
    "                turtle.goto(x,y)\n",
    "                turtle.pendown()\n",
    "#                 turtle.width(4)\n",
    "                turtle.fillcolor(\"black\") #\n",
    "\n",
    "                for i in range(4):     \n",
    "                    turtle.forward(60)\n",
    "                    turtle.right(90)\n",
    "                turtle.penup()\n",
    "\n",
    "                x += 65\n",
    "            y -= 65\n",
    "\n",
    "    def draw_square(self, x,y,col): # takes in x,y coordinates and a color\n",
    "        turtle.penup()\n",
    "        turtle.goto(x,y)\n",
    "        turtle.pendown()\n",
    "        turtle.fillcolor(col) # set the fillcolor\n",
    "        turtle.begin_fill() \n",
    "        turtle.width(1)\n",
    "        for i in range(4):     # drawing the square\n",
    "            turtle.forward(60)\n",
    "            turtle.right(90)\n",
    "        turtle.end_fill()\n",
    "        \n",
    "        turtle.fillcolor(\"black\") #\n",
    "        turtle.color(\"black\")\n",
    "        turtle.width(1)\n",
    "        for i in range(4):     # drawing the square\n",
    "            turtle.forward(60)\n",
    "            turtle.right(90)\n",
    "         # ending the filling of the color\n",
    "        turtle.penup()\n",
    "        \n",
    "        \n",
    "    def input_guess(self, prompt):\n",
    "        my_input = turtle.textinput(\"5 letter word\", prompt)\n",
    "\n",
    "        while type(my_input) != str:\n",
    "            my_input = turtle.textinput(\"Error\", \"Must be a string!\")\n",
    "\n",
    "        while len(my_input) != 5:\n",
    "            my_input = turtle.textinput(\"Error\", \"Must be 5 characters long!\")\n",
    "\n",
    "        while my_input not in data:\n",
    "            my_input = turtle.textinput(\"Error\", \"The word must exist!\")\n",
    "\n",
    "        return(my_input)\n",
    "\n",
    "    def check_guess(self, my_input,answer,y):\n",
    "        my_input = my_input.upper()\n",
    "\n",
    "        x = -250 # x location\n",
    "        for count, i in enumerate(my_input):\n",
    "            if i == answer[count].upper(): self.draw_square(x,y,\"#6BAA64\") #exact character match draws a green square\n",
    "            elif i in answer.upper(): self.draw_square(x,y,\"#C9B457\") #else if character anywhere in word draws yellow\n",
    "            else: self.draw_square(x,y,\"#787C7F\") # otherwise draws red\n",
    "\n",
    "            x += 65 # move x coordinate along by 75\n",
    "        turtle.penup() #Moves the turtle penup\n",
    "        \n",
    "        x = -228 #225\n",
    "        for i in range(len(my_input)): #text\n",
    "            turtle.goto(x, y-42) # -40\n",
    "            x += 65\n",
    "            turtle.color(\"white\")\n",
    "            turtle.write(my_input[i],font=(\"Verdana\", 15, \"bold\")) # font verdana, size 15, normal style\n",
    "\n",
    "\n"
   ]
  },
  {
   "cell_type": "code",
   "execution_count": 201,
   "id": "205cbd6b-bbbd-4a84-98ae-86f3895a12d9",
   "metadata": {},
   "outputs": [
    {
     "name": "stdout",
     "output_type": "stream",
     "text": [
      "great\n"
     ]
    },
    {
     "data": {
      "text/plain": [
       "<__main__.wordle at 0x19316f47400>"
      ]
     },
     "execution_count": 201,
     "metadata": {},
     "output_type": "execute_result"
    }
   ],
   "source": [
    "wordle()"
   ]
  },
  {
   "cell_type": "markdown",
   "id": "e79b80bf-614f-4388-bde5-c35c958afe2a",
   "metadata": {},
   "source": [
    "## Selecting best guess, mutual information"
   ]
  },
  {
   "cell_type": "code",
   "execution_count": 9,
   "id": "7a9cd3fb-f613-4ad8-8fa8-6f9565500732",
   "metadata": {},
   "outputs": [],
   "source": [
    "def get_match(guess, answer):\n",
    "    \"\"\"\n",
    "    Gets the outcome of a guess\n",
    "    \"\"\"\n",
    "    match = []\n",
    "    for i, j in zip(guess, answer):\n",
    "        if i in answer:\n",
    "            match.append(1) # orange\n",
    "        elif i == j: \n",
    "            match.append(2) # green\n",
    "        else: \n",
    "            match.append(0) # gray\n",
    "    return(match)"
   ]
  },
  {
   "cell_type": "code",
   "execution_count": 10,
   "id": "97e872a9-df37-4fb2-94af-5eb2744e99a9",
   "metadata": {
    "tags": []
   },
   "outputs": [],
   "source": [
    "# all possible permutations of outcomes\n",
    "perms = np.array([roll for roll in product([0, 1, 2], repeat = 5)])"
   ]
  },
  {
   "cell_type": "code",
   "execution_count": 11,
   "id": "3ce83da3-5010-44d8-a733-9ab7481fe0f1",
   "metadata": {},
   "outputs": [
    {
     "data": {
      "text/plain": [
       "243"
      ]
     },
     "execution_count": 11,
     "metadata": {},
     "output_type": "execute_result"
    }
   ],
   "source": [
    "len(perms)"
   ]
  },
  {
   "cell_type": "code",
   "execution_count": 12,
   "id": "f9c08186-0790-4b08-9b6f-b211df88a440",
   "metadata": {},
   "outputs": [],
   "source": [
    "def get_word_dataframe(data):\n",
    "    mat = np.empty((0, 5))\n",
    "    for i in range(len(data)):\n",
    "        row = []\n",
    "        for j in range(5):\n",
    "            row.append(data[i][j])\n",
    "    #     print(row)\n",
    "        row = np.expand_dims(np.array(row), axis = 0)\n",
    "        mat = np.append(mat, row, axis=0)\n",
    "\n",
    "    df = pd.DataFrame(mat)\n",
    "    df.to_csv(\"5_letter_words.csv\", index = False)"
   ]
  },
  {
   "cell_type": "code",
   "execution_count": 13,
   "id": "b545ca66-6964-4025-88d0-26ab9c299df2",
   "metadata": {},
   "outputs": [],
   "source": [
    "df = pd.read_csv(\"5_letter_words.csv\", index_col = False)\n",
    "df.columns = range(5)"
   ]
  },
  {
   "cell_type": "code",
   "execution_count": 14,
   "id": "6e2ccf36-d069-415e-9e21-b8833cbe3386",
   "metadata": {},
   "outputs": [],
   "source": [
    "def get_words_from_match(word, match, df):\n",
    "    \"\"\"\n",
    "    Gets the words that match the condition\n",
    "    \"\"\"\n",
    "    subset = df.copy()\n",
    "    for index, i in enumerate(match):\n",
    "        if i == 0:\n",
    "#             subset = subset.loc[subset[index] != word[index]]\n",
    "            subset = subset.loc[(subset == word[index]).sum(axis = 1) == 0]\n",
    "        elif i == 1:\n",
    "            subset = subset.loc[((subset == word[index]).sum(axis = 1) >= 1) & (subset[index] != word[index])] # check if the word is in each row by summing over truth table\n",
    "            # should also remove the ones where it is on the same row\n",
    "            \n",
    "        elif i == 2:\n",
    "            subset = subset.loc[subset[index] == word[index]]\n",
    "    return(subset)"
   ]
  },
  {
   "cell_type": "code",
   "execution_count": 47,
   "id": "ec7723f6-942a-41a3-925f-2696e8e830dc",
   "metadata": {},
   "outputs": [
    {
     "data": {
      "text/plain": [
       "[1, 0, 1, 2, 0]"
      ]
     },
     "execution_count": 47,
     "metadata": {},
     "output_type": "execute_result"
    }
   ],
   "source": [
    "check_guess(\"tares\", \"other\")"
   ]
  },
  {
   "cell_type": "code",
   "execution_count": 48,
   "id": "60b8bd8f-9806-4742-8491-411f91fe86d4",
   "metadata": {},
   "outputs": [],
   "source": [
    "d = get_words_from_match(\"tares\",[1, 0, 1, 2, 0], df) # anagrams their"
   ]
  },
  {
   "cell_type": "code",
   "execution_count": 49,
   "id": "3b046074-e09f-43f1-ae44-08ec7e95ff9b",
   "metadata": {},
   "outputs": [
    {
     "data": {
      "text/plain": [
       "24"
      ]
     },
     "execution_count": 49,
     "metadata": {},
     "output_type": "execute_result"
    }
   ],
   "source": [
    "len(d)"
   ]
  },
  {
   "cell_type": "code",
   "execution_count": 51,
   "id": "d0de993f-ddc5-4c2a-8dea-52ac5ce1f426",
   "metadata": {},
   "outputs": [
    {
     "data": {
      "text/plain": [
       "[0, 2, 1, 1, 1]"
      ]
     },
     "execution_count": 51,
     "metadata": {},
     "output_type": "execute_result"
    }
   ],
   "source": [
    "check_guess(\"orate\", \"great\")"
   ]
  },
  {
   "cell_type": "code",
   "execution_count": 19,
   "id": "5d97dd45-be25-43f4-a404-bb1a8e436d3e",
   "metadata": {},
   "outputs": [],
   "source": [
    "d2 = get_words_from_match(\"orate\", [0, 2, 1, 1, 1], d) # anagrams their"
   ]
  },
  {
   "cell_type": "code",
   "execution_count": 20,
   "id": "6aaa0444-f1d5-4b08-b44c-b8c80197d63f",
   "metadata": {},
   "outputs": [
    {
     "data": {
      "text/html": [
       "<div>\n",
       "<style scoped>\n",
       "    .dataframe tbody tr th:only-of-type {\n",
       "        vertical-align: middle;\n",
       "    }\n",
       "\n",
       "    .dataframe tbody tr th {\n",
       "        vertical-align: top;\n",
       "    }\n",
       "\n",
       "    .dataframe thead th {\n",
       "        text-align: right;\n",
       "    }\n",
       "</style>\n",
       "<table border=\"1\" class=\"dataframe\">\n",
       "  <thead>\n",
       "    <tr style=\"text-align: right;\">\n",
       "      <th></th>\n",
       "      <th>0</th>\n",
       "      <th>1</th>\n",
       "      <th>2</th>\n",
       "      <th>3</th>\n",
       "      <th>4</th>\n",
       "    </tr>\n",
       "  </thead>\n",
       "  <tbody>\n",
       "  </tbody>\n",
       "</table>\n",
       "</div>"
      ],
      "text/plain": [
       "Empty DataFrame\n",
       "Columns: [0, 1, 2, 3, 4]\n",
       "Index: []"
      ]
     },
     "execution_count": 20,
     "metadata": {},
     "output_type": "execute_result"
    }
   ],
   "source": [
    "d2"
   ]
  },
  {
   "cell_type": "code",
   "execution_count": 21,
   "id": "f243f5d5-b02b-4d5d-952e-62a3b0e3bfbb",
   "metadata": {},
   "outputs": [
    {
     "data": {
      "text/html": [
       "<div>\n",
       "<style scoped>\n",
       "    .dataframe tbody tr th:only-of-type {\n",
       "        vertical-align: middle;\n",
       "    }\n",
       "\n",
       "    .dataframe tbody tr th {\n",
       "        vertical-align: top;\n",
       "    }\n",
       "\n",
       "    .dataframe thead th {\n",
       "        text-align: right;\n",
       "    }\n",
       "</style>\n",
       "<table border=\"1\" class=\"dataframe\">\n",
       "  <thead>\n",
       "    <tr style=\"text-align: right;\">\n",
       "      <th></th>\n",
       "      <th>0</th>\n",
       "      <th>1</th>\n",
       "      <th>2</th>\n",
       "      <th>3</th>\n",
       "      <th>4</th>\n",
       "    </tr>\n",
       "  </thead>\n",
       "  <tbody>\n",
       "    <tr>\n",
       "      <th>361</th>\n",
       "      <td>s</td>\n",
       "      <td>t</td>\n",
       "      <td>e</td>\n",
       "      <td>a</td>\n",
       "      <td>m</td>\n",
       "    </tr>\n",
       "  </tbody>\n",
       "</table>\n",
       "</div>"
      ],
      "text/plain": [
       "     0  1  2  3  4\n",
       "361  s  t  e  a  m"
      ]
     },
     "execution_count": 21,
     "metadata": {},
     "output_type": "execute_result"
    }
   ],
   "source": [
    "get_words_from_match(\"mates\", [1,1,1,1,1], df) # anagrams with no letters on same spots"
   ]
  },
  {
   "cell_type": "code",
   "execution_count": 22,
   "id": "80edc39a-9449-40d3-bda9-ddf8c099ea5f",
   "metadata": {},
   "outputs": [
    {
     "data": {
      "text/html": [
       "<div>\n",
       "<style scoped>\n",
       "    .dataframe tbody tr th:only-of-type {\n",
       "        vertical-align: middle;\n",
       "    }\n",
       "\n",
       "    .dataframe tbody tr th {\n",
       "        vertical-align: top;\n",
       "    }\n",
       "\n",
       "    .dataframe thead th {\n",
       "        text-align: right;\n",
       "    }\n",
       "</style>\n",
       "<table border=\"1\" class=\"dataframe\">\n",
       "  <thead>\n",
       "    <tr style=\"text-align: right;\">\n",
       "      <th></th>\n",
       "      <th>0</th>\n",
       "      <th>1</th>\n",
       "      <th>2</th>\n",
       "      <th>3</th>\n",
       "      <th>4</th>\n",
       "    </tr>\n",
       "  </thead>\n",
       "  <tbody>\n",
       "    <tr>\n",
       "      <th>0</th>\n",
       "      <td>w</td>\n",
       "      <td>h</td>\n",
       "      <td>i</td>\n",
       "      <td>c</td>\n",
       "      <td>h</td>\n",
       "    </tr>\n",
       "  </tbody>\n",
       "</table>\n",
       "</div>"
      ],
      "text/plain": [
       "   0  1  2  3  4\n",
       "0  w  h  i  c  h"
      ]
     },
     "execution_count": 22,
     "metadata": {},
     "output_type": "execute_result"
    }
   ],
   "source": [
    "get_words_from_match(\"which\", [2,2,2,2,2], df) # same word"
   ]
  },
  {
   "cell_type": "code",
   "execution_count": 23,
   "id": "46dbd801-f7c1-4eed-942a-9d6c445b8d97",
   "metadata": {},
   "outputs": [],
   "source": [
    "def get_probability(word):\n",
    "    \"\"\"\n",
    "    Get the probability of each outcome of the word with respect to each permuation\n",
    "    \"\"\"\n",
    "    p = []\n",
    "    for i in perms:\n",
    "        p.append(len(get_words_from_match(word, i, df)))\n",
    "    return(np.array(p)/sum(p))"
   ]
  },
  {
   "cell_type": "code",
   "execution_count": 52,
   "id": "eb42ac12-0f0c-4701-8981-84a8db97b42b",
   "metadata": {},
   "outputs": [
    {
     "data": {
      "text/plain": [
       "['ohhhh',\n",
       " 'immix',\n",
       " 'ahhhh',\n",
       " 'gyppy',\n",
       " 'yukky',\n",
       " 'fuzzy',\n",
       " 'pffft',\n",
       " 'mamma',\n",
       " 'jazzy',\n",
       " 'oxbow']"
      ]
     },
     "execution_count": 52,
     "metadata": {},
     "output_type": "execute_result"
    }
   ],
   "source": [
    "list(initial_entropy.keys())[:10]"
   ]
  },
  {
   "cell_type": "code",
   "execution_count": 25,
   "id": "c24e2028-7f0b-4508-8819-b6ae391f9a1f",
   "metadata": {},
   "outputs": [
    {
     "ename": "NameError",
     "evalue": "name 'initial_entropy' is not defined",
     "output_type": "error",
     "traceback": [
      "\u001b[1;31m---------------------------------------------------------------------------\u001b[0m",
      "\u001b[1;31mNameError\u001b[0m                                 Traceback (most recent call last)",
      "\u001b[1;32mC:\\conda_tmp/ipykernel_19520/1340561400.py\u001b[0m in \u001b[0;36m<module>\u001b[1;34m\u001b[0m\n\u001b[1;32m----> 1\u001b[1;33m \u001b[0minitial_entropy\u001b[0m\u001b[1;33m[\u001b[0m\u001b[1;34m\"fuzzy\"\u001b[0m\u001b[1;33m]\u001b[0m\u001b[1;33m\u001b[0m\u001b[1;33m\u001b[0m\u001b[0m\n\u001b[0m",
      "\u001b[1;31mNameError\u001b[0m: name 'initial_entropy' is not defined"
     ]
    }
   ],
   "source": [
    "initial_entropy[\"fuzzy\"]"
   ]
  },
  {
   "cell_type": "code",
   "execution_count": 26,
   "id": "00e91978-1af4-4d8b-84c1-f812fb8c9c5c",
   "metadata": {},
   "outputs": [
    {
     "ename": "NameError",
     "evalue": "name 'initial_entropy' is not defined",
     "output_type": "error",
     "traceback": [
      "\u001b[1;31m---------------------------------------------------------------------------\u001b[0m",
      "\u001b[1;31mNameError\u001b[0m                                 Traceback (most recent call last)",
      "\u001b[1;32mC:\\conda_tmp/ipykernel_19520/1187831931.py\u001b[0m in \u001b[0;36m<module>\u001b[1;34m\u001b[0m\n\u001b[1;32m----> 1\u001b[1;33m \u001b[0minitial_entropy\u001b[0m\u001b[1;33m[\u001b[0m\u001b[1;34m\"tares\"\u001b[0m\u001b[1;33m]\u001b[0m\u001b[1;33m\u001b[0m\u001b[1;33m\u001b[0m\u001b[0m\n\u001b[0m",
      "\u001b[1;31mNameError\u001b[0m: name 'initial_entropy' is not defined"
     ]
    }
   ],
   "source": [
    "initial_entropy[\"tares\"]"
   ]
  },
  {
   "cell_type": "code",
   "execution_count": 27,
   "id": "50a828f7-350b-4db3-a934-3c82edce79f8",
   "metadata": {},
   "outputs": [],
   "source": [
    "p = get_probability(\"tares\")\n",
    "p_ = get_probability(\"fuzzy\")"
   ]
  },
  {
   "cell_type": "code",
   "execution_count": 28,
   "id": "97cb7798-d5a3-4aeb-a4ac-a154a5ab8c47",
   "metadata": {},
   "outputs": [],
   "source": [
    "# distribution of probabilities for each permutation\n",
    "def plot_dist(p):\n",
    "    from matplotlib import rc\n",
    "    font = {'size'   : 16}\n",
    "    rc('font', **font)\n",
    "    plt.figure(figsize = (8,8))\n",
    "    plt.bar(range(len(p)), sorted(p, reverse = True))\n",
    "    plt.xlabel(\"Outcome\")\n",
    "    plt.ylabel(\"Probability\")"
   ]
  },
  {
   "cell_type": "code",
   "execution_count": null,
   "id": "390d8742-3136-4c6a-9832-a9759a708faa",
   "metadata": {},
   "outputs": [],
   "source": []
  },
  {
   "cell_type": "code",
   "execution_count": 29,
   "id": "5aa340a1-75e3-44d0-b5e8-b85d3e2dd790",
   "metadata": {},
   "outputs": [
    {
     "data": {
      "text/plain": [
       "array([0, 0, 0, 0, 0])"
      ]
     },
     "execution_count": 29,
     "metadata": {},
     "output_type": "execute_result"
    }
   ],
   "source": [
    "perms[p_.argmax()]"
   ]
  },
  {
   "cell_type": "code",
   "execution_count": 30,
   "id": "b7fee95f-b6a9-4c61-8bd9-2873095c1fc8",
   "metadata": {},
   "outputs": [
    {
     "data": {
      "image/png": "[encoded data removed]",
      "text/plain": [
       "<Figure size 576x576 with 1 Axes>"
      ]
     },
     "metadata": {
      "needs_background": "light"
     },
     "output_type": "display_data"
    }
   ],
   "source": [
    "# plot_dist(p)\n",
    "plot_dist(p)\n",
    "\n",
    "# plt.xlim(-1, 30)"
   ]
  },
  {
   "cell_type": "code",
   "execution_count": 31,
   "id": "de90c667-8430-4409-be99-7521449dc82e",
   "metadata": {},
   "outputs": [],
   "source": [
    "def calc_info(p):\n",
    "    # calculate expected information (entropy)\n",
    "    E = 0\n",
    "    z = 0\n",
    "    for i in p:\n",
    "    #     print(i)\n",
    "        if i != 0:\n",
    "            E += i*math.log(1/i, 2)\n",
    "        else:\n",
    "            z+= 1\n",
    "#     print(z)\n",
    "    return(E)"
   ]
  },
  {
   "cell_type": "code",
   "execution_count": 32,
   "id": "5690a444-75c2-4aeb-a6af-339f290c8e8c",
   "metadata": {},
   "outputs": [
    {
     "data": {
      "text/plain": [
       "6.209181059719009"
      ]
     },
     "execution_count": 32,
     "metadata": {},
     "output_type": "execute_result"
    }
   ],
   "source": [
    "calc_info(p)"
   ]
  },
  {
   "cell_type": "markdown",
   "id": "75035988-ba0e-4b7b-994b-acf74b41abd4",
   "metadata": {},
   "source": [
    "## Initial Entropy"
   ]
  },
  {
   "cell_type": "code",
   "execution_count": 33,
   "id": "691b6206-97ed-43ac-b334-f7136abeb5bc",
   "metadata": {},
   "outputs": [],
   "source": [
    "# value = {}\n",
    "# for index, word in enumerate(data):\n",
    "#     p = get_probability(word)\n",
    "#     # calculate expected information\n",
    "#     value[word] = calc_info(p)\n",
    "    \n",
    "#     if index%100 == 0:\n",
    "#         print(index , \"/\", len(data))"
   ]
  },
  {
   "cell_type": "code",
   "execution_count": 34,
   "id": "4f094808-c5dc-4097-83a7-50ddfaf0a196",
   "metadata": {},
   "outputs": [],
   "source": [
    "# sorted_dict = dict(sorted(value.items(), key=lambda item: item[1]))"
   ]
  },
  {
   "cell_type": "code",
   "execution_count": 35,
   "id": "07927c2f-591d-4725-9423-1028a60122fd",
   "metadata": {},
   "outputs": [],
   "source": [
    "# import pickle\n",
    "# with open('saved_values.pkl', 'wb') as f:\n",
    "#     pickle.dump(sorted_dict, f)"
   ]
  },
  {
   "cell_type": "code",
   "execution_count": null,
   "id": "3e4853f2-e204-4a76-81a2-55f446c9c106",
   "metadata": {},
   "outputs": [],
   "source": []
  },
  {
   "cell_type": "markdown",
   "id": "a4f08249-f38a-4e33-9a07-db20ead3dafd",
   "metadata": {},
   "source": [
    "## Playing a Game"
   ]
  },
  {
   "cell_type": "code",
   "execution_count": 36,
   "id": "8783bbf6-d467-4b4e-bd17-1aa79843db9f",
   "metadata": {},
   "outputs": [],
   "source": [
    "def check_guess(guess, answer):\n",
    "    ret = []\n",
    "    for i, j in zip(guess, answer):\n",
    "        if i == j:\n",
    "            ret.append(2)\n",
    "        elif i in answer:\n",
    "            ret.append(1)\n",
    "        else: \n",
    "            ret.append(0)\n",
    "    return(ret)"
   ]
  },
  {
   "cell_type": "code",
   "execution_count": 37,
   "id": "07c20e46-04df-45f4-8bfd-6327cf8b2df3",
   "metadata": {},
   "outputs": [
    {
     "data": {
      "text/plain": [
       "[0, 0, 0, 0, 0]"
      ]
     },
     "execution_count": 37,
     "metadata": {},
     "output_type": "execute_result"
    }
   ],
   "source": [
    "check_guess(\"tares\", \"found\")"
   ]
  },
  {
   "cell_type": "code",
   "execution_count": 38,
   "id": "99b59dec-d023-4804-be82-0d351fc45871",
   "metadata": {},
   "outputs": [],
   "source": [
    "# Answer is found\n",
    "answer = \"found\""
   ]
  },
  {
   "cell_type": "code",
   "execution_count": 39,
   "id": "dcb0f831-fb3f-417a-a9c9-2b0d943b373a",
   "metadata": {},
   "outputs": [],
   "source": [
    "initial_entropy = pickle.load(open(\"saved_values.pkl\", \"rb\"))"
   ]
  },
  {
   "cell_type": "code",
   "execution_count": 40,
   "id": "013af44a-5972-4588-80f4-8bc1a8588c4f",
   "metadata": {},
   "outputs": [
    {
     "data": {
      "text/plain": [
       "<BarContainer object of 10 artists>"
      ]
     },
     "execution_count": 40,
     "metadata": {},
     "output_type": "execute_result"
    },
    {
     "data": {
      "image/png": "[encoded data removed]",
      "text/plain": [
       "<Figure size 432x288 with 1 Axes>"
      ]
     },
     "metadata": {
      "needs_background": "light"
     },
     "output_type": "display_data"
    }
   ],
   "source": [
    "plt.barh(list(initial_entropy.keys())[-10:], list(initial_entropy.values())[-10:])"
   ]
  },
  {
   "cell_type": "code",
   "execution_count": 41,
   "id": "25c0bba9-53b2-4ffb-aa69-6fabaeabc38f",
   "metadata": {},
   "outputs": [],
   "source": [
    "def compute_entropy_dict(data):\n",
    "    value = {}\n",
    "    for index, word_vec in enumerate(data.iterrows()):\n",
    "        word = \"\".join(word_vec[1].values)\n",
    "        p = get_probability(word)\n",
    "        # calculate expected information\n",
    "        value[word] = calc_info(p)\n",
    "\n",
    "#         if index%100 == 0:\n",
    "#             print(index , \"/\", len(data))\n",
    "    return(value)"
   ]
  },
  {
   "cell_type": "code",
   "execution_count": 42,
   "id": "c5affcb2-d995-4b82-b026-8b11cbe5ac06",
   "metadata": {},
   "outputs": [],
   "source": [
    "record = {\"Iter\":[], \"N\": [], \"Guess\":[], \"Entropy\": []}"
   ]
  },
  {
   "cell_type": "code",
   "execution_count": 43,
   "id": "0fe2a420-4083-4674-9b1d-b66ae13a27ba",
   "metadata": {},
   "outputs": [],
   "source": [
    "def play_wordle(answer, log, df = df):\n",
    "    index = 0\n",
    "    converge = False\n",
    "    record = {\"Iter\":[], \"N\": [], \"Guess\":[], \"Entropy\": []}\n",
    "\n",
    "    while converge == False:\n",
    "        \n",
    "        if index == 0:\n",
    "            guess = list(initial_entropy.keys())[-1]\n",
    "            max_e = list(initial_entropy.values())[-1]\n",
    "        elif index == 1:\n",
    "            v = \"\".join([str(i) for i in vec])\n",
    "            if v in list(log.keys()):\n",
    "                guess = log[v][0]\n",
    "                max_e = log[v][1]\n",
    "            else:\n",
    "                entropy = compute_entropy_dict(df) # compute entropy for remaining\n",
    "                guess = max(entropy, key=entropy.get)\n",
    "                max_e = max(entropy.values())\n",
    "                log[v] = [guess, max_e]\n",
    "        else:\n",
    "            entropy = compute_entropy_dict(df) # compute entropy for remaining\n",
    "            guess = max(entropy, key=entropy.get)\n",
    "            max_e = max(entropy.values())\n",
    "        \n",
    "        record[\"Iter\"].append(index)\n",
    "        record[\"N\"].append(len(df))\n",
    "        record[\"Guess\"].append(guess)\n",
    "        record[\"Entropy\"].append(max_e)\n",
    "\n",
    "        \n",
    "        if guess == answer:\n",
    "            converge = True\n",
    "            print(\"Success!\")\n",
    "            break\n",
    "        \n",
    "        else:\n",
    "            vec = check_guess(guess, answer)\n",
    "            N = len(df)\n",
    "            df = get_words_from_match(guess, vec, df) \n",
    "            N_after =  len(df)\n",
    "        \n",
    "        print(\"Iteration: \", index,\"Guess:\", guess, \"words before guess:\", N, \"after:\", N_after, \"uncertainty:\", round(math.log(N, 2), 2), \"info:\", round(math.log(N, 2) - math.log(N_after, 2), 2), \"entropy: \", round(max_e, 2))\n",
    "\n",
    "        index += 1\n",
    "    return(record, log)"
   ]
  },
  {
   "cell_type": "code",
   "execution_count": null,
   "id": "ed30bf45-fcc2-419a-95ed-745619a58e48",
   "metadata": {},
   "outputs": [
    {
     "name": "stdout",
     "output_type": "stream",
     "text": [
      "Iteration:  0 Guess: tares words before guess: 5757 after: 415 uncertainty: 12.49 info: 3.79 entropy:  6.21\n",
      "Iteration:  1 Guess: doily words before guess: 415 after: 10 uncertainty: 8.7 info: 5.38 entropy:  4.75\n",
      "Iteration:  2 Guess: pound words before guess: 10 after: 5 uncertainty: 3.32 info: 1.0 entropy:  4.52\n",
      "Iteration:  3 Guess: mound words before guess: 5 after: 4 uncertainty: 2.32 info: 0.32 entropy:  4.46\n",
      "Iteration:  4 Guess: hound words before guess: 4 after: 3 uncertainty: 2.0 info: 0.42 entropy:  4.44\n",
      "Iteration:  5 Guess: bound words before guess: 3 after: 2 uncertainty: 1.58 info: 0.58 entropy:  4.38\n",
      "Success!\n"
     ]
    }
   ],
   "source": [
    "_, _ = play_wordle(\"found\", log)"
   ]
  },
  {
   "cell_type": "code",
   "execution_count": 47,
   "id": "b7ed329d-8724-4280-9c28-93971d2e201d",
   "metadata": {},
   "outputs": [],
   "source": [
    "word_list = ['which', 'their', 'would', 'there', 'could', 'other', 'about', 'great', 'these', 'after', 'first', 'never', 'where', 'those', 'shall', 'being', 'might', 'every', 'think', 'under', 'found', 'still', 'while', 'again', 'place', 'young', 'years', 'three', 'right', 'house', 'whole', 'world', 'thing', 'night', 'going', 'heard', 'heart', 'among', 'asked', 'small', 'woman', 'whose', 'quite', 'words', 'given', 'taken', 'hands', 'until', 'since', 'light']\n",
    "        "
   ]
  },
  {
   "cell_type": "code",
   "execution_count": 205,
   "id": "cc6d09fd-ca3b-4ea6-bd58-caf3c9349bde",
   "metadata": {},
   "outputs": [
    {
     "data": {
      "text/plain": [
       "50"
      ]
     },
     "execution_count": 205,
     "metadata": {},
     "output_type": "execute_result"
    }
   ],
   "source": [
    "len(word_list)"
   ]
  },
  {
   "cell_type": "code",
   "execution_count": 48,
   "id": "633d4f5a-ce5b-44a5-94f9-3f4434de7bde",
   "metadata": {},
   "outputs": [
    {
     "data": {
      "text/plain": [
       "(5757, 5)"
      ]
     },
     "execution_count": 48,
     "metadata": {},
     "output_type": "execute_result"
    }
   ],
   "source": [
    "df.shape"
   ]
  },
  {
   "cell_type": "code",
   "execution_count": 134,
   "id": "a6cce1ce-ec60-4661-b4db-c00337e4d18a",
   "metadata": {},
   "outputs": [
    {
     "name": "stdout",
     "output_type": "stream",
     "text": [
      "which\n",
      "Iteration:  0 Guess: tares words before guess: 5757 after: 415 uncertainty: 12.49 info: 3.79 entropy:  6.21\n",
      "Iteration:  1 Guess: doily words before guess: 415 after: 13 uncertainty: 8.7 info: 5.0 entropy:  4.75\n",
      "Iteration:  2 Guess: cuing words before guess: 13 after: 1 uncertainty: 3.7 info: 3.7 entropy:  4.12\n",
      "Success!\n",
      "their\n",
      "Iteration:  0 Guess: tares words before guess: 5757 after: 14 uncertainty: 12.49 info: 8.68 entropy:  6.21\n",
      "Iteration:  1 Guess: tenor words before guess: 14 after: 1 uncertainty: 3.81 info: 3.81 entropy:  5.36\n",
      "Success!\n",
      "would\n",
      "Iteration:  0 Guess: tares words before guess: 5757 after: 415 uncertainty: 12.49 info: 3.79 entropy:  6.21\n",
      "Iteration:  1 Guess: doily words before guess: 415 after: 3 uncertainty: 8.7 info: 7.11 entropy:  4.75\n",
      "Iteration:  2 Guess: could words before guess: 3 after: 2 uncertainty: 1.58 info: 0.58 entropy:  4.63\n",
      "Iteration:  3 Guess: mould words before guess: 2 after: 1 uncertainty: 1.0 info: 1.0 entropy:  4.55\n",
      "Success!\n",
      "there\n",
      "Iteration:  0 Guess: tares words before guess: 5757 after: 14 uncertainty: 12.49 info: 8.68 entropy:  6.21\n",
      "Iteration:  1 Guess: tenor words before guess: 14 after: 10 uncertainty: 3.81 info: 0.49 entropy:  5.36\n",
      "Iteration:  2 Guess: trice words before guess: 10 after: 1 uncertainty: 3.32 info: 3.32 entropy:  5.25\n",
      "Success!\n",
      "could\n",
      "Iteration:  0 Guess: tares words before guess: 5757 after: 415 uncertainty: 12.49 info: 3.79 entropy:  6.21\n",
      "Iteration:  1 Guess: doily words before guess: 415 after: 3 uncertainty: 8.7 info: 7.11 entropy:  4.75\n",
      "Success!\n",
      "other\n",
      "Iteration:  0 Guess: tares words before guess: 5757 after: 24 uncertainty: 12.49 info: 7.91 entropy:  6.21\n",
      "Iteration:  1 Guess: liter words before guess: 24 after: 2 uncertainty: 4.58 info: 3.58 entropy:  5.45\n",
      "Success!\n",
      "about\n",
      "Iteration:  0 Guess: tares words before guess: 5757 after: 47 uncertainty: 12.49 info: 6.94 entropy:  6.21\n",
      "Iteration:  1 Guess: loath words before guess: 47 after: 4 uncertainty: 5.55 info: 3.55 entropy:  5.02\n",
      "Iteration:  2 Guess: adopt words before guess: 4 after: 2 uncertainty: 2.0 info: 1.0 entropy:  4.68\n",
      "Success!\n",
      "great\n",
      "Iteration:  0 Guess: tares words before guess: 5757 after: 12 uncertainty: 12.49 info: 8.91 entropy:  6.21\n",
      "Iteration:  1 Guess: orate words before guess: 12 after: 1 uncertainty: 3.58 info: 3.58 entropy:  5.59\n",
      "Success!\n",
      "these\n",
      "Iteration:  0 Guess: tares words before guess: 5757 after: 4 uncertainty: 12.49 info: 10.49 entropy:  6.21\n",
      "Iteration:  1 Guess: those words before guess: 4 after: 1 uncertainty: 2.0 info: 2.0 entropy:  5.26\n",
      "Success!\n",
      "after\n",
      "Iteration:  0 Guess: tares words before guess: 5757 after: 2 uncertainty: 12.49 info: 11.49 entropy:  6.21\n",
      "Iteration:  1 Guess: alter words before guess: 2 after: 1 uncertainty: 1.0 info: 1.0 entropy:  5.57\n",
      "Success!\n",
      "first\n",
      "Iteration:  0 Guess: tares words before guess: 5757 after: 10 uncertainty: 12.49 info: 9.17 entropy:  6.21\n",
      "Iteration:  1 Guess: sprit words before guess: 10 after: 1 uncertainty: 3.32 info: 3.32 entropy:  5.2\n",
      "Success!\n",
      "never\n",
      "Iteration:  0 Guess: tares words before guess: 5757 after: 182 uncertainty: 12.49 info: 4.98 entropy:  6.21\n",
      "Iteration:  1 Guess: loner words before guess: 182 after: 8 uncertainty: 7.51 info: 4.51 entropy:  5.42\n",
      "Iteration:  2 Guess: nicer words before guess: 8 after: 3 uncertainty: 3.0 info: 1.42 entropy:  5.1\n",
      "Iteration:  3 Guess: nuder words before guess: 3 after: 2 uncertainty: 1.58 info: 0.58 entropy:  4.94\n",
      "Iteration:  4 Guess: newer words before guess: 2 after: 1 uncertainty: 1.0 info: 1.0 entropy:  4.11\n",
      "Success!\n",
      "where\n",
      "Iteration:  0 Guess: tares words before guess: 5757 after: 98 uncertainty: 12.49 info: 5.88 entropy:  6.21\n",
      "Iteration:  1 Guess: noire words before guess: 98 after: 2 uncertainty: 6.61 info: 5.61 entropy:  5.38\n",
      "Iteration:  2 Guess: lucre words before guess: 2 after: 1 uncertainty: 1.0 info: 1.0 entropy:  4.95\n",
      "Success!\n",
      "those\n",
      "Iteration:  0 Guess: tares words before guess: 5757 after: 4 uncertainty: 12.49 info: 10.49 entropy:  6.21\n",
      "Success!\n",
      "shall\n",
      "Iteration:  0 Guess: tares words before guess: 5757 after: 73 uncertainty: 12.49 info: 6.3 entropy:  6.21\n",
      "Iteration:  1 Guess: slain words before guess: 73 after: 6 uncertainty: 6.19 info: 3.6 entropy:  5.42\n",
      "Iteration:  2 Guess: scald words before guess: 6 after: 2 uncertainty: 2.58 info: 1.58 entropy:  5.14\n",
      "Success!\n",
      "being\n",
      "Iteration:  0 Guess: tares words before guess: 5757 after: 239 uncertainty: 12.49 info: 4.59 entropy:  6.21\n",
      "Iteration:  1 Guess: clone words before guess: 239 after: 11 uncertainty: 7.9 info: 4.44 entropy:  5.07\n",
      "Iteration:  2 Guess: fiend words before guess: 11 after: 4 uncertainty: 3.46 info: 1.46 entropy:  4.6\n",
      "Success!\n",
      "might\n",
      "Iteration:  0 Guess: tares words before guess: 5757 after: 121 uncertainty: 12.49 info: 5.57 entropy:  6.21\n",
      "Iteration:  1 Guess: pilot words before guess: 121 after: 8 uncertainty: 6.92 info: 3.92 entropy:  4.88\n",
      "Iteration:  2 Guess: dicut words before guess: 8 after: 5 uncertainty: 3.0 info: 0.68 entropy:  4.44\n",
      "Iteration:  3 Guess: night words before guess: 5 after: 3 uncertainty: 2.32 info: 0.74 entropy:  4.12\n",
      "Success!\n",
      "every\n",
      "Iteration:  0 Guess: tares words before guess: 5757 after: 98 uncertainty: 12.49 info: 5.88 entropy:  6.21\n",
      "Iteration:  1 Guess: noire words before guess: 98 after: 10 uncertainty: 6.61 info: 3.29 entropy:  5.38\n",
      "Iteration:  2 Guess: decry words before guess: 10 after: 3 uncertainty: 3.32 info: 1.74 entropy:  4.69\n",
      "Iteration:  3 Guess: query words before guess: 3 after: 2 uncertainty: 1.58 info: 0.58 entropy:  3.95\n",
      "Iteration:  4 Guess: emery words before guess: 2 after: 1 uncertainty: 1.0 info: 1.0 entropy:  3.81\n",
      "Success!\n",
      "think\n",
      "Iteration:  0 Guess: tares words before guess: 5757 after: 40 uncertainty: 12.49 info: 7.17 entropy:  6.21\n",
      "Iteration:  1 Guess: tonic words before guess: 40 after: 5 uncertainty: 5.32 info: 3.0 entropy:  4.71\n",
      "Success!\n",
      "under\n",
      "Iteration:  0 Guess: tares words before guess: 5757 after: 182 uncertainty: 12.49 info: 4.98 entropy:  6.21\n",
      "Iteration:  1 Guess: loner words before guess: 182 after: 8 uncertainty: 7.51 info: 4.51 entropy:  5.42\n",
      "Iteration:  2 Guess: nicer words before guess: 8 after: 2 uncertainty: 3.0 info: 2.0 entropy:  5.1\n",
      "Success!\n",
      "found\n",
      "Iteration:  0 Guess: tares words before guess: 5757 after: 415 uncertainty: 12.49 info: 3.79 entropy:  6.21\n",
      "Iteration:  1 Guess: doily words before guess: 415 after: 10 uncertainty: 8.7 info: 5.38 entropy:  4.75\n",
      "Iteration:  2 Guess: pound words before guess: 10 after: 5 uncertainty: 3.32 info: 1.0 entropy:  4.52\n",
      "Iteration:  3 Guess: mound words before guess: 5 after: 4 uncertainty: 2.32 info: 0.32 entropy:  4.46\n",
      "Iteration:  4 Guess: hound words before guess: 4 after: 3 uncertainty: 2.0 info: 0.42 entropy:  4.44\n",
      "Iteration:  5 Guess: bound words before guess: 3 after: 2 uncertainty: 1.58 info: 0.58 entropy:  4.38\n",
      "Success!\n",
      "still\n",
      "Iteration:  0 Guess: tares words before guess: 5757 after: 74 uncertainty: 12.49 info: 6.28 entropy:  6.21\n",
      "Iteration:  1 Guess: silty words before guess: 74 after: 3 uncertainty: 6.21 info: 4.62 entropy:  5.16\n",
      "Iteration:  2 Guess: spilt words before guess: 3 after: 1 uncertainty: 1.58 info: 1.58 entropy:  5.12\n",
      "Success!\n",
      "while\n",
      "Iteration:  0 Guess: tares words before guess: 5757 after: 239 uncertainty: 12.49 info: 4.59 entropy:  6.21\n",
      "Iteration:  1 Guess: clone words before guess: 239 after: 15 uncertainty: 7.9 info: 3.99 entropy:  5.07\n",
      "Iteration:  2 Guess: guile words before guess: 15 after: 2 uncertainty: 3.91 info: 2.91 entropy:  4.82\n",
      "Success!\n",
      "again\n",
      "Iteration:  0 Guess: tares words before guess: 5757 after: 191 uncertainty: 12.49 info: 4.91 entropy:  6.21\n",
      "Iteration:  1 Guess: plaid words before guess: 191 after: 2 uncertainty: 7.58 info: 6.58 entropy:  4.87\n",
      "Iteration:  2 Guess: chain words before guess: 2 after: 1 uncertainty: 1.0 info: 1.0 entropy:  4.55\n",
      "Success!\n",
      "place\n",
      "Iteration:  0 Guess: tares words before guess: 5757 after: 122 uncertainty: 12.49 info: 5.56 entropy:  6.21\n",
      "Iteration:  1 Guess: alone words before guess: 122 after: 9 uncertainty: 6.93 info: 3.76 entropy:  5.36\n",
      "Success!\n",
      "young\n",
      "Iteration:  0 Guess: tares words before guess: 5757 after: 415 uncertainty: 12.49 info: 3.79 entropy:  6.21\n",
      "Iteration:  1 Guess: doily words before guess: 415 after: 3 uncertainty: 8.7 info: 7.11 entropy:  4.75\n",
      "Success!\n",
      "years\n",
      "Iteration:  0 Guess: tares words before guess: 5757 after: 20 uncertainty: 12.49 info: 8.17 entropy:  6.21\n",
      "Iteration:  1 Guess: reals words before guess: 20 after: 10 uncertainty: 4.32 info: 1.0 entropy:  6.0\n",
      "Iteration:  2 Guess: nears words before guess: 10 after: 9 uncertainty: 3.32 info: 0.15 entropy:  5.87\n",
      "Iteration:  3 Guess: dears words before guess: 9 after: 8 uncertainty: 3.17 info: 0.17 entropy:  5.86\n",
      "Iteration:  4 Guess: pears words before guess: 8 after: 7 uncertainty: 3.0 info: 0.19 entropy:  5.82\n",
      "Iteration:  5 Guess: hears words before guess: 7 after: 6 uncertainty: 2.81 info: 0.22 entropy:  5.71\n",
      "Iteration:  6 Guess: bears words before guess: 6 after: 5 uncertainty: 2.58 info: 0.26 entropy:  5.67\n",
      "Iteration:  7 Guess: gears words before guess: 5 after: 4 uncertainty: 2.32 info: 0.32 entropy:  5.65\n",
      "Success!\n",
      "three\n",
      "Iteration:  0 Guess: tares words before guess: 5757 after: 3 uncertainty: 12.49 info: 10.91 entropy:  6.21\n",
      "Iteration:  1 Guess: tired words before guess: 3 after: 2 uncertainty: 1.58 info: 0.58 entropy:  5.44\n",
      "Iteration:  2 Guess: threw words before guess: 2 after: 1 uncertainty: 1.0 info: 1.0 entropy:  4.72\n",
      "Success!\n",
      "right\n",
      "Iteration:  0 Guess: tares words before guess: 5757 after: 32 uncertainty: 12.49 info: 7.49 entropy:  6.21\n",
      "Iteration:  1 Guess: nitro words before guess: 32 after: 1 uncertainty: 5.0 info: 5.0 entropy:  4.94\n",
      "Success!\n",
      "house\n",
      "Iteration:  0 Guess: tares words before guess: 5757 after: 92 uncertainty: 12.49 info: 5.97 entropy:  6.21\n",
      "Iteration:  1 Guess: sidle words before guess: 92 after: 15 uncertainty: 6.52 info: 2.62 entropy:  5.54\n",
      "Iteration:  2 Guess: mouse words before guess: 15 after: 2 uncertainty: 3.91 info: 2.91 entropy:  5.12\n",
      "Success!\n",
      "whole\n",
      "Iteration:  0 Guess: tares words before guess: 5757 after: 239 uncertainty: 12.49 info: 4.59 entropy:  6.21\n",
      "Iteration:  1 Guess: clone words before guess: 239 after: 1 uncertainty: 7.9 info: 7.9 entropy:  5.07\n",
      "Success!\n",
      "world\n",
      "Iteration:  0 Guess: tares words before guess: 5757 after: 46 uncertainty: 12.49 info: 6.97 entropy:  6.21\n",
      "Iteration:  1 Guess: lurid words before guess: 46 after: 1 uncertainty: 5.52 info: 5.52 entropy:  4.81\n",
      "Success!\n",
      "thing\n",
      "Iteration:  0 Guess: tares words before guess: 5757 after: 40 uncertainty: 12.49 info: 7.17 entropy:  6.21\n",
      "Iteration:  1 Guess: tonic words before guess: 40 after: 5 uncertainty: 5.32 info: 3.0 entropy:  4.71\n",
      "Iteration:  2 Guess: think words before guess: 5 after: 1 uncertainty: 2.32 info: 2.32 entropy:  4.19\n",
      "Success!\n",
      "night\n",
      "Iteration:  0 Guess: tares words before guess: 5757 after: 121 uncertainty: 12.49 info: 5.57 entropy:  6.21\n",
      "Iteration:  1 Guess: pilot words before guess: 121 after: 8 uncertainty: 6.92 info: 3.92 entropy:  4.88\n",
      "Iteration:  2 Guess: dicut words before guess: 8 after: 5 uncertainty: 3.0 info: 0.68 entropy:  4.44\n",
      "Success!\n",
      "going\n",
      "Iteration:  0 Guess: tares words before guess: 5757 after: 415 uncertainty: 12.49 info: 3.79 entropy:  6.21\n",
      "Iteration:  1 Guess: doily words before guess: 415 after: 1 uncertainty: 8.7 info: 8.7 entropy:  4.75\n",
      "Success!\n",
      "heard\n",
      "Iteration:  0 Guess: tares words before guess: 5757 after: 65 uncertainty: 12.49 info: 6.47 entropy:  6.21\n",
      "Iteration:  1 Guess: learn words before guess: 65 after: 5 uncertainty: 6.02 info: 3.7 entropy:  5.46\n",
      "Iteration:  2 Guess: deary words before guess: 5 after: 2 uncertainty: 2.32 info: 1.32 entropy:  5.19\n",
      "Success!\n",
      "heart\n",
      "Iteration:  0 Guess: tares words before guess: 5757 after: 12 uncertainty: 12.49 info: 8.91 entropy:  6.21\n",
      "Iteration:  1 Guess: orate words before guess: 12 after: 2 uncertainty: 3.58 info: 2.58 entropy:  5.59\n",
      "Iteration:  2 Guess: react words before guess: 2 after: 1 uncertainty: 1.0 info: 1.0 entropy:  5.41\n",
      "Success!\n",
      "among\n",
      "Iteration:  0 Guess: tares words before guess: 5757 after: 191 uncertainty: 12.49 info: 4.91 entropy:  6.21\n",
      "Iteration:  1 Guess: plaid words before guess: 191 after: 31 uncertainty: 7.58 info: 2.62 entropy:  4.87\n",
      "Iteration:  2 Guess: conga words before guess: 31 after: 2 uncertainty: 4.95 info: 3.95 entropy:  4.49\n",
      "Iteration:  3 Guess: agony words before guess: 2 after: 1 uncertainty: 1.0 info: 1.0 entropy:  4.4\n",
      "Success!\n",
      "asked\n",
      "Iteration:  0 Guess: tares words before guess: 5757 after: 5 uncertainty: 12.49 info: 10.17 entropy:  6.21\n",
      "Iteration:  1 Guess: aspen words before guess: 5 after: 3 uncertainty: 2.32 info: 0.74 entropy:  5.19\n",
      "Success!\n",
      "small\n",
      "Iteration:  0 Guess: tares words before guess: 5757 after: 73 uncertainty: 12.49 info: 6.3 entropy:  6.21\n",
      "Iteration:  1 Guess: slain words before guess: 73 after: 6 uncertainty: 6.19 info: 3.6 entropy:  5.42\n",
      "Iteration:  2 Guess: scald words before guess: 6 after: 2 uncertainty: 2.58 info: 1.58 entropy:  5.14\n",
      "Iteration:  3 Guess: shall words before guess: 2 after: 1 uncertainty: 1.0 info: 1.0 entropy:  4.44\n",
      "Success!\n",
      "woman\n",
      "Iteration:  0 Guess: tares words before guess: 5757 after: 191 uncertainty: 12.49 info: 4.91 entropy:  6.21\n",
      "Iteration:  1 Guess: plaid words before guess: 191 after: 31 uncertainty: 7.58 info: 2.62 entropy:  4.87\n",
      "Iteration:  2 Guess: conga words before guess: 31 after: 2 uncertainty: 4.95 info: 3.95 entropy:  4.49\n",
      "Success!\n",
      "whose\n",
      "Iteration:  0 Guess: tares words before guess: 5757 after: 92 uncertainty: 12.49 info: 5.97 entropy:  6.21\n",
      "Iteration:  1 Guess: sidle words before guess: 92 after: 15 uncertainty: 6.52 info: 2.62 entropy:  5.54\n",
      "Iteration:  2 Guess: mouse words before guess: 15 after: 3 uncertainty: 3.91 info: 2.32 entropy:  5.12\n",
      "Iteration:  3 Guess: chose words before guess: 3 after: 1 uncertainty: 1.58 info: 1.58 entropy:  5.0\n",
      "Success!\n",
      "quite\n",
      "Iteration:  0 Guess: tares words before guess: 5757 after: 63 uncertainty: 12.49 info: 6.51 entropy:  6.21\n",
      "Iteration:  1 Guess: lento words before guess: 63 after: 7 uncertainty: 5.98 info: 3.17 entropy:  5.2\n",
      "Iteration:  2 Guess: dieth words before guess: 7 after: 1 uncertainty: 2.81 info: 2.81 entropy:  4.85\n",
      "Success!\n",
      "words\n",
      "Iteration:  0 Guess: tares words before guess: 5757 after: 45 uncertainty: 12.49 info: 7.0 entropy:  6.21\n",
      "Iteration:  1 Guess: lords words before guess: 45 after: 3 uncertainty: 5.49 info: 3.91 entropy:  5.42\n",
      "Iteration:  2 Guess: cords words before guess: 3 after: 2 uncertainty: 1.58 info: 0.58 entropy:  5.26\n",
      "Success!\n",
      "given\n",
      "Iteration:  0 Guess: tares words before guess: 5757 after: 205 uncertainty: 12.49 info: 4.81 entropy:  6.21\n",
      "Iteration:  1 Guess: oiled words before guess: 205 after: 6 uncertainty: 7.68 info: 5.09 entropy:  5.21\n",
      "Iteration:  2 Guess: piney words before guess: 6 after: 3 uncertainty: 2.58 info: 1.0 entropy:  4.86\n",
      "Success!\n",
      "taken\n",
      "Iteration:  0 Guess: tares words before guess: 5757 after: 5 uncertainty: 12.49 info: 10.17 entropy:  6.21\n",
      "Iteration:  1 Guess: taped words before guess: 5 after: 2 uncertainty: 2.32 info: 1.32 entropy:  5.23\n",
      "Success!\n",
      "hands\n",
      "Iteration:  0 Guess: tares words before guess: 5757 after: 106 uncertainty: 12.49 info: 5.76 entropy:  6.21\n",
      "Iteration:  1 Guess: nails words before guess: 106 after: 19 uncertainty: 6.73 info: 2.48 entropy:  5.57\n",
      "Iteration:  2 Guess: damns words before guess: 19 after: 4 uncertainty: 4.25 info: 2.25 entropy:  5.17\n",
      "Success!\n",
      "until\n",
      "Iteration:  0 Guess: tares words before guess: 5757 after: 121 uncertainty: 12.49 info: 5.57 entropy:  6.21\n",
      "Iteration:  1 Guess: pilot words before guess: 121 after: 3 uncertainty: 6.92 info: 5.33 entropy:  4.88\n",
      "Success!\n",
      "since\n",
      "Iteration:  0 Guess: tares words before guess: 5757 after: 92 uncertainty: 12.49 info: 5.97 entropy:  6.21\n",
      "Iteration:  1 Guess: sidle words before guess: 92 after: 4 uncertainty: 6.52 info: 4.52 entropy:  5.54\n",
      "Success!\n",
      "light\n",
      "Iteration:  0 Guess: tares words before guess: 5757 after: 121 uncertainty: 12.49 info: 5.57 entropy:  6.21\n",
      "Iteration:  1 Guess: pilot words before guess: 121 after: 3 uncertainty: 6.92 info: 5.33 entropy:  4.88\n",
      "Success!\n"
     ]
    }
   ],
   "source": [
    "records = []\n",
    "# log = {}\n",
    "    \n",
    "for i in word_list:\n",
    "    print(i)\n",
    "    word_record, log = play_wordle(i, log)\n",
    "    word_record[\"word\"] = [i]*len(word_record[\"Iter\"])\n",
    "    records.append(word_record)"
   ]
  },
  {
   "cell_type": "code",
   "execution_count": 50,
   "id": "9942ce31-0338-4c03-9d7e-e5ff5864c426",
   "metadata": {},
   "outputs": [],
   "source": [
    "# import pickle\n",
    "# with open('records.pkl', 'wb') as f:\n",
    "#     pickle.dump(records, f)\n",
    "# with open('log.pkl', 'wb') as f:\n",
    "#     pickle.dump(records, f)"
   ]
  },
  {
   "cell_type": "code",
   "execution_count": 55,
   "id": "3a72e58d-6ee6-4d5b-a6a8-13f37f204834",
   "metadata": {},
   "outputs": [],
   "source": [
    "records = pickle.load(open(\"records.pkl\", \"rb\"))"
   ]
  },
  {
   "cell_type": "code",
   "execution_count": null,
   "id": "4d5c376f-eeb2-4a29-9284-9fe7a248153d",
   "metadata": {},
   "outputs": [
    {
     "data": {
      "text/plain": [
       "{'Iter': [0, 1, 2, 3],\n",
       " 'N': [5757, 415, 13, 1],\n",
       " 'Guess': ['tares', 'doily', 'cuing', 'which'],\n",
       " 'Entropy': [6.209181059719009,\n",
       "  4.749092791119546,\n",
       "  4.118309002821026,\n",
       "  3.053463825276465],\n",
       " 'word': ['which', 'which', 'which', 'which']}"
      ]
     },
     "execution_count": 52,
     "metadata": {},
     "output_type": "execute_result"
    }
   ],
   "source": [
    "records[0]"
   ]
  },
  {
   "cell_type": "code",
   "execution_count": 127,
   "id": "c2484816-1548-4734-a9e7-9a1041da1d24",
   "metadata": {},
   "outputs": [],
   "source": [
    "N = []\n",
    "for i in records:\n",
    "    N.append(len(i[\"Iter\"])+1)"
   ]
  },
  {
   "cell_type": "code",
   "execution_count": 128,
   "id": "21c261d5-206a-4182-a945-98f331c4199b",
   "metadata": {},
   "outputs": [],
   "source": [
    "\n",
    "num, count = np.unique(N, return_counts=True)"
   ]
  },
  {
   "cell_type": "code",
   "execution_count": 195,
   "id": "04d2f75b-bebe-4844-b678-8b47b1b998a6",
   "metadata": {},
   "outputs": [
    {
     "data": {
      "text/plain": [
       "Text(0.5, 0, 'Number of guesses')"
      ]
     },
     "execution_count": 195,
     "metadata": {},
     "output_type": "execute_result"
    },
    {
     "data": {
      "image/png": "[encoded data removed]",
      "text/plain": [
       "<Figure size 576x576 with 1 Axes>"
      ]
     },
     "metadata": {
      "needs_background": "light"
     },
     "output_type": "display_data"
    }
   ],
   "source": [
    "import seaborn as sns\n",
    "plt.figure(figsize = (8,8))\n",
    "plt.bar(num, count)\n",
    "plt.ylabel(\"Number of games\")\n",
    "plt.xlabel(\"Number of guesses\")"
   ]
  },
  {
   "cell_type": "code",
   "execution_count": 130,
   "id": "ffb2c147-9f2c-4eb5-8abe-3199e407ce93",
   "metadata": {},
   "outputs": [
    {
     "data": {
      "text/plain": [
       "4.92"
      ]
     },
     "execution_count": 130,
     "metadata": {},
     "output_type": "execute_result"
    }
   ],
   "source": [
    "np.mean(N)"
   ]
  },
  {
   "cell_type": "code",
   "execution_count": 55,
   "id": "4277520f-408f-4db9-b214-0e926cbdd907",
   "metadata": {},
   "outputs": [
    {
     "data": {
      "image/png": "[encoded data removed]",
      "text/plain": [
       "<Figure size 432x288 with 1 Axes>"
      ]
     },
     "metadata": {
      "needs_background": "light"
     },
     "output_type": "display_data"
    }
   ],
   "source": [
    "for i in records:\n",
    "    plt.plot(np.log(i[\"N\"]))"
   ]
  },
  {
   "cell_type": "code",
   "execution_count": 56,
   "id": "73a69bc9-045a-47e3-bfcf-9ad9aa1a5731",
   "metadata": {},
   "outputs": [
    {
     "data": {
      "image/png": "[encoded data removed]",
      "text/plain": [
       "<Figure size 432x288 with 1 Axes>"
      ]
     },
     "metadata": {
      "needs_background": "light"
     },
     "output_type": "display_data"
    }
   ],
   "source": [
    "for i in records:\n",
    "    plt.plot(np.log(i[\"Entropy\"]))"
   ]
  },
  {
   "cell_type": "code",
   "execution_count": null,
   "id": "d8d2a933-840d-44fd-8ea5-e7ead4477d23",
   "metadata": {},
   "outputs": [],
   "source": []
  },
  {
   "cell_type": "code",
   "execution_count": null,
   "id": "ce8d5edc-b200-4562-b482-fb6a71467c17",
   "metadata": {},
   "outputs": [],
   "source": []
  },
  {
   "cell_type": "code",
   "execution_count": 45,
   "id": "7574cf0d-de99-4438-8157-edc29002836a",
   "metadata": {},
   "outputs": [],
   "source": [
    "def wordle_bot(df = df):\n",
    "\n",
    "    index = 0\n",
    "    converge = False\n",
    "    record = {\"Iter\":[], \"N\": [], \"Guess\":[], \"Entropy\": []}\n",
    "    \n",
    "    while converge == False:\n",
    "        \n",
    "        if len(df) == 5757:\n",
    "            guess = list(initial_entropy.keys())[-1]\n",
    "            max_e = list(initial_entropy.values())[-1]\n",
    "        else:\n",
    "            entropy = compute_entropy_dict(df) # compute entropy for remaining\n",
    "            guess = max(entropy, key=entropy.get)\n",
    "            max_e = max(entropy.values())\n",
    "        \n",
    "        \n",
    "        print(\"Iteration: \", index, \", possible words before guess:\", len(df), \", current guess:\", guess, \", entropy: \", max_e)\n",
    "        record[\"Iter\"].append(index)\n",
    "        record[\"N\"].append(len(df))\n",
    "        record[\"Guess\"].append(guess)\n",
    "        record[\"Entropy\"].append(max_e)\n",
    "        \n",
    "        vec = input(\"Enter vector:\")\n",
    "        vec = [int(i) for i in vec]\n",
    "        if vec == [2,2,2,2,2]:\n",
    "            converge = True\n",
    "            print(\"Success!\")\n",
    "        \n",
    "        else:\n",
    "            df = get_words_from_match(guess, vec, df) \n",
    "        \n",
    "        index += 1\n",
    "    return(record)"
   ]
  },
  {
   "cell_type": "code",
   "execution_count": 46,
   "id": "9507fafc-3658-44da-a969-6add44bad3ee",
   "metadata": {},
   "outputs": [
    {
     "name": "stdout",
     "output_type": "stream",
     "text": [
      "Iteration:  0 , possible words before guess: 5757 , current guess: tares , entropy:  6.209181059719009\n"
     ]
    },
    {
     "name": "stdin",
     "output_type": "stream",
     "text": [
      "Enter vector: 10120\n"
     ]
    },
    {
     "name": "stdout",
     "output_type": "stream",
     "text": [
      "Iteration:  1 , possible words before guess: 24 , current guess: liter , entropy:  5.446025725144603\n"
     ]
    },
    {
     "name": "stdin",
     "output_type": "stream",
     "text": [
      "Enter vector: 00122\n"
     ]
    },
    {
     "name": "stdout",
     "output_type": "stream",
     "text": [
      "Iteration:  2 , possible words before guess: 2 , current guess: other , entropy:  4.942638316235849\n"
     ]
    },
    {
     "name": "stdin",
     "output_type": "stream",
     "text": [
      "Enter vector: 22222\n"
     ]
    },
    {
     "name": "stdout",
     "output_type": "stream",
     "text": [
      "Success!\n"
     ]
    },
    {
     "data": {
      "text/plain": [
       "{'Iter': [0, 1, 2],\n",
       " 'N': [5757, 24, 2],\n",
       " 'Guess': ['tares', 'liter', 'other'],\n",
       " 'Entropy': [6.209181059719009, 5.446025725144603, 4.942638316235849]}"
      ]
     },
     "execution_count": 46,
     "metadata": {},
     "output_type": "execute_result"
    }
   ],
   "source": [
    "wordle_bot(df)"
   ]
  },
  {
   "cell_type": "code",
   "execution_count": null,
   "id": "739a04db-8d54-40e6-b041-180bb98d96a4",
   "metadata": {},
   "outputs": [],
   "source": []
  },
  {
   "cell_type": "code",
   "execution_count": null,
   "id": "3982280a-51f8-47a4-9fae-f13185c820e5",
   "metadata": {},
   "outputs": [],
   "source": []
  },
  {
   "cell_type": "code",
   "execution_count": 56,
   "id": "286b64c2-a6eb-45f7-925f-c7a78dcb88d0",
   "metadata": {},
   "outputs": [],
   "source": [
    "record_dict = {}\n",
    "for record in records:\n",
    "    record_dict[record[\"word\"][0]] = record"
   ]
  },
  {
   "cell_type": "code",
   "execution_count": 53,
   "id": "942e16d5-b92d-469f-b91e-c8c394e7dde7",
   "metadata": {},
   "outputs": [],
   "source": [
    "class wordle:\n",
    "    def __init__(self):\n",
    "\n",
    "\n",
    "        \n",
    "        word_list = ['which', 'their', 'would', 'there', 'could', 'other', 'about', 'great', 'these', 'after', 'first', 'never', 'where', 'those', 'shall', 'being', 'might', 'every', 'think', 'under', 'found', 'still', 'while', 'again', 'place', 'young', 'years', 'three', 'right', 'house', 'whole', 'world', 'thing', 'night', 'going', 'heard', 'heart', 'among', 'asked', 'small', 'woman', 'whose', 'quite', 'words', 'given', 'taken', 'hands', 'until', 'since', 'light']\n",
    "#         answer = \"great\"#random.choice(word_list) # choose a random word from the list\n",
    "        for answer in word_list:\n",
    "            turtle.tracer(False)\n",
    "            self.draw_initial_squares()\n",
    "            y = 250 # y location\n",
    "            print(answer)\n",
    "\n",
    "            for i in range(6): #Where the program starts\n",
    "                guess_prompt = \"What is guess \"+str(i+1)+\"?\" #Makes a nice string for the prompt\n",
    "#                 my_input = self.input_guess(guess_prompt) #calls input_guess function\n",
    "                my_input = record_dict[answer][\"Guess\"][i]\n",
    "\n",
    "                self.check_guess(my_input,answer,y)  #checks the guess\n",
    "    #             self.draw_initial_squares()\n",
    "                y -= 65 #y down by 75\n",
    "                if my_input == answer:\n",
    "                    turtle.penup()\n",
    "                    turtle.goto(-300,-200) #Always draws the congratulations in the same place\n",
    "                    turtle.color(\"black\")\n",
    "    #                 turtle.write(\"Well Done!\",font=(\"Verdana\", 42, \"normal\"))\n",
    "                    turtle.clear()\n",
    "                    turtle.reset()\n",
    "#                     turtle.bye()\n",
    "                    break\n",
    "\n",
    "            else: #Only runs if the for loop executes completely. i.e. You've used all your guesses.\n",
    "                turtle.penup()\n",
    "                turtle.goto(-300,-200)\n",
    "                turtle.color(\"black\")\n",
    "                turtle.write(\"Answer was: \", answer,font=(\"Verdana\", 42, \"normal\"))\n",
    "#             turtle.done() #Needs if you are using Pycharm and some other Python editors.\n",
    "        turtle.bye()\n",
    "    \n",
    "    def draw_initial_squares(self):\n",
    "        turtle.color(\"black\")\n",
    "        y = 250\n",
    "        for guess in range(7):\n",
    "\n",
    "            x = -250 # x location\n",
    "            for word in range(5):\n",
    "  \n",
    "                turtle.penup()\n",
    "                turtle.goto(x,y)\n",
    "                turtle.pendown()\n",
    "#                 turtle.width(4)\n",
    "                turtle.fillcolor(\"black\") #\n",
    "\n",
    "                for i in range(4):     \n",
    "                    turtle.forward(60)\n",
    "                    turtle.right(90)\n",
    "                turtle.penup()\n",
    "\n",
    "                x += 65\n",
    "            y -= 65\n",
    "\n",
    "    def draw_square(self, x,y,col): # takes in x,y coordinates and a color\n",
    "        turtle.penup()\n",
    "        turtle.goto(x,y)\n",
    "        turtle.pendown()\n",
    "        turtle.fillcolor(col) # set the fillcolor\n",
    "        turtle.begin_fill() \n",
    "        turtle.width(1)\n",
    "        for i in range(4):     # drawing the square\n",
    "            turtle.forward(60)\n",
    "            turtle.right(90)\n",
    "        turtle.end_fill()\n",
    "        \n",
    "        turtle.fillcolor(\"black\") #\n",
    "        turtle.color(\"black\")\n",
    "        turtle.width(1)\n",
    "        for i in range(4):     # drawing the square\n",
    "            turtle.forward(60)\n",
    "            turtle.right(90)\n",
    "         # ending the filling of the color\n",
    "        turtle.penup()\n",
    "        \n",
    "        \n",
    "    def input_guess(self, prompt):\n",
    "        my_input = turtle.textinput(\"5 letter word\", prompt)\n",
    "\n",
    "        while type(my_input) != str:\n",
    "            my_input = turtle.textinput(\"Error\", \"Must be a string!\")\n",
    "\n",
    "        while len(my_input) != 5:\n",
    "            my_input = turtle.textinput(\"Error\", \"Must be 5 characters long!\")\n",
    "\n",
    "        while my_input not in data:\n",
    "            my_input = turtle.textinput(\"Error\", \"The word must exist!\")\n",
    "\n",
    "        return(my_input)\n",
    "\n",
    "    def check_guess(self, my_input,answer,y):\n",
    "        my_input = my_input.upper()\n",
    "\n",
    "        x = -250 # x location\n",
    "        for count, i in enumerate(my_input):\n",
    "            if i == answer[count].upper(): self.draw_square(x,y,\"#6BAA64\") #exact character match draws a green square\n",
    "            elif i in answer.upper(): self.draw_square(x,y,\"#C9B457\") #else if character anywhere in word draws yellow\n",
    "            else: self.draw_square(x,y,\"#787C7F\") # otherwise draws red\n",
    "\n",
    "            x += 65 # move x coordinate along by 75\n",
    "        turtle.penup() #Moves the turtle penup\n",
    "        \n",
    "        x = -228 #225\n",
    "        for i in range(len(my_input)): #text\n",
    "            \n",
    "            turtle.tracer(True)\n",
    "            turtle.goto(x, y-42) # -40\n",
    "            x += 65\n",
    "            turtle.color(\"white\")\n",
    "            turtle.write(my_input[i],font=(\"Verdana\", 15, \"bold\")) # font verdana, size 15, normal style\n",
    "            turtle.tracer(False)\n",
    "\n",
    "\n"
   ]
  },
  {
   "cell_type": "code",
   "execution_count": null,
   "id": "ba40829e-5a7a-4419-a3e5-39b96cbf2a31",
   "metadata": {},
   "outputs": [
    {
     "name": "stdout",
     "output_type": "stream",
     "text": [
      "which\n",
      "their\n",
      "would\n",
      "there\n",
      "could\n",
      "other\n",
      "about\n",
      "great\n",
      "these\n",
      "after\n"
     ]
    }
   ],
   "source": [
    "wordle()"
   ]
  },
  {
   "cell_type": "code",
   "execution_count": null,
   "id": "0be1acf8-05e7-4194-9221-d0c69f8e3f90",
   "metadata": {},
   "outputs": [],
   "source": []
  }
 ],
 "metadata": {
  "kernelspec": {
   "display_name": "Python 3 (ipykernel)",
   "language": "python",
   "name": "python3"
  },
  "language_info": {
   "codemirror_mode": {
    "name": "ipython",
    "version": 3
   },
   "file_extension": ".py",
   "mimetype": "text/x-python",
   "name": "python",
   "nbconvert_exporter": "python",
   "pygments_lexer": "ipython3",
   "version": "3.8.12"
  }
 },
 "nbformat": 4,
 "nbformat_minor": 5
}
