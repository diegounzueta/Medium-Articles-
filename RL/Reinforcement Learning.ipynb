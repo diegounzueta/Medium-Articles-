{
 "cells": [
  {
   "cell_type": "markdown",
   "id": "3d675fa3-0faa-4409-a697-fc9dd44b141e",
   "metadata": {},
   "source": [
    "# Medium Reinforcement Learning"
   ]
  },
  {
   "cell_type": "code",
   "execution_count": 1,
   "id": "e5cc6d0b-fed9-4b1f-a02d-fa57a2c9317d",
   "metadata": {},
   "outputs": [],
   "source": [
    "import gym\n",
    "import numpy as np\n",
    "import pandas as pd\n",
    "import matplotlib.patches as mpatches\n",
    "import matplotlib.pyplot as plt\n",
    "import time\n",
    "from celluloid import Camera"
   ]
  },
  {
   "cell_type": "code",
   "execution_count": 2,
   "id": "41d9b2f1-6b1b-42a7-b85b-8d5c368c6ed9",
   "metadata": {},
   "outputs": [],
   "source": [
    "env_name = \"MountainCar-v0\"\n",
    "# env_name = \"MountainCarContinuous-v0\"\n",
    "env = gym.make(env_name).env\n",
    "\n",
    "obs = env.reset()\n",
    "# env.render()"
   ]
  },
  {
   "cell_type": "code",
   "execution_count": 3,
   "id": "4c12918a-0b63-4c29-ab01-59dfe4d4f9e3",
   "metadata": {},
   "outputs": [
    {
     "data": {
      "text/plain": [
       "3"
      ]
     },
     "execution_count": 3,
     "metadata": {},
     "output_type": "execute_result"
    }
   ],
   "source": [
    "env.action_space.n"
   ]
  },
  {
   "cell_type": "code",
   "execution_count": 4,
   "id": "f5463547-d7f4-4389-b180-a012f14f8adf",
   "metadata": {},
   "outputs": [],
   "source": [
    "# env.action_space.low, env.action_space.high"
   ]
  },
  {
   "cell_type": "code",
   "execution_count": 5,
   "id": "60fdeea9-cc03-401b-8bf7-b428be20da29",
   "metadata": {},
   "outputs": [],
   "source": [
    "nv = env.unwrapped\n",
    "env.seed()\n",
    "np.random.seed(1)"
   ]
  },
  {
   "cell_type": "code",
   "execution_count": 6,
   "id": "346ce9e5-9441-4f51-8476-dd99ca7b2af3",
   "metadata": {},
   "outputs": [],
   "source": [
    "n_states = 200\n",
    "J = 100"
   ]
  },
  {
   "cell_type": "markdown",
   "id": "b73add6f-8cad-4179-9798-82a492755d37",
   "metadata": {},
   "source": [
    "## Functions"
   ]
  },
  {
   "cell_type": "code",
   "execution_count": 7,
   "id": "8b9da534-258c-46cb-b2a3-d95309f27564",
   "metadata": {},
   "outputs": [],
   "source": [
    "def discretization(env, obs):\n",
    "    env_low = env.observation_space.low\n",
    "    env_high = env.observation_space.high\n",
    "    env_den = (env_high - env_low) / n_states\n",
    "    pos_den = env_den[0]\n",
    "    vel_den = env_den[1]\n",
    "    pos_high = env_high[0]\n",
    "    pos_low = env_low[0]\n",
    "    vel_high = env_high[1]\n",
    "    vel_low = env_low[1]\n",
    "    pos_scaled = int((obs[0] - pos_low) / pos_den)\n",
    "    vel_scaled = int((obs[1] - vel_low) / vel_den)\n",
    "    return pos_scaled, vel_scaled\n"
   ]
  },
  {
   "cell_type": "code",
   "execution_count": 8,
   "id": "2414a797-3eff-4807-8dd2-95d4518508c6",
   "metadata": {},
   "outputs": [],
   "source": [
    "def visualise_actions(mat, ax =None):\n",
    "    if ax == None:\n",
    "        fig = plt.figure(figsize = (5,5))\n",
    "        ax = fig.add_subplot()\n",
    "    labels = [\"Move Left\", \"Don't Accelerate\", \"Move Right\"]\n",
    "    cmap = plt.cm.get_cmap('Blues', 8) \n",
    "    ax.pcolor(range(-int(n_states/2),int(n_states/2)), range(-int(n_states/2), int(n_states/2)), mat[::-1, ::1], cmap = cmap)\n",
    "    ax.set_xlabel(\"Position\", fontsize = 15)\n",
    "    ax.set_ylabel(\"Velocity\", fontsize = 15)\n",
    "    ax.set_title(\"Approximate Value Function\", fontsize = 15)\n",
    "\n",
    "\n",
    "    bound = np.linspace(0, 2, 4)\n",
    "    # Preparing borders for the legend\n",
    "    bound_prep = np.round(bound * 7, 2)\n",
    "    ax.legend([mpatches.Patch(color=cmap(b)) for b in bound[:-1]],\n",
    "               [labels[i] for i in range(3)])"
   ]
  },
  {
   "cell_type": "code",
   "execution_count": 9,
   "id": "ca0b58e2-548b-4597-8ddf-c41beb962514",
   "metadata": {},
   "outputs": [],
   "source": [
    "def visualise_conf(mat):\n",
    "    plt.figure(figsize = (5,5))\n",
    "    labels = [\"Move Left\", \"Don't Accelerate\", \"Move Right\"]\n",
    "    cmap = plt.cm.get_cmap('Blues', 8) \n",
    "    plt.pcolor(range(-int(n_states/2),int(n_states/2)), range(-int(n_states/2), int(n_states/2)), mat[::-1, ::-1], cmap = cmap)\n",
    "    plt.xlabel(\"Position\", fontsize = 15)\n",
    "    plt.ylabel(\"Velocity\", fontsize = 15)\n",
    "    plt.title(\"Confidence Plot?\", fontsize = 15)\n",
    "\n",
    "\n",
    "    bound = np.linspace(0, 2, 4)\n",
    "    # Preparing borders for the legend\n",
    "    bound_prep = np.round(bound * 7, 2)\n",
    "#     plt.legend([mpatches.Patch(color=cmap(b)) for b in bound[:-1]],\n",
    "#                [labels[i] for i in range(3)])"
   ]
  },
  {
   "cell_type": "markdown",
   "id": "766d1805-9b8d-4404-adb6-725b59248b5b",
   "metadata": {},
   "source": [
    "## TABULAR METHOD"
   ]
  },
  {
   "cell_type": "code",
   "execution_count": 10,
   "id": "3e9e4765-9602-455e-bc01-b09514217905",
   "metadata": {},
   "outputs": [],
   "source": [
    "def tabular_method(\n",
    "    n_states = 40,\n",
    "    episodes = 1000,\n",
    "    initial_lr = 1.0,\n",
    "    min_lr = 0.005,\n",
    "    gamma = 0.95,\n",
    "    max_stps = 100000,\n",
    "    epsilon = 0.05):\n",
    "    \n",
    "    q_table = np.zeros((n_states, n_states, env.action_space.n))\n",
    "#     q_table = np.zeros((n_states, n_states,1))# env.action_space.n))\n",
    "    \n",
    "    tabular_steps = []\n",
    "    \n",
    "\n",
    "    q_table_l = []\n",
    "    q_table_l.append(q_table)\n",
    "    \n",
    "    for episode in range(episodes):\n",
    "\n",
    "        obs = env.reset()\n",
    "        total_reward = 0\n",
    "        alpha = max(min_lr, initial_lr*(gamma**(episode//100)))\n",
    "\n",
    "        steps = 0\n",
    "        while True:\n",
    "    #         env.render()\n",
    "            pos, vel = discretization(env, obs)\n",
    "            pos, vel = int(pos), int(vel) # tabular method need ints\n",
    "            if np.random.uniform(low=0, high=1) < epsilon:\n",
    "#                 a = np.random.uniform(low = env.action_space.low, high = env.action_space.high)\n",
    "                a = np.random.choice(env.action_space.n) #for discrete action space\n",
    "            else:\n",
    "#                 a = q_table[pos][vel]\n",
    "                a = np.argmax(q_table[pos][vel])\n",
    "            try:\n",
    "                obs, reward, terminate,_ = env.step(a)\n",
    "            except Exception as e:\n",
    "                print(\"ACTION\", a)\n",
    "                \n",
    "                print(e)\n",
    "                return()\n",
    "            total_reward += abs(obs[0]+0.5)\n",
    "            pos_, vel_ = discretization(env, obs)\n",
    "            pos_, vel_ = int(pos_), int(vel_)\n",
    "\n",
    "\n",
    "            # Q function update\n",
    "            q_table[pos][vel][a] = (1-alpha)*q_table[pos][vel][a] + alpha*(reward+gamma*np.max(q_table[pos_][vel_]))\n",
    "\n",
    "#             update = (1-alpha)*q_table[pos][vel] + alpha*(reward+gamma*q_table[pos_][vel_])\n",
    "#             if update > 1:\n",
    "#                 update = 1\n",
    "#             elif update < -1:\n",
    "#                 update = -1\n",
    "\n",
    "#             q_table[pos][vel] = update\n",
    "            \n",
    "            # value : the optimum action i can take is the reward that i get from taking that action + \n",
    "            # gamma x the optimum I can gather as value from where I go\n",
    "            \n",
    "            \n",
    "            # if steps%200 == 0:\n",
    "            #     q_table_l.append(np.copy(q_table))\n",
    "            steps += 1\n",
    "            if steps%max_stps == 0:\n",
    "                print(\"FAILED\")\n",
    "                break\n",
    "            if terminate:\n",
    "                tabular_steps.append(steps)\n",
    "                if episode % 100 == 0:\n",
    "                    print(\"Episode:\", episode, \"Alpha: \", alpha, \"Steps: \", steps)\n",
    "                break\n",
    "        q_table_l.append(np.copy(q_table))\n",
    "    env.close()\n",
    "    return(q_table_l)"
   ]
  },
  {
   "cell_type": "code",
   "execution_count": 11,
   "id": "cb7fc9c7-1a2c-4fd4-9e18-c765d180013c",
   "metadata": {
    "tags": []
   },
   "outputs": [
    {
     "name": "stdout",
     "output_type": "stream",
     "text": [
      "FAILED\n",
      "FAILED\n",
      "FAILED\n",
      "Episode: 100 Alpha:  0.95 Steps:  562\n",
      "Episode: 200 Alpha:  0.9025 Steps:  665\n",
      "Episode: 300 Alpha:  0.8573749999999999 Steps:  452\n",
      "Episode: 400 Alpha:  0.8145062499999999 Steps:  377\n",
      "Episode: 500 Alpha:  0.7737809374999998 Steps:  471\n",
      "Episode: 600 Alpha:  0.7350918906249998 Steps:  419\n",
      "Episode: 700 Alpha:  0.6983372960937497 Steps:  406\n",
      "Episode: 800 Alpha:  0.6634204312890623 Steps:  495\n",
      "Episode: 900 Alpha:  0.6302494097246091 Steps:  375\n"
     ]
    }
   ],
   "source": [
    "q_table_l = tabular_method(n_states)"
   ]
  },
  {
   "cell_type": "code",
   "execution_count": null,
   "id": "8b104380-d6f7-4357-8b4f-683af9473cc7",
   "metadata": {},
   "outputs": [],
   "source": []
  },
  {
   "cell_type": "code",
   "execution_count": null,
   "id": "903cfdbb-d04b-4854-8ed7-5597ba819294",
   "metadata": {},
   "outputs": [],
   "source": [
    "env_name = \"MountainCar-v0\"\n",
    "# env_name = \"MountainCarContinuous-v0\"\n",
    "env = gym.make(env_name).env\n",
    "\n",
    "obs = env.reset()"
   ]
  },
  {
   "cell_type": "code",
   "execution_count": null,
   "id": "cfe86c0d-6136-49ca-9f41-d5b3f33d1b55",
   "metadata": {},
   "outputs": [],
   "source": [
    "import gym\n",
    "from gym.wrappers import Monitor\n",
    "env = Monitor(gym.make(env_name), './video', force=True)\n",
    "state = env.reset()\n",
    "done = False\n",
    "while not done:\n",
    "    action = env.action_space.sample()\n",
    "    state_next, reward, done, info = env.step(action)\n",
    "env.close()"
   ]
  },
  {
   "cell_type": "code",
   "execution_count": 13,
   "id": "90e8b236-2fe3-48c3-8710-3d173e6d4795",
   "metadata": {
    "tags": []
   },
   "outputs": [
    {
     "ename": "NoSuchDisplayException",
     "evalue": "Cannot connect to \"None\"",
     "output_type": "error",
     "traceback": [
      "\u001b[0;31m---------------------------------------------------------------------------\u001b[0m",
      "\u001b[0;31mNoSuchDisplayException\u001b[0m                    Traceback (most recent call last)",
      "\u001b[0;32m/tmp/ipykernel_13555/3846305998.py\u001b[0m in \u001b[0;36m<module>\u001b[0;34m\u001b[0m\n\u001b[1;32m      3\u001b[0m     \u001b[0msteps\u001b[0m \u001b[0;34m=\u001b[0m \u001b[0;36m0\u001b[0m\u001b[0;34m\u001b[0m\u001b[0;34m\u001b[0m\u001b[0m\n\u001b[1;32m      4\u001b[0m     \u001b[0;32mwhile\u001b[0m \u001b[0;32mTrue\u001b[0m\u001b[0;34m:\u001b[0m\u001b[0;34m\u001b[0m\u001b[0;34m\u001b[0m\u001b[0m\n\u001b[0;32m----> 5\u001b[0;31m         \u001b[0menv\u001b[0m\u001b[0;34m.\u001b[0m\u001b[0mrender\u001b[0m\u001b[0;34m(\u001b[0m\u001b[0;34m)\u001b[0m\u001b[0;34m\u001b[0m\u001b[0;34m\u001b[0m\u001b[0m\n\u001b[0m\u001b[1;32m      6\u001b[0m         \u001b[0mpos\u001b[0m\u001b[0;34m,\u001b[0m \u001b[0mvel\u001b[0m \u001b[0;34m=\u001b[0m \u001b[0mdiscretization\u001b[0m\u001b[0;34m(\u001b[0m\u001b[0menv\u001b[0m\u001b[0;34m,\u001b[0m \u001b[0mobs\u001b[0m\u001b[0;34m)\u001b[0m\u001b[0;34m\u001b[0m\u001b[0;34m\u001b[0m\u001b[0m\n\u001b[1;32m      7\u001b[0m         \u001b[0mpos\u001b[0m\u001b[0;34m,\u001b[0m \u001b[0mvel\u001b[0m \u001b[0;34m=\u001b[0m \u001b[0mint\u001b[0m\u001b[0;34m(\u001b[0m\u001b[0mpos\u001b[0m\u001b[0;34m)\u001b[0m\u001b[0;34m,\u001b[0m \u001b[0mint\u001b[0m\u001b[0;34m(\u001b[0m\u001b[0mvel\u001b[0m\u001b[0;34m)\u001b[0m\u001b[0;34m\u001b[0m\u001b[0;34m\u001b[0m\u001b[0m\n",
      "\u001b[0;32m/opt/conda/lib/python3.7/site-packages/gym/envs/classic_control/mountain_car.py\u001b[0m in \u001b[0;36mrender\u001b[0;34m(self, mode)\u001b[0m\n\u001b[1;32m    116\u001b[0m \u001b[0;34m\u001b[0m\u001b[0m\n\u001b[1;32m    117\u001b[0m         \u001b[0;32mif\u001b[0m \u001b[0mself\u001b[0m\u001b[0;34m.\u001b[0m\u001b[0mviewer\u001b[0m \u001b[0;32mis\u001b[0m \u001b[0;32mNone\u001b[0m\u001b[0;34m:\u001b[0m\u001b[0;34m\u001b[0m\u001b[0;34m\u001b[0m\u001b[0m\n\u001b[0;32m--> 118\u001b[0;31m             \u001b[0;32mfrom\u001b[0m \u001b[0mgym\u001b[0m\u001b[0;34m.\u001b[0m\u001b[0menvs\u001b[0m\u001b[0;34m.\u001b[0m\u001b[0mclassic_control\u001b[0m \u001b[0;32mimport\u001b[0m \u001b[0mrendering\u001b[0m\u001b[0;34m\u001b[0m\u001b[0;34m\u001b[0m\u001b[0m\n\u001b[0m\u001b[1;32m    119\u001b[0m \u001b[0;34m\u001b[0m\u001b[0m\n\u001b[1;32m    120\u001b[0m             \u001b[0mself\u001b[0m\u001b[0;34m.\u001b[0m\u001b[0mviewer\u001b[0m \u001b[0;34m=\u001b[0m \u001b[0mrendering\u001b[0m\u001b[0;34m.\u001b[0m\u001b[0mViewer\u001b[0m\u001b[0;34m(\u001b[0m\u001b[0mscreen_width\u001b[0m\u001b[0;34m,\u001b[0m \u001b[0mscreen_height\u001b[0m\u001b[0;34m)\u001b[0m\u001b[0;34m\u001b[0m\u001b[0;34m\u001b[0m\u001b[0m\n",
      "\u001b[0;32m/opt/conda/lib/python3.7/site-packages/gym/envs/classic_control/rendering.py\u001b[0m in \u001b[0;36m<module>\u001b[0;34m\u001b[0m\n\u001b[1;32m     25\u001b[0m \u001b[0;34m\u001b[0m\u001b[0m\n\u001b[1;32m     26\u001b[0m \u001b[0;32mtry\u001b[0m\u001b[0;34m:\u001b[0m\u001b[0;34m\u001b[0m\u001b[0;34m\u001b[0m\u001b[0m\n\u001b[0;32m---> 27\u001b[0;31m     \u001b[0;32mfrom\u001b[0m \u001b[0mpyglet\u001b[0m\u001b[0;34m.\u001b[0m\u001b[0mgl\u001b[0m \u001b[0;32mimport\u001b[0m \u001b[0;34m*\u001b[0m\u001b[0;34m\u001b[0m\u001b[0;34m\u001b[0m\u001b[0m\n\u001b[0m\u001b[1;32m     28\u001b[0m \u001b[0;32mexcept\u001b[0m \u001b[0mImportError\u001b[0m \u001b[0;32mas\u001b[0m \u001b[0me\u001b[0m\u001b[0;34m:\u001b[0m\u001b[0;34m\u001b[0m\u001b[0;34m\u001b[0m\u001b[0m\n\u001b[1;32m     29\u001b[0m     raise ImportError(\n",
      "\u001b[0;32m/opt/conda/lib/python3.7/site-packages/pyglet/gl/__init__.py\u001b[0m in \u001b[0;36m<module>\u001b[0;34m\u001b[0m\n\u001b[1;32m    230\u001b[0m     \u001b[0;31m# trickery is for circular import\u001b[0m\u001b[0;34m\u001b[0m\u001b[0;34m\u001b[0m\u001b[0;34m\u001b[0m\u001b[0m\n\u001b[1;32m    231\u001b[0m     \u001b[0m_pyglet\u001b[0m\u001b[0;34m.\u001b[0m\u001b[0mgl\u001b[0m \u001b[0;34m=\u001b[0m \u001b[0m_sys\u001b[0m\u001b[0;34m.\u001b[0m\u001b[0mmodules\u001b[0m\u001b[0;34m[\u001b[0m\u001b[0m__name__\u001b[0m\u001b[0;34m]\u001b[0m\u001b[0;34m\u001b[0m\u001b[0;34m\u001b[0m\u001b[0m\n\u001b[0;32m--> 232\u001b[0;31m     \u001b[0;32mimport\u001b[0m \u001b[0mpyglet\u001b[0m\u001b[0;34m.\u001b[0m\u001b[0mwindow\u001b[0m\u001b[0;34m\u001b[0m\u001b[0;34m\u001b[0m\u001b[0m\n\u001b[0m",
      "\u001b[0;32m/opt/conda/lib/python3.7/site-packages/pyglet/window/__init__.py\u001b[0m in \u001b[0;36m<module>\u001b[0;34m\u001b[0m\n\u001b[1;32m   1916\u001b[0m \u001b[0;32mif\u001b[0m \u001b[0;32mnot\u001b[0m \u001b[0m_is_pyglet_doc_run\u001b[0m\u001b[0;34m:\u001b[0m\u001b[0;34m\u001b[0m\u001b[0;34m\u001b[0m\u001b[0m\n\u001b[1;32m   1917\u001b[0m     \u001b[0mpyglet\u001b[0m\u001b[0;34m.\u001b[0m\u001b[0mwindow\u001b[0m \u001b[0;34m=\u001b[0m \u001b[0msys\u001b[0m\u001b[0;34m.\u001b[0m\u001b[0mmodules\u001b[0m\u001b[0;34m[\u001b[0m\u001b[0m__name__\u001b[0m\u001b[0;34m]\u001b[0m\u001b[0;34m\u001b[0m\u001b[0;34m\u001b[0m\u001b[0m\n\u001b[0;32m-> 1918\u001b[0;31m     \u001b[0mgl\u001b[0m\u001b[0;34m.\u001b[0m\u001b[0m_create_shadow_window\u001b[0m\u001b[0;34m(\u001b[0m\u001b[0;34m)\u001b[0m\u001b[0;34m\u001b[0m\u001b[0;34m\u001b[0m\u001b[0m\n\u001b[0m",
      "\u001b[0;32m/opt/conda/lib/python3.7/site-packages/pyglet/gl/__init__.py\u001b[0m in \u001b[0;36m_create_shadow_window\u001b[0;34m()\u001b[0m\n\u001b[1;32m    204\u001b[0m \u001b[0;34m\u001b[0m\u001b[0m\n\u001b[1;32m    205\u001b[0m     \u001b[0;32mfrom\u001b[0m \u001b[0mpyglet\u001b[0m\u001b[0;34m.\u001b[0m\u001b[0mwindow\u001b[0m \u001b[0;32mimport\u001b[0m \u001b[0mWindow\u001b[0m\u001b[0;34m\u001b[0m\u001b[0;34m\u001b[0m\u001b[0m\n\u001b[0;32m--> 206\u001b[0;31m     \u001b[0m_shadow_window\u001b[0m \u001b[0;34m=\u001b[0m \u001b[0mWindow\u001b[0m\u001b[0;34m(\u001b[0m\u001b[0mwidth\u001b[0m\u001b[0;34m=\u001b[0m\u001b[0;36m1\u001b[0m\u001b[0;34m,\u001b[0m \u001b[0mheight\u001b[0m\u001b[0;34m=\u001b[0m\u001b[0;36m1\u001b[0m\u001b[0;34m,\u001b[0m \u001b[0mvisible\u001b[0m\u001b[0;34m=\u001b[0m\u001b[0;32mFalse\u001b[0m\u001b[0;34m)\u001b[0m\u001b[0;34m\u001b[0m\u001b[0;34m\u001b[0m\u001b[0m\n\u001b[0m\u001b[1;32m    207\u001b[0m     \u001b[0m_shadow_window\u001b[0m\u001b[0;34m.\u001b[0m\u001b[0mswitch_to\u001b[0m\u001b[0;34m(\u001b[0m\u001b[0;34m)\u001b[0m\u001b[0;34m\u001b[0m\u001b[0;34m\u001b[0m\u001b[0m\n\u001b[1;32m    208\u001b[0m \u001b[0;34m\u001b[0m\u001b[0m\n",
      "\u001b[0;32m/opt/conda/lib/python3.7/site-packages/pyglet/window/xlib/__init__.py\u001b[0m in \u001b[0;36m__init__\u001b[0;34m(self, *args, **kwargs)\u001b[0m\n\u001b[1;32m    169\u001b[0m                     \u001b[0mself\u001b[0m\u001b[0;34m.\u001b[0m\u001b[0m_event_handlers\u001b[0m\u001b[0;34m[\u001b[0m\u001b[0mmessage\u001b[0m\u001b[0;34m]\u001b[0m \u001b[0;34m=\u001b[0m \u001b[0mfunc\u001b[0m\u001b[0;34m\u001b[0m\u001b[0;34m\u001b[0m\u001b[0m\n\u001b[1;32m    170\u001b[0m \u001b[0;34m\u001b[0m\u001b[0m\n\u001b[0;32m--> 171\u001b[0;31m         \u001b[0msuper\u001b[0m\u001b[0;34m(\u001b[0m\u001b[0mXlibWindow\u001b[0m\u001b[0;34m,\u001b[0m \u001b[0mself\u001b[0m\u001b[0;34m)\u001b[0m\u001b[0;34m.\u001b[0m\u001b[0m__init__\u001b[0m\u001b[0;34m(\u001b[0m\u001b[0;34m*\u001b[0m\u001b[0margs\u001b[0m\u001b[0;34m,\u001b[0m \u001b[0;34m**\u001b[0m\u001b[0mkwargs\u001b[0m\u001b[0;34m)\u001b[0m\u001b[0;34m\u001b[0m\u001b[0;34m\u001b[0m\u001b[0m\n\u001b[0m\u001b[1;32m    172\u001b[0m \u001b[0;34m\u001b[0m\u001b[0m\n\u001b[1;32m    173\u001b[0m         \u001b[0;32mglobal\u001b[0m \u001b[0m_can_detect_autorepeat\u001b[0m\u001b[0;34m\u001b[0m\u001b[0;34m\u001b[0m\u001b[0m\n",
      "\u001b[0;32m/opt/conda/lib/python3.7/site-packages/pyglet/window/__init__.py\u001b[0m in \u001b[0;36m__init__\u001b[0;34m(self, width, height, caption, resizable, style, fullscreen, visible, vsync, file_drops, display, screen, config, context, mode)\u001b[0m\n\u001b[1;32m    588\u001b[0m \u001b[0;34m\u001b[0m\u001b[0m\n\u001b[1;32m    589\u001b[0m         \u001b[0;32mif\u001b[0m \u001b[0;32mnot\u001b[0m \u001b[0mdisplay\u001b[0m\u001b[0;34m:\u001b[0m\u001b[0;34m\u001b[0m\u001b[0;34m\u001b[0m\u001b[0m\n\u001b[0;32m--> 590\u001b[0;31m             \u001b[0mdisplay\u001b[0m \u001b[0;34m=\u001b[0m \u001b[0mpyglet\u001b[0m\u001b[0;34m.\u001b[0m\u001b[0mcanvas\u001b[0m\u001b[0;34m.\u001b[0m\u001b[0mget_display\u001b[0m\u001b[0;34m(\u001b[0m\u001b[0;34m)\u001b[0m\u001b[0;34m\u001b[0m\u001b[0;34m\u001b[0m\u001b[0m\n\u001b[0m\u001b[1;32m    591\u001b[0m \u001b[0;34m\u001b[0m\u001b[0m\n\u001b[1;32m    592\u001b[0m         \u001b[0;32mif\u001b[0m \u001b[0;32mnot\u001b[0m \u001b[0mscreen\u001b[0m\u001b[0;34m:\u001b[0m\u001b[0;34m\u001b[0m\u001b[0;34m\u001b[0m\u001b[0m\n",
      "\u001b[0;32m/opt/conda/lib/python3.7/site-packages/pyglet/canvas/__init__.py\u001b[0m in \u001b[0;36mget_display\u001b[0;34m()\u001b[0m\n\u001b[1;32m     92\u001b[0m \u001b[0;34m\u001b[0m\u001b[0m\n\u001b[1;32m     93\u001b[0m     \u001b[0;31m# Otherwise, create a new display and return it.\u001b[0m\u001b[0;34m\u001b[0m\u001b[0;34m\u001b[0m\u001b[0;34m\u001b[0m\u001b[0m\n\u001b[0;32m---> 94\u001b[0;31m     \u001b[0;32mreturn\u001b[0m \u001b[0mDisplay\u001b[0m\u001b[0;34m(\u001b[0m\u001b[0;34m)\u001b[0m\u001b[0;34m\u001b[0m\u001b[0;34m\u001b[0m\u001b[0m\n\u001b[0m\u001b[1;32m     95\u001b[0m \u001b[0;34m\u001b[0m\u001b[0m\n\u001b[1;32m     96\u001b[0m \u001b[0;34m\u001b[0m\u001b[0m\n",
      "\u001b[0;32m/opt/conda/lib/python3.7/site-packages/pyglet/canvas/xlib.py\u001b[0m in \u001b[0;36m__init__\u001b[0;34m(self, name, x_screen)\u001b[0m\n\u001b[1;32m    121\u001b[0m         \u001b[0mself\u001b[0m\u001b[0;34m.\u001b[0m\u001b[0m_display\u001b[0m \u001b[0;34m=\u001b[0m \u001b[0mxlib\u001b[0m\u001b[0;34m.\u001b[0m\u001b[0mXOpenDisplay\u001b[0m\u001b[0;34m(\u001b[0m\u001b[0mname\u001b[0m\u001b[0;34m)\u001b[0m\u001b[0;34m\u001b[0m\u001b[0;34m\u001b[0m\u001b[0m\n\u001b[1;32m    122\u001b[0m         \u001b[0;32mif\u001b[0m \u001b[0;32mnot\u001b[0m \u001b[0mself\u001b[0m\u001b[0;34m.\u001b[0m\u001b[0m_display\u001b[0m\u001b[0;34m:\u001b[0m\u001b[0;34m\u001b[0m\u001b[0;34m\u001b[0m\u001b[0m\n\u001b[0;32m--> 123\u001b[0;31m             \u001b[0;32mraise\u001b[0m \u001b[0mNoSuchDisplayException\u001b[0m\u001b[0;34m(\u001b[0m\u001b[0;34m'Cannot connect to \"%s\"'\u001b[0m \u001b[0;34m%\u001b[0m \u001b[0mname\u001b[0m\u001b[0;34m)\u001b[0m\u001b[0;34m\u001b[0m\u001b[0;34m\u001b[0m\u001b[0m\n\u001b[0m\u001b[1;32m    124\u001b[0m \u001b[0;34m\u001b[0m\u001b[0m\n\u001b[1;32m    125\u001b[0m         \u001b[0mscreen_count\u001b[0m \u001b[0;34m=\u001b[0m \u001b[0mxlib\u001b[0m\u001b[0;34m.\u001b[0m\u001b[0mXScreenCount\u001b[0m\u001b[0;34m(\u001b[0m\u001b[0mself\u001b[0m\u001b[0;34m.\u001b[0m\u001b[0m_display\u001b[0m\u001b[0;34m)\u001b[0m\u001b[0;34m\u001b[0m\u001b[0;34m\u001b[0m\u001b[0m\n",
      "\u001b[0;31mNoSuchDisplayException\u001b[0m: Cannot connect to \"None\""
     ]
    }
   ],
   "source": [
    "for e in range(5):\n",
    "    obs = env.reset()\n",
    "    steps = 0\n",
    "    while True:\n",
    "        env.render()\n",
    "        pos, vel = discretization(env, obs)\n",
    "        pos, vel = int(pos), int(vel)\n",
    "#         a = q_table[pos][vel]\n",
    "        a = np.argmax(q_table[pos][vel])\n",
    "#         a = int(m[pos][vel])\n",
    "        obs, reward, terminate, _ = env.step(a)\n",
    "        steps += 1\n",
    "\n",
    "        if steps >= 1000:\n",
    "            print(\"FAILED\")\n",
    "            break\n",
    "        if terminate:\n",
    "            time.sleep(1)\n",
    "            print(steps)\n",
    "            break"
   ]
  },
  {
   "cell_type": "code",
   "execution_count": 13,
   "id": "b6f148fb-4ba6-43ab-958a-064cb1054d91",
   "metadata": {},
   "outputs": [
    {
     "data": {
      "text/plain": [
       "1001"
      ]
     },
     "execution_count": 13,
     "metadata": {},
     "output_type": "execute_result"
    }
   ],
   "source": [
    "len(q_table_l)"
   ]
  },
  {
   "cell_type": "code",
   "execution_count": 14,
   "id": "26d553fd-4ed1-468a-b579-340fde2612d2",
   "metadata": {},
   "outputs": [
    {
     "data": {
      "text/plain": [
       "334"
      ]
     },
     "execution_count": 14,
     "metadata": {},
     "output_type": "execute_result"
    }
   ],
   "source": [
    "len(q_table_l[::3])"
   ]
  },
  {
   "cell_type": "code",
   "execution_count": 15,
   "id": "0fa2208f-8ac1-4955-ac1a-d77d70ef05bf",
   "metadata": {},
   "outputs": [
    {
     "name": "stderr",
     "output_type": "stream",
     "text": [
      "/opt/conda/lib/python3.7/site-packages/ipykernel_launcher.py:7: MatplotlibDeprecationWarning: shading='flat' when X and Y have the same dimensions as C is deprecated since 3.3.  Either specify the corners of the quadrilaterals with X and Y, or pass shading='auto', 'nearest' or 'gouraud', or set rcParams['pcolor.shading'].  This will become an error two minor releases later.\n",
      "  import sys\n"
     ]
    },
    {
     "data": {
      "text/plain": [
       "<Figure size 432x288 with 0 Axes>"
      ]
     },
     "metadata": {},
     "output_type": "display_data"
    },
    {
     "data": {
      "image/png": "[encoded data removed]",
      "text/plain": [
       "<Figure size 360x360 with 1 Axes>"
      ]
     },
     "metadata": {
      "needs_background": "light"
     },
     "output_type": "display_data"
    },
    {
     "data": {
      "image/png": "[encoded data removed]",
      "text/plain": [
       "<Figure size 360x360 with 1 Axes>"
      ]
     },
     "metadata": {
      "needs_background": "light"
     },
     "output_type": "display_data"
    }
   ],
   "source": [
    "fig = plt.figure()\n",
    "\n",
    "for i in [q_table_l[3], q_table_l[-1]]:\n",
    "    mat_actions = np.argmax(i, axis =2)\n",
    "    \n",
    "    visualise_actions(mat_actions) #make gif of this\n",
    "    plt.show"
   ]
  },
  {
   "cell_type": "code",
   "execution_count": null,
   "id": "bc2fc2a6-216c-4a52-837d-2eb2f4c302a4",
   "metadata": {},
   "outputs": [],
   "source": []
  },
  {
   "cell_type": "code",
   "execution_count": 16,
   "id": "f2cd270a-39c5-4d48-86bd-ab5ec309dc24",
   "metadata": {},
   "outputs": [
    {
     "name": "stdout",
     "output_type": "stream",
     "text": [
      "0 / 1001\n"
     ]
    },
    {
     "name": "stderr",
     "output_type": "stream",
     "text": [
      "/opt/conda/lib/python3.7/site-packages/ipykernel_launcher.py:7: MatplotlibDeprecationWarning: shading='flat' when X and Y have the same dimensions as C is deprecated since 3.3.  Either specify the corners of the quadrilaterals with X and Y, or pass shading='auto', 'nearest' or 'gouraud', or set rcParams['pcolor.shading'].  This will become an error two minor releases later.\n",
      "  import sys\n"
     ]
    },
    {
     "data": {
      "image/png": "[encoded data removed]",
      "text/plain": [
       "<Figure size 432x288 with 1 Axes>"
      ]
     },
     "metadata": {
      "needs_background": "light"
     },
     "output_type": "display_data"
    },
    {
     "name": "stdout",
     "output_type": "stream",
     "text": [
      "100 / 1001\n",
      "200 / 1001\n",
      "300 / 1001\n"
     ]
    }
   ],
   "source": [
    "fig = plt.figure()\n",
    "camera = Camera(fig)\n",
    "ax = fig.add_subplot()\n",
    "\n",
    "for index, i in enumerate(q_table_l[::3]):\n",
    "    if index%100 == 0:\n",
    "        print(index, \"/\", len(q_table_l))\n",
    "    \n",
    "    mat_actions = np.argmax(i, axis =2)\n",
    "    \n",
    "    visualise_actions(mat_actions, ax) #make gif of this\n",
    "    \n",
    "    plt.clf\n",
    "    camera.snap()\n",
    "    plt.show()"
   ]
  },
  {
   "cell_type": "code",
   "execution_count": 17,
   "id": "ff0e8171-b916-4a2e-b859-4eef5fcfa54e",
   "metadata": {},
   "outputs": [],
   "source": [
    "animation = camera.animate(interval = 20, repeat = True, repeat_delay = 5000)"
   ]
  },
  {
   "cell_type": "code",
   "execution_count": 18,
   "id": "0f8312fb-fd40-42c8-a58a-161b19b015ec",
   "metadata": {},
   "outputs": [
    {
     "name": "stderr",
     "output_type": "stream",
     "text": [
      "MovieWriter PillowWriter unavailable; using Pillow instead.\n"
     ]
    }
   ],
   "source": [
    "animation.save('anim_ value_func_full.gif', writer='PillowWriter', fps=30)"
   ]
  },
  {
   "cell_type": "code",
   "execution_count": null,
   "id": "0a90b023-1e7f-49dd-a553-52c9e52a8769",
   "metadata": {},
   "outputs": [],
   "source": []
  },
  {
   "cell_type": "code",
   "execution_count": 20,
   "id": "7a600374-79b5-4161-961b-c35232bcca04",
   "metadata": {},
   "outputs": [
    {
     "name": "stderr",
     "output_type": "stream",
     "text": [
      "/opt/conda/lib/python3.7/site-packages/ipykernel_launcher.py:5: MatplotlibDeprecationWarning: shading='flat' when X and Y have the same dimensions as C is deprecated since 3.3.  Either specify the corners of the quadrilaterals with X and Y, or pass shading='auto', 'nearest' or 'gouraud', or set rcParams['pcolor.shading'].  This will become an error two minor releases later.\n",
      "  \"\"\"\n"
     ]
    },
    {
     "data": {
      "image/png": "[encoded data removed]",
      "text/plain": [
       "<Figure size 360x360 with 1 Axes>"
      ]
     },
     "metadata": {
      "needs_background": "light"
     },
     "output_type": "display_data"
    }
   ],
   "source": [
    "visualise_conf(mat)"
   ]
  },
  {
   "cell_type": "markdown",
   "id": "8288b2e8-014d-4adb-a27d-8c6f659854b4",
   "metadata": {},
   "source": [
    "# Gradient Descent"
   ]
  },
  {
   "cell_type": "code",
   "execution_count": 21,
   "id": "05316442-54b8-41d7-afb2-83d1f1b892f7",
   "metadata": {},
   "outputs": [
    {
     "data": {
      "text/plain": [
       "(200, 200, 3)"
      ]
     },
     "execution_count": 21,
     "metadata": {},
     "output_type": "execute_result"
    }
   ],
   "source": [
    "q_table.shape"
   ]
  },
  {
   "cell_type": "code",
   "execution_count": 22,
   "id": "33a9476f-48a8-49cd-9e21-a3f5e114947d",
   "metadata": {},
   "outputs": [],
   "source": [
    "def construct_states(n = n_states):\n",
    "    states = []\n",
    "    for i in range(n):\n",
    "        for j in range(n):\n",
    "            for k in range(3):\n",
    "#                 print(i, j, k)\n",
    "                states.append(np.array([i, j,k]))\n",
    "    states = np.asarray(states)\n",
    "    return(states)"
   ]
  },
  {
   "cell_type": "code",
   "execution_count": 23,
   "id": "fabc6f79-b34d-4860-b685-f2c24b23c561",
   "metadata": {},
   "outputs": [],
   "source": [
    "# n_states = 100"
   ]
  },
  {
   "cell_type": "code",
   "execution_count": 24,
   "id": "9ad5fd61-c6e3-417f-9676-471654d9ebff",
   "metadata": {},
   "outputs": [],
   "source": [
    "states = construct_states(n_states)"
   ]
  },
  {
   "cell_type": "code",
   "execution_count": 25,
   "id": "1fbabe80-db29-41f5-920e-aa70c79c9a38",
   "metadata": {},
   "outputs": [
    {
     "data": {
      "text/plain": [
       "array([[  0,   0,   0],\n",
       "       [  0,   0,   1],\n",
       "       [  0,   0,   2],\n",
       "       ...,\n",
       "       [199, 199,   0],\n",
       "       [199, 199,   1],\n",
       "       [199, 199,   2]])"
      ]
     },
     "execution_count": 25,
     "metadata": {},
     "output_type": "execute_result"
    }
   ],
   "source": [
    "states"
   ]
  },
  {
   "cell_type": "code",
   "execution_count": null,
   "id": "415e80e8-adba-4073-8d61-f694f180bfdd",
   "metadata": {},
   "outputs": [],
   "source": []
  },
  {
   "cell_type": "code",
   "execution_count": 26,
   "id": "6f17e602-1faa-41ea-abb4-e1ba12e2c922",
   "metadata": {},
   "outputs": [],
   "source": [
    "def get_means(J):\n",
    "    \"\"\"\n",
    "    Getting J cluster centers for the radial basis model\n",
    "    \"\"\"\n",
    "#     print(df_values.shape)\n",
    "    X = states #state space is the position, velocity and action\n",
    "    means = []\n",
    "\n",
    "    N = len(states)\n",
    "    sig = np.std(X)\n",
    "    \n",
    "    for i in range(3):\n",
    "        means.append(np.linspace(X[:, i].min(), X[:, i].max(), J))\n",
    "    means  = np.array(means).T\n",
    "    \n",
    "    U = np.zeros((N,J))\n",
    "\n",
    "    for i in range(N):\n",
    "        for j in range(J):\n",
    "            U[i][j] = np.exp(-0.5 *np.linalg.norm(X[i] - means[j])/(sig))\n",
    "    \n",
    "    return(U, means)"
   ]
  },
  {
   "cell_type": "code",
   "execution_count": 27,
   "id": "47ca6d37-a05f-4f42-9d5e-7dccbce5f7e0",
   "metadata": {},
   "outputs": [],
   "source": [
    "U, kmeans = get_means(J)"
   ]
  },
  {
   "cell_type": "code",
   "execution_count": 28,
   "id": "e0a6bc1e-51f0-45b4-8533-977b65dd0f49",
   "metadata": {},
   "outputs": [
    {
     "data": {
      "text/plain": [
       "(120000, 100)"
      ]
     },
     "execution_count": 28,
     "metadata": {},
     "output_type": "execute_result"
    }
   ],
   "source": [
    "U.shape"
   ]
  },
  {
   "cell_type": "code",
   "execution_count": 29,
   "id": "8e014b68-0817-4b7b-8877-1865e09e50d3",
   "metadata": {},
   "outputs": [],
   "source": [
    "def evaluate_a(pos, vel, a, w):\n",
    "    \"\"\"\n",
    "    Getting the value from a state\n",
    "    \n",
    "    input: state, action, weights vector\n",
    "    \n",
    "    Output: value of action in that state\n",
    "    \n",
    "    Method: convert the state and action into the design matrix, then dot product the weights \n",
    "    \n",
    "    \"\"\"\n",
    "    states = np.array([pos, vel, a])\n",
    "    U = []\n",
    "    for j in range(J):\n",
    "        U.append(np.exp(-0.5 *np.linalg.norm(states - kmeans[j])/sig))\n",
    "    return(U @ w, U)"
   ]
  },
  {
   "cell_type": "code",
   "execution_count": 30,
   "id": "984885fc-ef65-4d78-b5dd-8dcb294d94fd",
   "metadata": {},
   "outputs": [],
   "source": [
    "def RBF(pos, vel, w):\n",
    "    \"\"\"\n",
    "    RBF for the values of all possible actions from that state\n",
    "    \n",
    "    \"\"\"\n",
    "    vals = []\n",
    "    for act in range(3):\n",
    "        U = []\n",
    "        states = np.array([pos, vel, act])\n",
    "        for j in range(J):\n",
    "            U.append(np.exp(-0.5 *np.linalg.norm(states - kmeans[j])/sig))\n",
    "        vals.append(U @ w)\n",
    "    return(vals)"
   ]
  },
  {
   "cell_type": "markdown",
   "id": "abf289b9-e642-4120-a5d0-f306732d56a3",
   "metadata": {},
   "source": [
    "## Q-learning"
   ]
  },
  {
   "cell_type": "code",
   "execution_count": 31,
   "id": "2d343aa4-2347-48de-902e-60a5f184bb85",
   "metadata": {},
   "outputs": [],
   "source": [
    "# try neural network? train on gpu"
   ]
  },
  {
   "cell_type": "code",
   "execution_count": 32,
   "id": "8a70e6a5-76f4-480b-beff-cee91e9006e9",
   "metadata": {},
   "outputs": [],
   "source": [
    "def discretization(env, obs): #NO INT\n",
    "    env_low = env.observation_space.low\n",
    "    env_high = env.observation_space.high\n",
    "    env_den = (env_high - env_low)# / n_states\n",
    "    pos_den = env_den[0]\n",
    "    vel_den = env_den[1]\n",
    "    pos_high = env_high[0]\n",
    "    pos_low = env_low[0]\n",
    "    vel_high = env_high[1]\n",
    "    vel_low = env_low[1]\n",
    "    pos_scaled =(obs[0] - pos_low) / pos_den   #int((obs[0] - pos_low) / pos_den)\n",
    "    vel_scaled = (obs[1] - vel_low) / vel_den#int((obs[1] - vel_low) / vel_den)\n",
    "    return(pos_scaled, vel_scaled)"
   ]
  },
  {
   "cell_type": "code",
   "execution_count": 33,
   "id": "73aa5a41-151a-4c69-951c-564532347cb3",
   "metadata": {},
   "outputs": [],
   "source": [
    "X = states #state space is the position, velocity and action\n",
    "sig = np.std(X)"
   ]
  },
  {
   "cell_type": "code",
   "execution_count": 34,
   "id": "8bafbd88-e668-4bfe-bbe4-22cfd9abfc6e",
   "metadata": {},
   "outputs": [],
   "source": [
    "def q_learning(\n",
    "    n_states = n_states,\n",
    "    episodes = 50,\n",
    "    initial_lr = 1.0,\n",
    "    min_lr = 0.005,\n",
    "    gamma = 0.99,\n",
    "    max_stps = 30000,\n",
    "    epsilon = 0.05):\n",
    "\n",
    "\n",
    "\n",
    "    q_table = np.zeros((n_states, n_states, env.action_space.n))\n",
    "    total_steps = []\n",
    "\n",
    "\n",
    "    w = np.random.rand(J, 1)\n",
    "    for episode in range(episodes):\n",
    "\n",
    "\n",
    "        obs = env.reset()\n",
    "        total_reward = 0\n",
    "        alpha = max(min_lr, initial_lr*(gamma**(episode/0.1)))# max(min_lr, initial_lr*(gamma**(episode//100)))\n",
    "\n",
    "        steps = 0\n",
    "        while True:\n",
    "\n",
    "            pos, vel = discretization(env, obs)\n",
    "\n",
    "            if np.random.uniform(low=0, high=1) < epsilon:\n",
    "                a = np.random.choice(env.action_space.n)\n",
    "                a_value, U = evaluate_a(pos, vel, a, w)\n",
    "            else:\n",
    "                a = np.argmax(RBF(pos, vel, w))\n",
    "                a_value, U = evaluate_a(pos, vel, a, w)\n",
    "\n",
    "            obs, reward, terminate,_ = env.step(a)\n",
    "            total_reward += abs(obs[0]+0.5)\n",
    "            pos_, vel_ = discretization(env, obs)\n",
    "\n",
    "            states = np.array([pos, vel, a])\n",
    "\n",
    "            max_val = np.max(RBF(pos_,vel_, w)) #random thing for sarsa\n",
    "\n",
    "            # Q function update\n",
    "            w += (alpha * (reward + gamma*max_val - a_value) * U).reshape(J,1)\n",
    "            \n",
    "\n",
    "            steps += 1\n",
    "            if terminate:\n",
    "                total_steps.append(steps)\n",
    "                print(\"Episode:\", episode, steps)\n",
    "                break\n",
    "    return(w)"
   ]
  },
  {
   "cell_type": "code",
   "execution_count": 35,
   "id": "e7a91a4c-a107-4c32-8dc5-5df723835998",
   "metadata": {},
   "outputs": [
    {
     "name": "stdout",
     "output_type": "stream",
     "text": [
      "Episode: 0 9420\n",
      "Episode: 1 54656\n",
      "Episode: 2 7168\n",
      "Episode: 3 8198\n",
      "Episode: 4 40212\n",
      "Episode: 5 20075\n",
      "Episode: 6 8974\n",
      "Episode: 7 13552\n",
      "Episode: 8 14970\n",
      "Episode: 9 26066\n",
      "Episode: 10 21849\n",
      "Episode: 11 11086\n",
      "Episode: 12 14210\n",
      "Episode: 13 8206\n",
      "Episode: 14 31723\n",
      "Episode: 15 10361\n",
      "Episode: 16 29181\n",
      "Episode: 17 7002\n",
      "Episode: 18 21016\n",
      "Episode: 19 10413\n",
      "Episode: 20 30998\n",
      "Episode: 21 40016\n",
      "Episode: 22 17910\n",
      "Episode: 23 14880\n",
      "Episode: 24 8454\n",
      "Episode: 25 10984\n",
      "Episode: 26 15939\n",
      "Episode: 27 38935\n",
      "Episode: 28 33685\n",
      "Episode: 29 22414\n",
      "Episode: 30 7671\n",
      "Episode: 31 11098\n",
      "Episode: 32 46004\n",
      "Episode: 33 5181\n",
      "Episode: 34 15289\n",
      "Episode: 35 36465\n",
      "Episode: 36 9459\n",
      "Episode: 37 18044\n",
      "Episode: 38 8496\n",
      "Episode: 39 18957\n",
      "Episode: 40 12909\n",
      "Episode: 41 46289\n",
      "Episode: 42 8446\n",
      "Episode: 43 20111\n",
      "Episode: 44 31773\n",
      "Episode: 45 11207\n",
      "Episode: 46 18083\n",
      "Episode: 47 24753\n",
      "Episode: 48 9297\n",
      "Episode: 49 20069\n"
     ]
    }
   ],
   "source": [
    "w_q_learning = q_learning()"
   ]
  },
  {
   "cell_type": "code",
   "execution_count": 36,
   "id": "347fafb3-a8b2-44dd-afa7-d3c12c6b15ae",
   "metadata": {},
   "outputs": [
    {
     "data": {
      "text/plain": [
       "((120000, 100), (100, 1))"
      ]
     },
     "execution_count": 36,
     "metadata": {},
     "output_type": "execute_result"
    }
   ],
   "source": [
    "U.shape, w_q_learning.shape"
   ]
  },
  {
   "cell_type": "code",
   "execution_count": null,
   "id": "9e9e653b-8be5-4359-afd8-c0c16528b18f",
   "metadata": {},
   "outputs": [],
   "source": []
  },
  {
   "cell_type": "code",
   "execution_count": 37,
   "id": "d30d386a-5dcd-49e7-8301-7c1c084ef323",
   "metadata": {},
   "outputs": [],
   "source": [
    "q_learning_table = np.zeros([n_states,n_states])\n",
    "step = 0\n",
    "for i in range(n_states):\n",
    "    for j in range(n_states):\n",
    "        q_learning_table[i][j] = np.argmax(U[step*3: step*3+3] @ w_q_learning)\n",
    "        step += 1"
   ]
  },
  {
   "cell_type": "code",
   "execution_count": 38,
   "id": "b3c6834c-1067-4914-abdf-c43ec095785f",
   "metadata": {},
   "outputs": [
    {
     "data": {
      "text/plain": [
       "(200, 200)"
      ]
     },
     "execution_count": 38,
     "metadata": {},
     "output_type": "execute_result"
    }
   ],
   "source": [
    "q_learning_table.shape"
   ]
  },
  {
   "cell_type": "code",
   "execution_count": 39,
   "id": "13943f31-2c77-4902-b178-20f0027f958c",
   "metadata": {},
   "outputs": [
    {
     "name": "stderr",
     "output_type": "stream",
     "text": [
      "/opt/conda/lib/python3.7/site-packages/ipykernel_launcher.py:7: MatplotlibDeprecationWarning: shading='flat' when X and Y have the same dimensions as C is deprecated since 3.3.  Either specify the corners of the quadrilaterals with X and Y, or pass shading='auto', 'nearest' or 'gouraud', or set rcParams['pcolor.shading'].  This will become an error two minor releases later.\n",
      "  import sys\n"
     ]
    },
    {
     "data": {
      "image/png": "[encoded data removed]",
      "text/plain": [
       "<Figure size 360x360 with 1 Axes>"
      ]
     },
     "metadata": {
      "needs_background": "light"
     },
     "output_type": "display_data"
    }
   ],
   "source": [
    "visualise_actions(q_learning_table)"
   ]
  },
  {
   "cell_type": "code",
   "execution_count": 40,
   "id": "c9c10010-5e8a-445e-a9f7-c397f04869b2",
   "metadata": {},
   "outputs": [],
   "source": [
    "# for e in range(100):\n",
    "#     obs = env.reset()\n",
    "#     steps = 0\n",
    "#     while True:\n",
    "# #         env.render()\n",
    "#         pos, vel = discretization(env, obs)\n",
    "#         pos, vel = int(pos), int(vel)\n",
    "# #         a = q_table[pos][vel]\n",
    "#         a = np.argmax(q_learning_table[pos][vel])\n",
    "# #         a = int(m[pos][vel])\n",
    "#         obs, reward, terminate, _ = env.step(a)\n",
    "#         steps += 1\n",
    "\n",
    "#         if steps >= 1000:\n",
    "#             print(\"FAILED\")\n",
    "#             break\n",
    "#         if terminate:\n",
    "#             time.sleep(1)\n",
    "#             print(steps)\n",
    "#             break"
   ]
  },
  {
   "cell_type": "code",
   "execution_count": null,
   "id": "2396679f-bc84-406b-877f-5c2c13f51d6a",
   "metadata": {},
   "outputs": [],
   "source": []
  },
  {
   "cell_type": "code",
   "execution_count": null,
   "id": "da9c1173-7344-4844-9522-53992ae94da0",
   "metadata": {},
   "outputs": [],
   "source": [
    "# for e in range(100):\n",
    "#     obs = env.reset()\n",
    "#     steps = 0\n",
    "#     while True:\n",
    "# #         env.render()\n",
    "#         pos, vel = discretization(env, obs)\n",
    "#         a = np.argmax(RBF(pos, vel, w_q_learning))\n",
    "\n",
    "#         obs, reward, terminate, _ = env.step(a)\n",
    "#         steps += 1\n",
    "\n",
    "#         if steps >= 1000:\n",
    "#             print(\"FAILED\")\n",
    "#             break\n",
    "#         if terminate:\n",
    "#             time.sleep(1)\n",
    "#             print(steps)\n",
    "#             break"
   ]
  },
  {
   "cell_type": "code",
   "execution_count": null,
   "id": "9803ba4c-f0cd-4769-8deb-b379f3a49593",
   "metadata": {},
   "outputs": [],
   "source": []
  }
 ],
 "metadata": {
  "environment": {
   "kernel": "python3",
   "name": "common-cu110.m82",
   "type": "gcloud",
   "uri": "gcr.io/deeplearning-platform-release/base-cu110:m82"
  },
  "kernelspec": {
   "display_name": "Python 3",
   "language": "python",
   "name": "python3"
  },
  "language_info": {
   "codemirror_mode": {
    "name": "ipython",
    "version": 3
   },
   "file_extension": ".py",
   "mimetype": "text/x-python",
   "name": "python",
   "nbconvert_exporter": "python",
   "pygments_lexer": "ipython3",
   "version": "3.7.10"
  }
 },
 "nbformat": 4,
 "nbformat_minor": 5
}
