{
 "cells": [
  {
   "cell_type": "markdown",
   "id": "3d675fa3-0faa-4409-a697-fc9dd44b141e",
   "metadata": {},
   "source": [
    "# Medium Reinforcement Learning"
   ]
  },
  {
   "cell_type": "code",
   "execution_count": 1,
   "id": "e5cc6d0b-fed9-4b1f-a02d-fa57a2c9317d",
   "metadata": {},
   "outputs": [],
   "source": [
    "import gym\n",
    "import numpy as np\n",
    "import pandas as pd\n",
    "import matplotlib.patches as mpatches\n",
    "import matplotlib.pyplot as plt\n",
    "import time"
   ]
  },
  {
   "cell_type": "code",
   "execution_count": 2,
   "id": "41d9b2f1-6b1b-42a7-b85b-8d5c368c6ed9",
   "metadata": {},
   "outputs": [],
   "source": [
    "env_name = \"MountainCar-v0\"\n",
    "# env_name = \"MountainCarContinuous-v0\"\n",
    "env = gym.make(env_name).env\n",
    "\n",
    "obs = env.reset()\n",
    "# env.render()"
   ]
  },
  {
   "cell_type": "code",
   "execution_count": 3,
   "id": "4c12918a-0b63-4c29-ab01-59dfe4d4f9e3",
   "metadata": {},
   "outputs": [
    {
     "data": {
      "text/plain": [
       "3"
      ]
     },
     "execution_count": 3,
     "metadata": {},
     "output_type": "execute_result"
    }
   ],
   "source": [
    "env.action_space.n"
   ]
  },
  {
   "cell_type": "code",
   "execution_count": 4,
   "id": "f5463547-d7f4-4389-b180-a012f14f8adf",
   "metadata": {},
   "outputs": [],
   "source": [
    "# env.action_space.low, env.action_space.high"
   ]
  },
  {
   "cell_type": "code",
   "execution_count": 5,
   "id": "60fdeea9-cc03-401b-8bf7-b428be20da29",
   "metadata": {},
   "outputs": [],
   "source": [
    "nv = env.unwrapped\n",
    "env.seed()\n",
    "np.random.seed(1)"
   ]
  },
  {
   "cell_type": "code",
   "execution_count": 6,
   "id": "346ce9e5-9441-4f51-8476-dd99ca7b2af3",
   "metadata": {},
   "outputs": [],
   "source": [
    "n_states = 200\n",
    "J = 100"
   ]
  },
  {
   "cell_type": "markdown",
   "id": "b73add6f-8cad-4179-9798-82a492755d37",
   "metadata": {},
   "source": [
    "## Functions"
   ]
  },
  {
   "cell_type": "code",
   "execution_count": 7,
   "id": "8b9da534-258c-46cb-b2a3-d95309f27564",
   "metadata": {},
   "outputs": [],
   "source": [
    "def discretization(env, obs):\n",
    "    env_low = env.observation_space.low\n",
    "    env_high = env.observation_space.high\n",
    "    env_den = (env_high - env_low) / n_states\n",
    "    pos_den = env_den[0]\n",
    "    vel_den = env_den[1]\n",
    "    pos_high = env_high[0]\n",
    "    pos_low = env_low[0]\n",
    "    vel_high = env_high[1]\n",
    "    vel_low = env_low[1]\n",
    "    pos_scaled = int((obs[0] - pos_low) / pos_den)\n",
    "    vel_scaled = int((obs[1] - vel_low) / vel_den)\n",
    "    return pos_scaled, vel_scaled\n"
   ]
  },
  {
   "cell_type": "code",
   "execution_count": 8,
   "id": "2414a797-3eff-4807-8dd2-95d4518508c6",
   "metadata": {},
   "outputs": [],
   "source": [
    "def visualise_actions(mat):\n",
    "    plt.figure(figsize = (5,5))\n",
    "    labels = [\"Move Left\", \"Don't Accelerate\", \"Move Right\"]\n",
    "    cmap = plt.cm.get_cmap('Blues', 8) \n",
    "    plt.pcolor(range(-int(n_states/2),int(n_states/2)), range(-int(n_states/2), int(n_states/2)), mat[::-1, ::1], cmap = cmap)\n",
    "    plt.xlabel(\"Position\", fontsize = 15)\n",
    "    plt.ylabel(\"Velocity\", fontsize = 15)\n",
    "    plt.title(\"Approximate Value Function\", fontsize = 15)\n",
    "\n",
    "\n",
    "    bound = np.linspace(0, 2, 4)\n",
    "    # Preparing borders for the legend\n",
    "    bound_prep = np.round(bound * 7, 2)\n",
    "    plt.legend([mpatches.Patch(color=cmap(b)) for b in bound[:-1]],\n",
    "               [labels[i] for i in range(3)])"
   ]
  },
  {
   "cell_type": "code",
   "execution_count": 9,
   "id": "ca0b58e2-548b-4597-8ddf-c41beb962514",
   "metadata": {},
   "outputs": [],
   "source": [
    "def visualise_conf(mat):\n",
    "    plt.figure(figsize = (5,5))\n",
    "    labels = [\"Move Left\", \"Don't Accelerate\", \"Move Right\"]\n",
    "    cmap = plt.cm.get_cmap('Blues', 8) \n",
    "    plt.pcolor(range(-int(n_states/2),int(n_states/2)), range(-int(n_states/2), int(n_states/2)), mat[::-1, ::-1], cmap = cmap)\n",
    "    plt.xlabel(\"Position\", fontsize = 15)\n",
    "    plt.ylabel(\"Velocity\", fontsize = 15)\n",
    "    plt.title(\"Confidence Plot?\", fontsize = 15)\n",
    "\n",
    "\n",
    "    bound = np.linspace(0, 2, 4)\n",
    "    # Preparing borders for the legend\n",
    "    bound_prep = np.round(bound * 7, 2)\n",
    "#     plt.legend([mpatches.Patch(color=cmap(b)) for b in bound[:-1]],\n",
    "#                [labels[i] for i in range(3)])"
   ]
  },
  {
   "cell_type": "markdown",
   "id": "766d1805-9b8d-4404-adb6-725b59248b5b",
   "metadata": {},
   "source": [
    "## TABULAR METHOD"
   ]
  },
  {
   "cell_type": "code",
   "execution_count": 10,
   "id": "3e9e4765-9602-455e-bc01-b09514217905",
   "metadata": {},
   "outputs": [],
   "source": [
    "def tabular_method(\n",
    "    n_states = 40,\n",
    "    episodes = 10000,\n",
    "    initial_lr = 1.0,\n",
    "    min_lr = 0.005,\n",
    "    gamma = 0.95,\n",
    "    max_stps = 100000,\n",
    "    epsilon = 0.05):\n",
    "    \n",
    "    q_table = np.zeros((n_states, n_states, env.action_space.n))\n",
    "#     q_table = np.zeros((n_states, n_states,1))# env.action_space.n))\n",
    "    \n",
    "    tabular_steps = []\n",
    "    \n",
    "\n",
    "    \n",
    "    for episode in range(episodes):\n",
    "\n",
    "        obs = env.reset()\n",
    "        total_reward = 0\n",
    "        alpha = max(min_lr, initial_lr*(gamma**(episode//100)))\n",
    "\n",
    "        steps = 0\n",
    "        while True:\n",
    "    #         env.render()\n",
    "            pos, vel = discretization(env, obs)\n",
    "            pos, vel = int(pos), int(vel) # tabular method need ints\n",
    "            if np.random.uniform(low=0, high=1) < epsilon:\n",
    "#                 a = np.random.uniform(low = env.action_space.low, high = env.action_space.high)\n",
    "                a = np.random.choice(env.action_space.n) #for discrete action space\n",
    "            else:\n",
    "#                 a = q_table[pos][vel]\n",
    "                a = np.argmax(q_table[pos][vel])\n",
    "            try:\n",
    "                obs, reward, terminate,_ = env.step(a)\n",
    "            except Exception as e:\n",
    "                print(\"ACTION\", a)\n",
    "                \n",
    "                print(e)\n",
    "                return()\n",
    "            total_reward += abs(obs[0]+0.5)\n",
    "            pos_, vel_ = discretization(env, obs)\n",
    "            pos_, vel_ = int(pos_), int(vel_)\n",
    "\n",
    "\n",
    "            # Q function update\n",
    "            q_table[pos][vel][a] = (1-alpha)*q_table[pos][vel][a] + alpha*(reward+gamma*np.max(q_table[pos_][vel_]))\n",
    "\n",
    "#             update = (1-alpha)*q_table[pos][vel] + alpha*(reward+gamma*q_table[pos_][vel_])\n",
    "#             if update > 1:\n",
    "#                 update = 1\n",
    "#             elif update < -1:\n",
    "#                 update = -1\n",
    "\n",
    "#             q_table[pos][vel] = update\n",
    "            \n",
    "            # value : the optimum action i can take is the reward that i get from taking that action + \n",
    "            # gamma x the optimum I can gather as value from where I go\n",
    "            steps += 1\n",
    "            if steps%max_stps == 0:\n",
    "                print(\"FAILED\")\n",
    "                break\n",
    "            if terminate:\n",
    "                tabular_steps.append(steps)\n",
    "                if episode % 100 == 0:\n",
    "                    print(\"Episode:\", episode, \"Alpha: \", alpha, \"Steps: \", steps)\n",
    "                break\n",
    "\n",
    "    env.close()\n",
    "    return(q_table)"
   ]
  },
  {
   "cell_type": "code",
   "execution_count": 11,
   "id": "cb7fc9c7-1a2c-4fd4-9e18-c765d180013c",
   "metadata": {
    "tags": []
   },
   "outputs": [
    {
     "name": "stdout",
     "output_type": "stream",
     "text": [
      "FAILED\n",
      "FAILED\n",
      "FAILED\n",
      "Episode: 100 Alpha:  0.95 Steps:  1110\n",
      "Episode: 200 Alpha:  0.9025 Steps:  527\n",
      "Episode: 300 Alpha:  0.8573749999999999 Steps:  749\n",
      "Episode: 400 Alpha:  0.8145062499999999 Steps:  658\n",
      "Episode: 500 Alpha:  0.7737809374999998 Steps:  578\n",
      "Episode: 600 Alpha:  0.7350918906249998 Steps:  446\n",
      "Episode: 700 Alpha:  0.6983372960937497 Steps:  564\n",
      "Episode: 800 Alpha:  0.6634204312890623 Steps:  482\n",
      "Episode: 900 Alpha:  0.6302494097246091 Steps:  362\n",
      "Episode: 1000 Alpha:  0.5987369392383787 Steps:  414\n",
      "Episode: 1100 Alpha:  0.5688000922764597 Steps:  367\n",
      "Episode: 1200 Alpha:  0.5403600876626367 Steps:  442\n",
      "Episode: 1300 Alpha:  0.5133420832795048 Steps:  398\n",
      "Episode: 1400 Alpha:  0.48767497911552954 Steps:  598\n",
      "Episode: 1500 Alpha:  0.46329123015975304 Steps:  438\n",
      "Episode: 1600 Alpha:  0.44012666865176536 Steps:  516\n",
      "Episode: 1700 Alpha:  0.4181203352191771 Steps:  491\n",
      "Episode: 1800 Alpha:  0.3972143184582182 Steps:  566\n",
      "Episode: 1900 Alpha:  0.37735360253530725 Steps:  485\n",
      "Episode: 2000 Alpha:  0.3584859224085419 Steps:  386\n",
      "Episode: 2100 Alpha:  0.3405616262881148 Steps:  451\n",
      "Episode: 2200 Alpha:  0.323533544973709 Steps:  338\n",
      "Episode: 2300 Alpha:  0.3073568677250236 Steps:  286\n",
      "Episode: 2400 Alpha:  0.2919890243387724 Steps:  344\n",
      "Episode: 2500 Alpha:  0.27738957312183377 Steps:  330\n",
      "Episode: 2600 Alpha:  0.26352009446574204 Steps:  419\n",
      "Episode: 2700 Alpha:  0.2503440897424549 Steps:  424\n",
      "Episode: 2800 Alpha:  0.23782688525533216 Steps:  396\n",
      "Episode: 2900 Alpha:  0.22593554099256555 Steps:  331\n",
      "Episode: 3000 Alpha:  0.21463876394293727 Steps:  393\n",
      "Episode: 3100 Alpha:  0.2039068257457904 Steps:  322\n",
      "Episode: 3200 Alpha:  0.19371148445850087 Steps:  374\n",
      "Episode: 3300 Alpha:  0.18402591023557582 Steps:  358\n",
      "Episode: 3400 Alpha:  0.174824614723797 Steps:  312\n",
      "Episode: 3500 Alpha:  0.16608338398760716 Steps:  459\n",
      "Episode: 3600 Alpha:  0.1577792147882268 Steps:  472\n",
      "Episode: 3700 Alpha:  0.14989025404881545 Steps:  421\n",
      "Episode: 3800 Alpha:  0.14239574134637467 Steps:  301\n",
      "Episode: 3900 Alpha:  0.13527595427905592 Steps:  328\n",
      "Episode: 4000 Alpha:  0.12851215656510312 Steps:  326\n",
      "Episode: 4100 Alpha:  0.12208654873684796 Steps:  363\n",
      "Episode: 4200 Alpha:  0.11598222130000556 Steps:  249\n",
      "Episode: 4300 Alpha:  0.11018311023500528 Steps:  404\n",
      "Episode: 4400 Alpha:  0.10467395472325501 Steps:  402\n",
      "Episode: 4500 Alpha:  0.09944025698709225 Steps:  357\n",
      "Episode: 4600 Alpha:  0.09446824413773763 Steps:  515\n",
      "Episode: 4700 Alpha:  0.08974483193085075 Steps:  337\n",
      "Episode: 4800 Alpha:  0.0852575903343082 Steps:  316\n",
      "Episode: 4900 Alpha:  0.0809947108175928 Steps:  386\n",
      "Episode: 5000 Alpha:  0.07694497527671315 Steps:  284\n",
      "Episode: 5100 Alpha:  0.07309772651287749 Steps:  374\n",
      "Episode: 5200 Alpha:  0.06944284018723361 Steps:  376\n",
      "Episode: 5300 Alpha:  0.06597069817787193 Steps:  244\n",
      "Episode: 5400 Alpha:  0.06267216326897833 Steps:  274\n",
      "Episode: 5500 Alpha:  0.05953855510552941 Steps:  373\n",
      "Episode: 5600 Alpha:  0.056561627350252934 Steps:  315\n",
      "Episode: 5700 Alpha:  0.053733545982740286 Steps:  321\n",
      "Episode: 5800 Alpha:  0.051046868683603266 Steps:  258\n",
      "Episode: 5900 Alpha:  0.048494525249423104 Steps:  268\n",
      "Episode: 6000 Alpha:  0.046069798986951946 Steps:  252\n",
      "Episode: 6100 Alpha:  0.043766309037604346 Steps:  404\n",
      "Episode: 6200 Alpha:  0.04157799358572413 Steps:  325\n",
      "Episode: 6300 Alpha:  0.03949909390643792 Steps:  280\n",
      "Episode: 6400 Alpha:  0.03752413921111602 Steps:  392\n",
      "Episode: 6500 Alpha:  0.03564793225056022 Steps:  321\n",
      "Episode: 6600 Alpha:  0.033865535638032206 Steps:  363\n",
      "Episode: 6700 Alpha:  0.03217225885613059 Steps:  448\n",
      "Episode: 6800 Alpha:  0.030563645913324063 Steps:  297\n",
      "Episode: 6900 Alpha:  0.02903546361765786 Steps:  237\n",
      "Episode: 7000 Alpha:  0.027583690436774964 Steps:  328\n",
      "Episode: 7100 Alpha:  0.026204505914936217 Steps:  378\n",
      "Episode: 7200 Alpha:  0.024894280619189402 Steps:  344\n",
      "Episode: 7300 Alpha:  0.023649566588229934 Steps:  325\n",
      "Episode: 7400 Alpha:  0.022467088258818435 Steps:  331\n",
      "Episode: 7500 Alpha:  0.02134373384587751 Steps:  428\n",
      "Episode: 7600 Alpha:  0.020276547153583634 Steps:  284\n",
      "Episode: 7700 Alpha:  0.01926271979590445 Steps:  491\n",
      "Episode: 7800 Alpha:  0.01829958380610923 Steps:  297\n",
      "Episode: 7900 Alpha:  0.017384604615803767 Steps:  305\n",
      "Episode: 8000 Alpha:  0.01651537438501358 Steps:  412\n",
      "Episode: 8100 Alpha:  0.0156896056657629 Steps:  319\n",
      "Episode: 8200 Alpha:  0.014905125382474753 Steps:  334\n",
      "Episode: 8300 Alpha:  0.014159869113351015 Steps:  495\n",
      "Episode: 8400 Alpha:  0.013451875657683464 Steps:  372\n",
      "Episode: 8500 Alpha:  0.012779281874799289 Steps:  361\n",
      "Episode: 8600 Alpha:  0.012140317781059324 Steps:  245\n",
      "Episode: 8700 Alpha:  0.011533301892006357 Steps:  272\n",
      "Episode: 8800 Alpha:  0.01095663679740604 Steps:  304\n",
      "Episode: 8900 Alpha:  0.010408804957535737 Steps:  289\n",
      "Episode: 9000 Alpha:  0.00988836470965895 Steps:  335\n",
      "Episode: 9100 Alpha:  0.009393946474176 Steps:  361\n",
      "Episode: 9200 Alpha:  0.008924249150467202 Steps:  328\n",
      "Episode: 9300 Alpha:  0.00847803669294384 Steps:  326\n",
      "Episode: 9400 Alpha:  0.008054134858296648 Steps:  367\n",
      "Episode: 9500 Alpha:  0.007651428115381815 Steps:  342\n",
      "Episode: 9600 Alpha:  0.007268856709612724 Steps:  327\n",
      "Episode: 9700 Alpha:  0.006905413874132088 Steps:  277\n",
      "Episode: 9800 Alpha:  0.006560143180425483 Steps:  323\n",
      "Episode: 9900 Alpha:  0.006232136021404208 Steps:  327\n"
     ]
    }
   ],
   "source": [
    "q_table = tabular_method(n_states)"
   ]
  },
  {
   "cell_type": "code",
   "execution_count": 12,
   "id": "90e8b236-2fe3-48c3-8710-3d173e6d4795",
   "metadata": {
    "tags": []
   },
   "outputs": [],
   "source": [
    "# for e in range(100):\n",
    "#     obs = env.reset()\n",
    "#     steps = 0\n",
    "#     while True:\n",
    "#         env.render()\n",
    "#         pos, vel = discretization(env, obs)\n",
    "#         pos, vel = int(pos), int(vel)\n",
    "# #         a = q_table[pos][vel]\n",
    "#         a = np.argmax(q_table[pos][vel])\n",
    "# #         a = int(m[pos][vel])\n",
    "#         obs, reward, terminate, _ = env.step(a)\n",
    "#         steps += 1\n",
    "\n",
    "#         if steps >= 1000:\n",
    "#             print(\"FAILED\")\n",
    "#             break\n",
    "#         if terminate:\n",
    "#             time.sleep(1)\n",
    "#             print(steps)\n",
    "#             break"
   ]
  },
  {
   "cell_type": "code",
   "execution_count": null,
   "id": "f2cd270a-39c5-4d48-86bd-ab5ec309dc24",
   "metadata": {},
   "outputs": [],
   "source": []
  },
  {
   "cell_type": "code",
   "execution_count": 13,
   "id": "e573f0f4-29c0-481b-87f6-d1975b364b94",
   "metadata": {},
   "outputs": [],
   "source": [
    "mat = np.max(q_table, axis =2)\n",
    "mat_actions = np.argmax(q_table, axis =2)"
   ]
  },
  {
   "cell_type": "code",
   "execution_count": 14,
   "id": "1bf358a5-5f11-46ed-ae6b-fa0fdabbe30a",
   "metadata": {},
   "outputs": [
    {
     "data": {
      "text/plain": [
       "(200, 200)"
      ]
     },
     "execution_count": 14,
     "metadata": {},
     "output_type": "execute_result"
    }
   ],
   "source": [
    "mat_actions.shape"
   ]
  },
  {
   "cell_type": "code",
   "execution_count": 15,
   "id": "61e75d1e-325c-4b42-9d86-d04fe70eda11",
   "metadata": {},
   "outputs": [
    {
     "name": "stderr",
     "output_type": "stream",
     "text": [
      "C:\\conda_tmp/ipykernel_21628/4184196547.py:5: MatplotlibDeprecationWarning: shading='flat' when X and Y have the same dimensions as C is deprecated since 3.3.  Either specify the corners of the quadrilaterals with X and Y, or pass shading='auto', 'nearest' or 'gouraud', or set rcParams['pcolor.shading'].  This will become an error two minor releases later.\n",
      "  plt.pcolor(range(-int(n_states/2),int(n_states/2)), range(-int(n_states/2), int(n_states/2)), mat[::-1, ::1], cmap = cmap)\n"
     ]
    },
    {
     "data": {
      "image/png": "[encoded data removed]",
      "text/plain": [
       "<Figure size 360x360 with 1 Axes>"
      ]
     },
     "metadata": {
      "needs_background": "light"
     },
     "output_type": "display_data"
    }
   ],
   "source": [
    "visualise_actions(mat_actions) #make gif of this"
   ]
  },
  {
   "cell_type": "code",
   "execution_count": 16,
   "id": "7a600374-79b5-4161-961b-c35232bcca04",
   "metadata": {},
   "outputs": [
    {
     "name": "stderr",
     "output_type": "stream",
     "text": [
      "C:\\conda_tmp/ipykernel_21628/776601333.py:5: MatplotlibDeprecationWarning: shading='flat' when X and Y have the same dimensions as C is deprecated since 3.3.  Either specify the corners of the quadrilaterals with X and Y, or pass shading='auto', 'nearest' or 'gouraud', or set rcParams['pcolor.shading'].  This will become an error two minor releases later.\n",
      "  plt.pcolor(range(-int(n_states/2),int(n_states/2)), range(-int(n_states/2), int(n_states/2)), mat[::-1, ::-1], cmap = cmap)\n"
     ]
    },
    {
     "data": {
      "image/png": "[encoded data removed]",
      "text/plain": [
       "<Figure size 360x360 with 1 Axes>"
      ]
     },
     "metadata": {
      "needs_background": "light"
     },
     "output_type": "display_data"
    }
   ],
   "source": [
    "visualise_conf(mat)"
   ]
  },
  {
   "cell_type": "markdown",
   "id": "8288b2e8-014d-4adb-a27d-8c6f659854b4",
   "metadata": {},
   "source": [
    "# Gradient Descent"
   ]
  },
  {
   "cell_type": "code",
   "execution_count": 17,
   "id": "05316442-54b8-41d7-afb2-83d1f1b892f7",
   "metadata": {},
   "outputs": [
    {
     "data": {
      "text/plain": [
       "(200, 200, 3)"
      ]
     },
     "execution_count": 17,
     "metadata": {},
     "output_type": "execute_result"
    }
   ],
   "source": [
    "q_table.shape"
   ]
  },
  {
   "cell_type": "code",
   "execution_count": 18,
   "id": "33a9476f-48a8-49cd-9e21-a3f5e114947d",
   "metadata": {},
   "outputs": [],
   "source": [
    "def construct_states(n = n_states):\n",
    "    states = []\n",
    "    for i in range(n):\n",
    "        for j in range(n):\n",
    "            for k in range(3):\n",
    "#                 print(i, j, k)\n",
    "                states.append(np.array([i, j,k]))\n",
    "    states = np.asarray(states)\n",
    "    return(states)"
   ]
  },
  {
   "cell_type": "code",
   "execution_count": 19,
   "id": "fabc6f79-b34d-4860-b685-f2c24b23c561",
   "metadata": {},
   "outputs": [],
   "source": [
    "# n_states = 100"
   ]
  },
  {
   "cell_type": "code",
   "execution_count": 20,
   "id": "9ad5fd61-c6e3-417f-9676-471654d9ebff",
   "metadata": {},
   "outputs": [],
   "source": [
    "states = construct_states(n_states)"
   ]
  },
  {
   "cell_type": "code",
   "execution_count": 21,
   "id": "1fbabe80-db29-41f5-920e-aa70c79c9a38",
   "metadata": {},
   "outputs": [
    {
     "data": {
      "text/plain": [
       "array([[  0,   0,   0],\n",
       "       [  0,   0,   1],\n",
       "       [  0,   0,   2],\n",
       "       ...,\n",
       "       [199, 199,   0],\n",
       "       [199, 199,   1],\n",
       "       [199, 199,   2]])"
      ]
     },
     "execution_count": 21,
     "metadata": {},
     "output_type": "execute_result"
    }
   ],
   "source": [
    "states"
   ]
  },
  {
   "cell_type": "code",
   "execution_count": null,
   "id": "415e80e8-adba-4073-8d61-f694f180bfdd",
   "metadata": {},
   "outputs": [],
   "source": []
  },
  {
   "cell_type": "code",
   "execution_count": 22,
   "id": "6f17e602-1faa-41ea-abb4-e1ba12e2c922",
   "metadata": {},
   "outputs": [],
   "source": [
    "def get_means(J):\n",
    "    \"\"\"\n",
    "    Getting J cluster centers for the radial basis model\n",
    "    \"\"\"\n",
    "#     print(df_values.shape)\n",
    "    X = states #state space is the position, velocity and action\n",
    "    means = []\n",
    "\n",
    "    N = len(states)\n",
    "    sig = np.std(X)\n",
    "    \n",
    "    for i in range(3):\n",
    "        means.append(np.linspace(X[:, i].min(), X[:, i].max(), J))\n",
    "    means  = np.array(means).T\n",
    "    \n",
    "    U = np.zeros((N,J))\n",
    "\n",
    "    for i in range(N):\n",
    "        for j in range(J):\n",
    "            U[i][j] = np.exp(-0.5 *np.linalg.norm(X[i] - means[j])/(sig))\n",
    "    \n",
    "    return(U, means)"
   ]
  },
  {
   "cell_type": "code",
   "execution_count": 23,
   "id": "47ca6d37-a05f-4f42-9d5e-7dccbce5f7e0",
   "metadata": {},
   "outputs": [],
   "source": [
    "U, kmeans = get_means(J)"
   ]
  },
  {
   "cell_type": "code",
   "execution_count": 24,
   "id": "e0a6bc1e-51f0-45b4-8533-977b65dd0f49",
   "metadata": {},
   "outputs": [
    {
     "data": {
      "text/plain": [
       "(120000, 100)"
      ]
     },
     "execution_count": 24,
     "metadata": {},
     "output_type": "execute_result"
    }
   ],
   "source": [
    "U.shape"
   ]
  },
  {
   "cell_type": "code",
   "execution_count": 25,
   "id": "8e014b68-0817-4b7b-8877-1865e09e50d3",
   "metadata": {},
   "outputs": [],
   "source": [
    "def evaluate_a(pos, vel, a, w):\n",
    "    \"\"\"\n",
    "    Getting the value from a state\n",
    "    \n",
    "    input: state, action, weights vector\n",
    "    \n",
    "    Output: value of action in that state\n",
    "    \n",
    "    Method: convert the state and action into the design matrix, then dot product the weights \n",
    "    \n",
    "    \"\"\"\n",
    "    states = np.array([pos, vel, a])\n",
    "    U = []\n",
    "    for j in range(J):\n",
    "        U.append(np.exp(-0.5 *np.linalg.norm(states - kmeans[j])/sig))\n",
    "    return(U @ w, U)"
   ]
  },
  {
   "cell_type": "code",
   "execution_count": 26,
   "id": "984885fc-ef65-4d78-b5dd-8dcb294d94fd",
   "metadata": {},
   "outputs": [],
   "source": [
    "def RBF(pos, vel, w):\n",
    "    \"\"\"\n",
    "    RBF for the values of all possible actions from that state\n",
    "    \n",
    "    \"\"\"\n",
    "    vals = []\n",
    "    for act in range(3):\n",
    "        U = []\n",
    "        states = np.array([pos, vel, act])\n",
    "        for j in range(J):\n",
    "            U.append(np.exp(-0.5 *np.linalg.norm(states - kmeans[j])/sig))\n",
    "        vals.append(U @ w)\n",
    "    return(vals)"
   ]
  },
  {
   "cell_type": "markdown",
   "id": "abf289b9-e642-4120-a5d0-f306732d56a3",
   "metadata": {},
   "source": [
    "## Q-learning"
   ]
  },
  {
   "cell_type": "code",
   "execution_count": null,
   "id": "2d343aa4-2347-48de-902e-60a5f184bb85",
   "metadata": {},
   "outputs": [],
   "source": [
    "# try neural network? train on gpu"
   ]
  },
  {
   "cell_type": "code",
   "execution_count": 27,
   "id": "8a70e6a5-76f4-480b-beff-cee91e9006e9",
   "metadata": {},
   "outputs": [],
   "source": [
    "def discretization(env, obs): #NO INT\n",
    "    env_low = env.observation_space.low\n",
    "    env_high = env.observation_space.high\n",
    "    env_den = (env_high - env_low)# / n_states\n",
    "    pos_den = env_den[0]\n",
    "    vel_den = env_den[1]\n",
    "    pos_high = env_high[0]\n",
    "    pos_low = env_low[0]\n",
    "    vel_high = env_high[1]\n",
    "    vel_low = env_low[1]\n",
    "    pos_scaled =(obs[0] - pos_low) / pos_den   #int((obs[0] - pos_low) / pos_den)\n",
    "    vel_scaled = (obs[1] - vel_low) / vel_den#int((obs[1] - vel_low) / vel_den)\n",
    "    return(pos_scaled, vel_scaled)"
   ]
  },
  {
   "cell_type": "code",
   "execution_count": 28,
   "id": "73aa5a41-151a-4c69-951c-564532347cb3",
   "metadata": {},
   "outputs": [],
   "source": [
    "X = states #state space is the position, velocity and action\n",
    "sig = np.std(X)"
   ]
  },
  {
   "cell_type": "code",
   "execution_count": 29,
   "id": "8bafbd88-e668-4bfe-bbe4-22cfd9abfc6e",
   "metadata": {},
   "outputs": [],
   "source": [
    "def q_learning(\n",
    "    n_states = n_states,\n",
    "    episodes = 50,\n",
    "    initial_lr = 1.0,\n",
    "    min_lr = 0.005,\n",
    "    gamma = 0.99,\n",
    "    max_stps = 30000,\n",
    "    epsilon = 0.05):\n",
    "\n",
    "\n",
    "\n",
    "    q_table = np.zeros((n_states, n_states, env.action_space.n))\n",
    "    total_steps = []\n",
    "\n",
    "\n",
    "    w = np.random.rand(J, 1)\n",
    "    for episode in range(episodes):\n",
    "\n",
    "\n",
    "        obs = env.reset()\n",
    "        total_reward = 0\n",
    "        alpha = max(min_lr, initial_lr*(gamma**(episode/0.1)))# max(min_lr, initial_lr*(gamma**(episode//100)))\n",
    "\n",
    "        steps = 0\n",
    "        while True:\n",
    "\n",
    "            pos, vel = discretization(env, obs)\n",
    "\n",
    "            if np.random.uniform(low=0, high=1) < epsilon:\n",
    "                a = np.random.choice(env.action_space.n)\n",
    "                a_value, U = evaluate_a(pos, vel, a, w)\n",
    "            else:\n",
    "                a = np.argmax(RBF(pos, vel, w))\n",
    "                a_value, U = evaluate_a(pos, vel, a, w)\n",
    "\n",
    "            obs, reward, terminate,_ = env.step(a)\n",
    "            total_reward += abs(obs[0]+0.5)\n",
    "            pos_, vel_ = discretization(env, obs)\n",
    "\n",
    "            states = np.array([pos, vel, a])\n",
    "\n",
    "            max_val = np.max(RBF(pos_,vel_, w)) #random thing for sarsa\n",
    "\n",
    "            # Q function update\n",
    "            w += (alpha * (reward + gamma*max_val - a_value) * U).reshape(J,1)\n",
    "            \n",
    "\n",
    "            steps += 1\n",
    "            if terminate:\n",
    "                total_steps.append(steps)\n",
    "                print(\"Episode:\", episode, steps)\n",
    "                break\n",
    "    return(w)"
   ]
  },
  {
   "cell_type": "code",
   "execution_count": 30,
   "id": "e7a91a4c-a107-4c32-8dc5-5df723835998",
   "metadata": {},
   "outputs": [
    {
     "name": "stdout",
     "output_type": "stream",
     "text": [
      "Episode: 0 21668\n",
      "Episode: 1 10191\n",
      "Episode: 2 12201\n",
      "Episode: 3 11286\n",
      "Episode: 4 10639\n",
      "Episode: 5 40539\n",
      "Episode: 6 8937\n",
      "Episode: 7 18176\n",
      "Episode: 8 4524\n",
      "Episode: 9 7931\n",
      "Episode: 10 44220\n",
      "Episode: 11 5392\n",
      "Episode: 12 29411\n",
      "Episode: 13 18064\n",
      "Episode: 14 11921\n",
      "Episode: 15 34251\n",
      "Episode: 16 7863\n",
      "Episode: 17 20847\n",
      "Episode: 18 14712\n",
      "Episode: 19 9033\n",
      "Episode: 20 37849\n",
      "Episode: 21 38158\n",
      "Episode: 22 7783\n",
      "Episode: 23 26258\n",
      "Episode: 24 35105\n",
      "Episode: 25 5174\n",
      "Episode: 26 15074\n",
      "Episode: 27 7124\n",
      "Episode: 28 47669\n",
      "Episode: 29 16476\n",
      "Episode: 30 35697\n",
      "Episode: 31 5590\n",
      "Episode: 32 35449\n",
      "Episode: 33 24837\n",
      "Episode: 34 2793\n",
      "Episode: 35 32301\n",
      "Episode: 36 12323\n",
      "Episode: 37 22809\n",
      "Episode: 38 9107\n",
      "Episode: 39 9309\n"
     ]
    },
    {
     "ename": "KeyboardInterrupt",
     "evalue": "",
     "output_type": "error",
     "traceback": [
      "\u001b[1;31m---------------------------------------------------------------------------\u001b[0m",
      "\u001b[1;31mKeyboardInterrupt\u001b[0m                         Traceback (most recent call last)",
      "\u001b[1;32mC:\\conda_tmp/ipykernel_21628/3483856462.py\u001b[0m in \u001b[0;36m<module>\u001b[1;34m\u001b[0m\n\u001b[1;32m----> 1\u001b[1;33m \u001b[0mw_q_learning\u001b[0m \u001b[1;33m=\u001b[0m \u001b[0mq_learning\u001b[0m\u001b[1;33m(\u001b[0m\u001b[1;33m)\u001b[0m\u001b[1;33m\u001b[0m\u001b[1;33m\u001b[0m\u001b[0m\n\u001b[0m",
      "\u001b[1;32mC:\\conda_tmp/ipykernel_21628/1731335758.py\u001b[0m in \u001b[0;36mq_learning\u001b[1;34m(n_states, episodes, initial_lr, min_lr, gamma, max_stps, epsilon)\u001b[0m\n\u001b[0;32m     40\u001b[0m             \u001b[0mstates\u001b[0m \u001b[1;33m=\u001b[0m \u001b[0mnp\u001b[0m\u001b[1;33m.\u001b[0m\u001b[0marray\u001b[0m\u001b[1;33m(\u001b[0m\u001b[1;33m[\u001b[0m\u001b[0mpos\u001b[0m\u001b[1;33m,\u001b[0m \u001b[0mvel\u001b[0m\u001b[1;33m,\u001b[0m \u001b[0ma\u001b[0m\u001b[1;33m]\u001b[0m\u001b[1;33m)\u001b[0m\u001b[1;33m\u001b[0m\u001b[1;33m\u001b[0m\u001b[0m\n\u001b[0;32m     41\u001b[0m \u001b[1;33m\u001b[0m\u001b[0m\n\u001b[1;32m---> 42\u001b[1;33m             \u001b[0mmax_val\u001b[0m \u001b[1;33m=\u001b[0m \u001b[0mnp\u001b[0m\u001b[1;33m.\u001b[0m\u001b[0mmax\u001b[0m\u001b[1;33m(\u001b[0m\u001b[0mRBF\u001b[0m\u001b[1;33m(\u001b[0m\u001b[0mpos_\u001b[0m\u001b[1;33m,\u001b[0m\u001b[0mvel_\u001b[0m\u001b[1;33m,\u001b[0m \u001b[0mw\u001b[0m\u001b[1;33m)\u001b[0m\u001b[1;33m)\u001b[0m \u001b[1;31m#random thing for sarsa\u001b[0m\u001b[1;33m\u001b[0m\u001b[1;33m\u001b[0m\u001b[0m\n\u001b[0m\u001b[0;32m     43\u001b[0m \u001b[1;33m\u001b[0m\u001b[0m\n\u001b[0;32m     44\u001b[0m             \u001b[1;31m# Q function update\u001b[0m\u001b[1;33m\u001b[0m\u001b[1;33m\u001b[0m\u001b[1;33m\u001b[0m\u001b[0m\n",
      "\u001b[1;32mC:\\conda_tmp/ipykernel_21628/1106622661.py\u001b[0m in \u001b[0;36mRBF\u001b[1;34m(pos, vel, w)\u001b[0m\n\u001b[0;32m      9\u001b[0m         \u001b[0mstates\u001b[0m \u001b[1;33m=\u001b[0m \u001b[0mnp\u001b[0m\u001b[1;33m.\u001b[0m\u001b[0marray\u001b[0m\u001b[1;33m(\u001b[0m\u001b[1;33m[\u001b[0m\u001b[0mpos\u001b[0m\u001b[1;33m,\u001b[0m \u001b[0mvel\u001b[0m\u001b[1;33m,\u001b[0m \u001b[0mact\u001b[0m\u001b[1;33m]\u001b[0m\u001b[1;33m)\u001b[0m\u001b[1;33m\u001b[0m\u001b[1;33m\u001b[0m\u001b[0m\n\u001b[0;32m     10\u001b[0m         \u001b[1;32mfor\u001b[0m \u001b[0mj\u001b[0m \u001b[1;32min\u001b[0m \u001b[0mrange\u001b[0m\u001b[1;33m(\u001b[0m\u001b[0mJ\u001b[0m\u001b[1;33m)\u001b[0m\u001b[1;33m:\u001b[0m\u001b[1;33m\u001b[0m\u001b[1;33m\u001b[0m\u001b[0m\n\u001b[1;32m---> 11\u001b[1;33m             \u001b[0mU\u001b[0m\u001b[1;33m.\u001b[0m\u001b[0mappend\u001b[0m\u001b[1;33m(\u001b[0m\u001b[0mnp\u001b[0m\u001b[1;33m.\u001b[0m\u001b[0mexp\u001b[0m\u001b[1;33m(\u001b[0m\u001b[1;33m-\u001b[0m\u001b[1;36m0.5\u001b[0m \u001b[1;33m*\u001b[0m\u001b[0mnp\u001b[0m\u001b[1;33m.\u001b[0m\u001b[0mlinalg\u001b[0m\u001b[1;33m.\u001b[0m\u001b[0mnorm\u001b[0m\u001b[1;33m(\u001b[0m\u001b[0mstates\u001b[0m \u001b[1;33m-\u001b[0m \u001b[0mkmeans\u001b[0m\u001b[1;33m[\u001b[0m\u001b[0mj\u001b[0m\u001b[1;33m]\u001b[0m\u001b[1;33m)\u001b[0m\u001b[1;33m/\u001b[0m\u001b[0msig\u001b[0m\u001b[1;33m)\u001b[0m\u001b[1;33m)\u001b[0m\u001b[1;33m\u001b[0m\u001b[1;33m\u001b[0m\u001b[0m\n\u001b[0m\u001b[0;32m     12\u001b[0m         \u001b[0mvals\u001b[0m\u001b[1;33m.\u001b[0m\u001b[0mappend\u001b[0m\u001b[1;33m(\u001b[0m\u001b[0mU\u001b[0m \u001b[1;33m@\u001b[0m \u001b[0mw\u001b[0m\u001b[1;33m)\u001b[0m\u001b[1;33m\u001b[0m\u001b[1;33m\u001b[0m\u001b[0m\n\u001b[0;32m     13\u001b[0m     \u001b[1;32mreturn\u001b[0m\u001b[1;33m(\u001b[0m\u001b[0mvals\u001b[0m\u001b[1;33m)\u001b[0m\u001b[1;33m\u001b[0m\u001b[1;33m\u001b[0m\u001b[0m\n",
      "\u001b[1;32m<__array_function__ internals>\u001b[0m in \u001b[0;36mnorm\u001b[1;34m(*args, **kwargs)\u001b[0m\n",
      "\u001b[1;32m~\\anaconda3\\lib\\site-packages\\numpy\\linalg\\linalg.py\u001b[0m in \u001b[0;36mnorm\u001b[1;34m(x, ord, axis, keepdims)\u001b[0m\n\u001b[0;32m   2528\u001b[0m                 \u001b[0msqnorm\u001b[0m \u001b[1;33m=\u001b[0m \u001b[0mdot\u001b[0m\u001b[1;33m(\u001b[0m\u001b[0mx\u001b[0m\u001b[1;33m.\u001b[0m\u001b[0mreal\u001b[0m\u001b[1;33m,\u001b[0m \u001b[0mx\u001b[0m\u001b[1;33m.\u001b[0m\u001b[0mreal\u001b[0m\u001b[1;33m)\u001b[0m \u001b[1;33m+\u001b[0m \u001b[0mdot\u001b[0m\u001b[1;33m(\u001b[0m\u001b[0mx\u001b[0m\u001b[1;33m.\u001b[0m\u001b[0mimag\u001b[0m\u001b[1;33m,\u001b[0m \u001b[0mx\u001b[0m\u001b[1;33m.\u001b[0m\u001b[0mimag\u001b[0m\u001b[1;33m)\u001b[0m\u001b[1;33m\u001b[0m\u001b[1;33m\u001b[0m\u001b[0m\n\u001b[0;32m   2529\u001b[0m             \u001b[1;32melse\u001b[0m\u001b[1;33m:\u001b[0m\u001b[1;33m\u001b[0m\u001b[1;33m\u001b[0m\u001b[0m\n\u001b[1;32m-> 2530\u001b[1;33m                 \u001b[0msqnorm\u001b[0m \u001b[1;33m=\u001b[0m \u001b[0mdot\u001b[0m\u001b[1;33m(\u001b[0m\u001b[0mx\u001b[0m\u001b[1;33m,\u001b[0m \u001b[0mx\u001b[0m\u001b[1;33m)\u001b[0m\u001b[1;33m\u001b[0m\u001b[1;33m\u001b[0m\u001b[0m\n\u001b[0m\u001b[0;32m   2531\u001b[0m             \u001b[0mret\u001b[0m \u001b[1;33m=\u001b[0m \u001b[0msqrt\u001b[0m\u001b[1;33m(\u001b[0m\u001b[0msqnorm\u001b[0m\u001b[1;33m)\u001b[0m\u001b[1;33m\u001b[0m\u001b[1;33m\u001b[0m\u001b[0m\n\u001b[0;32m   2532\u001b[0m             \u001b[1;32mif\u001b[0m \u001b[0mkeepdims\u001b[0m\u001b[1;33m:\u001b[0m\u001b[1;33m\u001b[0m\u001b[1;33m\u001b[0m\u001b[0m\n",
      "\u001b[1;32m<__array_function__ internals>\u001b[0m in \u001b[0;36mdot\u001b[1;34m(*args, **kwargs)\u001b[0m\n",
      "\u001b[1;31mKeyboardInterrupt\u001b[0m: "
     ]
    }
   ],
   "source": [
    "w_q_learning = q_learning()"
   ]
  },
  {
   "cell_type": "code",
   "execution_count": null,
   "id": "347fafb3-a8b2-44dd-afa7-d3c12c6b15ae",
   "metadata": {},
   "outputs": [],
   "source": [
    "U.shape, w_q_learning.shape"
   ]
  },
  {
   "cell_type": "code",
   "execution_count": null,
   "id": "9e9e653b-8be5-4359-afd8-c0c16528b18f",
   "metadata": {},
   "outputs": [],
   "source": []
  },
  {
   "cell_type": "code",
   "execution_count": null,
   "id": "d30d386a-5dcd-49e7-8301-7c1c084ef323",
   "metadata": {},
   "outputs": [],
   "source": [
    "q_learning_table = np.zeros([n_states,n_states])\n",
    "step = 0\n",
    "for i in range(n_states):\n",
    "    for j in range(n_states):\n",
    "        q_learning_table[i][j] = np.argmax(U[step*3: step*3+3] @ w_q_learning)\n",
    "        step += 1"
   ]
  },
  {
   "cell_type": "code",
   "execution_count": null,
   "id": "b3c6834c-1067-4914-abdf-c43ec095785f",
   "metadata": {},
   "outputs": [],
   "source": [
    "q_learning_table.shape"
   ]
  },
  {
   "cell_type": "code",
   "execution_count": null,
   "id": "13943f31-2c77-4902-b178-20f0027f958c",
   "metadata": {},
   "outputs": [],
   "source": [
    "visualise_actions(q_learning_table)"
   ]
  },
  {
   "cell_type": "code",
   "execution_count": null,
   "id": "c9c10010-5e8a-445e-a9f7-c397f04869b2",
   "metadata": {},
   "outputs": [],
   "source": [
    "# for e in range(100):\n",
    "#     obs = env.reset()\n",
    "#     steps = 0\n",
    "#     while True:\n",
    "# #         env.render()\n",
    "#         pos, vel = discretization(env, obs)\n",
    "#         pos, vel = int(pos), int(vel)\n",
    "# #         a = q_table[pos][vel]\n",
    "#         a = np.argmax(q_learning_table[pos][vel])\n",
    "# #         a = int(m[pos][vel])\n",
    "#         obs, reward, terminate, _ = env.step(a)\n",
    "#         steps += 1\n",
    "\n",
    "#         if steps >= 1000:\n",
    "#             print(\"FAILED\")\n",
    "#             break\n",
    "#         if terminate:\n",
    "#             time.sleep(1)\n",
    "#             print(steps)\n",
    "#             break"
   ]
  },
  {
   "cell_type": "code",
   "execution_count": null,
   "id": "2396679f-bc84-406b-877f-5c2c13f51d6a",
   "metadata": {},
   "outputs": [],
   "source": []
  },
  {
   "cell_type": "code",
   "execution_count": null,
   "id": "da9c1173-7344-4844-9522-53992ae94da0",
   "metadata": {},
   "outputs": [],
   "source": [
    "# for e in range(100):\n",
    "#     obs = env.reset()\n",
    "#     steps = 0\n",
    "#     while True:\n",
    "# #         env.render()\n",
    "#         pos, vel = discretization(env, obs)\n",
    "#         a = np.argmax(RBF(pos, vel, w_q_learning))\n",
    "\n",
    "#         obs, reward, terminate, _ = env.step(a)\n",
    "#         steps += 1\n",
    "\n",
    "#         if steps >= 1000:\n",
    "#             print(\"FAILED\")\n",
    "#             break\n",
    "#         if terminate:\n",
    "#             time.sleep(1)\n",
    "#             print(steps)\n",
    "#             break"
   ]
  },
  {
   "cell_type": "code",
   "execution_count": null,
   "id": "9803ba4c-f0cd-4769-8deb-b379f3a49593",
   "metadata": {},
   "outputs": [],
   "source": []
  }
 ],
 "metadata": {
  "kernelspec": {
   "display_name": "Python 3 (ipykernel)",
   "language": "python",
   "name": "python3"
  },
  "language_info": {
   "codemirror_mode": {
    "name": "ipython",
    "version": 3
   },
   "file_extension": ".py",
   "mimetype": "text/x-python",
   "name": "python",
   "nbconvert_exporter": "python",
   "pygments_lexer": "ipython3",
   "version": "3.8.12"
  }
 },
 "nbformat": 4,
 "nbformat_minor": 5
}
