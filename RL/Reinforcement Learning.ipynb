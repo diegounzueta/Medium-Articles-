{
 "cells": [
  {
   "cell_type": "markdown",
   "id": "3d675fa3-0faa-4409-a697-fc9dd44b141e",
   "metadata": {},
   "source": [
    "# Medium Reinforcement Learning"
   ]
  },
  {
   "cell_type": "code",
   "execution_count": 1,
   "id": "e5cc6d0b-fed9-4b1f-a02d-fa57a2c9317d",
   "metadata": {},
   "outputs": [],
   "source": [
    "import gym\n",
    "import numpy as np\n",
    "import pandas as pd\n",
    "import matplotlib.patches as mpatches\n",
    "import matplotlib.pyplot as plt\n",
    "import time\n",
    "from celluloid import Camera"
   ]
  },
  {
   "cell_type": "code",
   "execution_count": 2,
   "id": "41d9b2f1-6b1b-42a7-b85b-8d5c368c6ed9",
   "metadata": {},
   "outputs": [],
   "source": [
    "env_name = \"MountainCar-v0\"\n",
    "# env_name = \"MountainCarContinuous-v0\"\n",
    "env = gym.make(env_name).env\n",
    "\n",
    "obs = env.reset()\n",
    "# env.render()"
   ]
  },
  {
   "cell_type": "code",
   "execution_count": 3,
   "id": "4c12918a-0b63-4c29-ab01-59dfe4d4f9e3",
   "metadata": {},
   "outputs": [
    {
     "data": {
      "text/plain": [
       "3"
      ]
     },
     "execution_count": 3,
     "metadata": {},
     "output_type": "execute_result"
    }
   ],
   "source": [
    "env.action_space.n"
   ]
  },
  {
   "cell_type": "code",
   "execution_count": 4,
   "id": "f5463547-d7f4-4389-b180-a012f14f8adf",
   "metadata": {},
   "outputs": [],
   "source": [
    "# env.action_space.low, env.action_space.high"
   ]
  },
  {
   "cell_type": "code",
   "execution_count": 5,
   "id": "60fdeea9-cc03-401b-8bf7-b428be20da29",
   "metadata": {},
   "outputs": [],
   "source": [
    "nv = env.unwrapped\n",
    "env.seed()\n",
    "np.random.seed(1)"
   ]
  },
  {
   "cell_type": "code",
   "execution_count": 6,
   "id": "346ce9e5-9441-4f51-8476-dd99ca7b2af3",
   "metadata": {},
   "outputs": [],
   "source": [
    "n_states = 40\n",
    "J = 100"
   ]
  },
  {
   "cell_type": "markdown",
   "id": "b73add6f-8cad-4179-9798-82a492755d37",
   "metadata": {},
   "source": [
    "## Functions"
   ]
  },
  {
   "cell_type": "code",
   "execution_count": 7,
   "id": "8b9da534-258c-46cb-b2a3-d95309f27564",
   "metadata": {},
   "outputs": [],
   "source": [
    "def discretization(env, obs, n_states):#\n",
    "    \"\"\"\n",
    "    This function\n",
    "    \"\"\"\n",
    "    env_low = env.observation_space.low\n",
    "    env_high = env.observation_space.high\n",
    "    env_den = (env_high - env_low) / n_states\n",
    "    pos_den = env_den[0]\n",
    "    vel_den = env_den[1]\n",
    "    pos_high = env_high[0]\n",
    "    pos_low = env_low[0]\n",
    "    vel_high = env_high[1]\n",
    "    vel_low = env_low[1]\n",
    "    pos_scaled = int((obs[0] - pos_low) / pos_den)\n",
    "    vel_scaled = int((obs[1] - vel_low) / vel_den)\n",
    "    return pos_scaled, vel_scaled\n"
   ]
  },
  {
   "cell_type": "code",
   "execution_count": 8,
   "id": "5c201d74-b4cb-428e-9cf6-9f784cf5419a",
   "metadata": {},
   "outputs": [
    {
     "data": {
      "text/plain": [
       "Box([-1.2  -0.07], [0.6  0.07], (2,), float32)"
      ]
     },
     "execution_count": 8,
     "metadata": {},
     "output_type": "execute_result"
    }
   ],
   "source": [
    "env.observation_space"
   ]
  },
  {
   "cell_type": "code",
   "execution_count": 9,
   "id": "2414a797-3eff-4807-8dd2-95d4518508c6",
   "metadata": {},
   "outputs": [],
   "source": [
    "def visualise_actions(mat, ax =None):\n",
    "    if ax == None:\n",
    "        fig = plt.figure(figsize = (5,5))\n",
    "        ax = fig.add_subplot()\n",
    "    labels = [\"Move Left\", \"Don't Accelerate\", \"Move Right\"]\n",
    "    cmap = plt.cm.get_cmap('Blues', 8) \n",
    "    ax.pcolor(range(-int(n_states/2),int(n_states/2)), range(-int(n_states/2), int(n_states/2)), mat, cmap = cmap)\n",
    "    ax.set_xlabel(\"Position\", fontsize = 15)\n",
    "    ax.set_ylabel(\"Velocity\", fontsize = 15)\n",
    "    # ax.set_title(\"Approximate Value Function\", fontsize = 15)\n",
    "\n",
    "\n",
    "    bound = np.linspace(0, 2, 4)\n",
    "    # Preparing borders for the legend\n",
    "    bound_prep = np.round(bound * 7, 2)\n",
    "    ax.legend([mpatches.Patch(color=cmap(b)) for b in bound[:-1]],\n",
    "               [labels[i] for i in range(3)])"
   ]
  },
  {
   "cell_type": "code",
   "execution_count": 148,
   "id": "ca0b58e2-548b-4597-8ddf-c41beb962514",
   "metadata": {},
   "outputs": [],
   "source": [
    "def visualise_conf(mat):\n",
    "    plt.figure(figsize = (10,10))\n",
    "\n",
    "    cmap = plt.cm.get_cmap('Blues', 8) \n",
    "    plt.pcolor(range(-int(n_states/2),int(n_states/2)), range(-int(n_states/2), int(n_states/2)), mat, cmap = cmap)\n",
    "    plt.xlabel(\"Position\", fontsize = 15)\n",
    "    plt.ylabel(\"Velocity\", fontsize = 15)\n",
    "    # plt.title(\"Confidence Plot?\", fontsize = 15)\n",
    "\n",
    "\n",
    "    bound = np.linspace(0, 2, 4)\n",
    "    # Preparing borders for the legend\n",
    "    bound_prep = np.round(bound * 7, 2)\n",
    "#     plt.legend([mpatches.Patch(color=cmap(b)) for b in bound[:-1]],\n",
    "#                [labels[i] for i in range(3)])"
   ]
  },
  {
   "cell_type": "markdown",
   "id": "766d1805-9b8d-4404-adb6-725b59248b5b",
   "metadata": {},
   "source": [
    "## TABULAR METHOD"
   ]
  },
  {
   "cell_type": "code",
   "execution_count": 32,
   "id": "3e9e4765-9602-455e-bc01-b09514217905",
   "metadata": {},
   "outputs": [],
   "source": [
    "def tabular_method(\n",
    "    n_states = 40,\n",
    "    episodes = 1000,\n",
    "    initial_lr = 1.0,\n",
    "    min_lr = 0.005,\n",
    "    gamma = 0.95,\n",
    "    max_stps = 100000,\n",
    "    epsilon = 0.05):\n",
    "    \n",
    "    q_table = np.zeros((n_states, n_states, env.action_space.n))\n",
    "\n",
    "    tabular_steps = []\n",
    "    \n",
    "    q_table_l = []\n",
    "    q_table_l.append(q_table)\n",
    "    \n",
    "    for episode in range(episodes):\n",
    "\n",
    "        obs = env.reset()\n",
    "        total_reward = 0\n",
    "        alpha = max(min_lr, initial_lr*(gamma**(episode//100)))\n",
    "\n",
    "        steps = 0\n",
    "        while True:\n",
    "\n",
    "            pos, vel = discretization(env, obs, n_states)\n",
    "            if np.random.uniform(low=0, high=1) < epsilon:\n",
    "                a = np.random.choice(env.action_space.n) #for discrete action space\n",
    "            else:\n",
    "                a = np.argmax(q_table[pos][vel])\n",
    "            try:\n",
    "                obs, reward, terminate,_ = env.step(a)\n",
    "                \n",
    "            except Exception as e:\n",
    "                print(\"ACTION\", a) \n",
    "                print(e)\n",
    "                return()\n",
    "            total_reward += abs(obs[0]+0.5)\n",
    "            pos_, vel_ = discretization(env, obs, n_states)\n",
    "            pos_, vel_ = int(pos_), int(vel_)\n",
    "\n",
    "            # Q function update\n",
    "            q_table[pos][vel][a] = (1-alpha)*q_table[pos][vel][a] + alpha*(reward+gamma*np.max(q_table[pos_][vel_]))\n",
    "     \n",
    "            steps += 1\n",
    "            if steps%max_stps == 0:\n",
    "                print(\"FAILED\")\n",
    "                break\n",
    "            if terminate:\n",
    "                tabular_steps.append(steps)\n",
    "                if episode % 100 == 0:\n",
    "                    print(\"Episode:\", episode, \"Alpha: \", alpha, \"Steps: \", steps)\n",
    "                break\n",
    "        q_table_l.append(np.copy(q_table))\n",
    "    env.close()\n",
    "    return(q_table_l, tabular_steps)"
   ]
  },
  {
   "cell_type": "code",
   "execution_count": 33,
   "id": "cb7fc9c7-1a2c-4fd4-9e18-c765d180013c",
   "metadata": {
    "tags": []
   },
   "outputs": [
    {
     "name": "stdout",
     "output_type": "stream",
     "text": [
      "Episode: 0 Alpha:  1.0 Steps:  33643\n",
      "Episode: 100 Alpha:  0.95 Steps:  855\n",
      "Episode: 200 Alpha:  0.9025 Steps:  422\n",
      "Episode: 300 Alpha:  0.8573749999999999 Steps:  397\n",
      "Episode: 400 Alpha:  0.8145062499999999 Steps:  282\n",
      "Episode: 500 Alpha:  0.7737809374999998 Steps:  243\n",
      "Episode: 600 Alpha:  0.7350918906249998 Steps:  233\n",
      "Episode: 700 Alpha:  0.6983372960937497 Steps:  249\n",
      "Episode: 800 Alpha:  0.6634204312890623 Steps:  236\n",
      "Episode: 900 Alpha:  0.6302494097246091 Steps:  339\n"
     ]
    }
   ],
   "source": [
    "q_table_l, tabular_steps= tabular_method(n_states)"
   ]
  },
  {
   "cell_type": "markdown",
   "id": "896f2118-0e3b-46dd-8d37-3824c8583ef1",
   "metadata": {},
   "source": [
    "### Test the result"
   ]
  },
  {
   "cell_type": "code",
   "execution_count": null,
   "id": "90e8b236-2fe3-48c3-8710-3d173e6d4795",
   "metadata": {
    "tags": []
   },
   "outputs": [],
   "source": [
    "for e in range(5):\n",
    "    obs = env.reset()\n",
    "    steps = 0\n",
    "    while True:\n",
    "        pos, vel = discretization(env, obs, n_states)\n",
    "        pos, vel = int(pos), int(vel)\n",
    "        a = np.argmax(q_table_l[-1][pos][vel])\n",
    "        obs, reward, terminate, _ = env.step(a)\n",
    "        steps += 1\n",
    "\n",
    "        if steps >= 1000:\n",
    "            print(\"FAILED\")\n",
    "            break\n",
    "        if terminate:\n",
    "            time.sleep(1)\n",
    "            print(steps)\n",
    "            break"
   ]
  },
  {
   "cell_type": "code",
   "execution_count": 125,
   "id": "503ab7a1-543a-4dd9-82cd-ade860e773fc",
   "metadata": {},
   "outputs": [],
   "source": [
    "n_states= 200"
   ]
  },
  {
   "cell_type": "code",
   "execution_count": 143,
   "id": "61ce2276-d0b5-4dea-9ae6-073d1a01119f",
   "metadata": {},
   "outputs": [],
   "source": []
  },
  {
   "cell_type": "code",
   "execution_count": 144,
   "id": "e9b9765c-14ea-4150-b147-880357122a24",
   "metadata": {},
   "outputs": [
    {
     "data": {
      "text/plain": [
       "array([[0, 0, 0, ..., 0, 0, 0],\n",
       "       [0, 0, 0, ..., 0, 0, 0],\n",
       "       [0, 0, 0, ..., 0, 0, 0],\n",
       "       ...,\n",
       "       [0, 0, 0, ..., 0, 0, 0],\n",
       "       [0, 0, 0, ..., 0, 0, 0],\n",
       "       [0, 0, 0, ..., 0, 0, 0]])"
      ]
     },
     "execution_count": 144,
     "metadata": {},
     "output_type": "execute_result"
    }
   ],
   "source": [
    "np.argmax(q_table_l[-1], axis = 2)"
   ]
  },
  {
   "cell_type": "code",
   "execution_count": 145,
   "id": "0fa2208f-8ac1-4955-ac1a-d77d70ef05bf",
   "metadata": {},
   "outputs": [
    {
     "name": "stderr",
     "output_type": "stream",
     "text": [
      "/opt/conda/lib/python3.7/site-packages/ipykernel_launcher.py:7: MatplotlibDeprecationWarning: shading='flat' when X and Y have the same dimensions as C is deprecated since 3.3.  Either specify the corners of the quadrilaterals with X and Y, or pass shading='auto', 'nearest' or 'gouraud', or set rcParams['pcolor.shading'].  This will become an error two minor releases later.\n",
      "  import sys\n"
     ]
    },
    {
     "data": {
      "text/plain": [
       "<Figure size 432x288 with 0 Axes>"
      ]
     },
     "metadata": {},
     "output_type": "display_data"
    },
    {
     "data": {
      "image/png": "[encoded data removed]",
      "text/plain": [
       "<Figure size 720x720 with 1 Axes>"
      ]
     },
     "metadata": {
      "needs_background": "light"
     },
     "output_type": "display_data"
    },
    {
     "data": {
      "image/png": "[encoded data removed]",
      "text/plain": [
       "<Figure size 720x720 with 1 Axes>"
      ]
     },
     "metadata": {
      "needs_background": "light"
     },
     "output_type": "display_data"
    }
   ],
   "source": [
    "fig = plt.figure()\n",
    "\n",
    "for i in [q_table_l[3], q_table_l[-1]]:\n",
    "    mat_actions = np.argmax(i, axis =2)\n",
    "    \n",
    "    visualise_actions(mat_actions) #make gif of this\n",
    "    plt.show"
   ]
  },
  {
   "cell_type": "markdown",
   "id": "bcd6b449-f6c5-4457-a7a3-544c7d32e293",
   "metadata": {},
   "source": [
    "## Making Animations"
   ]
  },
  {
   "cell_type": "code",
   "execution_count": 91,
   "id": "f2cd270a-39c5-4d48-86bd-ab5ec309dc24",
   "metadata": {},
   "outputs": [],
   "source": [
    "# fig = plt.figure()\n",
    "# camera = Camera(fig)\n",
    "# ax = fig.add_subplot()\n",
    "\n",
    "# for index, i in enumerate(q_table_l[::3]):\n",
    "#     if index%100 == 0:\n",
    "#         print(index, \"/\", len(q_table_l))\n",
    "    \n",
    "#     mat_actions = np.argmax(i, axis =2)\n",
    "    \n",
    "#     visualise_actions(mat_actions, ax) #make gif of this\n",
    "    \n",
    "#     plt.clf\n",
    "#     camera.snap()\n",
    "#     plt.show()"
   ]
  },
  {
   "cell_type": "code",
   "execution_count": 92,
   "id": "ff0e8171-b916-4a2e-b859-4eef5fcfa54e",
   "metadata": {},
   "outputs": [],
   "source": [
    "# animation = camera.animate(interval = 20, repeat = True, repeat_delay = 5000)"
   ]
  },
  {
   "cell_type": "code",
   "execution_count": 93,
   "id": "0f8312fb-fd40-42c8-a58a-161b19b015ec",
   "metadata": {},
   "outputs": [],
   "source": [
    "# animation.save('anim_ value_func_full.gif', writer='PillowWriter', fps=30)"
   ]
  },
  {
   "cell_type": "code",
   "execution_count": 149,
   "id": "7a600374-79b5-4161-961b-c35232bcca04",
   "metadata": {},
   "outputs": [
    {
     "name": "stderr",
     "output_type": "stream",
     "text": [
      "/opt/conda/lib/python3.7/site-packages/ipykernel_launcher.py:5: MatplotlibDeprecationWarning: shading='flat' when X and Y have the same dimensions as C is deprecated since 3.3.  Either specify the corners of the quadrilaterals with X and Y, or pass shading='auto', 'nearest' or 'gouraud', or set rcParams['pcolor.shading'].  This will become an error two minor releases later.\n",
      "  \"\"\"\n"
     ]
    },
    {
     "data": {
      "image/png": "[encoded data removed]",
      "text/plain": [
       "<Figure size 720x720 with 1 Axes>"
      ]
     },
     "metadata": {
      "needs_background": "light"
     },
     "output_type": "display_data"
    }
   ],
   "source": [
    "mat_actions = np.max(q_table_l[-1], axis =2)\n",
    "    \n",
    "visualise_conf(mat_actions)"
   ]
  },
  {
   "cell_type": "markdown",
   "id": "8288b2e8-014d-4adb-a27d-8c6f659854b4",
   "metadata": {},
   "source": [
    "# Gradient Descent Functions"
   ]
  },
  {
   "cell_type": "code",
   "execution_count": 7,
   "id": "bb53ce1d-2ebe-4259-b770-9fb0920868b5",
   "metadata": {},
   "outputs": [
    {
     "ename": "NameError",
     "evalue": "name 'q_table_l' is not defined",
     "output_type": "error",
     "traceback": [
      "\u001b[0;31m---------------------------------------------------------------------------\u001b[0m",
      "\u001b[0;31mNameError\u001b[0m                                 Traceback (most recent call last)",
      "\u001b[0;32m/tmp/ipykernel_758/59425729.py\u001b[0m in \u001b[0;36m<module>\u001b[0;34m\u001b[0m\n\u001b[0;32m----> 1\u001b[0;31m \u001b[0mq_table\u001b[0m \u001b[0;34m=\u001b[0m \u001b[0mq_table_l\u001b[0m\u001b[0;34m[\u001b[0m\u001b[0;34m-\u001b[0m\u001b[0;36m1\u001b[0m\u001b[0;34m]\u001b[0m\u001b[0;34m\u001b[0m\u001b[0;34m\u001b[0m\u001b[0m\n\u001b[0m",
      "\u001b[0;31mNameError\u001b[0m: name 'q_table_l' is not defined"
     ]
    }
   ],
   "source": [
    "q_table = q_table_l[-1]"
   ]
  },
  {
   "cell_type": "code",
   "execution_count": 8,
   "id": "05316442-54b8-41d7-afb2-83d1f1b892f7",
   "metadata": {},
   "outputs": [
    {
     "ename": "NameError",
     "evalue": "name 'q_table' is not defined",
     "output_type": "error",
     "traceback": [
      "\u001b[0;31m---------------------------------------------------------------------------\u001b[0m",
      "\u001b[0;31mNameError\u001b[0m                                 Traceback (most recent call last)",
      "\u001b[0;32m/tmp/ipykernel_758/452214463.py\u001b[0m in \u001b[0;36m<module>\u001b[0;34m\u001b[0m\n\u001b[0;32m----> 1\u001b[0;31m \u001b[0mq_table\u001b[0m\u001b[0;34m.\u001b[0m\u001b[0mshape\u001b[0m\u001b[0;34m\u001b[0m\u001b[0;34m\u001b[0m\u001b[0m\n\u001b[0m",
      "\u001b[0;31mNameError\u001b[0m: name 'q_table' is not defined"
     ]
    }
   ],
   "source": [
    "q_table.shape"
   ]
  },
  {
   "cell_type": "code",
   "execution_count": 13,
   "id": "33a9476f-48a8-49cd-9e21-a3f5e114947d",
   "metadata": {},
   "outputs": [],
   "source": [
    "def construct_states(n = n_states):\n",
    "    states = []\n",
    "    for i in range(n):\n",
    "        for j in range(n):\n",
    "            for k in range(3):\n",
    "#                 print(i, j, k)\n",
    "                states.append(np.array([i, j,k]))\n",
    "    states = np.asarray(states)\n",
    "    return(states)"
   ]
  },
  {
   "cell_type": "code",
   "execution_count": 14,
   "id": "9ad5fd61-c6e3-417f-9676-471654d9ebff",
   "metadata": {},
   "outputs": [],
   "source": [
    "states = construct_states(n_states)"
   ]
  },
  {
   "cell_type": "code",
   "execution_count": 15,
   "id": "1fbabe80-db29-41f5-920e-aa70c79c9a38",
   "metadata": {},
   "outputs": [
    {
     "data": {
      "text/plain": [
       "array([[ 0,  0,  0],\n",
       "       [ 0,  0,  1],\n",
       "       [ 0,  0,  2],\n",
       "       ...,\n",
       "       [39, 39,  0],\n",
       "       [39, 39,  1],\n",
       "       [39, 39,  2]])"
      ]
     },
     "execution_count": 15,
     "metadata": {},
     "output_type": "execute_result"
    }
   ],
   "source": [
    "states"
   ]
  },
  {
   "cell_type": "code",
   "execution_count": 16,
   "id": "6f17e602-1faa-41ea-abb4-e1ba12e2c922",
   "metadata": {},
   "outputs": [],
   "source": [
    "def get_means(J):\n",
    "    \"\"\"\n",
    "    Getting J cluster centers for the radial basis model\n",
    "    \"\"\"\n",
    "#     print(df_values.shape)\n",
    "    X = states #state space is the position, velocity and action\n",
    "    means = []\n",
    "\n",
    "    N = len(states)\n",
    "    sig = np.std(X)\n",
    "    \n",
    "    for i in range(3):\n",
    "        means.append(np.linspace(X[:, i].min(), X[:, i].max(), J))\n",
    "    means  = np.array(means).T\n",
    "    print(means.shape)\n",
    "    U = np.zeros((N,J))\n",
    "\n",
    "    for i in range(N):\n",
    "        for j in range(J):\n",
    "            U[i][j] = np.exp(-0.5 *np.linalg.norm(X[i] - means[j])/(sig))\n",
    "    \n",
    "    return(U, means)"
   ]
  },
  {
   "cell_type": "code",
   "execution_count": 17,
   "id": "47ca6d37-a05f-4f42-9d5e-7dccbce5f7e0",
   "metadata": {},
   "outputs": [
    {
     "name": "stdout",
     "output_type": "stream",
     "text": [
      "(100, 3)\n"
     ]
    }
   ],
   "source": [
    "U, kmeans = get_means(J)"
   ]
  },
  {
   "cell_type": "code",
   "execution_count": 18,
   "id": "8e014b68-0817-4b7b-8877-1865e09e50d3",
   "metadata": {},
   "outputs": [],
   "source": [
    "def evaluate_action(pos, vel, a, w):\n",
    "    \"\"\"\n",
    "    Getting the value from a state\n",
    "    \n",
    "    input: state, action, weights vector\n",
    "    \n",
    "    Output: value of action in that state\n",
    "    \n",
    "    Method: convert the state and action into the design matrix, then dot product the weights \n",
    "    \n",
    "    \"\"\"\n",
    "    states = np.array([pos, vel, a])\n",
    "    U = []\n",
    "    for j in range(J):\n",
    "        U.append(np.exp(-0.5 *np.linalg.norm(states - kmeans[j])/sig))\n",
    "    return(U @ w, U)"
   ]
  },
  {
   "cell_type": "code",
   "execution_count": 19,
   "id": "984885fc-ef65-4d78-b5dd-8dcb294d94fd",
   "metadata": {},
   "outputs": [],
   "source": [
    "def evaluate_state(pos, vel, w):\n",
    "    \"\"\"\n",
    "    RBF for the values of all possible actions from that state\n",
    "    \n",
    "    \"\"\"\n",
    "    vals = []\n",
    "    for act in range(3):\n",
    "        U = []\n",
    "        states = np.array([pos, vel, act])\n",
    "        for j in range(J):\n",
    "            U.append(np.exp(-0.5 *np.linalg.norm(states - kmeans[j])/sig))\n",
    "        vals.append(U @ w)\n",
    "    return(vals)"
   ]
  },
  {
   "cell_type": "code",
   "execution_count": 20,
   "id": "73aa5a41-151a-4c69-951c-564532347cb3",
   "metadata": {},
   "outputs": [],
   "source": [
    "X = states #state space is the position, velocity and action\n",
    "sig = np.std(X)"
   ]
  },
  {
   "cell_type": "markdown",
   "id": "04737d72-a7c3-4c7d-b99c-2e2dab244aec",
   "metadata": {
    "tags": []
   },
   "source": [
    "# Online Learning Algorithms"
   ]
  },
  {
   "cell_type": "code",
   "execution_count": 21,
   "id": "af052c42-abfe-4da6-9c09-3ff0fd882a3b",
   "metadata": {},
   "outputs": [],
   "source": [
    "def discretization_online(env, obs):\n",
    "    env_low = env.observation_space.low\n",
    "    env_high = env.observation_space.high\n",
    "    env_den = (env_high - env_low)# / n_states\n",
    "    pos_den = env_den[0]\n",
    "    vel_den = env_den[1]\n",
    "    pos_high = env_high[0]\n",
    "    pos_low = env_low[0]\n",
    "    vel_high = env_high[1]\n",
    "    vel_low = env_low[1]\n",
    "    pos_scaled =(obs[0] - pos_low) / pos_den   #int((obs[0] - pos_low) / pos_den)\n",
    "    vel_scaled = (obs[1] - vel_low) / vel_den#int((obs[1] - vel_low) / vel_den)\n",
    "    return(pos_scaled, vel_scaled)\n"
   ]
  },
  {
   "cell_type": "code",
   "execution_count": 22,
   "id": "b3ea53b7-4a24-4c3c-b2fe-0a497d8eacbc",
   "metadata": {},
   "outputs": [],
   "source": [
    "def learn_online(mode = \"q_learning\", n_states = 40,\n",
    "    episodes = 50,\n",
    "    initial_lr = 1.0,\n",
    "    min_lr = 0.005,\n",
    "    gamma = 0.99,\n",
    "    max_stps = 100000,\n",
    "    epsilon = 0.05):\n",
    "    \n",
    "    env_name = \"MountainCar-v0\"\n",
    "    env = gym.make(env_name)\n",
    "    obs = env.reset()\n",
    "\n",
    "    env = env.unwrapped\n",
    "    env.seed()\n",
    "    np.random.seed(0)\n",
    "    \n",
    "    steps_count = []\n",
    "\n",
    "\n",
    "    w = np.random.rand(J, 1)\n",
    "    \n",
    "    \n",
    "    for episode in range(episodes):\n",
    "        \n",
    "            \n",
    "        # by solving bellmans equations for a number of episodes we can optain a value function of that policy at every state\n",
    "        # we can improve the policy (what is the action im going to take given a state)\n",
    "\n",
    "        obs = env.reset()\n",
    "\n",
    "        alpha = max(min_lr, initial_lr*(gamma**(episode/0.1)))# max(min_lr, initial_lr*(gamma**(episode//100)))\n",
    "        \n",
    "        steps = 0\n",
    "        while True:\n",
    "\n",
    "            pos, vel = discretization_online(env, obs)\n",
    "\n",
    "            if np.random.uniform(low=0, high=1) < epsilon:\n",
    "                a = np.random.choice(env.action_space.n)\n",
    "                a_value, U = evaluate_action(pos, vel, a, w)\n",
    "            else:\n",
    "                a = np.argmax(evaluate_state(pos, vel, w))\n",
    "                a_value, U = evaluate_action(pos, vel, a, w)\n",
    "\n",
    "            obs, reward, terminate,_ = env.step(a)\n",
    "            pos_, vel_ = discretization_online(env, obs)\n",
    "\n",
    "            if mode == \"sarsa\":\n",
    "                if np.random.uniform(low=0, high=1) < epsilon:\n",
    "\n",
    "                    next_val = np.random.choice(np.array(evaluate_state(pos_,vel_, w)).reshape(3))\n",
    "                else:\n",
    "                    next_val = np.max(evaluate_state(pos_,vel_, w)) \n",
    "\n",
    "            elif mode == \"q_learning\":\n",
    "                next_val = np.max(evaluate_state(pos_,vel_, w))\n",
    "            else:\n",
    "                raise ValueError('Please choose either sarsa or q_learning')\n",
    "            # Q function update\n",
    "\n",
    "            w += (alpha * (reward + gamma*next_val - a_value) * U).reshape(J,1)\n",
    "\n",
    "\n",
    "            steps += 1\n",
    "            \n",
    "            if steps%max_stps == 0:\n",
    "                print(\"FAILED\")\n",
    "                break\n",
    "            if terminate:\n",
    "                steps_count.append(steps)\n",
    "                print(\"Episode:\", episode, \"Steps: \", steps)\n",
    "                break\n",
    "    return(w, steps_count)"
   ]
  },
  {
   "cell_type": "code",
   "execution_count": 23,
   "id": "3e9a6fed-140f-4d77-8574-9aa335a7d3cb",
   "metadata": {},
   "outputs": [
    {
     "name": "stdout",
     "output_type": "stream",
     "text": [
      "Episode: 0 Steps:  9536\n",
      "Episode: 1 Steps:  756\n",
      "Episode: 2 Steps:  514\n",
      "Episode: 3 Steps:  508\n",
      "Episode: 4 Steps:  686\n",
      "Episode: 5 Steps:  364\n",
      "Episode: 6 Steps:  209\n",
      "Episode: 7 Steps:  528\n",
      "Episode: 8 Steps:  125\n",
      "Episode: 9 Steps:  276\n",
      "Episode: 10 Steps:  220\n",
      "Episode: 11 Steps:  389\n",
      "Episode: 12 Steps:  127\n",
      "Episode: 13 Steps:  202\n",
      "Episode: 14 Steps:  248\n",
      "Episode: 15 Steps:  136\n",
      "Episode: 16 Steps:  800\n",
      "Episode: 17 Steps:  459\n",
      "Episode: 18 Steps:  133\n",
      "Episode: 19 Steps:  230\n",
      "Episode: 20 Steps:  206\n",
      "Episode: 21 Steps:  572\n",
      "Episode: 22 Steps:  132\n",
      "Episode: 23 Steps:  374\n",
      "Episode: 24 Steps:  682\n",
      "Episode: 25 Steps:  236\n",
      "Episode: 26 Steps:  205\n",
      "Episode: 27 Steps:  652\n",
      "Episode: 28 Steps:  293\n",
      "Episode: 29 Steps:  891\n",
      "Episode: 30 Steps:  1731\n",
      "Episode: 31 Steps:  220\n",
      "Episode: 32 Steps:  524\n",
      "Episode: 33 Steps:  220\n",
      "Episode: 34 Steps:  160\n",
      "Episode: 35 Steps:  382\n",
      "Episode: 36 Steps:  290\n",
      "Episode: 37 Steps:  1386\n",
      "Episode: 38 Steps:  302\n",
      "Episode: 39 Steps:  300\n",
      "Episode: 40 Steps:  852\n",
      "Episode: 41 Steps:  221\n",
      "Episode: 42 Steps:  397\n",
      "Episode: 43 Steps:  376\n",
      "Episode: 44 Steps:  451\n",
      "Episode: 45 Steps:  232\n",
      "Episode: 46 Steps:  758\n",
      "Episode: 47 Steps:  290\n",
      "Episode: 48 Steps:  256\n",
      "Episode: 49 Steps:  393\n"
     ]
    }
   ],
   "source": [
    "w_q_learning, q_learning_steps = learn_online(\"q_learning\")"
   ]
  },
  {
   "cell_type": "code",
   "execution_count": 24,
   "id": "f9676c56-5504-4da4-a0e4-c116e55781e1",
   "metadata": {
    "tags": []
   },
   "outputs": [
    {
     "name": "stdout",
     "output_type": "stream",
     "text": [
      "Episode: 0 Steps:  5518\n",
      "Episode: 1 Steps:  4430\n",
      "Episode: 2 Steps:  429\n",
      "Episode: 3 Steps:  644\n",
      "Episode: 4 Steps:  375\n",
      "Episode: 5 Steps:  136\n",
      "Episode: 6 Steps:  215\n",
      "Episode: 7 Steps:  422\n",
      "Episode: 8 Steps:  123\n",
      "Episode: 9 Steps:  918\n",
      "Episode: 10 Steps:  128\n",
      "Episode: 11 Steps:  132\n",
      "Episode: 12 Steps:  126\n",
      "Episode: 13 Steps:  223\n",
      "Episode: 14 Steps:  612\n",
      "Episode: 15 Steps:  1521\n",
      "Episode: 16 Steps:  278\n",
      "Episode: 17 Steps:  1596\n",
      "Episode: 18 Steps:  516\n",
      "Episode: 19 Steps:  137\n",
      "Episode: 20 Steps:  294\n",
      "Episode: 21 Steps:  160\n",
      "Episode: 22 Steps:  680\n",
      "Episode: 23 Steps:  572\n",
      "Episode: 24 Steps:  157\n",
      "Episode: 25 Steps:  374\n",
      "Episode: 26 Steps:  223\n",
      "Episode: 27 Steps:  640\n",
      "Episode: 28 Steps:  299\n",
      "Episode: 29 Steps:  928\n",
      "Episode: 30 Steps:  136\n",
      "Episode: 31 Steps:  1069\n",
      "Episode: 32 Steps:  132\n",
      "Episode: 33 Steps:  303\n",
      "Episode: 34 Steps:  214\n",
      "Episode: 35 Steps:  217\n",
      "Episode: 36 Steps:  300\n",
      "Episode: 37 Steps:  292\n",
      "Episode: 38 Steps:  1053\n",
      "Episode: 39 Steps:  132\n",
      "Episode: 40 Steps:  651\n",
      "Episode: 41 Steps:  132\n",
      "Episode: 42 Steps:  235\n",
      "Episode: 43 Steps:  298\n",
      "Episode: 44 Steps:  393\n",
      "Episode: 45 Steps:  217\n",
      "Episode: 46 Steps:  778\n",
      "Episode: 47 Steps:  356\n",
      "Episode: 48 Steps:  136\n",
      "Episode: 49 Steps:  227\n"
     ]
    }
   ],
   "source": [
    "w_sarsa, sarsa_steps = learn_online(\"sarsa\")"
   ]
  },
  {
   "cell_type": "code",
   "execution_count": 25,
   "id": "2c5b212d-6fef-4cc4-8be0-b0f2ea5ebae2",
   "metadata": {},
   "outputs": [
    {
     "data": {
      "text/plain": [
       "array([[ 1.71082304],\n",
       "       [ 4.1650299 ],\n",
       "       [ 2.94143257],\n",
       "       [ 0.83927318],\n",
       "       [-0.86123796],\n",
       "       [-1.76261329],\n",
       "       [-2.75411606],\n",
       "       [-2.84627248],\n",
       "       [-3.15716707],\n",
       "       [-4.00562374],\n",
       "       [-3.78369644],\n",
       "       [-4.17312041],\n",
       "       [-4.21609862],\n",
       "       [-3.90702724],\n",
       "       [-4.78423933],\n",
       "       [-4.77073083],\n",
       "       [-4.82448383],\n",
       "       [-3.98647936],\n",
       "       [-4.00544544],\n",
       "       [-3.87019823],\n",
       "       [-3.71189019],\n",
       "       [-3.83660717],\n",
       "       [-4.11552826],\n",
       "       [-3.73454056],\n",
       "       [-4.33236329],\n",
       "       [-3.7443567 ],\n",
       "       [-4.17310659],\n",
       "       [-3.30290757],\n",
       "       [-3.65610792],\n",
       "       [-3.69321361],\n",
       "       [-3.7730119 ],\n",
       "       [-3.19299549],\n",
       "       [-3.44087707],\n",
       "       [-3.25866969],\n",
       "       [-3.73878805],\n",
       "       [-3.07091625],\n",
       "       [-3.00801577],\n",
       "       [-2.93539595],\n",
       "       [-2.54152044],\n",
       "       [-2.73715851],\n",
       "       [-2.993996  ],\n",
       "       [-2.85184758],\n",
       "       [-2.52750386],\n",
       "       [-3.1020688 ],\n",
       "       [-2.43360945],\n",
       "       [-2.36875763],\n",
       "       [-2.7689808 ],\n",
       "       [-2.79136131],\n",
       "       [-2.54674495],\n",
       "       [-2.44131226],\n",
       "       [-2.17864047],\n",
       "       [-2.25501297],\n",
       "       [-1.65097781],\n",
       "       [-2.48399938],\n",
       "       [-2.32480956],\n",
       "       [-2.32096161],\n",
       "       [-1.77868242],\n",
       "       [-2.12894489],\n",
       "       [-1.86728819],\n",
       "       [-2.04144253],\n",
       "       [-2.08006383],\n",
       "       [-2.08270868],\n",
       "       [-1.49167837],\n",
       "       [-1.96561116],\n",
       "       [-1.86384794],\n",
       "       [-1.64917917],\n",
       "       [-1.15521063],\n",
       "       [-1.83821508],\n",
       "       [-1.05728435],\n",
       "       [-1.75983148],\n",
       "       [-0.84094611],\n",
       "       [-1.3109924 ],\n",
       "       [-0.7658702 ],\n",
       "       [-1.10151044],\n",
       "       [-0.93154143],\n",
       "       [-1.59677809],\n",
       "       [-1.31901915],\n",
       "       [-1.44817675],\n",
       "       [-1.23945502],\n",
       "       [-1.38475192],\n",
       "       [-1.15403136],\n",
       "       [-1.026925  ],\n",
       "       [-1.34684072],\n",
       "       [-0.68893143],\n",
       "       [-0.78582103],\n",
       "       [-1.05864418],\n",
       "       [-0.77297785],\n",
       "       [-1.17504761],\n",
       "       [-0.66636292],\n",
       "       [-0.28688287],\n",
       "       [-0.87201753],\n",
       "       [-0.49811088],\n",
       "       [-1.00917526],\n",
       "       [-0.40060478],\n",
       "       [-0.80398181],\n",
       "       [-0.88713976],\n",
       "       [-0.4612391 ],\n",
       "       [-1.00553363],\n",
       "       [-0.17504924],\n",
       "       [-0.9780917 ]])"
      ]
     },
     "execution_count": 25,
     "metadata": {},
     "output_type": "execute_result"
    }
   ],
   "source": [
    "w_sarsa"
   ]
  },
  {
   "cell_type": "code",
   "execution_count": 26,
   "id": "93db481e-f7cf-4f4b-91bb-804ebdd11568",
   "metadata": {},
   "outputs": [],
   "source": [
    "def generate_table(w, n_states = n_states):\n",
    "    table = np.zeros([n_states,n_states])\n",
    "    step = 0\n",
    "    for i in range(n_states):\n",
    "        for j in range(n_states):\n",
    "\n",
    "            table[i][j] = np.argmax(evaluate_state(i/n_states, j/n_states, w))\n",
    "            step += 1\n",
    "    return(table)"
   ]
  },
  {
   "cell_type": "code",
   "execution_count": 27,
   "id": "a272faf5-179a-4153-a8da-3d0b08ab7643",
   "metadata": {},
   "outputs": [],
   "source": [
    "sarsa_tab = generate_table(w_sarsa)\n",
    "q_learning_tab = generate_table(w_q_learning)"
   ]
  },
  {
   "cell_type": "code",
   "execution_count": 28,
   "id": "becc7955-ac7a-4d84-82b4-8a24ea3c410f",
   "metadata": {},
   "outputs": [
    {
     "data": {
      "text/plain": [
       "1572"
      ]
     },
     "execution_count": 28,
     "metadata": {},
     "output_type": "execute_result"
    }
   ],
   "source": [
    "(sarsa_tab == 2).sum()"
   ]
  },
  {
   "cell_type": "code",
   "execution_count": 29,
   "id": "d70df092-d541-4577-b513-a8f77ab04762",
   "metadata": {},
   "outputs": [
    {
     "name": "stderr",
     "output_type": "stream",
     "text": [
      "/opt/conda/lib/python3.7/site-packages/ipykernel_launcher.py:7: MatplotlibDeprecationWarning: shading='flat' when X and Y have the same dimensions as C is deprecated since 3.3.  Either specify the corners of the quadrilaterals with X and Y, or pass shading='auto', 'nearest' or 'gouraud', or set rcParams['pcolor.shading'].  This will become an error two minor releases later.\n",
      "  import sys\n"
     ]
    },
    {
     "data": {
      "image/png": "[encoded data removed]",
      "text/plain": [
       "<Figure size 360x360 with 1 Axes>"
      ]
     },
     "metadata": {
      "needs_background": "light"
     },
     "output_type": "display_data"
    }
   ],
   "source": [
    "visualise_actions(sarsa_tab)"
   ]
  },
  {
   "cell_type": "code",
   "execution_count": 30,
   "id": "90de3731-2c14-4b79-af86-a6b56832e146",
   "metadata": {},
   "outputs": [
    {
     "name": "stderr",
     "output_type": "stream",
     "text": [
      "/opt/conda/lib/python3.7/site-packages/ipykernel_launcher.py:7: MatplotlibDeprecationWarning: shading='flat' when X and Y have the same dimensions as C is deprecated since 3.3.  Either specify the corners of the quadrilaterals with X and Y, or pass shading='auto', 'nearest' or 'gouraud', or set rcParams['pcolor.shading'].  This will become an error two minor releases later.\n",
      "  import sys\n"
     ]
    },
    {
     "data": {
      "image/png": "[encoded data removed]",
      "text/plain": [
       "<Figure size 360x360 with 1 Axes>"
      ]
     },
     "metadata": {
      "needs_background": "light"
     },
     "output_type": "display_data"
    }
   ],
   "source": [
    "visualise_actions(q_learning_tab)"
   ]
  },
  {
   "cell_type": "code",
   "execution_count": null,
   "id": "4208bab5-81fc-4116-852a-10da729cd302",
   "metadata": {},
   "outputs": [],
   "source": []
  },
  {
   "cell_type": "code",
   "execution_count": 37,
   "id": "acff167c-641f-44b2-92c3-1438a0bf1f5f",
   "metadata": {},
   "outputs": [
    {
     "data": {
      "image/png": "[encoded data removed]",
      "text/plain": [
       "<Figure size 432x288 with 1 Axes>"
      ]
     },
     "metadata": {
      "needs_background": "light"
     },
     "output_type": "display_data"
    }
   ],
   "source": [
    "for i in [tabular_steps, q_learning_steps, sarsa_steps]:\n",
    "    plt.plot(range(len(i)), i)"
   ]
  },
  {
   "cell_type": "code",
   "execution_count": 36,
   "id": "0a3ca956-80a5-4af9-9c7d-5b85cdaa0d95",
   "metadata": {},
   "outputs": [
    {
     "data": {
      "text/plain": [
       "<matplotlib.legend.Legend at 0x7fbe0941b4d0>"
      ]
     },
     "execution_count": 36,
     "metadata": {},
     "output_type": "execute_result"
    },
    {
     "data": {
      "image/png": "[encoded data removed]",
      "text/plain": [
       "<Figure size 720x504 with 1 Axes>"
      ]
     },
     "metadata": {
      "needs_background": "light"
     },
     "output_type": "display_data"
    }
   ],
   "source": [
    "labels = [\"Tabular\", \"Online Q-learning\", \"Online_Sarsa\"]\n",
    "plt.figure(figsize = (10, 7))\n",
    "for index, i in enumerate([tabular_steps[:50], q_learning_steps, sarsa_steps]):\n",
    "    plt.plot(range(len(i)), i, label = labels[index])\n",
    "plt.legend()"
   ]
  },
  {
   "cell_type": "markdown",
   "id": "0a04a732-53ed-4b5e-8afb-0ab160962d32",
   "metadata": {},
   "source": [
    "## RUN Q_LEARNING"
   ]
  },
  {
   "cell_type": "code",
   "execution_count": 84,
   "id": "a36fccc3-0910-4252-944d-d57bc4113750",
   "metadata": {},
   "outputs": [
    {
     "name": "stdout",
     "output_type": "stream",
     "text": [
      "FAILED\n",
      "FAILED\n",
      "FAILED\n",
      "FAILED\n",
      "246\n"
     ]
    }
   ],
   "source": [
    "for e in range(5):\n",
    "    obs = env.reset()\n",
    "    steps = 0\n",
    "    while True:\n",
    "        # env.render()\n",
    "        pos, vel = discretization_online(env, obs)\n",
    "\n",
    "        a = np.argmax(evaluate_state(pos, vel, w_q_learning))\n",
    "\n",
    "        obs, reward, terminate, _ = env.step(a)\n",
    "        steps += 1\n",
    "\n",
    "        if steps >= 10000:\n",
    "            print(\"FAILED\")\n",
    "            break\n",
    "        if terminate:\n",
    "            time.sleep(1)\n",
    "            print(steps)\n",
    "            break"
   ]
  },
  {
   "cell_type": "markdown",
   "id": "8e10c175-872a-49e0-8b58-e090acd9f43a",
   "metadata": {},
   "source": [
    "## RUN SARSA"
   ]
  },
  {
   "cell_type": "code",
   "execution_count": 95,
   "id": "338e220f-c78f-44ad-9984-2fc7d3b717b2",
   "metadata": {},
   "outputs": [],
   "source": [
    "epsilon = 0.05"
   ]
  },
  {
   "cell_type": "code",
   "execution_count": 96,
   "id": "7fb3ede3-18d5-4350-b894-84c37ea5448b",
   "metadata": {
    "tags": []
   },
   "outputs": [
    {
     "name": "stdout",
     "output_type": "stream",
     "text": [
      "633\n",
      "2044\n",
      "1258\n",
      "460\n",
      "540\n"
     ]
    }
   ],
   "source": [
    "for e in range(5):\n",
    "    obs = env.reset()\n",
    "    steps = 0\n",
    "    while True:\n",
    "        # env.render()\n",
    "        pos, vel = discretization_online(env, obs)\n",
    "\n",
    "        if np.random.uniform(low=0, high=1) < epsilon:\n",
    "            a = np.random.choice(env.action_space.n)\n",
    "   \n",
    "        else:\n",
    "             a = np.argmax(evaluate_state(pos, vel, w_sarsa))\n",
    "        obs, reward, terminate, _ = env.step(a)\n",
    "        steps += 1\n",
    "\n",
    "        if steps >= 10000:\n",
    "            print(\"FAILED\")\n",
    "            break\n",
    "        if terminate:\n",
    "            time.sleep(1)\n",
    "            print(steps)\n",
    "            break"
   ]
  },
  {
   "cell_type": "code",
   "execution_count": 97,
   "id": "9c8beb2e-925d-40c1-aed7-ca2af46bc675",
   "metadata": {},
   "outputs": [
    {
     "data": {
      "text/plain": [
       "array([[2., 2., 2., ..., 2., 2., 2.],\n",
       "       [2., 2., 2., ..., 2., 2., 2.],\n",
       "       [2., 2., 2., ..., 2., 2., 2.],\n",
       "       ...,\n",
       "       [2., 2., 2., ..., 2., 2., 2.],\n",
       "       [2., 2., 2., ..., 2., 2., 2.],\n",
       "       [2., 2., 2., ..., 2., 2., 2.]])"
      ]
     },
     "execution_count": 97,
     "metadata": {},
     "output_type": "execute_result"
    }
   ],
   "source": [
    "q_learning_tab"
   ]
  },
  {
   "cell_type": "code",
   "execution_count": null,
   "id": "0abd8268-bc8b-4e53-86cd-152e049e8a08",
   "metadata": {},
   "outputs": [],
   "source": []
  },
  {
   "cell_type": "code",
   "execution_count": null,
   "id": "2e87dc93-8a60-4dad-9359-605637103937",
   "metadata": {},
   "outputs": [],
   "source": []
  },
  {
   "cell_type": "code",
   "execution_count": null,
   "id": "30df23ac-ec47-418d-86df-8e37c1279d38",
   "metadata": {},
   "outputs": [],
   "source": []
  },
  {
   "cell_type": "code",
   "execution_count": null,
   "id": "cc7eadc3-0cdd-4e93-b120-fc9709664993",
   "metadata": {},
   "outputs": [],
   "source": []
  },
  {
   "cell_type": "code",
   "execution_count": null,
   "id": "2e1cbed5-1fe1-44d8-85e4-fe106c541fb5",
   "metadata": {},
   "outputs": [],
   "source": []
  }
 ],
 "metadata": {
  "environment": {
   "kernel": "python3",
   "name": "common-cu110.m82",
   "type": "gcloud",
   "uri": "gcr.io/deeplearning-platform-release/base-cu110:m82"
  },
  "kernelspec": {
   "display_name": "Python 3",
   "language": "python",
   "name": "python3"
  },
  "language_info": {
   "codemirror_mode": {
    "name": "ipython",
    "version": 3
   },
   "file_extension": ".py",
   "mimetype": "text/x-python",
   "name": "python",
   "nbconvert_exporter": "python",
   "pygments_lexer": "ipython3",
   "version": "3.7.10"
  }
 },
 "nbformat": 4,
 "nbformat_minor": 5
}
