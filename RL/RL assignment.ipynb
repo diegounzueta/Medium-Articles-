{
 "cells": [
  {
   "cell_type": "markdown",
   "metadata": {},
   "source": [
    "# COMP6247(2020/21): Reinforcement and Online Learning"
   ]
  },
  {
   "cell_type": "markdown",
   "metadata": {},
   "source": [
    "## Part I: Radial Basis Functions"
   ]
  },
  {
   "cell_type": "markdown",
   "metadata": {},
   "source": [
    "### Predicting Next Day Temperature"
   ]
  },
  {
   "cell_type": "code",
   "execution_count": 27,
   "metadata": {},
   "outputs": [],
   "source": [
    "%matplotlib inline\n",
    "import numpy as np\n",
    "import matplotlib.pyplot as plt"
   ]
  },
  {
   "cell_type": "code",
   "execution_count": 28,
   "metadata": {},
   "outputs": [],
   "source": [
    "import pandas as pd\n",
    "from sklearn.model_selection import train_test_split"
   ]
  },
  {
   "cell_type": "code",
   "execution_count": 4,
   "metadata": {},
   "outputs": [],
   "source": [
    "df = pd.read_csv(\"Bias_correction_ucl.csv\")"
   ]
  },
  {
   "cell_type": "code",
   "execution_count": 75,
   "metadata": {},
   "outputs": [],
   "source": [
    "df = df.drop([\"Date\", \"Next_Tmin\"], axis = 1) #useless columns"
   ]
  },
  {
   "cell_type": "code",
   "execution_count": 76,
   "metadata": {},
   "outputs": [],
   "source": [
    "df=(df-df.min())/(df.max()-df.min()) #normalising"
   ]
  },
  {
   "cell_type": "code",
   "execution_count": 77,
   "metadata": {},
   "outputs": [
    {
     "data": {
      "text/html": [
       "<div>\n",
       "<style scoped>\n",
       "    .dataframe tbody tr th:only-of-type {\n",
       "        vertical-align: middle;\n",
       "    }\n",
       "\n",
       "    .dataframe tbody tr th {\n",
       "        vertical-align: top;\n",
       "    }\n",
       "\n",
       "    .dataframe thead th {\n",
       "        text-align: right;\n",
       "    }\n",
       "</style>\n",
       "<table border=\"1\" class=\"dataframe\">\n",
       "  <thead>\n",
       "    <tr style=\"text-align: right;\">\n",
       "      <th></th>\n",
       "      <th>station</th>\n",
       "      <th>Present_Tmax</th>\n",
       "      <th>Present_Tmin</th>\n",
       "      <th>LDAPS_RHmin</th>\n",
       "      <th>LDAPS_RHmax</th>\n",
       "      <th>LDAPS_Tmax_lapse</th>\n",
       "      <th>LDAPS_Tmin_lapse</th>\n",
       "      <th>LDAPS_WS</th>\n",
       "      <th>LDAPS_LH</th>\n",
       "      <th>LDAPS_CC1</th>\n",
       "      <th>...</th>\n",
       "      <th>LDAPS_PPT1</th>\n",
       "      <th>LDAPS_PPT2</th>\n",
       "      <th>LDAPS_PPT3</th>\n",
       "      <th>LDAPS_PPT4</th>\n",
       "      <th>lat</th>\n",
       "      <th>lon</th>\n",
       "      <th>DEM</th>\n",
       "      <th>Slope</th>\n",
       "      <th>Solar radiation</th>\n",
       "      <th>Next_Tmax</th>\n",
       "    </tr>\n",
       "  </thead>\n",
       "  <tbody>\n",
       "    <tr>\n",
       "      <th>count</th>\n",
       "      <td>7750.000000</td>\n",
       "      <td>7682.000000</td>\n",
       "      <td>7682.000000</td>\n",
       "      <td>7677.000000</td>\n",
       "      <td>7677.000000</td>\n",
       "      <td>7677.000000</td>\n",
       "      <td>7677.000000</td>\n",
       "      <td>7677.000000</td>\n",
       "      <td>7677.000000</td>\n",
       "      <td>7677.000000</td>\n",
       "      <td>...</td>\n",
       "      <td>7677.000000</td>\n",
       "      <td>7677.000000</td>\n",
       "      <td>7677.000000</td>\n",
       "      <td>7677.000000</td>\n",
       "      <td>7752.000000</td>\n",
       "      <td>7752.000000</td>\n",
       "      <td>7752.000000</td>\n",
       "      <td>7752.000000</td>\n",
       "      <td>7752.000000</td>\n",
       "      <td>7725.000000</td>\n",
       "    </tr>\n",
       "    <tr>\n",
       "      <th>mean</th>\n",
       "      <td>0.500000</td>\n",
       "      <td>0.555012</td>\n",
       "      <td>0.641132</td>\n",
       "      <td>0.469512</td>\n",
       "      <td>0.716896</td>\n",
       "      <td>0.573138</td>\n",
       "      <td>0.602080</td>\n",
       "      <td>0.222149</td>\n",
       "      <td>0.335253</td>\n",
       "      <td>0.381249</td>\n",
       "      <td>...</td>\n",
       "      <td>0.024977</td>\n",
       "      <td>0.022431</td>\n",
       "      <td>0.017562</td>\n",
       "      <td>0.016175</td>\n",
       "      <td>0.468864</td>\n",
       "      <td>0.535266</td>\n",
       "      <td>0.247533</td>\n",
       "      <td>0.228077</td>\n",
       "      <td>0.608391</td>\n",
       "      <td>0.598832</td>\n",
       "    </tr>\n",
       "    <tr>\n",
       "      <th>std</th>\n",
       "      <td>0.300482</td>\n",
       "      <td>0.168750</td>\n",
       "      <td>0.129783</td>\n",
       "      <td>0.186309</td>\n",
       "      <td>0.175142</td>\n",
       "      <td>0.140897</td>\n",
       "      <td>0.152824</td>\n",
       "      <td>0.115090</td>\n",
       "      <td>0.148582</td>\n",
       "      <td>0.271336</td>\n",
       "      <td>...</td>\n",
       "      <td>0.082095</td>\n",
       "      <td>0.081530</td>\n",
       "      <td>0.073341</td>\n",
       "      <td>0.072422</td>\n",
       "      <td>0.266692</td>\n",
       "      <td>0.257072</td>\n",
       "      <td>0.271446</td>\n",
       "      <td>0.269785</td>\n",
       "      <td>0.258005</td>\n",
       "      <td>0.145489</td>\n",
       "    </tr>\n",
       "    <tr>\n",
       "      <th>min</th>\n",
       "      <td>0.000000</td>\n",
       "      <td>0.000000</td>\n",
       "      <td>0.000000</td>\n",
       "      <td>0.000000</td>\n",
       "      <td>0.000000</td>\n",
       "      <td>0.000000</td>\n",
       "      <td>0.000000</td>\n",
       "      <td>0.000000</td>\n",
       "      <td>0.000000</td>\n",
       "      <td>0.000000</td>\n",
       "      <td>...</td>\n",
       "      <td>0.000000</td>\n",
       "      <td>0.000000</td>\n",
       "      <td>0.000000</td>\n",
       "      <td>0.000000</td>\n",
       "      <td>0.000000</td>\n",
       "      <td>0.000000</td>\n",
       "      <td>0.000000</td>\n",
       "      <td>0.000000</td>\n",
       "      <td>0.000000</td>\n",
       "      <td>0.000000</td>\n",
       "    </tr>\n",
       "    <tr>\n",
       "      <th>25%</th>\n",
       "      <td>0.250000</td>\n",
       "      <td>0.443182</td>\n",
       "      <td>0.559140</td>\n",
       "      <td>0.332387</td>\n",
       "      <td>0.615787</td>\n",
       "      <td>0.480394</td>\n",
       "      <td>0.509366</td>\n",
       "      <td>0.147358</td>\n",
       "      <td>0.224080</td>\n",
       "      <td>0.151615</td>\n",
       "      <td>...</td>\n",
       "      <td>0.000000</td>\n",
       "      <td>0.000000</td>\n",
       "      <td>0.000000</td>\n",
       "      <td>0.000000</td>\n",
       "      <td>0.286017</td>\n",
       "      <td>0.359223</td>\n",
       "      <td>0.081664</td>\n",
       "      <td>0.034022</td>\n",
       "      <td>0.402494</td>\n",
       "      <td>0.502326</td>\n",
       "    </tr>\n",
       "    <tr>\n",
       "      <th>50%</th>\n",
       "      <td>0.500000</td>\n",
       "      <td>0.562500</td>\n",
       "      <td>0.650538</td>\n",
       "      <td>0.447661</td>\n",
       "      <td>0.751444</td>\n",
       "      <td>0.577439</td>\n",
       "      <td>0.618215</td>\n",
       "      <td>0.193143</td>\n",
       "      <td>0.310411</td>\n",
       "      <td>0.326377</td>\n",
       "      <td>...</td>\n",
       "      <td>0.000000</td>\n",
       "      <td>0.000000</td>\n",
       "      <td>0.000000</td>\n",
       "      <td>0.000000</td>\n",
       "      <td>0.500530</td>\n",
       "      <td>0.546926</td>\n",
       "      <td>0.166759</td>\n",
       "      <td>0.102274</td>\n",
       "      <td>0.665409</td>\n",
       "      <td>0.609302</td>\n",
       "    </tr>\n",
       "    <tr>\n",
       "      <th>75%</th>\n",
       "      <td>0.750000</td>\n",
       "      <td>0.681818</td>\n",
       "      <td>0.731183</td>\n",
       "      <td>0.601999</td>\n",
       "      <td>0.847639</td>\n",
       "      <td>0.673390</td>\n",
       "      <td>0.708964</td>\n",
       "      <td>0.271393</td>\n",
       "      <td>0.430923</td>\n",
       "      <td>0.594957</td>\n",
       "      <td>...</td>\n",
       "      <td>0.002216</td>\n",
       "      <td>0.000849</td>\n",
       "      <td>0.000498</td>\n",
       "      <td>0.000002</td>\n",
       "      <td>0.643008</td>\n",
       "      <td>0.699029</td>\n",
       "      <td>0.237354</td>\n",
       "      <td>0.328623</td>\n",
       "      <td>0.840938</td>\n",
       "      <td>0.706977</td>\n",
       "    </tr>\n",
       "    <tr>\n",
       "      <th>max</th>\n",
       "      <td>1.000000</td>\n",
       "      <td>1.000000</td>\n",
       "      <td>1.000000</td>\n",
       "      <td>1.000000</td>\n",
       "      <td>1.000000</td>\n",
       "      <td>1.000000</td>\n",
       "      <td>1.000000</td>\n",
       "      <td>1.000000</td>\n",
       "      <td>1.000000</td>\n",
       "      <td>1.000000</td>\n",
       "      <td>...</td>\n",
       "      <td>1.000000</td>\n",
       "      <td>1.000000</td>\n",
       "      <td>1.000000</td>\n",
       "      <td>1.000000</td>\n",
       "      <td>1.000000</td>\n",
       "      <td>1.000000</td>\n",
       "      <td>1.000000</td>\n",
       "      <td>1.000000</td>\n",
       "      <td>1.000000</td>\n",
       "      <td>1.000000</td>\n",
       "    </tr>\n",
       "  </tbody>\n",
       "</table>\n",
       "<p>8 rows × 23 columns</p>\n",
       "</div>"
      ],
      "text/plain": [
       "           station  Present_Tmax  Present_Tmin  LDAPS_RHmin  LDAPS_RHmax  \\\n",
       "count  7750.000000   7682.000000   7682.000000  7677.000000  7677.000000   \n",
       "mean      0.500000      0.555012      0.641132     0.469512     0.716896   \n",
       "std       0.300482      0.168750      0.129783     0.186309     0.175142   \n",
       "min       0.000000      0.000000      0.000000     0.000000     0.000000   \n",
       "25%       0.250000      0.443182      0.559140     0.332387     0.615787   \n",
       "50%       0.500000      0.562500      0.650538     0.447661     0.751444   \n",
       "75%       0.750000      0.681818      0.731183     0.601999     0.847639   \n",
       "max       1.000000      1.000000      1.000000     1.000000     1.000000   \n",
       "\n",
       "       LDAPS_Tmax_lapse  LDAPS_Tmin_lapse     LDAPS_WS     LDAPS_LH  \\\n",
       "count       7677.000000       7677.000000  7677.000000  7677.000000   \n",
       "mean           0.573138          0.602080     0.222149     0.335253   \n",
       "std            0.140897          0.152824     0.115090     0.148582   \n",
       "min            0.000000          0.000000     0.000000     0.000000   \n",
       "25%            0.480394          0.509366     0.147358     0.224080   \n",
       "50%            0.577439          0.618215     0.193143     0.310411   \n",
       "75%            0.673390          0.708964     0.271393     0.430923   \n",
       "max            1.000000          1.000000     1.000000     1.000000   \n",
       "\n",
       "         LDAPS_CC1  ...   LDAPS_PPT1   LDAPS_PPT2   LDAPS_PPT3   LDAPS_PPT4  \\\n",
       "count  7677.000000  ...  7677.000000  7677.000000  7677.000000  7677.000000   \n",
       "mean      0.381249  ...     0.024977     0.022431     0.017562     0.016175   \n",
       "std       0.271336  ...     0.082095     0.081530     0.073341     0.072422   \n",
       "min       0.000000  ...     0.000000     0.000000     0.000000     0.000000   \n",
       "25%       0.151615  ...     0.000000     0.000000     0.000000     0.000000   \n",
       "50%       0.326377  ...     0.000000     0.000000     0.000000     0.000000   \n",
       "75%       0.594957  ...     0.002216     0.000849     0.000498     0.000002   \n",
       "max       1.000000  ...     1.000000     1.000000     1.000000     1.000000   \n",
       "\n",
       "               lat          lon          DEM        Slope  Solar radiation  \\\n",
       "count  7752.000000  7752.000000  7752.000000  7752.000000      7752.000000   \n",
       "mean      0.468864     0.535266     0.247533     0.228077         0.608391   \n",
       "std       0.266692     0.257072     0.271446     0.269785         0.258005   \n",
       "min       0.000000     0.000000     0.000000     0.000000         0.000000   \n",
       "25%       0.286017     0.359223     0.081664     0.034022         0.402494   \n",
       "50%       0.500530     0.546926     0.166759     0.102274         0.665409   \n",
       "75%       0.643008     0.699029     0.237354     0.328623         0.840938   \n",
       "max       1.000000     1.000000     1.000000     1.000000         1.000000   \n",
       "\n",
       "         Next_Tmax  \n",
       "count  7725.000000  \n",
       "mean      0.598832  \n",
       "std       0.145489  \n",
       "min       0.000000  \n",
       "25%       0.502326  \n",
       "50%       0.609302  \n",
       "75%       0.706977  \n",
       "max       1.000000  \n",
       "\n",
       "[8 rows x 23 columns]"
      ]
     },
     "execution_count": 77,
     "metadata": {},
     "output_type": "execute_result"
    }
   ],
   "source": [
    "df.describe()"
   ]
  },
  {
   "cell_type": "code",
   "execution_count": 78,
   "metadata": {},
   "outputs": [],
   "source": [
    "df = df.dropna() #dropping nans"
   ]
  },
  {
   "cell_type": "code",
   "execution_count": 79,
   "metadata": {},
   "outputs": [
    {
     "data": {
      "text/plain": [
       "(7588, 23)"
      ]
     },
     "execution_count": 79,
     "metadata": {},
     "output_type": "execute_result"
    }
   ],
   "source": [
    "df.shape"
   ]
  },
  {
   "cell_type": "markdown",
   "metadata": {},
   "source": [
    "## Linear Regression"
   ]
  },
  {
   "cell_type": "code",
   "execution_count": 80,
   "metadata": {},
   "outputs": [
    {
     "name": "stdout",
     "output_type": "stream",
     "text": [
      "(5691, 22) (5691, 1)\n"
     ]
    },
    {
     "data": {
      "text/plain": [
       "5.276000190727046"
      ]
     },
     "execution_count": 80,
     "metadata": {},
     "output_type": "execute_result"
    }
   ],
   "source": [
    "rawData = X_train\n",
    "N, pp1 = rawData.shape\n",
    "# Last column is target\n",
    "X = np.matrix(X_train)\n",
    "y = np.matrix(y_train).T\n",
    "\n",
    "\n",
    "print(X.shape, y.shape)\n",
    "\n",
    "w = (np.linalg.inv(X.T*X)) * X.T * y #linear regression\n",
    "yh_lin = X*w\n",
    "np.linalg.norm(y-yh_lin)"
   ]
  },
  {
   "cell_type": "markdown",
   "metadata": {},
   "source": [
    "## RBFs"
   ]
  },
  {
   "cell_type": "code",
   "execution_count": 83,
   "metadata": {},
   "outputs": [],
   "source": [
    "from sklearn.cluster import KMeans\n",
    "J = 20;\n",
    "kmeans = KMeans(n_clusters=J, random_state=0).fit(X)\n",
    "sig = np.std(X)\n",
    "\n",
    "\n",
    "U = np.zeros((N,J))\n",
    "\n",
    "for i in range(N):\n",
    "    for j in range(J):\n",
    "        U[i][j] = np.exp(-0.5 *np.linalg.norm(X[i] - kmeans.cluster_centers_[j])/sig)\n",
    "\n"
   ]
  },
  {
   "cell_type": "code",
   "execution_count": 84,
   "metadata": {},
   "outputs": [
    {
     "data": {
      "text/plain": [
       "4.858993369946314"
      ]
     },
     "execution_count": 84,
     "metadata": {},
     "output_type": "execute_result"
    }
   ],
   "source": [
    "wopt = np.dot((np.linalg.inv(np.dot(U.T,U))), U.T) * y\n",
    "np.linalg.norm(y-U@wopt)"
   ]
  },
  {
   "cell_type": "code",
   "execution_count": 87,
   "metadata": {},
   "outputs": [
    {
     "name": "stdout",
     "output_type": "stream",
     "text": [
      "Epoch:  0 / 10\n",
      "Epoch:  1 / 10\n",
      "Epoch:  2 / 10\n",
      "Epoch:  3 / 10\n",
      "Epoch:  4 / 10\n",
      "Epoch:  5 / 10\n",
      "Epoch:  6 / 10\n",
      "Epoch:  7 / 10\n",
      "Epoch:  8 / 10\n",
      "Epoch:  9 / 10\n",
      "SGD:  7.646912351045207 Pseudo Inverse:  4.858993369946314\n"
     ]
    }
   ],
   "source": [
    "w = np.random.rand(J,1)\n",
    "loss = []\n",
    "lr = 0.07\n",
    "epochs = 10\n",
    "for i in range(epochs):\n",
    "    if i == 5:\n",
    "        lr = 0.01\n",
    "    print(\"Epoch: \", i, \"/\", epochs)\n",
    "    permut = np.random.permutation(U.shape[0])\n",
    "\n",
    "    for i in permut:\n",
    "\n",
    "        Y_pred = U[i] @ w\n",
    "        jw = lr*U[i].T * np.asarray((y[i] - Y_pred))[0]\n",
    "        w += (lr * jw).reshape(J, 1)\n",
    "        loss.append(np.linalg.norm(y - U @ w))\n",
    "\n",
    "yh_rbf = np.dot(U,w)\n",
    "\n",
    "wopt = np.dot((np.linalg.inv(np.dot(U.T,U))), U.T) * y\n",
    "\n",
    "print(\"SGD: \", np.linalg.norm(y-yh_rbf), \"Pseudo Inverse: \", np.linalg.norm(y-U@wopt))"
   ]
  },
  {
   "cell_type": "code",
   "execution_count": 88,
   "metadata": {},
   "outputs": [
    {
     "name": "stdout",
     "output_type": "stream",
     "text": [
      "Epoch:  0 / 10\n",
      "Epoch:  1 / 10\n",
      "Epoch:  2 / 10\n",
      "Epoch:  3 / 10\n",
      "Epoch:  4 / 10\n",
      "Epoch:  5 / 10\n",
      "Epoch:  6 / 10\n",
      "Epoch:  7 / 10\n",
      "Epoch:  8 / 10\n",
      "Epoch:  9 / 10\n",
      "SGD:  7.878578214213912 Pseudo Inverse:  5.276000190727046\n"
     ]
    }
   ],
   "source": [
    "w = np.random.rand(X.shape[1],1)\n",
    "loss = []\n",
    "lr = 0.07\n",
    "epochs = 10\n",
    "for i in range(epochs):\n",
    "    if i == 5:\n",
    "        lr = 0.01\n",
    "    print(\"Epoch: \", i, \"/\", epochs)\n",
    "    permut = np.random.permutation(X.shape[0])\n",
    "\n",
    "    for i in permut:\n",
    "\n",
    "        Y_pred = X[i] @ w\n",
    "        jw = lr*X[i].T * np.asarray((y[i] - Y_pred))[0]\n",
    "        w += (lr * jw).reshape(X.shape[1], 1)\n",
    "        loss.append(np.linalg.norm(y - X @ w))\n",
    "\n",
    "yh_reg = np.dot(X,w)\n",
    "w = (np.linalg.inv(X.T*X)) * X.T * y #linear regression\n",
    "\n",
    "print(\"SGD: \", np.linalg.norm(y-yh_reg), \"Pseudo Inverse: \", np.linalg.norm(y-X@w))"
   ]
  },
  {
   "cell_type": "code",
   "execution_count": 107,
   "metadata": {},
   "outputs": [],
   "source": [
    "errors = [[np.linalg.norm(y-yh_reg),np.linalg.norm(y-X@w)], \n",
    "          [np.linalg.norm(y-yh_rbf), np.linalg.norm(y-U@wopt)]]\n"
   ]
  },
  {
   "cell_type": "code",
   "execution_count": 108,
   "metadata": {},
   "outputs": [
    {
     "data": {
      "text/plain": [
       "[[7.878578214213912, 5.276000190727046],\n",
       " [7.646912351045207, 4.858993369946314]]"
      ]
     },
     "execution_count": 108,
     "metadata": {},
     "output_type": "execute_result"
    }
   ],
   "source": [
    "errors"
   ]
  },
  {
   "cell_type": "code",
   "execution_count": 112,
   "metadata": {},
   "outputs": [
    {
     "data": {
      "text/plain": [
       "Text(0.5, 0, 'Number of Basis Functions')"
      ]
     },
     "execution_count": 112,
     "metadata": {},
     "output_type": "execute_result"
    },
    {
     "data": {
      "image/png": "[encoded data removed]",
      "text/plain": [
       "<Figure size 216x144 with 1 Axes>"
      ]
     },
     "metadata": {
      "needs_background": "light"
     },
     "output_type": "display_data"
    }
   ],
   "source": [
    "import numpy as np\n",
    "import matplotlib.pyplot as plt\n",
    "\n",
    "names = [\"SGD\", \"Pseudo-inverse\"]\n",
    "\n",
    "fig = plt.figure(figsize = (3,2))\n",
    "ax = fig.add_axes([0,0,1,1])\n",
    "\n",
    "ax.bar(np.arange(len(names)) + 0.25, errors[0], width = 0.25, label = \"Linear Regression\")\n",
    "ax.bar(np.arange(len(names)) + 0.5, errors[1], width = 0.25, label = \"RBF Regression\")\n",
    "\n",
    "\n",
    "x = np.arange(len(names))+0.38  # the label locations\n",
    "ax.set_xticks(x)\n",
    "ax.set_xticklabels(names)#,  fontsize =15)\n",
    "\n",
    "plt.legend()#fontsize = 15)\n",
    "plt.ylabel(\"Error\")#,fontsize = 15)\n",
    "plt.xlabel(\"Number of Basis Functions\")#,fontsize = 15)"
   ]
  },
  {
   "cell_type": "code",
   "execution_count": 44,
   "metadata": {},
   "outputs": [
    {
     "data": {
      "text/plain": [
       "Text(0, 0.5, 'Loss')"
      ]
     },
     "execution_count": 44,
     "metadata": {},
     "output_type": "execute_result"
    },
    {
     "data": {
      "image/png": "[encoded data removed]",
      "text/plain": [
       "<Figure size 360x360 with 1 Axes>"
      ]
     },
     "metadata": {
      "needs_background": "light"
     },
     "output_type": "display_data"
    }
   ],
   "source": [
    "plt.figure(figsize = (5,5))\n",
    "plt.plot(loss)\n",
    "plt.xlabel(\"Iteration\")\n",
    "plt.ylabel(\"Loss\")"
   ]
  },
  {
   "cell_type": "code",
   "execution_count": 16,
   "metadata": {},
   "outputs": [
    {
     "name": "stdout",
     "output_type": "stream",
     "text": [
      "5.234338068260887 8.502886159639873\n"
     ]
    },
    {
     "data": {
      "text/plain": [
       "<matplotlib.legend.Legend at 0x24a81b224c8>"
      ]
     },
     "execution_count": 16,
     "metadata": {},
     "output_type": "execute_result"
    },
    {
     "data": {
      "image/png": "[encoded data removed]",
      "text/plain": [
       "<Figure size 360x360 with 1 Axes>"
      ]
     },
     "metadata": {
      "needs_background": "light"
     },
     "output_type": "display_data"
    }
   ],
   "source": [
    "plt.figure(figsize = (5,5))\n",
    "plt.plot(y, yh_rbf, \".\", label = \"SGD\")\n",
    "\n",
    "plt.plot(y, y, c = \"C0\")\n",
    "plt.plot(y, U@wopt, \".\", label = \"Pseudo Inverse\")\n",
    "plt.xlabel(\"Real Values\")\n",
    "plt.ylabel(\"Predicted Values\")\n",
    "print(np.linalg.norm(y-yh_lin), np.linalg.norm(y-yh_rbf))\n",
    "plt.legend()"
   ]
  },
  {
   "cell_type": "markdown",
   "metadata": {},
   "source": [
    "## Mountain Car Control Problem, Discrete States"
   ]
  },
  {
   "cell_type": "markdown",
   "metadata": {},
   "source": [
    "### RBF AND SGD"
   ]
  },
  {
   "cell_type": "code",
   "execution_count": 5,
   "metadata": {},
   "outputs": [],
   "source": [
    "def discretization(env, obs):\n",
    "    env_low = env.observation_space.low\n",
    "    env_high = env.observation_space.high\n",
    "    env_den = (env_high - env_low) / n_states\n",
    "    pos_den = env_den[0]\n",
    "    vel_den = env_den[1]\n",
    "    pos_high = env_high[0]\n",
    "    pos_low = env_low[0]\n",
    "    vel_high = env_high[1]\n",
    "    vel_low = env_low[1]\n",
    "    pos_scaled = int((obs[0] - pos_low) / pos_den)\n",
    "    vel_scaled = int((obs[1] - vel_low) / vel_den)\n",
    "    return pos_scaled, vel_scaled"
   ]
  },
  {
   "cell_type": "markdown",
   "metadata": {},
   "source": [
    "## Q Learning to get a table"
   ]
  },
  {
   "cell_type": "code",
   "execution_count": 4,
   "metadata": {
    "tags": []
   },
   "outputs": [
    {
     "name": "stdout",
     "output_type": "stream",
     "text": [
      "Episode: 0 1.0\n",
      "29289\n",
      "Episode: 1 1.0\n",
      "4049\n",
      "Episode: 2 1.0\n",
      "4627\n",
      "Episode: 3 1.0\n",
      "2140\n",
      "Episode: 4 1.0\n",
      "3719\n",
      "Episode: 5 1.0\n",
      "2291\n",
      "Episode: 6 1.0\n",
      "1109\n",
      "Episode: 7 1.0\n",
      "1494\n",
      "Episode: 8 1.0\n",
      "2676\n",
      "Episode: 9 1.0\n",
      "2919\n"
     ]
    }
   ],
   "source": [
    "import gym\n",
    "import numpy as np\n",
    "env_name = \"MountainCar-v0\"\n",
    "env = gym.make(env_name)\n",
    "obs = env.reset()\n",
    "env.render()\n",
    "# Some initializations\n",
    "#\n",
    "n_states = 40\n",
    "episodes = 10\n",
    "initial_lr = 1.0\n",
    "min_lr = 0.005\n",
    "gamma = 0.99\n",
    "max_stps = 300\n",
    "epsilon = 0.05\n",
    "env = env.unwrapped\n",
    "env.seed()\n",
    "np.random.seed(0)\n",
    "\n",
    "# Quantize the states\n",
    "#\n",
    "\n",
    "def discretization(env, obs):\n",
    "    env_low = env.observation_space.low\n",
    "    env_high = env.observation_space.high\n",
    "    env_den = (env_high - env_low) / n_states\n",
    "    pos_den = env_den[0]\n",
    "    vel_den = env_den[1]\n",
    "    pos_high = env_high[0]\n",
    "    pos_low = env_low[0]\n",
    "    vel_high = env_high[1]\n",
    "    vel_low = env_low[1]\n",
    "    pos_scaled = int((obs[0] - pos_low) / pos_den)\n",
    "    vel_scaled = int((obs[1] - vel_low) / vel_den)\n",
    "    return pos_scaled, vel_scaled\n",
    "\n",
    "q_table = np.zeros((n_states, n_states, env.action_space.n))\n",
    "tabular_steps = []\n",
    "\n",
    "for episode in range(episodes):\n",
    "    \n",
    "    # by solving bellmans equations for a number of episodes we can optain a value function of that policy at every state\n",
    "    # we can improve the policy (what is the action im going to take given a state)\n",
    "    \n",
    "\n",
    "    obs = env.reset()\n",
    "    total_reward = 0\n",
    "    alpha = max(min_lr, initial_lr*(gamma**(episode//100)))\n",
    "    print(\"Episode:\", episode, alpha)\n",
    "    steps = 0\n",
    "    while True:\n",
    "#         env.render()\n",
    "        pos, vel = discretization(env, obs)\n",
    "        if np.random.uniform(low=0, high=1) < epsilon:\n",
    "            a = np.random.choice(env.action_space.n)\n",
    "        else:\n",
    "            a = np.argmax(q_table[pos][vel])\n",
    "        obs, reward, terminate,_ = env.step(a)\n",
    "        total_reward += abs(obs[0]+0.5)\n",
    "        pos_, vel_ = discretization(env, obs)\n",
    "        \n",
    "        \n",
    "        \n",
    "        # Q function update\n",
    "        q_table[pos][vel][a] = (1-alpha)*q_table[pos][vel][a] + alpha*(reward+gamma*np.max(q_table[pos_][vel_]))\n",
    "        \n",
    "        \n",
    "        \n",
    "        # value : the optimum action i can take is the reward that i get from taking that action + \n",
    "        # gamma x the optimum I can gather as value from where I go\n",
    "        steps += 1\n",
    "        if terminate:\n",
    "            tabular_steps.append(steps)\n",
    "            print(steps)\n",
    "            break\n",
    "# while True:\n",
    "#     env.render()"
   ]
  },
  {
   "cell_type": "code",
   "execution_count": 5,
   "metadata": {},
   "outputs": [],
   "source": [
    "env.close()"
   ]
  },
  {
   "cell_type": "code",
   "execution_count": 6,
   "metadata": {},
   "outputs": [
    {
     "data": {
      "text/plain": [
       "(40, 40, 3)"
      ]
     },
     "execution_count": 6,
     "metadata": {},
     "output_type": "execute_result"
    }
   ],
   "source": [
    "q_table.shape"
   ]
  },
  {
   "cell_type": "code",
   "execution_count": 7,
   "metadata": {},
   "outputs": [],
   "source": [
    "values = []\n",
    "for pos in range(len(q_table)):\n",
    "    for vel in range(len(q_table[pos])):\n",
    "#         print(q_table[pos][vel])\n",
    "        values.append([pos, vel, q_table[pos][vel][0], q_table[pos][vel][1], q_table[pos][vel][2]])"
   ]
  },
  {
   "cell_type": "code",
   "execution_count": 8,
   "metadata": {},
   "outputs": [],
   "source": [
    "df_values = pd.DataFrame(values)"
   ]
  },
  {
   "cell_type": "code",
   "execution_count": 9,
   "metadata": {},
   "outputs": [],
   "source": [
    "df_values.to_csv(\"data1000eps2.csv\")"
   ]
  },
  {
   "cell_type": "code",
   "execution_count": 10,
   "metadata": {},
   "outputs": [
    {
     "data": {
      "text/plain": [
       "(1600, 5)"
      ]
     },
     "execution_count": 10,
     "metadata": {},
     "output_type": "execute_result"
    }
   ],
   "source": [
    "df_values.shape"
   ]
  },
  {
   "cell_type": "markdown",
   "metadata": {},
   "source": [
    "## MEANS OF BASIS FUNCTIONS"
   ]
  },
  {
   "cell_type": "code",
   "execution_count": 14,
   "metadata": {},
   "outputs": [],
   "source": [
    "df_values = pd.read_csv(\"data1000eps2.csv\", index_col = 0)"
   ]
  },
  {
   "cell_type": "code",
   "execution_count": 15,
   "metadata": {},
   "outputs": [],
   "source": [
    "df_values.columns = [\"pos\", \"vel\", \"a1\", \"a2\", \"a3\"]"
   ]
  },
  {
   "cell_type": "code",
   "execution_count": 16,
   "metadata": {},
   "outputs": [
    {
     "data": {
      "text/html": [
       "<div>\n",
       "<style scoped>\n",
       "    .dataframe tbody tr th:only-of-type {\n",
       "        vertical-align: middle;\n",
       "    }\n",
       "\n",
       "    .dataframe tbody tr th {\n",
       "        vertical-align: top;\n",
       "    }\n",
       "\n",
       "    .dataframe thead th {\n",
       "        text-align: right;\n",
       "    }\n",
       "</style>\n",
       "<table border=\"1\" class=\"dataframe\">\n",
       "  <thead>\n",
       "    <tr style=\"text-align: right;\">\n",
       "      <th></th>\n",
       "      <th>pos</th>\n",
       "      <th>vel</th>\n",
       "      <th>a1</th>\n",
       "      <th>a2</th>\n",
       "      <th>a3</th>\n",
       "    </tr>\n",
       "  </thead>\n",
       "  <tbody>\n",
       "    <tr>\n",
       "      <th>0</th>\n",
       "      <td>0</td>\n",
       "      <td>0</td>\n",
       "      <td>0.000000</td>\n",
       "      <td>0.0</td>\n",
       "      <td>0.0</td>\n",
       "    </tr>\n",
       "    <tr>\n",
       "      <th>1</th>\n",
       "      <td>0</td>\n",
       "      <td>1</td>\n",
       "      <td>0.000000</td>\n",
       "      <td>0.0</td>\n",
       "      <td>0.0</td>\n",
       "    </tr>\n",
       "    <tr>\n",
       "      <th>2</th>\n",
       "      <td>0</td>\n",
       "      <td>2</td>\n",
       "      <td>-14.854223</td>\n",
       "      <td>0.0</td>\n",
       "      <td>0.0</td>\n",
       "    </tr>\n",
       "    <tr>\n",
       "      <th>3</th>\n",
       "      <td>0</td>\n",
       "      <td>3</td>\n",
       "      <td>0.000000</td>\n",
       "      <td>0.0</td>\n",
       "      <td>0.0</td>\n",
       "    </tr>\n",
       "    <tr>\n",
       "      <th>4</th>\n",
       "      <td>0</td>\n",
       "      <td>4</td>\n",
       "      <td>-7.725531</td>\n",
       "      <td>0.0</td>\n",
       "      <td>0.0</td>\n",
       "    </tr>\n",
       "  </tbody>\n",
       "</table>\n",
       "</div>"
      ],
      "text/plain": [
       "   pos  vel         a1   a2   a3\n",
       "0    0    0   0.000000  0.0  0.0\n",
       "1    0    1   0.000000  0.0  0.0\n",
       "2    0    2 -14.854223  0.0  0.0\n",
       "3    0    3   0.000000  0.0  0.0\n",
       "4    0    4  -7.725531  0.0  0.0"
      ]
     },
     "execution_count": 16,
     "metadata": {},
     "output_type": "execute_result"
    }
   ],
   "source": [
    "df_values.head()"
   ]
  },
  {
   "cell_type": "code",
   "execution_count": 17,
   "metadata": {},
   "outputs": [],
   "source": [
    "X = df_values.values[:, :2]\n",
    "sig = np.std(X)"
   ]
  },
  {
   "cell_type": "code",
   "execution_count": 17,
   "metadata": {},
   "outputs": [],
   "source": [
    "def kmean_cluster(J):\n",
    "    from sklearn.cluster import KMeans\n",
    "\n",
    "    X = df_values.values[:, :2]\n",
    "    N = len(df_values)\n",
    "    kmeans = KMeans(n_clusters=J, random_state=0).fit(X)\n",
    "    sig = np.std(X)\n",
    "\n",
    "    U = np.zeros((N,J))\n",
    "\n",
    "    for i in range(N):\n",
    "        for j in range(J):\n",
    "            U[i][j] = np.exp(-np.linalg.norm(X[i] - kmeans.cluster_centers_[j])/sig)\n",
    "\n",
    "    return(U, kmeans.cluster_centers_)"
   ]
  },
  {
   "cell_type": "code",
   "execution_count": 18,
   "metadata": {},
   "outputs": [],
   "source": [
    "U, k =  kmean_cluster(50)"
   ]
  },
  {
   "cell_type": "code",
   "execution_count": 19,
   "metadata": {},
   "outputs": [
    {
     "data": {
      "text/plain": [
       "((50, 2), (1600, 50))"
      ]
     },
     "execution_count": 19,
     "metadata": {},
     "output_type": "execute_result"
    }
   ],
   "source": [
    "k.shape, U.shape"
   ]
  },
  {
   "cell_type": "code",
   "execution_count": 18,
   "metadata": {},
   "outputs": [],
   "source": [
    "def get_means(J):\n",
    "    X = df_values.values[:, :2]\n",
    "    means = []\n",
    "    N = len(df_values)\n",
    "    sig = np.std(X)\n",
    "    \n",
    "    for i in range(2):\n",
    "        means.append(np.linspace(X[:, i].min(), X[:, i].max(), J))\n",
    "    means  = np.array(means).T\n",
    "    \n",
    "    U = np.zeros((N,J))\n",
    "\n",
    "    for i in range(N):\n",
    "        for j in range(J):\n",
    "            U[i][j] = np.exp(-np.linalg.norm(X[i] - means[j])/(sig))\n",
    "    \n",
    "    return(U, means)"
   ]
  },
  {
   "cell_type": "code",
   "execution_count": 19,
   "metadata": {},
   "outputs": [],
   "source": [
    "U, means = get_means(100)"
   ]
  },
  {
   "cell_type": "code",
   "execution_count": 22,
   "metadata": {},
   "outputs": [],
   "source": [
    "# y =  df_values.values[:, -3:]\n",
    "# # print(y.shape)\n",
    "\n",
    "# wopt = np.dot((np.linalg.inv(np.dot(U.T,U))), U.T) @ y\n",
    "# print(np.linalg.norm(y-np.dot(U,wopt)))"
   ]
  },
  {
   "cell_type": "code",
   "execution_count": 23,
   "metadata": {},
   "outputs": [],
   "source": [
    "def random_means(J):\n",
    "    X = df_values.values[:, :2]\n",
    "    means = []\n",
    "    N = len(df_values)\n",
    "    sig = np.std(X)\n",
    "    \n",
    "    for i in range(2):\n",
    "        means.append(np.random.rand(J) * X[:, i].max())\n",
    "    means  = np.array(means).T\n",
    "    \n",
    "    U = np.zeros((N,J))\n",
    "\n",
    "    for i in range(N):\n",
    "        for j in range(J):\n",
    "            U[i][j] = np.exp(-np.linalg.norm(X[i] - means[j])/sig)\n",
    "    \n",
    "    return(U, means)"
   ]
  },
  {
   "cell_type": "code",
   "execution_count": 24,
   "metadata": {},
   "outputs": [],
   "source": [
    "# U, means = random_means(100)"
   ]
  },
  {
   "cell_type": "code",
   "execution_count": 25,
   "metadata": {},
   "outputs": [],
   "source": [
    "# y =  df_values.values[:, -1]\n",
    "# sig = np.std(X)\n",
    "# print(y.shape)\n",
    "\n",
    "# wopt = np.dot((np.linalg.inv(np.dot(U.T,U))), U.T) @ y\n",
    "# print(np.linalg.norm(y-np.dot(U,wopt)))"
   ]
  },
  {
   "cell_type": "code",
   "execution_count": 26,
   "metadata": {},
   "outputs": [],
   "source": [
    "def discretization(env, obs):\n",
    "    n_states = 40\n",
    "    env_low = env.observation_space.low\n",
    "    env_high = env.observation_space.high\n",
    "    env_den = (env_high - env_low) / n_states\n",
    "    pos_den = env_den[0]\n",
    "    vel_den = env_den[1]\n",
    "    pos_high = env_high[0]\n",
    "    pos_low = env_low[0]\n",
    "    vel_high = env_high[1]\n",
    "    vel_low = env_low[1]\n",
    "    pos_scaled = int((obs[0] - pos_low) / pos_den)\n",
    "    vel_scaled = int((obs[1] - vel_low) / vel_den)\n",
    "    return pos_scaled, vel_scaled"
   ]
  },
  {
   "cell_type": "code",
   "execution_count": 27,
   "metadata": {},
   "outputs": [
    {
     "data": {
      "text/plain": [
       "(1600, 100)"
      ]
     },
     "execution_count": 27,
     "metadata": {},
     "output_type": "execute_result"
    }
   ],
   "source": [
    "U.shape"
   ]
  },
  {
   "cell_type": "code",
   "execution_count": 19,
   "metadata": {
    "collapsed": true,
    "jupyter": {
     "outputs_hidden": true
    },
    "tags": []
   },
   "outputs": [
    {
     "name": "stdout",
     "output_type": "stream",
     "text": [
      "CLUSTER CENTERS:  10 Iter:  0 / 5 Res:  746.0836479498428\n",
      "CLUSTER CENTERS:  10 Iter:  1 / 5 Res:  746.0836479498428\n",
      "CLUSTER CENTERS:  10 Iter:  2 / 5 Res:  746.0836479498428\n",
      "CLUSTER CENTERS:  10 Iter:  3 / 5 Res:  746.0836479498428\n",
      "CLUSTER CENTERS:  10 Iter:  4 / 5 Res:  746.0836479498428\n",
      "CLUSTER CENTERS:  30 Iter:  0 / 5 Res:  530.7275326912504\n",
      "CLUSTER CENTERS:  30 Iter:  1 / 5 Res:  530.7275326912504\n",
      "CLUSTER CENTERS:  30 Iter:  2 / 5 Res:  530.7275326912504\n",
      "CLUSTER CENTERS:  30 Iter:  3 / 5 Res:  530.7275326912504\n",
      "CLUSTER CENTERS:  30 Iter:  4 / 5 Res:  530.7275326912504\n",
      "CLUSTER CENTERS:  50 Iter:  0 / 5 Res:  444.45206470526495\n",
      "CLUSTER CENTERS:  50 Iter:  1 / 5 Res:  444.45206470526495\n",
      "CLUSTER CENTERS:  50 Iter:  2 / 5 Res:  444.45206470526495\n",
      "CLUSTER CENTERS:  50 Iter:  3 / 5 Res:  444.45206470526495\n",
      "CLUSTER CENTERS:  50 Iter:  4 / 5 Res:  444.45206470526495\n",
      "CLUSTER CENTERS:  10 Iter:  0 / 5 Res:  945.6895673913947\n",
      "CLUSTER CENTERS:  10 Iter:  1 / 5 Res:  945.6895673913947\n",
      "CLUSTER CENTERS:  10 Iter:  2 / 5 Res:  945.6895673913947\n",
      "CLUSTER CENTERS:  10 Iter:  3 / 5 Res:  945.6895673913947\n",
      "CLUSTER CENTERS:  10 Iter:  4 / 5 Res:  945.6895673913947\n",
      "CLUSTER CENTERS:  30 Iter:  0 / 5 Res:  938.6077097499665\n",
      "CLUSTER CENTERS:  30 Iter:  1 / 5 Res:  938.6077097499665\n",
      "CLUSTER CENTERS:  30 Iter:  2 / 5 Res:  938.6077097499665\n",
      "CLUSTER CENTERS:  30 Iter:  3 / 5 Res:  938.6077097499665\n",
      "CLUSTER CENTERS:  30 Iter:  4 / 5 Res:  938.6077097499665\n",
      "CLUSTER CENTERS:  50 Iter:  0 / 5 Res:  937.4527759601622\n",
      "CLUSTER CENTERS:  50 Iter:  1 / 5 Res:  937.4527759601622\n",
      "CLUSTER CENTERS:  50 Iter:  2 / 5 Res:  937.4527759601622\n",
      "CLUSTER CENTERS:  50 Iter:  3 / 5 Res:  937.4527759601622\n",
      "CLUSTER CENTERS:  50 Iter:  4 / 5 Res:  937.4527759601622\n",
      "CLUSTER CENTERS:  10 Iter:  0 / 5 Res:  1013.8893963406505\n",
      "CLUSTER CENTERS:  10 Iter:  1 / 5 Res:  833.9117419833484\n",
      "CLUSTER CENTERS:  10 Iter:  2 / 5 Res:  802.5818665693596\n",
      "CLUSTER CENTERS:  10 Iter:  3 / 5 Res:  877.3030028191051\n",
      "CLUSTER CENTERS:  10 Iter:  4 / 5 Res:  830.7292457870398\n",
      "CLUSTER CENTERS:  30 Iter:  0 / 5 Res:  568.962020379331\n",
      "CLUSTER CENTERS:  30 Iter:  1 / 5 Res:  608.0215505561403\n",
      "CLUSTER CENTERS:  30 Iter:  2 / 5 Res:  578.4549751947113\n",
      "CLUSTER CENTERS:  30 Iter:  3 / 5 Res:  589.0987417182622\n",
      "CLUSTER CENTERS:  30 Iter:  4 / 5 Res:  612.5486269182089\n",
      "CLUSTER CENTERS:  50 Iter:  0 / 5 Res:  506.27841027562437\n",
      "CLUSTER CENTERS:  50 Iter:  1 / 5 Res:  500.050203011885\n",
      "CLUSTER CENTERS:  50 Iter:  2 / 5 Res:  482.5166415034514\n",
      "CLUSTER CENTERS:  50 Iter:  3 / 5 Res:  484.00575759015805\n",
      "CLUSTER CENTERS:  50 Iter:  4 / 5 Res:  491.07941751767066\n"
     ]
    }
   ],
   "source": [
    "\n",
    "y =  df_values.values[:, -3:]\n",
    "\n",
    "means_res = []\n",
    "for mean in [kmean_cluster, get_means, random_means]:\n",
    "    res = []\n",
    "    for clusters in [ 10, 30, 50]:\n",
    "        res_cl = []\n",
    "        for iters in range(5):\n",
    "            U, kmeans = mean(clusters)\n",
    "            wopt = np.dot((np.linalg.inv(np.dot(U.T,U))), U.T) @ y\n",
    "#             print(wopt.shape)\n",
    "            result = np.linalg.norm(y-np.dot(U,wopt))\n",
    "            res_cl.append(result)\n",
    "            print(\"CLUSTER CENTERS: \", clusters, \"Iter: \", iters, \"/\", 5, \"Res: \", result)\n",
    "        res.append(res_cl)\n",
    "    means_res.append(res)"
   ]
  },
  {
   "cell_type": "code",
   "execution_count": 20,
   "metadata": {},
   "outputs": [],
   "source": [
    "means_res = np.array(means_res)"
   ]
  },
  {
   "cell_type": "code",
   "execution_count": 21,
   "metadata": {},
   "outputs": [
    {
     "data": {
      "text/plain": [
       "(3, 3, 5)"
      ]
     },
     "execution_count": 21,
     "metadata": {},
     "output_type": "execute_result"
    }
   ],
   "source": [
    "means_res.shape"
   ]
  },
  {
   "cell_type": "code",
   "execution_count": 22,
   "metadata": {},
   "outputs": [],
   "source": [
    "errors = []\n",
    "for i in means_res:\n",
    "    errors.append(np.average(i, axis = 1))\n",
    "        "
   ]
  },
  {
   "cell_type": "code",
   "execution_count": 25,
   "metadata": {},
   "outputs": [
    {
     "name": "stderr",
     "output_type": "stream",
     "text": [
      "C:\\Users\\DIEGO UNZUETA\\Anaconda3\\lib\\site-packages\\ipykernel_launcher.py:17: UserWarning: FixedFormatter should only be used together with FixedLocator\n"
     ]
    },
    {
     "data": {
      "text/plain": [
       "Text(0.5, 0, 'Number of Basis Functions')"
      ]
     },
     "execution_count": 25,
     "metadata": {},
     "output_type": "execute_result"
    },
    {
     "data": {
      "image/png": "[encoded data removed]",
      "text/plain": [
       "<Figure size 360x216 with 1 Axes>"
      ]
     },
     "metadata": {
      "needs_background": "light"
     },
     "output_type": "display_data"
    }
   ],
   "source": [
    "import numpy as np\n",
    "import matplotlib.pyplot as plt\n",
    "\n",
    "names = [\"10\", \"30\", \"50\"]\n",
    "\n",
    "X = np.arange(3)\n",
    "fig = plt.figure(figsize = (5,3))\n",
    "ax = fig.add_axes([0,0,1,1])\n",
    "# ax.bar(X + 0.00, errors[0], width = 0.25, label = \"K-means\")\n",
    "ax.bar(X + 0.25, errors[1], width = 0.25, label = \"Uniformal\")\n",
    "ax.bar(X + 0.5, errors[2], width = 0.25, label = \"Random\")\n",
    "\n",
    "\n",
    "x = np.arange(len(names))+0.38  # the label locations\n",
    "ax.set_xticks(x)\n",
    "ax.set_xticklabels(names,  fontsize =15)\n",
    "ax.set_yticklabels(np.linspace(0, 1000, 6), rotation=0, fontsize=15)\n",
    "\n",
    "plt.legend(fontsize = 15)\n",
    "plt.ylabel(\"Error\",fontsize = 15)\n",
    "plt.xlabel(\"Number of Basis Functions\",fontsize = 15)"
   ]
  },
  {
   "cell_type": "markdown",
   "metadata": {},
   "source": [
    "## NUMBER OF BASIS FUNCTIONS"
   ]
  },
  {
   "cell_type": "code",
   "execution_count": 202,
   "metadata": {},
   "outputs": [],
   "source": [
    "def tabular(U, kmeans, J):    \n",
    "    import gym\n",
    "    import numpy as np\n",
    "    env_name = \"MountainCar-v0\"\n",
    "    env = gym.make(env_name)\n",
    "    obs = env.reset()\n",
    "#     env.render()\n",
    "    # Some initializations\n",
    "    #\n",
    "    n_states = 40\n",
    "    episodes = 10\n",
    "    initial_lr = 1.0\n",
    "    min_lr = 0.005\n",
    "    gamma = 0.99\n",
    "    max_stps = 300\n",
    "    epsilon = 0.05\n",
    "    env = env.unwrapped\n",
    "#     env.seed()\n",
    "#     np.random.seed(0)\n",
    "    \n",
    "    \n",
    "    wopt = np.dot((np.linalg.inv(np.dot(U.T,U))), U.T) @ y\n",
    "#     print(\"in func\", np.linalg.norm(y-np.dot(U,wopt)))\n",
    "    # Quantize the states\n",
    "    #\n",
    "    #print(wopt.shape)\n",
    "\n",
    "\n",
    "    obs = env.reset()\n",
    "\n",
    "    step = 0\n",
    "    while step < 400:\n",
    "        pos, vel = discretization(env, obs)\n",
    "        states = np.array([pos, vel])\n",
    "        U_in = []\n",
    "        \n",
    "        for j in range(J):\n",
    "            U_in.append(np.exp(-0.5 *np.linalg.norm(states - kmeans[j])/sig))\n",
    "\n",
    "        a = np.argmax(U_in@wopt)\n",
    "\n",
    "#         a = np.argmax(df_values.loc[df_values[\"pos\"] == pos].loc[df_values[\"vel\"] ==vel].value)\n",
    "        obs, reward, terminate,_ = env.step(a)\n",
    "    \n",
    "        step += 1\n",
    "        if terminate:\n",
    "            env.close()\n",
    "            return(step, np.linalg.norm(y-np.dot(U,wopt)))\n",
    "            break\n",
    "    env.close()\n",
    "    return(step, np.linalg.norm(y-np.dot(U,wopt)))\n",
    "        "
   ]
  },
  {
   "cell_type": "code",
   "execution_count": 225,
   "metadata": {
    "collapsed": true,
    "jupyter": {
     "outputs_hidden": true
    },
    "tags": []
   },
   "outputs": [
    {
     "name": "stdout",
     "output_type": "stream",
     "text": [
      "CLUSTER CENTERS:  5 Iter:  0 / 100 Res:  (90, 1039.8827952622867)\n",
      "CLUSTER CENTERS:  5 Iter:  1 / 100 Res:  (163, 1418.3621115861993)\n",
      "CLUSTER CENTERS:  5 Iter:  2 / 100 Res:  (168, 1050.4270476390063)\n",
      "CLUSTER CENTERS:  5 Iter:  3 / 100 Res:  (400, 1879.5149850626233)\n",
      "CLUSTER CENTERS:  5 Iter:  4 / 100 Res:  (400, 972.7000265606389)\n",
      "CLUSTER CENTERS:  5 Iter:  5 / 100 Res:  (178, 1109.0273605394232)\n",
      "CLUSTER CENTERS:  5 Iter:  6 / 100 Res:  (93, 1024.4235296381505)\n",
      "CLUSTER CENTERS:  5 Iter:  7 / 100 Res:  (159, 1393.4029701873365)\n",
      "CLUSTER CENTERS:  5 Iter:  8 / 100 Res:  (176, 1245.34145453854)\n",
      "CLUSTER CENTERS:  5 Iter:  9 / 100 Res:  (400, 1072.0295388530333)\n",
      "CLUSTER CENTERS:  5 Iter:  10 / 100 Res:  (400, 1337.6277818315152)\n",
      "CLUSTER CENTERS:  5 Iter:  11 / 100 Res:  (400, 1035.5359260357636)\n",
      "CLUSTER CENTERS:  5 Iter:  12 / 100 Res:  (122, 1012.7396729149004)\n",
      "CLUSTER CENTERS:  5 Iter:  13 / 100 Res:  (400, 1244.9489176955778)\n",
      "CLUSTER CENTERS:  5 Iter:  14 / 100 Res:  (400, 1329.1873662708629)\n",
      "CLUSTER CENTERS:  5 Iter:  15 / 100 Res:  (400, 936.1963354205254)\n",
      "CLUSTER CENTERS:  5 Iter:  16 / 100 Res:  (123, 1149.5527196073638)\n",
      "CLUSTER CENTERS:  5 Iter:  17 / 100 Res:  (104, 1126.3942224228683)\n",
      "CLUSTER CENTERS:  5 Iter:  18 / 100 Res:  (184, 1048.6193873684786)\n",
      "CLUSTER CENTERS:  5 Iter:  19 / 100 Res:  (150, 1098.6482058332356)\n",
      "CLUSTER CENTERS:  5 Iter:  20 / 100 Res:  (159, 1294.2189308427296)\n",
      "CLUSTER CENTERS:  5 Iter:  21 / 100 Res:  (400, 1136.428443038218)\n",
      "CLUSTER CENTERS:  5 Iter:  22 / 100 Res:  (179, 1425.4075966278535)\n",
      "CLUSTER CENTERS:  5 Iter:  23 / 100 Res:  (203, 1078.9462442580318)\n",
      "CLUSTER CENTERS:  5 Iter:  24 / 100 Res:  (400, 1751.525976588663)\n",
      "CLUSTER CENTERS:  5 Iter:  25 / 100 Res:  (400, 1239.8197125705897)\n",
      "CLUSTER CENTERS:  5 Iter:  26 / 100 Res:  (400, 1185.1212267317705)\n",
      "CLUSTER CENTERS:  5 Iter:  27 / 100 Res:  (169, 1026.191476449988)\n",
      "CLUSTER CENTERS:  5 Iter:  28 / 100 Res:  (157, 1009.6893845949645)\n",
      "CLUSTER CENTERS:  5 Iter:  29 / 100 Res:  (155, 951.2998137621328)\n",
      "CLUSTER CENTERS:  5 Iter:  30 / 100 Res:  (400, 1100.0049937743156)\n",
      "CLUSTER CENTERS:  5 Iter:  31 / 100 Res:  (400, 1551.8811728659196)\n",
      "CLUSTER CENTERS:  5 Iter:  32 / 100 Res:  (400, 965.5445521139512)\n",
      "CLUSTER CENTERS:  5 Iter:  33 / 100 Res:  (135, 1133.247526409801)\n",
      "CLUSTER CENTERS:  5 Iter:  34 / 100 Res:  (400, 1126.565629468135)\n",
      "CLUSTER CENTERS:  5 Iter:  35 / 100 Res:  (400, 1126.1232108311717)\n",
      "CLUSTER CENTERS:  5 Iter:  36 / 100 Res:  (190, 1107.540166699507)\n",
      "CLUSTER CENTERS:  5 Iter:  37 / 100 Res:  (146, 1180.3304171781556)\n",
      "CLUSTER CENTERS:  5 Iter:  38 / 100 Res:  (400, 1029.185084798505)\n",
      "CLUSTER CENTERS:  5 Iter:  39 / 100 Res:  (400, 939.596190103403)\n",
      "CLUSTER CENTERS:  5 Iter:  40 / 100 Res:  (206, 1655.3216277402391)\n",
      "CLUSTER CENTERS:  5 Iter:  41 / 100 Res:  (400, 1079.6272865418325)\n",
      "CLUSTER CENTERS:  5 Iter:  42 / 100 Res:  (115, 1246.597299766823)\n",
      "CLUSTER CENTERS:  5 Iter:  43 / 100 Res:  (400, 977.4181204958053)\n",
      "CLUSTER CENTERS:  5 Iter:  44 / 100 Res:  (400, 1132.3180259513817)\n",
      "CLUSTER CENTERS:  5 Iter:  45 / 100 Res:  (400, 1338.0806656850134)\n",
      "CLUSTER CENTERS:  5 Iter:  46 / 100 Res:  (400, 1043.4921202268367)\n",
      "CLUSTER CENTERS:  5 Iter:  47 / 100 Res:  (161, 1352.9818340107952)\n",
      "CLUSTER CENTERS:  5 Iter:  48 / 100 Res:  (400, 988.2847425131029)\n",
      "CLUSTER CENTERS:  5 Iter:  49 / 100 Res:  (123, 1298.3005267965577)\n",
      "CLUSTER CENTERS:  5 Iter:  50 / 100 Res:  (161, 1476.918711605195)\n",
      "CLUSTER CENTERS:  5 Iter:  51 / 100 Res:  (163, 1196.2822826269867)\n",
      "CLUSTER CENTERS:  5 Iter:  52 / 100 Res:  (400, 1015.6243852884784)\n",
      "CLUSTER CENTERS:  5 Iter:  53 / 100 Res:  (218, 1412.1916536429837)\n",
      "CLUSTER CENTERS:  5 Iter:  54 / 100 Res:  (153, 1032.5904484597665)\n",
      "CLUSTER CENTERS:  5 Iter:  55 / 100 Res:  (138, 1033.8809800595695)\n",
      "CLUSTER CENTERS:  5 Iter:  56 / 100 Res:  (197, 1589.9799580010756)\n",
      "CLUSTER CENTERS:  5 Iter:  57 / 100 Res:  (150, 1118.442684237364)\n",
      "CLUSTER CENTERS:  5 Iter:  58 / 100 Res:  (87, 2373.4805389740304)\n",
      "CLUSTER CENTERS:  5 Iter:  59 / 100 Res:  (112, 1309.7728734085501)\n",
      "CLUSTER CENTERS:  5 Iter:  60 / 100 Res:  (160, 1385.5088105225907)\n",
      "CLUSTER CENTERS:  5 Iter:  61 / 100 Res:  (400, 1047.962223782723)\n",
      "CLUSTER CENTERS:  5 Iter:  62 / 100 Res:  (400, 948.7710677877424)\n",
      "CLUSTER CENTERS:  5 Iter:  63 / 100 Res:  (157, 968.3394845120199)\n",
      "CLUSTER CENTERS:  5 Iter:  64 / 100 Res:  (85, 1073.5975187674326)\n",
      "CLUSTER CENTERS:  5 Iter:  65 / 100 Res:  (130, 939.1893257385319)\n",
      "CLUSTER CENTERS:  5 Iter:  66 / 100 Res:  (400, 1415.4003645192145)\n",
      "CLUSTER CENTERS:  5 Iter:  67 / 100 Res:  (400, 1676.8007025849013)\n",
      "CLUSTER CENTERS:  5 Iter:  68 / 100 Res:  (400, 1034.4879001726642)\n",
      "CLUSTER CENTERS:  5 Iter:  69 / 100 Res:  (400, 1206.440020603862)\n",
      "CLUSTER CENTERS:  5 Iter:  70 / 100 Res:  (400, 1436.3441707096522)\n",
      "CLUSTER CENTERS:  5 Iter:  71 / 100 Res:  (130, 1015.6414507961828)\n",
      "CLUSTER CENTERS:  5 Iter:  72 / 100 Res:  (400, 1341.144328232301)\n",
      "CLUSTER CENTERS:  5 Iter:  73 / 100 Res:  (400, 1136.732008560561)\n",
      "CLUSTER CENTERS:  5 Iter:  74 / 100 Res:  (97, 1202.8797147779792)\n",
      "CLUSTER CENTERS:  5 Iter:  75 / 100 Res:  (161, 1090.2709574680723)\n",
      "CLUSTER CENTERS:  5 Iter:  76 / 100 Res:  (119, 1373.2573624940303)\n",
      "CLUSTER CENTERS:  5 Iter:  77 / 100 Res:  (112, 973.6138965689145)\n",
      "CLUSTER CENTERS:  5 Iter:  78 / 100 Res:  (115, 1025.1171387609302)\n",
      "CLUSTER CENTERS:  5 Iter:  79 / 100 Res:  (400, 980.7847400129759)\n",
      "CLUSTER CENTERS:  5 Iter:  80 / 100 Res:  (112, 998.5820900394583)\n",
      "CLUSTER CENTERS:  5 Iter:  81 / 100 Res:  (400, 1008.8866567718478)\n",
      "CLUSTER CENTERS:  5 Iter:  82 / 100 Res:  (130, 1253.4967069897184)\n",
      "CLUSTER CENTERS:  5 Iter:  83 / 100 Res:  (400, 1219.5629294996195)\n",
      "CLUSTER CENTERS:  5 Iter:  84 / 100 Res:  (400, 992.4383012126524)\n",
      "CLUSTER CENTERS:  5 Iter:  85 / 100 Res:  (400, 981.1464669572031)\n",
      "CLUSTER CENTERS:  5 Iter:  86 / 100 Res:  (400, 988.8136353839576)\n",
      "CLUSTER CENTERS:  5 Iter:  87 / 100 Res:  (176, 969.7162948281572)\n",
      "CLUSTER CENTERS:  5 Iter:  88 / 100 Res:  (400, 1177.4395981779405)\n",
      "CLUSTER CENTERS:  5 Iter:  89 / 100 Res:  (151, 1899.502145617399)\n",
      "CLUSTER CENTERS:  5 Iter:  90 / 100 Res:  (276, 1207.8671239101975)\n",
      "CLUSTER CENTERS:  5 Iter:  91 / 100 Res:  (400, 941.0311819536468)\n",
      "CLUSTER CENTERS:  5 Iter:  92 / 100 Res:  (400, 1041.138187522677)\n",
      "CLUSTER CENTERS:  5 Iter:  93 / 100 Res:  (122, 1417.962910596014)\n",
      "CLUSTER CENTERS:  5 Iter:  94 / 100 Res:  (400, 914.4611334142965)\n",
      "CLUSTER CENTERS:  5 Iter:  95 / 100 Res:  (400, 1019.9736771956792)\n",
      "CLUSTER CENTERS:  5 Iter:  96 / 100 Res:  (400, 1448.3751661231365)\n",
      "CLUSTER CENTERS:  5 Iter:  97 / 100 Res:  (400, 947.3571270738184)\n",
      "CLUSTER CENTERS:  5 Iter:  98 / 100 Res:  (400, 1187.1908428766778)\n",
      "CLUSTER CENTERS:  5 Iter:  99 / 100 Res:  (201, 1175.3841219958156)\n",
      "CLUSTER CENTERS:  10 Iter:  0 / 100 Res:  (400, 858.9225946799431)\n",
      "CLUSTER CENTERS:  10 Iter:  1 / 100 Res:  (161, 909.6483227746439)\n",
      "CLUSTER CENTERS:  10 Iter:  2 / 100 Res:  (178, 810.72357440582)\n",
      "CLUSTER CENTERS:  10 Iter:  3 / 100 Res:  (219, 1121.5383951769086)\n",
      "CLUSTER CENTERS:  10 Iter:  4 / 100 Res:  (228, 1249.0677777031315)\n",
      "CLUSTER CENTERS:  10 Iter:  5 / 100 Res:  (137, 728.5748049248327)\n",
      "CLUSTER CENTERS:  10 Iter:  6 / 100 Res:  (122, 727.0893295621926)\n",
      "CLUSTER CENTERS:  10 Iter:  7 / 100 Res:  (163, 1039.0374041991142)\n",
      "CLUSTER CENTERS:  10 Iter:  8 / 100 Res:  (171, 930.9395129523954)\n",
      "CLUSTER CENTERS:  10 Iter:  9 / 100 Res:  (400, 869.438853589547)\n",
      "CLUSTER CENTERS:  10 Iter:  10 / 100 Res:  (181, 828.2929780572869)\n",
      "CLUSTER CENTERS:  10 Iter:  11 / 100 Res:  (400, 945.9417048721041)\n",
      "CLUSTER CENTERS:  10 Iter:  12 / 100 Res:  (150, 918.9979755476066)\n",
      "CLUSTER CENTERS:  10 Iter:  13 / 100 Res:  (400, 1083.9555291463128)\n",
      "CLUSTER CENTERS:  10 Iter:  14 / 100 Res:  (155, 844.4687823499398)\n",
      "CLUSTER CENTERS:  10 Iter:  15 / 100 Res:  (166, 891.8043252252661)\n",
      "CLUSTER CENTERS:  10 Iter:  16 / 100 Res:  (176, 1077.8400115851357)\n",
      "CLUSTER CENTERS:  10 Iter:  17 / 100 Res:  (117, 914.5630925770257)\n",
      "CLUSTER CENTERS:  10 Iter:  18 / 100 Res:  (377, 806.4857458047713)\n",
      "CLUSTER CENTERS:  10 Iter:  19 / 100 Res:  (129, 832.5314886733178)\n",
      "CLUSTER CENTERS:  10 Iter:  20 / 100 Res:  (176, 852.5396236003154)\n",
      "CLUSTER CENTERS:  10 Iter:  21 / 100 Res:  (115, 827.4141431361454)\n",
      "CLUSTER CENTERS:  10 Iter:  22 / 100 Res:  (182, 847.1051662453598)\n",
      "CLUSTER CENTERS:  10 Iter:  23 / 100 Res:  (138, 995.516634113384)\n",
      "CLUSTER CENTERS:  10 Iter:  24 / 100 Res:  (173, 854.4259367085286)\n",
      "CLUSTER CENTERS:  10 Iter:  25 / 100 Res:  (400, 796.2355747961491)\n",
      "CLUSTER CENTERS:  10 Iter:  26 / 100 Res:  (89, 768.2349743829614)\n",
      "CLUSTER CENTERS:  10 Iter:  27 / 100 Res:  (118, 878.0811450327254)\n",
      "CLUSTER CENTERS:  10 Iter:  28 / 100 Res:  (139, 791.8370741176163)\n",
      "CLUSTER CENTERS:  10 Iter:  29 / 100 Res:  (400, 924.8842771978125)\n",
      "CLUSTER CENTERS:  10 Iter:  30 / 100 Res:  (400, 827.1394910419993)\n",
      "CLUSTER CENTERS:  10 Iter:  31 / 100 Res:  (226, 917.3464748606987)\n",
      "CLUSTER CENTERS:  10 Iter:  32 / 100 Res:  (163, 834.2181550999665)\n",
      "CLUSTER CENTERS:  10 Iter:  33 / 100 Res:  (170, 741.6308653239505)\n",
      "CLUSTER CENTERS:  10 Iter:  34 / 100 Res:  (153, 890.1539781101854)\n",
      "CLUSTER CENTERS:  10 Iter:  35 / 100 Res:  (133, 907.3088339158026)\n",
      "CLUSTER CENTERS:  10 Iter:  36 / 100 Res:  (110, 765.1780448463869)\n",
      "CLUSTER CENTERS:  10 Iter:  37 / 100 Res:  (183, 906.0683336317977)\n",
      "CLUSTER CENTERS:  10 Iter:  38 / 100 Res:  (154, 1057.2176978024197)\n",
      "CLUSTER CENTERS:  10 Iter:  39 / 100 Res:  (400, 904.1140141802105)\n",
      "CLUSTER CENTERS:  10 Iter:  40 / 100 Res:  (166, 904.8868873821411)\n",
      "CLUSTER CENTERS:  10 Iter:  41 / 100 Res:  (400, 691.8946360684808)\n",
      "CLUSTER CENTERS:  10 Iter:  42 / 100 Res:  (170, 890.172183215921)\n",
      "CLUSTER CENTERS:  10 Iter:  43 / 100 Res:  (141, 783.9468414523699)\n",
      "CLUSTER CENTERS:  10 Iter:  44 / 100 Res:  (400, 997.3302702076508)\n",
      "CLUSTER CENTERS:  10 Iter:  45 / 100 Res:  (400, 856.5605762669102)\n",
      "CLUSTER CENTERS:  10 Iter:  46 / 100 Res:  (199, 921.0756368829681)\n",
      "CLUSTER CENTERS:  10 Iter:  47 / 100 Res:  (159, 824.767841870826)\n",
      "CLUSTER CENTERS:  10 Iter:  48 / 100 Res:  (400, 1118.4453379685635)\n",
      "CLUSTER CENTERS:  10 Iter:  49 / 100 Res:  (141, 873.5142761546896)\n",
      "CLUSTER CENTERS:  10 Iter:  50 / 100 Res:  (400, 949.8078948551317)\n",
      "CLUSTER CENTERS:  10 Iter:  51 / 100 Res:  (168, 1059.1444571104134)\n",
      "CLUSTER CENTERS:  10 Iter:  52 / 100 Res:  (125, 957.2267593164347)\n",
      "CLUSTER CENTERS:  10 Iter:  53 / 100 Res:  (161, 781.647179774207)\n",
      "CLUSTER CENTERS:  10 Iter:  54 / 100 Res:  (400, 800.1605456753506)\n",
      "CLUSTER CENTERS:  10 Iter:  55 / 100 Res:  (400, 828.2620299497128)\n",
      "CLUSTER CENTERS:  10 Iter:  56 / 100 Res:  (400, 876.3321050128982)\n",
      "CLUSTER CENTERS:  10 Iter:  57 / 100 Res:  (157, 1104.2979640875492)\n",
      "CLUSTER CENTERS:  10 Iter:  58 / 100 Res:  (158, 804.6076368966119)\n",
      "CLUSTER CENTERS:  10 Iter:  59 / 100 Res:  (141, 851.6912266553447)\n",
      "CLUSTER CENTERS:  10 Iter:  60 / 100 Res:  (400, 786.082839728973)\n",
      "CLUSTER CENTERS:  10 Iter:  61 / 100 Res:  (400, 831.0732813513613)\n",
      "CLUSTER CENTERS:  10 Iter:  62 / 100 Res:  (115, 955.8006080384424)\n",
      "CLUSTER CENTERS:  10 Iter:  63 / 100 Res:  (400, 715.1573720553332)\n",
      "CLUSTER CENTERS:  10 Iter:  64 / 100 Res:  (217, 1035.1892483079328)\n",
      "CLUSTER CENTERS:  10 Iter:  65 / 100 Res:  (400, 878.6469185520775)\n",
      "CLUSTER CENTERS:  10 Iter:  66 / 100 Res:  (156, 941.0774170744642)\n",
      "CLUSTER CENTERS:  10 Iter:  67 / 100 Res:  (139, 888.6655297319672)\n",
      "CLUSTER CENTERS:  10 Iter:  68 / 100 Res:  (226, 857.4563319025739)\n",
      "CLUSTER CENTERS:  10 Iter:  69 / 100 Res:  (400, 760.5055340453408)\n",
      "CLUSTER CENTERS:  10 Iter:  70 / 100 Res:  (166, 729.7587933504177)\n",
      "CLUSTER CENTERS:  10 Iter:  71 / 100 Res:  (400, 936.2241574541947)\n",
      "CLUSTER CENTERS:  10 Iter:  72 / 100 Res:  (171, 918.3287560940184)\n",
      "CLUSTER CENTERS:  10 Iter:  73 / 100 Res:  (134, 870.1270975304071)\n",
      "CLUSTER CENTERS:  10 Iter:  74 / 100 Res:  (147, 1103.0874834355282)\n",
      "CLUSTER CENTERS:  10 Iter:  75 / 100 Res:  (87, 866.8782203772821)\n",
      "CLUSTER CENTERS:  10 Iter:  76 / 100 Res:  (162, 918.727348598616)\n",
      "CLUSTER CENTERS:  10 Iter:  77 / 100 Res:  (156, 838.1633934215542)\n",
      "CLUSTER CENTERS:  10 Iter:  78 / 100 Res:  (157, 814.5019281668798)\n",
      "CLUSTER CENTERS:  10 Iter:  79 / 100 Res:  (400, 807.2348941038915)\n",
      "CLUSTER CENTERS:  10 Iter:  80 / 100 Res:  (400, 887.5295320717202)\n",
      "CLUSTER CENTERS:  10 Iter:  81 / 100 Res:  (400, 806.2440713240618)\n",
      "CLUSTER CENTERS:  10 Iter:  82 / 100 Res:  (218, 827.5792093800978)\n",
      "CLUSTER CENTERS:  10 Iter:  83 / 100 Res:  (121, 885.7579680944617)\n",
      "CLUSTER CENTERS:  10 Iter:  84 / 100 Res:  (400, 1098.1119144462975)\n",
      "CLUSTER CENTERS:  10 Iter:  85 / 100 Res:  (400, 983.3794438921994)\n",
      "CLUSTER CENTERS:  10 Iter:  86 / 100 Res:  (110, 831.6176387494112)\n",
      "CLUSTER CENTERS:  10 Iter:  87 / 100 Res:  (400, 753.168903960947)\n",
      "CLUSTER CENTERS:  10 Iter:  88 / 100 Res:  (86, 982.2330900279625)\n",
      "CLUSTER CENTERS:  10 Iter:  89 / 100 Res:  (400, 917.3135694911514)\n",
      "CLUSTER CENTERS:  10 Iter:  90 / 100 Res:  (400, 793.2738710515998)\n",
      "CLUSTER CENTERS:  10 Iter:  91 / 100 Res:  (179, 1053.097697950878)\n",
      "CLUSTER CENTERS:  10 Iter:  92 / 100 Res:  (198, 1064.496941763043)\n",
      "CLUSTER CENTERS:  10 Iter:  93 / 100 Res:  (169, 825.2988954529292)\n",
      "CLUSTER CENTERS:  10 Iter:  94 / 100 Res:  (400, 1061.66182225467)\n",
      "CLUSTER CENTERS:  10 Iter:  95 / 100 Res:  (400, 1035.043251713494)\n",
      "CLUSTER CENTERS:  10 Iter:  96 / 100 Res:  (129, 844.3977352682256)\n",
      "CLUSTER CENTERS:  10 Iter:  97 / 100 Res:  (167, 818.5577868750948)\n",
      "CLUSTER CENTERS:  10 Iter:  98 / 100 Res:  (157, 1119.4431412230922)\n",
      "CLUSTER CENTERS:  10 Iter:  99 / 100 Res:  (95, 1039.2531764030348)\n",
      "CLUSTER CENTERS:  20 Iter:  0 / 100 Res:  (309, 782.5303329220344)\n",
      "CLUSTER CENTERS:  20 Iter:  1 / 100 Res:  (400, 750.005509536288)\n",
      "CLUSTER CENTERS:  20 Iter:  2 / 100 Res:  (178, 666.3664016065009)\n",
      "CLUSTER CENTERS:  20 Iter:  3 / 100 Res:  (265, 596.4902131023354)\n",
      "CLUSTER CENTERS:  20 Iter:  4 / 100 Res:  (171, 644.7508703700703)\n",
      "CLUSTER CENTERS:  20 Iter:  5 / 100 Res:  (154, 691.3610695456632)\n",
      "CLUSTER CENTERS:  20 Iter:  6 / 100 Res:  (164, 733.1616345311371)\n",
      "CLUSTER CENTERS:  20 Iter:  7 / 100 Res:  (191, 733.5349427148623)\n",
      "CLUSTER CENTERS:  20 Iter:  8 / 100 Res:  (400, 642.003333887459)\n",
      "CLUSTER CENTERS:  20 Iter:  9 / 100 Res:  (328, 626.3621977222662)\n",
      "CLUSTER CENTERS:  20 Iter:  10 / 100 Res:  (400, 844.5739968491686)\n",
      "CLUSTER CENTERS:  20 Iter:  11 / 100 Res:  (159, 607.4109042224397)\n",
      "CLUSTER CENTERS:  20 Iter:  12 / 100 Res:  (400, 738.8111347267716)\n",
      "CLUSTER CENTERS:  20 Iter:  13 / 100 Res:  (400, 674.1894197661303)\n",
      "CLUSTER CENTERS:  20 Iter:  14 / 100 Res:  (173, 622.9995861533513)\n",
      "CLUSTER CENTERS:  20 Iter:  15 / 100 Res:  (171, 718.0171894481484)\n",
      "CLUSTER CENTERS:  20 Iter:  16 / 100 Res:  (400, 627.3717913844173)\n",
      "CLUSTER CENTERS:  20 Iter:  17 / 100 Res:  (400, 682.5285892999606)\n",
      "CLUSTER CENTERS:  20 Iter:  18 / 100 Res:  (182, 690.8755417789581)\n",
      "CLUSTER CENTERS:  20 Iter:  19 / 100 Res:  (189, 902.1109002233571)\n",
      "CLUSTER CENTERS:  20 Iter:  20 / 100 Res:  (400, 676.067994411586)\n",
      "CLUSTER CENTERS:  20 Iter:  21 / 100 Res:  (400, 691.9604532071068)\n",
      "CLUSTER CENTERS:  20 Iter:  22 / 100 Res:  (400, 742.3498188827352)\n",
      "CLUSTER CENTERS:  20 Iter:  23 / 100 Res:  (400, 691.7183766053339)\n",
      "CLUSTER CENTERS:  20 Iter:  24 / 100 Res:  (400, 651.287730945539)\n",
      "CLUSTER CENTERS:  20 Iter:  25 / 100 Res:  (400, 691.0146228180145)\n",
      "CLUSTER CENTERS:  20 Iter:  26 / 100 Res:  (187, 740.7473451995023)\n",
      "CLUSTER CENTERS:  20 Iter:  27 / 100 Res:  (160, 662.5590345412785)\n",
      "CLUSTER CENTERS:  20 Iter:  28 / 100 Res:  (400, 624.9071199311113)\n",
      "CLUSTER CENTERS:  20 Iter:  29 / 100 Res:  (400, 719.6855302494122)\n",
      "CLUSTER CENTERS:  20 Iter:  30 / 100 Res:  (217, 761.3971307650562)\n",
      "CLUSTER CENTERS:  20 Iter:  31 / 100 Res:  (400, 623.1270102705291)\n",
      "CLUSTER CENTERS:  20 Iter:  32 / 100 Res:  (316, 710.3929012675516)\n",
      "CLUSTER CENTERS:  20 Iter:  33 / 100 Res:  (400, 675.9287545898319)\n",
      "CLUSTER CENTERS:  20 Iter:  34 / 100 Res:  (400, 759.4754877860914)\n",
      "CLUSTER CENTERS:  20 Iter:  35 / 100 Res:  (161, 637.8294549204924)\n",
      "CLUSTER CENTERS:  20 Iter:  36 / 100 Res:  (400, 654.4421860299598)\n",
      "CLUSTER CENTERS:  20 Iter:  37 / 100 Res:  (400, 776.9238070730654)\n",
      "CLUSTER CENTERS:  20 Iter:  38 / 100 Res:  (233, 764.6399056653856)\n",
      "CLUSTER CENTERS:  20 Iter:  39 / 100 Res:  (133, 689.0604144818697)\n",
      "CLUSTER CENTERS:  20 Iter:  40 / 100 Res:  (196, 643.7521641211582)\n",
      "CLUSTER CENTERS:  20 Iter:  41 / 100 Res:  (400, 669.51640455845)\n",
      "CLUSTER CENTERS:  20 Iter:  42 / 100 Res:  (360, 746.6714681164635)\n",
      "CLUSTER CENTERS:  20 Iter:  43 / 100 Res:  (165, 684.820550976688)\n",
      "CLUSTER CENTERS:  20 Iter:  44 / 100 Res:  (191, 737.2939197669867)\n",
      "CLUSTER CENTERS:  20 Iter:  45 / 100 Res:  (205, 729.2670082191239)\n",
      "CLUSTER CENTERS:  20 Iter:  46 / 100 Res:  (400, 670.5719458584032)\n",
      "CLUSTER CENTERS:  20 Iter:  47 / 100 Res:  (400, 734.0089587912446)\n",
      "CLUSTER CENTERS:  20 Iter:  48 / 100 Res:  (161, 659.0206700846105)\n",
      "CLUSTER CENTERS:  20 Iter:  49 / 100 Res:  (146, 589.6647358860686)\n",
      "CLUSTER CENTERS:  20 Iter:  50 / 100 Res:  (400, 615.515470663549)\n",
      "CLUSTER CENTERS:  20 Iter:  51 / 100 Res:  (178, 617.4758005663035)\n",
      "CLUSTER CENTERS:  20 Iter:  52 / 100 Res:  (146, 638.3844227422703)\n",
      "CLUSTER CENTERS:  20 Iter:  53 / 100 Res:  (400, 755.2386073646778)\n",
      "CLUSTER CENTERS:  20 Iter:  54 / 100 Res:  (400, 756.6265046075737)\n",
      "CLUSTER CENTERS:  20 Iter:  55 / 100 Res:  (400, 721.0487232877648)\n",
      "CLUSTER CENTERS:  20 Iter:  56 / 100 Res:  (110, 693.3231800112038)\n",
      "CLUSTER CENTERS:  20 Iter:  57 / 100 Res:  (374, 709.1503036316512)\n",
      "CLUSTER CENTERS:  20 Iter:  58 / 100 Res:  (400, 708.3073333304301)\n",
      "CLUSTER CENTERS:  20 Iter:  59 / 100 Res:  (400, 568.5578626351617)\n",
      "CLUSTER CENTERS:  20 Iter:  60 / 100 Res:  (400, 765.9150434301425)\n",
      "CLUSTER CENTERS:  20 Iter:  61 / 100 Res:  (400, 752.284793080957)\n",
      "CLUSTER CENTERS:  20 Iter:  62 / 100 Res:  (400, 629.9994084197735)\n",
      "CLUSTER CENTERS:  20 Iter:  63 / 100 Res:  (152, 590.521124456668)\n",
      "CLUSTER CENTERS:  20 Iter:  64 / 100 Res:  (400, 654.2031911677938)\n",
      "CLUSTER CENTERS:  20 Iter:  65 / 100 Res:  (400, 677.5953969415907)\n",
      "CLUSTER CENTERS:  20 Iter:  66 / 100 Res:  (158, 705.9776975951107)\n",
      "CLUSTER CENTERS:  20 Iter:  67 / 100 Res:  (400, 704.9190324544439)\n",
      "CLUSTER CENTERS:  20 Iter:  68 / 100 Res:  (400, 759.3870380236584)\n",
      "CLUSTER CENTERS:  20 Iter:  69 / 100 Res:  (400, 722.257934993318)\n",
      "CLUSTER CENTERS:  20 Iter:  70 / 100 Res:  (155, 677.654013528988)\n",
      "CLUSTER CENTERS:  20 Iter:  71 / 100 Res:  (400, 653.2245524825913)\n",
      "CLUSTER CENTERS:  20 Iter:  72 / 100 Res:  (122, 715.0098542818321)\n",
      "CLUSTER CENTERS:  20 Iter:  73 / 100 Res:  (400, 665.7904833173675)\n",
      "CLUSTER CENTERS:  20 Iter:  74 / 100 Res:  (400, 734.7517563820682)\n",
      "CLUSTER CENTERS:  20 Iter:  75 / 100 Res:  (400, 606.3842750929668)\n",
      "CLUSTER CENTERS:  20 Iter:  76 / 100 Res:  (358, 725.0522762890841)\n",
      "CLUSTER CENTERS:  20 Iter:  77 / 100 Res:  (205, 614.3095139772989)\n",
      "CLUSTER CENTERS:  20 Iter:  78 / 100 Res:  (153, 690.7419649499589)\n",
      "CLUSTER CENTERS:  20 Iter:  79 / 100 Res:  (164, 671.4023209353132)\n",
      "CLUSTER CENTERS:  20 Iter:  80 / 100 Res:  (400, 747.0726446112427)\n",
      "CLUSTER CENTERS:  20 Iter:  81 / 100 Res:  (301, 671.8855033574075)\n",
      "CLUSTER CENTERS:  20 Iter:  82 / 100 Res:  (400, 598.061447038596)\n",
      "CLUSTER CENTERS:  20 Iter:  83 / 100 Res:  (400, 720.2985195161539)\n",
      "CLUSTER CENTERS:  20 Iter:  84 / 100 Res:  (400, 667.9670024690918)\n",
      "CLUSTER CENTERS:  20 Iter:  85 / 100 Res:  (400, 673.6843898333958)\n",
      "CLUSTER CENTERS:  20 Iter:  86 / 100 Res:  (159, 701.4701166222286)\n",
      "CLUSTER CENTERS:  20 Iter:  87 / 100 Res:  (118, 614.0681248364384)\n",
      "CLUSTER CENTERS:  20 Iter:  88 / 100 Res:  (202, 774.8844755893034)\n",
      "CLUSTER CENTERS:  20 Iter:  89 / 100 Res:  (224, 654.6507240149897)\n",
      "CLUSTER CENTERS:  20 Iter:  90 / 100 Res:  (400, 688.7908937600943)\n",
      "CLUSTER CENTERS:  20 Iter:  91 / 100 Res:  (223, 658.0187901948372)\n",
      "CLUSTER CENTERS:  20 Iter:  92 / 100 Res:  (400, 704.0117009730177)\n",
      "CLUSTER CENTERS:  20 Iter:  93 / 100 Res:  (163, 744.8223091733608)\n",
      "CLUSTER CENTERS:  20 Iter:  94 / 100 Res:  (142, 773.0270661638917)\n",
      "CLUSTER CENTERS:  20 Iter:  95 / 100 Res:  (400, 716.7187378880299)\n",
      "CLUSTER CENTERS:  20 Iter:  96 / 100 Res:  (400, 659.0173213575958)\n",
      "CLUSTER CENTERS:  20 Iter:  97 / 100 Res:  (190, 705.9750271955398)\n",
      "CLUSTER CENTERS:  20 Iter:  98 / 100 Res:  (169, 658.929032329558)\n",
      "CLUSTER CENTERS:  20 Iter:  99 / 100 Res:  (400, 651.5454484834137)\n",
      "CLUSTER CENTERS:  30 Iter:  0 / 100 Res:  (400, 578.537600766729)\n",
      "CLUSTER CENTERS:  30 Iter:  1 / 100 Res:  (400, 542.331155314903)\n",
      "CLUSTER CENTERS:  30 Iter:  2 / 100 Res:  (400, 584.2461936989977)\n",
      "CLUSTER CENTERS:  30 Iter:  3 / 100 Res:  (162, 602.8618560003376)\n",
      "CLUSTER CENTERS:  30 Iter:  4 / 100 Res:  (400, 587.3780984215032)\n",
      "CLUSTER CENTERS:  30 Iter:  5 / 100 Res:  (400, 638.0706722954412)\n",
      "CLUSTER CENTERS:  30 Iter:  6 / 100 Res:  (400, 614.747120316048)\n",
      "CLUSTER CENTERS:  30 Iter:  7 / 100 Res:  (289, 624.7539542094979)\n",
      "CLUSTER CENTERS:  30 Iter:  8 / 100 Res:  (400, 558.9017278305053)\n",
      "CLUSTER CENTERS:  30 Iter:  9 / 100 Res:  (192, 563.1730343902899)\n",
      "CLUSTER CENTERS:  30 Iter:  10 / 100 Res:  (400, 579.8445361558215)\n",
      "CLUSTER CENTERS:  30 Iter:  11 / 100 Res:  (170, 623.1951636057852)\n",
      "CLUSTER CENTERS:  30 Iter:  12 / 100 Res:  (321, 546.9589216768785)\n",
      "CLUSTER CENTERS:  30 Iter:  13 / 100 Res:  (400, 625.7522402252014)\n",
      "CLUSTER CENTERS:  30 Iter:  14 / 100 Res:  (250, 680.8523289006752)\n",
      "CLUSTER CENTERS:  30 Iter:  15 / 100 Res:  (240, 528.4100377446425)\n",
      "CLUSTER CENTERS:  30 Iter:  16 / 100 Res:  (350, 573.5314441847635)\n",
      "CLUSTER CENTERS:  30 Iter:  17 / 100 Res:  (400, 589.1133099023253)\n",
      "CLUSTER CENTERS:  30 Iter:  18 / 100 Res:  (400, 690.0653542755347)\n",
      "CLUSTER CENTERS:  30 Iter:  19 / 100 Res:  (295, 669.3836094585517)\n",
      "CLUSTER CENTERS:  30 Iter:  20 / 100 Res:  (250, 558.2850700878394)\n",
      "CLUSTER CENTERS:  30 Iter:  21 / 100 Res:  (400, 568.0019751648385)\n",
      "CLUSTER CENTERS:  30 Iter:  22 / 100 Res:  (159, 558.4724858090527)\n",
      "CLUSTER CENTERS:  30 Iter:  23 / 100 Res:  (259, 581.2271716938228)\n",
      "CLUSTER CENTERS:  30 Iter:  24 / 100 Res:  (400, 649.0043910568953)\n",
      "CLUSTER CENTERS:  30 Iter:  25 / 100 Res:  (400, 584.1380220994171)\n",
      "CLUSTER CENTERS:  30 Iter:  26 / 100 Res:  (400, 623.312585631601)\n",
      "CLUSTER CENTERS:  30 Iter:  27 / 100 Res:  (400, 598.1692471621228)\n",
      "CLUSTER CENTERS:  30 Iter:  28 / 100 Res:  (400, 604.2167675117)\n",
      "CLUSTER CENTERS:  30 Iter:  29 / 100 Res:  (400, 568.7069311751029)\n",
      "CLUSTER CENTERS:  30 Iter:  30 / 100 Res:  (400, 578.3162639662891)\n",
      "CLUSTER CENTERS:  30 Iter:  31 / 100 Res:  (342, 545.5597139819245)\n",
      "CLUSTER CENTERS:  30 Iter:  32 / 100 Res:  (400, 583.8448821903062)\n",
      "CLUSTER CENTERS:  30 Iter:  33 / 100 Res:  (400, 589.2316806064346)\n",
      "CLUSTER CENTERS:  30 Iter:  34 / 100 Res:  (400, 643.3058097847239)\n",
      "CLUSTER CENTERS:  30 Iter:  35 / 100 Res:  (400, 584.682591522468)\n",
      "CLUSTER CENTERS:  30 Iter:  36 / 100 Res:  (257, 641.92604050133)\n",
      "CLUSTER CENTERS:  30 Iter:  37 / 100 Res:  (112, 622.0560232059116)\n",
      "CLUSTER CENTERS:  30 Iter:  38 / 100 Res:  (400, 603.3164153778249)\n",
      "CLUSTER CENTERS:  30 Iter:  39 / 100 Res:  (400, 601.1131691776982)\n",
      "CLUSTER CENTERS:  30 Iter:  40 / 100 Res:  (400, 671.4949356862585)\n",
      "CLUSTER CENTERS:  30 Iter:  41 / 100 Res:  (179, 650.4711243729103)\n",
      "CLUSTER CENTERS:  30 Iter:  42 / 100 Res:  (400, 617.1656106687766)\n",
      "CLUSTER CENTERS:  30 Iter:  43 / 100 Res:  (400, 578.7105170216278)\n",
      "CLUSTER CENTERS:  30 Iter:  44 / 100 Res:  (400, 607.5254945024021)\n",
      "CLUSTER CENTERS:  30 Iter:  45 / 100 Res:  (400, 606.73296720401)\n",
      "CLUSTER CENTERS:  30 Iter:  46 / 100 Res:  (400, 587.7097544546087)\n",
      "CLUSTER CENTERS:  30 Iter:  47 / 100 Res:  (400, 579.5220952006846)\n",
      "CLUSTER CENTERS:  30 Iter:  48 / 100 Res:  (400, 605.1616511593332)\n",
      "CLUSTER CENTERS:  30 Iter:  49 / 100 Res:  (400, 605.3473586984352)\n",
      "CLUSTER CENTERS:  30 Iter:  50 / 100 Res:  (400, 683.1015399457597)\n",
      "CLUSTER CENTERS:  30 Iter:  51 / 100 Res:  (400, 643.0499410409641)\n",
      "CLUSTER CENTERS:  30 Iter:  52 / 100 Res:  (400, 572.56246959909)\n",
      "CLUSTER CENTERS:  30 Iter:  53 / 100 Res:  (163, 612.7005175297692)\n",
      "CLUSTER CENTERS:  30 Iter:  54 / 100 Res:  (400, 662.8008011989909)\n",
      "CLUSTER CENTERS:  30 Iter:  55 / 100 Res:  (129, 575.1299372347544)\n",
      "CLUSTER CENTERS:  30 Iter:  56 / 100 Res:  (400, 587.2050489181958)\n",
      "CLUSTER CENTERS:  30 Iter:  57 / 100 Res:  (400, 584.6503029614813)\n",
      "CLUSTER CENTERS:  30 Iter:  58 / 100 Res:  (113, 567.5727883199982)\n",
      "CLUSTER CENTERS:  30 Iter:  59 / 100 Res:  (400, 547.329919815893)\n",
      "CLUSTER CENTERS:  30 Iter:  60 / 100 Res:  (400, 515.5640279757864)\n",
      "CLUSTER CENTERS:  30 Iter:  61 / 100 Res:  (400, 611.9945549892234)\n",
      "CLUSTER CENTERS:  30 Iter:  62 / 100 Res:  (169, 620.0194275920036)\n",
      "CLUSTER CENTERS:  30 Iter:  63 / 100 Res:  (400, 615.2880598176295)\n",
      "CLUSTER CENTERS:  30 Iter:  64 / 100 Res:  (352, 589.7355952881478)\n",
      "CLUSTER CENTERS:  30 Iter:  65 / 100 Res:  (140, 589.6535629464665)\n",
      "CLUSTER CENTERS:  30 Iter:  66 / 100 Res:  (400, 576.461872661114)\n",
      "CLUSTER CENTERS:  30 Iter:  67 / 100 Res:  (400, 614.686708492991)\n",
      "CLUSTER CENTERS:  30 Iter:  68 / 100 Res:  (400, 561.5120437550172)\n",
      "CLUSTER CENTERS:  30 Iter:  69 / 100 Res:  (400, 622.9883192024382)\n",
      "CLUSTER CENTERS:  30 Iter:  70 / 100 Res:  (400, 611.5592887749701)\n",
      "CLUSTER CENTERS:  30 Iter:  71 / 100 Res:  (400, 570.3743548554327)\n",
      "CLUSTER CENTERS:  30 Iter:  72 / 100 Res:  (240, 608.0498352430584)\n",
      "CLUSTER CENTERS:  30 Iter:  73 / 100 Res:  (400, 659.4571745211737)\n",
      "CLUSTER CENTERS:  30 Iter:  74 / 100 Res:  (400, 594.827741294823)\n",
      "CLUSTER CENTERS:  30 Iter:  75 / 100 Res:  (400, 611.5083988688627)\n",
      "CLUSTER CENTERS:  30 Iter:  76 / 100 Res:  (170, 559.6720899956055)\n",
      "CLUSTER CENTERS:  30 Iter:  77 / 100 Res:  (400, 653.7756721984721)\n",
      "CLUSTER CENTERS:  30 Iter:  78 / 100 Res:  (249, 571.1892140274416)\n",
      "CLUSTER CENTERS:  30 Iter:  79 / 100 Res:  (225, 644.8126413003337)\n",
      "CLUSTER CENTERS:  30 Iter:  80 / 100 Res:  (129, 640.0584654226568)\n",
      "CLUSTER CENTERS:  30 Iter:  81 / 100 Res:  (400, 536.4521282194073)\n",
      "CLUSTER CENTERS:  30 Iter:  82 / 100 Res:  (400, 557.7300268341327)\n",
      "CLUSTER CENTERS:  30 Iter:  83 / 100 Res:  (400, 646.0421005688418)\n",
      "CLUSTER CENTERS:  30 Iter:  84 / 100 Res:  (400, 557.8894429342223)\n",
      "CLUSTER CENTERS:  30 Iter:  85 / 100 Res:  (400, 619.6653420423743)\n",
      "CLUSTER CENTERS:  30 Iter:  86 / 100 Res:  (400, 679.615076429541)\n",
      "CLUSTER CENTERS:  30 Iter:  87 / 100 Res:  (400, 590.3278216041018)\n",
      "CLUSTER CENTERS:  30 Iter:  88 / 100 Res:  (400, 599.1011312952365)\n",
      "CLUSTER CENTERS:  30 Iter:  89 / 100 Res:  (123, 576.7130895551905)\n",
      "CLUSTER CENTERS:  30 Iter:  90 / 100 Res:  (400, 567.2498353488613)\n",
      "CLUSTER CENTERS:  30 Iter:  91 / 100 Res:  (183, 572.559538596194)\n",
      "CLUSTER CENTERS:  30 Iter:  92 / 100 Res:  (241, 592.3548372696414)\n",
      "CLUSTER CENTERS:  30 Iter:  93 / 100 Res:  (400, 540.6357564063865)\n",
      "CLUSTER CENTERS:  30 Iter:  94 / 100 Res:  (295, 591.5622865533526)\n",
      "CLUSTER CENTERS:  30 Iter:  95 / 100 Res:  (400, 590.0741506510788)\n",
      "CLUSTER CENTERS:  30 Iter:  96 / 100 Res:  (285, 617.23781149297)\n",
      "CLUSTER CENTERS:  30 Iter:  97 / 100 Res:  (400, 649.080238997624)\n",
      "CLUSTER CENTERS:  30 Iter:  98 / 100 Res:  (400, 701.0967164988119)\n",
      "CLUSTER CENTERS:  30 Iter:  99 / 100 Res:  (400, 643.0624685878254)\n",
      "CLUSTER CENTERS:  40 Iter:  0 / 100 Res:  (400, 581.2023772128692)\n",
      "CLUSTER CENTERS:  40 Iter:  1 / 100 Res:  (400, 520.3273298671046)\n",
      "CLUSTER CENTERS:  40 Iter:  2 / 100 Res:  (400, 559.0377488690671)\n",
      "CLUSTER CENTERS:  40 Iter:  3 / 100 Res:  (400, 503.86662158382705)\n",
      "CLUSTER CENTERS:  40 Iter:  4 / 100 Res:  (203, 555.0809721631683)\n",
      "CLUSTER CENTERS:  40 Iter:  5 / 100 Res:  (400, 577.1214902102842)\n",
      "CLUSTER CENTERS:  40 Iter:  6 / 100 Res:  (400, 598.3899810491936)\n",
      "CLUSTER CENTERS:  40 Iter:  7 / 100 Res:  (400, 593.2672846081614)\n",
      "CLUSTER CENTERS:  40 Iter:  8 / 100 Res:  (400, 532.4121928590012)\n",
      "CLUSTER CENTERS:  40 Iter:  9 / 100 Res:  (400, 573.184389220453)\n",
      "CLUSTER CENTERS:  40 Iter:  10 / 100 Res:  (400, 554.2730959788864)\n",
      "CLUSTER CENTERS:  40 Iter:  11 / 100 Res:  (400, 520.4739917086403)\n",
      "CLUSTER CENTERS:  40 Iter:  12 / 100 Res:  (381, 577.8813143933277)\n",
      "CLUSTER CENTERS:  40 Iter:  13 / 100 Res:  (400, 516.8987704443747)\n",
      "CLUSTER CENTERS:  40 Iter:  14 / 100 Res:  (400, 584.5638964595678)\n",
      "CLUSTER CENTERS:  40 Iter:  15 / 100 Res:  (331, 557.21909089844)\n",
      "CLUSTER CENTERS:  40 Iter:  16 / 100 Res:  (278, 564.1437491465753)\n",
      "CLUSTER CENTERS:  40 Iter:  17 / 100 Res:  (265, 547.5290672682939)\n",
      "CLUSTER CENTERS:  40 Iter:  18 / 100 Res:  (400, 575.438785304358)\n",
      "CLUSTER CENTERS:  40 Iter:  19 / 100 Res:  (400, 534.1038323938609)\n",
      "CLUSTER CENTERS:  40 Iter:  20 / 100 Res:  (400, 488.64404951349684)\n",
      "CLUSTER CENTERS:  40 Iter:  21 / 100 Res:  (400, 534.9424791007559)\n",
      "CLUSTER CENTERS:  40 Iter:  22 / 100 Res:  (315, 532.4606032991117)\n",
      "CLUSTER CENTERS:  40 Iter:  23 / 100 Res:  (154, 521.4894931588952)\n",
      "CLUSTER CENTERS:  40 Iter:  24 / 100 Res:  (400, 531.2632330115742)\n",
      "CLUSTER CENTERS:  40 Iter:  25 / 100 Res:  (172, 572.0993928130544)\n",
      "CLUSTER CENTERS:  40 Iter:  26 / 100 Res:  (200, 617.1422803430116)\n",
      "CLUSTER CENTERS:  40 Iter:  27 / 100 Res:  (400, 537.1628106976979)\n",
      "CLUSTER CENTERS:  40 Iter:  28 / 100 Res:  (400, 554.5000632181676)\n",
      "CLUSTER CENTERS:  40 Iter:  29 / 100 Res:  (400, 547.1238682712999)\n",
      "CLUSTER CENTERS:  40 Iter:  30 / 100 Res:  (143, 582.0079988954052)\n",
      "CLUSTER CENTERS:  40 Iter:  31 / 100 Res:  (278, 538.3149697230355)\n",
      "CLUSTER CENTERS:  40 Iter:  32 / 100 Res:  (400, 541.4130065541193)\n",
      "CLUSTER CENTERS:  40 Iter:  33 / 100 Res:  (400, 528.7225099498864)\n",
      "CLUSTER CENTERS:  40 Iter:  34 / 100 Res:  (400, 516.7369751645292)\n",
      "CLUSTER CENTERS:  40 Iter:  35 / 100 Res:  (400, 570.9471773234792)\n",
      "CLUSTER CENTERS:  40 Iter:  36 / 100 Res:  (155, 593.1414148288968)\n",
      "CLUSTER CENTERS:  40 Iter:  37 / 100 Res:  (400, 570.7549108129957)\n",
      "CLUSTER CENTERS:  40 Iter:  38 / 100 Res:  (400, 513.7505095954983)\n",
      "CLUSTER CENTERS:  40 Iter:  39 / 100 Res:  (400, 484.90491331172734)\n",
      "CLUSTER CENTERS:  40 Iter:  40 / 100 Res:  (400, 516.4852430060565)\n",
      "CLUSTER CENTERS:  40 Iter:  41 / 100 Res:  (200, 527.2196504222146)\n",
      "CLUSTER CENTERS:  40 Iter:  42 / 100 Res:  (400, 532.246572400217)\n",
      "CLUSTER CENTERS:  40 Iter:  43 / 100 Res:  (400, 518.2289417662504)\n",
      "CLUSTER CENTERS:  40 Iter:  44 / 100 Res:  (239, 576.0446755945096)\n",
      "CLUSTER CENTERS:  40 Iter:  45 / 100 Res:  (255, 530.6644386958943)\n",
      "CLUSTER CENTERS:  40 Iter:  46 / 100 Res:  (400, 526.5144900555957)\n",
      "CLUSTER CENTERS:  40 Iter:  47 / 100 Res:  (360, 559.7776157255186)\n",
      "CLUSTER CENTERS:  40 Iter:  48 / 100 Res:  (400, 534.819976231568)\n",
      "CLUSTER CENTERS:  40 Iter:  49 / 100 Res:  (170, 605.9327090809389)\n",
      "CLUSTER CENTERS:  40 Iter:  50 / 100 Res:  (400, 577.4790594137256)\n",
      "CLUSTER CENTERS:  40 Iter:  51 / 100 Res:  (400, 568.2822681625958)\n",
      "CLUSTER CENTERS:  40 Iter:  52 / 100 Res:  (400, 567.8539502803038)\n",
      "CLUSTER CENTERS:  40 Iter:  53 / 100 Res:  (400, 584.4565864728713)\n",
      "CLUSTER CENTERS:  40 Iter:  54 / 100 Res:  (268, 566.3812806150945)\n",
      "CLUSTER CENTERS:  40 Iter:  55 / 100 Res:  (133, 564.8158845554776)\n",
      "CLUSTER CENTERS:  40 Iter:  56 / 100 Res:  (400, 535.5213379321111)\n",
      "CLUSTER CENTERS:  40 Iter:  57 / 100 Res:  (186, 522.6866863922955)\n",
      "CLUSTER CENTERS:  40 Iter:  58 / 100 Res:  (211, 534.9132359202217)\n",
      "CLUSTER CENTERS:  40 Iter:  59 / 100 Res:  (400, 519.5547427480911)\n",
      "CLUSTER CENTERS:  40 Iter:  60 / 100 Res:  (400, 485.9918161592655)\n",
      "CLUSTER CENTERS:  40 Iter:  61 / 100 Res:  (400, 540.9990743185665)\n",
      "CLUSTER CENTERS:  40 Iter:  62 / 100 Res:  (400, 508.08356420054804)\n",
      "CLUSTER CENTERS:  40 Iter:  63 / 100 Res:  (400, 520.9451370112967)\n",
      "CLUSTER CENTERS:  40 Iter:  64 / 100 Res:  (400, 554.9115455284885)\n",
      "CLUSTER CENTERS:  40 Iter:  65 / 100 Res:  (400, 590.4614108133792)\n",
      "CLUSTER CENTERS:  40 Iter:  66 / 100 Res:  (216, 570.208358251715)\n",
      "CLUSTER CENTERS:  40 Iter:  67 / 100 Res:  (400, 560.4223346760178)\n",
      "CLUSTER CENTERS:  40 Iter:  68 / 100 Res:  (400, 542.3765780271113)\n",
      "CLUSTER CENTERS:  40 Iter:  69 / 100 Res:  (340, 651.6573873030966)\n",
      "CLUSTER CENTERS:  40 Iter:  70 / 100 Res:  (193, 563.4688513359025)\n",
      "CLUSTER CENTERS:  40 Iter:  71 / 100 Res:  (400, 528.0589566588928)\n",
      "CLUSTER CENTERS:  40 Iter:  72 / 100 Res:  (400, 557.7516056041285)\n",
      "CLUSTER CENTERS:  40 Iter:  73 / 100 Res:  (400, 543.9452344790507)\n",
      "CLUSTER CENTERS:  40 Iter:  74 / 100 Res:  (400, 536.7506190820617)\n",
      "CLUSTER CENTERS:  40 Iter:  75 / 100 Res:  (400, 584.4167588233856)\n",
      "CLUSTER CENTERS:  40 Iter:  76 / 100 Res:  (400, 524.8378512941765)\n",
      "CLUSTER CENTERS:  40 Iter:  77 / 100 Res:  (400, 552.0095341426993)\n",
      "CLUSTER CENTERS:  40 Iter:  78 / 100 Res:  (400, 550.3341521964414)\n",
      "CLUSTER CENTERS:  40 Iter:  79 / 100 Res:  (400, 520.8328241405866)\n",
      "CLUSTER CENTERS:  40 Iter:  80 / 100 Res:  (400, 534.5297172411725)\n",
      "CLUSTER CENTERS:  40 Iter:  81 / 100 Res:  (211, 540.6483375208782)\n",
      "CLUSTER CENTERS:  40 Iter:  82 / 100 Res:  (257, 546.863449051745)\n",
      "CLUSTER CENTERS:  40 Iter:  83 / 100 Res:  (400, 549.1454378217026)\n",
      "CLUSTER CENTERS:  40 Iter:  84 / 100 Res:  (400, 519.2342775278589)\n",
      "CLUSTER CENTERS:  40 Iter:  85 / 100 Res:  (400, 512.3188575262631)\n",
      "CLUSTER CENTERS:  40 Iter:  86 / 100 Res:  (400, 571.16538099052)\n",
      "CLUSTER CENTERS:  40 Iter:  87 / 100 Res:  (201, 539.0654408325582)\n",
      "CLUSTER CENTERS:  40 Iter:  88 / 100 Res:  (293, 548.395022564295)\n",
      "CLUSTER CENTERS:  40 Iter:  89 / 100 Res:  (188, 577.8157149446475)\n",
      "CLUSTER CENTERS:  40 Iter:  90 / 100 Res:  (227, 508.5461399688753)\n",
      "CLUSTER CENTERS:  40 Iter:  91 / 100 Res:  (292, 549.5445501791883)\n",
      "CLUSTER CENTERS:  40 Iter:  92 / 100 Res:  (400, 571.2346795848488)\n",
      "CLUSTER CENTERS:  40 Iter:  93 / 100 Res:  (400, 570.0047502878278)\n",
      "CLUSTER CENTERS:  40 Iter:  94 / 100 Res:  (400, 521.523080569948)\n",
      "CLUSTER CENTERS:  40 Iter:  95 / 100 Res:  (132, 521.8044735714352)\n",
      "CLUSTER CENTERS:  40 Iter:  96 / 100 Res:  (400, 502.3441000037978)\n",
      "CLUSTER CENTERS:  40 Iter:  97 / 100 Res:  (400, 504.10085438668517)\n",
      "CLUSTER CENTERS:  40 Iter:  98 / 100 Res:  (400, 532.3328775993386)\n",
      "CLUSTER CENTERS:  40 Iter:  99 / 100 Res:  (400, 590.7922747019473)\n",
      "CLUSTER CENTERS:  50 Iter:  0 / 100 Res:  (400, 495.36236744274515)\n",
      "CLUSTER CENTERS:  50 Iter:  1 / 100 Res:  (400, 462.80907681138433)\n",
      "CLUSTER CENTERS:  50 Iter:  2 / 100 Res:  (254, 514.1458854261788)\n",
      "CLUSTER CENTERS:  50 Iter:  3 / 100 Res:  (233, 507.0539864951539)\n",
      "CLUSTER CENTERS:  50 Iter:  4 / 100 Res:  (400, 510.92808335096595)\n",
      "CLUSTER CENTERS:  50 Iter:  5 / 100 Res:  (400, 485.97458851897187)\n",
      "CLUSTER CENTERS:  50 Iter:  6 / 100 Res:  (400, 460.5039917208317)\n",
      "CLUSTER CENTERS:  50 Iter:  7 / 100 Res:  (400, 476.6235176240973)\n",
      "CLUSTER CENTERS:  50 Iter:  8 / 100 Res:  (400, 586.4443019630086)\n",
      "CLUSTER CENTERS:  50 Iter:  9 / 100 Res:  (400, 483.6408190232185)\n",
      "CLUSTER CENTERS:  50 Iter:  10 / 100 Res:  (400, 502.47582518379096)\n",
      "CLUSTER CENTERS:  50 Iter:  11 / 100 Res:  (400, 500.3361173115057)\n",
      "CLUSTER CENTERS:  50 Iter:  12 / 100 Res:  (400, 478.7097667678458)\n",
      "CLUSTER CENTERS:  50 Iter:  13 / 100 Res:  (400, 531.0515799898519)\n",
      "CLUSTER CENTERS:  50 Iter:  14 / 100 Res:  (400, 527.3453616142563)\n",
      "CLUSTER CENTERS:  50 Iter:  15 / 100 Res:  (176, 479.05054117019336)\n",
      "CLUSTER CENTERS:  50 Iter:  16 / 100 Res:  (400, 549.6048527873475)\n",
      "CLUSTER CENTERS:  50 Iter:  17 / 100 Res:  (400, 499.25340292716334)\n",
      "CLUSTER CENTERS:  50 Iter:  18 / 100 Res:  (400, 503.6690763529487)\n",
      "CLUSTER CENTERS:  50 Iter:  19 / 100 Res:  (400, 503.8510925784269)\n",
      "CLUSTER CENTERS:  50 Iter:  20 / 100 Res:  (400, 505.8653010261878)\n",
      "CLUSTER CENTERS:  50 Iter:  21 / 100 Res:  (196, 497.7335884547227)\n",
      "CLUSTER CENTERS:  50 Iter:  22 / 100 Res:  (400, 504.13590466835524)\n",
      "CLUSTER CENTERS:  50 Iter:  23 / 100 Res:  (400, 476.3062698074638)\n",
      "CLUSTER CENTERS:  50 Iter:  24 / 100 Res:  (400, 497.73907431602777)\n",
      "CLUSTER CENTERS:  50 Iter:  25 / 100 Res:  (400, 516.726909777263)\n",
      "CLUSTER CENTERS:  50 Iter:  26 / 100 Res:  (400, 488.5568817089157)\n",
      "CLUSTER CENTERS:  50 Iter:  27 / 100 Res:  (400, 493.89061098643623)\n",
      "CLUSTER CENTERS:  50 Iter:  28 / 100 Res:  (400, 558.2059095648082)\n",
      "CLUSTER CENTERS:  50 Iter:  29 / 100 Res:  (400, 474.9821266517226)\n",
      "CLUSTER CENTERS:  50 Iter:  30 / 100 Res:  (400, 462.15380373896807)\n",
      "CLUSTER CENTERS:  50 Iter:  31 / 100 Res:  (319, 552.209945821722)\n",
      "CLUSTER CENTERS:  50 Iter:  32 / 100 Res:  (400, 459.4956614219159)\n",
      "CLUSTER CENTERS:  50 Iter:  33 / 100 Res:  (400, 532.7472230509271)\n",
      "CLUSTER CENTERS:  50 Iter:  34 / 100 Res:  (196, 526.4639009057101)\n",
      "CLUSTER CENTERS:  50 Iter:  35 / 100 Res:  (240, 505.86311930535834)\n",
      "CLUSTER CENTERS:  50 Iter:  36 / 100 Res:  (241, 525.3441767219967)\n",
      "CLUSTER CENTERS:  50 Iter:  37 / 100 Res:  (400, 467.2856276556921)\n",
      "CLUSTER CENTERS:  50 Iter:  38 / 100 Res:  (400, 530.8922906172535)\n",
      "CLUSTER CENTERS:  50 Iter:  39 / 100 Res:  (400, 495.2653422197104)\n",
      "CLUSTER CENTERS:  50 Iter:  40 / 100 Res:  (400, 504.13658806092104)\n",
      "CLUSTER CENTERS:  50 Iter:  41 / 100 Res:  (150, 497.75180943764127)\n",
      "CLUSTER CENTERS:  50 Iter:  42 / 100 Res:  (134, 471.1621861713646)\n",
      "CLUSTER CENTERS:  50 Iter:  43 / 100 Res:  (400, 538.8207709494318)\n",
      "CLUSTER CENTERS:  50 Iter:  44 / 100 Res:  (400, 492.23444984192474)\n",
      "CLUSTER CENTERS:  50 Iter:  45 / 100 Res:  (400, 523.4809827496756)\n",
      "CLUSTER CENTERS:  50 Iter:  46 / 100 Res:  (160, 545.0677969271314)\n",
      "CLUSTER CENTERS:  50 Iter:  47 / 100 Res:  (400, 549.2120966847843)\n",
      "CLUSTER CENTERS:  50 Iter:  48 / 100 Res:  (400, 514.5043796044071)\n",
      "CLUSTER CENTERS:  50 Iter:  49 / 100 Res:  (400, 478.38956626263985)\n",
      "CLUSTER CENTERS:  50 Iter:  50 / 100 Res:  (163, 525.2648538338163)\n",
      "CLUSTER CENTERS:  50 Iter:  51 / 100 Res:  (400, 506.24419440791166)\n",
      "CLUSTER CENTERS:  50 Iter:  52 / 100 Res:  (400, 561.836831768509)\n",
      "CLUSTER CENTERS:  50 Iter:  53 / 100 Res:  (400, 525.2014700545053)\n",
      "CLUSTER CENTERS:  50 Iter:  54 / 100 Res:  (400, 465.6453577064242)\n",
      "CLUSTER CENTERS:  50 Iter:  55 / 100 Res:  (400, 503.21181147193585)\n",
      "CLUSTER CENTERS:  50 Iter:  56 / 100 Res:  (400, 470.4541064072842)\n",
      "CLUSTER CENTERS:  50 Iter:  57 / 100 Res:  (400, 491.2879861085002)\n",
      "CLUSTER CENTERS:  50 Iter:  58 / 100 Res:  (400, 512.9636396405442)\n",
      "CLUSTER CENTERS:  50 Iter:  59 / 100 Res:  (400, 546.4708522540993)\n",
      "CLUSTER CENTERS:  50 Iter:  60 / 100 Res:  (400, 532.4789858352552)\n",
      "CLUSTER CENTERS:  50 Iter:  61 / 100 Res:  (400, 531.490310070597)\n",
      "CLUSTER CENTERS:  50 Iter:  62 / 100 Res:  (400, 531.6487426913205)\n",
      "CLUSTER CENTERS:  50 Iter:  63 / 100 Res:  (400, 532.06052798221)\n",
      "CLUSTER CENTERS:  50 Iter:  64 / 100 Res:  (221, 508.13001676079796)\n",
      "CLUSTER CENTERS:  50 Iter:  65 / 100 Res:  (400, 513.8248857505978)\n",
      "CLUSTER CENTERS:  50 Iter:  66 / 100 Res:  (400, 523.0229204361085)\n",
      "CLUSTER CENTERS:  50 Iter:  67 / 100 Res:  (226, 492.41215337010584)\n",
      "CLUSTER CENTERS:  50 Iter:  68 / 100 Res:  (400, 502.9820752221017)\n",
      "CLUSTER CENTERS:  50 Iter:  69 / 100 Res:  (400, 528.6888730620708)\n",
      "CLUSTER CENTERS:  50 Iter:  70 / 100 Res:  (400, 533.4200981341573)\n",
      "CLUSTER CENTERS:  50 Iter:  71 / 100 Res:  (400, 523.7464280792674)\n",
      "CLUSTER CENTERS:  50 Iter:  72 / 100 Res:  (400, 504.2186465313534)\n",
      "CLUSTER CENTERS:  50 Iter:  73 / 100 Res:  (400, 468.9339617277702)\n",
      "CLUSTER CENTERS:  50 Iter:  74 / 100 Res:  (138, 508.3491231722052)\n",
      "CLUSTER CENTERS:  50 Iter:  75 / 100 Res:  (400, 489.08254274104706)\n",
      "CLUSTER CENTERS:  50 Iter:  76 / 100 Res:  (400, 545.7912055349998)\n",
      "CLUSTER CENTERS:  50 Iter:  77 / 100 Res:  (400, 511.10676761051195)\n",
      "CLUSTER CENTERS:  50 Iter:  78 / 100 Res:  (400, 498.8417905520225)\n",
      "CLUSTER CENTERS:  50 Iter:  79 / 100 Res:  (400, 495.02481688982016)\n",
      "CLUSTER CENTERS:  50 Iter:  80 / 100 Res:  (400, 573.9679960371952)\n",
      "CLUSTER CENTERS:  50 Iter:  81 / 100 Res:  (400, 526.6700890673766)\n",
      "CLUSTER CENTERS:  50 Iter:  82 / 100 Res:  (400, 519.932830341923)\n",
      "CLUSTER CENTERS:  50 Iter:  83 / 100 Res:  (400, 460.3639419812236)\n",
      "CLUSTER CENTERS:  50 Iter:  84 / 100 Res:  (400, 481.1734930300124)\n",
      "CLUSTER CENTERS:  50 Iter:  85 / 100 Res:  (243, 475.3671970971894)\n",
      "CLUSTER CENTERS:  50 Iter:  86 / 100 Res:  (400, 494.01460502028544)\n",
      "CLUSTER CENTERS:  50 Iter:  87 / 100 Res:  (400, 470.4540475915947)\n",
      "CLUSTER CENTERS:  50 Iter:  88 / 100 Res:  (400, 528.4160023873072)\n",
      "CLUSTER CENTERS:  50 Iter:  89 / 100 Res:  (400, 482.42977104722013)\n",
      "CLUSTER CENTERS:  50 Iter:  90 / 100 Res:  (400, 503.11430571488347)\n",
      "CLUSTER CENTERS:  50 Iter:  91 / 100 Res:  (400, 494.82542138974907)\n",
      "CLUSTER CENTERS:  50 Iter:  92 / 100 Res:  (400, 487.03321465480195)\n",
      "CLUSTER CENTERS:  50 Iter:  93 / 100 Res:  (151, 511.639912896887)\n",
      "CLUSTER CENTERS:  50 Iter:  94 / 100 Res:  (400, 502.57428516438705)\n",
      "CLUSTER CENTERS:  50 Iter:  95 / 100 Res:  (400, 467.56327097869723)\n",
      "CLUSTER CENTERS:  50 Iter:  96 / 100 Res:  (254, 499.0146916718)\n",
      "CLUSTER CENTERS:  50 Iter:  97 / 100 Res:  (400, 512.7150273823506)\n",
      "CLUSTER CENTERS:  50 Iter:  98 / 100 Res:  (400, 512.6900508130368)\n",
      "CLUSTER CENTERS:  50 Iter:  99 / 100 Res:  (221, 514.619274114381)\n"
     ]
    }
   ],
   "source": [
    "res = []\n",
    "y =  df_values.values[:, -3:]\n",
    "for clusters in [ 5, 10, 20, 30, 40, 50]:\n",
    "    res_cl = []\n",
    "    for iters in range(100):\n",
    "        U, kmeans = random_means(clusters)\n",
    "        wopt = np.dot((np.linalg.inv(np.dot(U.T,U))), U.T) @ y\n",
    "        result = tabular(U, kmeans, clusters)\n",
    "        res_cl.append(result)\n",
    "        print(\"CLUSTER CENTERS: \", clusters, \"Iter: \", iters, \"/\", 100, \"Res: \", result)\n",
    "    res.append(res_cl)"
   ]
  },
  {
   "cell_type": "code",
   "execution_count": 226,
   "metadata": {},
   "outputs": [],
   "source": [
    "sim11 = np.array(res) # [5, 15, 20, 25] [10, 30, 50, 100, 500]  [15, 20]\n",
    "np.save(\"sim11_random.npy\", sim11)#6 : uniform at 25        5:[5, 10, 15, 20, 25, 30, 50, 100, 500] # 9:[10, 20, 30, 40, 50]"
   ]
  },
  {
   "cell_type": "markdown",
   "metadata": {},
   "source": [
    "## Analysis"
   ]
  },
  {
   "cell_type": "code",
   "execution_count": 208,
   "metadata": {},
   "outputs": [],
   "source": [
    "# sim5 = np.load(\"sim5.npy\")\n",
    "# sim6 = np.load(\"sim6uniformmeans.npy\")\n",
    "# sim7 = np.load(\"sim7randommeans.npy\")"
   ]
  },
  {
   "cell_type": "code",
   "execution_count": 209,
   "metadata": {},
   "outputs": [],
   "source": [
    "#  len(np.where(sim6[0][:, 0] != 1000)[0])/0.5, [len(np.where(sim7[0][:, 0] != 1000)[0])/0.5], 25"
   ]
  },
  {
   "cell_type": "code",
   "execution_count": 210,
   "metadata": {},
   "outputs": [],
   "source": [
    "# plt.bar([1,2,3], [len(np.where(sim11[0][:, 0] != 1000)[0])/0.5, len(np.where(sim11[0][:, 0] != 1000)[0])/0.5, 17])\n",
    "# ax = plt.gca()\n",
    "# ax.set_xticks([1,2, 3])\n",
    "# ax.set_xticklabels([\"Uniformly Sampled\", \"Randomly Sampled\", \"K-means\"],  rotation = 45)\n",
    "# plt.xlabel(\"Way of generating means\")\n",
    "# plt.ylabel(\"Percentage of success (%)\")"
   ]
  },
  {
   "cell_type": "code",
   "execution_count": 223,
   "metadata": {},
   "outputs": [
    {
     "data": {
      "text/plain": [
       "(6, 50, 2)"
      ]
     },
     "execution_count": 223,
     "metadata": {},
     "output_type": "execute_result"
    }
   ],
   "source": [
    "sim11.shape"
   ]
  },
  {
   "cell_type": "code",
   "execution_count": 227,
   "metadata": {},
   "outputs": [
    {
     "data": {
      "text/plain": [
       "Text(0, 0.5, 'Percentage of Successful Runs (%) ')"
      ]
     },
     "execution_count": 227,
     "metadata": {},
     "output_type": "execute_result"
    },
    {
     "data": {
      "image/png": "[encoded data removed]",
      "text/plain": [
       "<Figure size 432x288 with 1 Axes>"
      ]
     },
     "metadata": {
      "needs_background": "light"
     },
     "output_type": "display_data"
    }
   ],
   "source": [
    "# plt.bar([1,2,3,4,5,6,7,8,9], [15, 5, 30, 25, 15,30.0, 25.0, 15.0, 15.0 ])\n",
    "plt.bar([ 1,2,3,4,5,6], [len(np.where(sim11[i][:, 0] != 400)[0])  for i in range(len(sim11))])\n",
    "ax = plt.gca()\n",
    "ax.set_xticks([1,2,3,4,5,6])\n",
    "ax.set_xticklabels( [ 5,10, 20, 30, 40, 50])\n",
    "plt.xlabel(\"Number of Basis Functions\")\n",
    "plt.ylabel(\"Percentage of Successful Runs (%) \")"
   ]
  },
  {
   "cell_type": "code",
   "execution_count": 228,
   "metadata": {},
   "outputs": [
    {
     "data": {
      "text/plain": [
       "Text(0, 0.5, 'Average Number of Steps')"
      ]
     },
     "execution_count": 228,
     "metadata": {},
     "output_type": "execute_result"
    },
    {
     "data": {
      "image/png": "[encoded data removed]",
      "text/plain": [
       "<Figure size 432x288 with 1 Axes>"
      ]
     },
     "metadata": {
      "needs_background": "light"
     },
     "output_type": "display_data"
    }
   ],
   "source": [
    "# plt.bar([1,2,3,4,5], [np.mean(sim[i][:, 0]) for i in range(len(sim))])\n",
    "# plt.bar([1,5,2,3,4, 6,7,8,9], [np.mean(sim[i][:, 0]) for i in range(len(sim2))] + [np.mean(sim[i][:, 0]) for i in range(len(sim))])\n",
    "plt.bar([ 1,2,3,4,5,6], [np.mean(sim11[i][:, 0][np.where(sim11[i][:, 0] != 400)])  for i in range(len(sim11))])\n",
    "ax = plt.gca()\n",
    "ax.set_xticks([1,2,3,4,5,6])\n",
    "ax.set_xticklabels([ 5,10, 20, 30, 40, 50])\n",
    "plt.xlabel(\"Number of Basis Functions\")\n",
    "plt.ylabel(\"Average Number of Steps\")"
   ]
  },
  {
   "cell_type": "code",
   "execution_count": 229,
   "metadata": {},
   "outputs": [
    {
     "data": {
      "text/plain": [
       "Text(0, 0.5, 'Average Number of Steps')"
      ]
     },
     "execution_count": 229,
     "metadata": {},
     "output_type": "execute_result"
    },
    {
     "data": {
      "image/png": "[encoded data removed]",
      "text/plain": [
       "<Figure size 432x288 with 1 Axes>"
      ]
     },
     "metadata": {
      "needs_background": "light"
     },
     "output_type": "display_data"
    }
   ],
   "source": [
    "# plt.bar([1,2,3,4,5], [np.mean(sim[i][:, 0]) for i in range(len(sim))])\n",
    "plt.bar([1,2,3,4,5,6], [np.mean(sim11[i][:, 0]) for i in range(len(sim11))])\n",
    "# plt.bar([ 1,2,3,4,5,6,7], [np.mean(sim8[i][:, 0][np.where(sim8[i][:, 0] != 1000)])  for i in range(len(sim8))])\n",
    "ax = plt.gca()\n",
    "ax.set_xticks([1,2,3,4,5,6])\n",
    "ax.set_xticklabels([5, 10, 20, 30, 40, 50])\n",
    "plt.xlabel(\"Number of Basis Functions\")\n",
    "plt.ylabel(\"Average Number of Steps\")"
   ]
  },
  {
   "cell_type": "code",
   "execution_count": 231,
   "metadata": {},
   "outputs": [
    {
     "data": {
      "text/plain": [
       "Text(0, 0.5, 'Average Error')"
      ]
     },
     "execution_count": 231,
     "metadata": {},
     "output_type": "execute_result"
    },
    {
     "data": {
      "image/png": "[encoded data removed]",
      "text/plain": [
       "<Figure size 432x288 with 1 Axes>"
      ]
     },
     "metadata": {
      "needs_background": "light"
     },
     "output_type": "display_data"
    }
   ],
   "source": [
    "# plt.bar([1,2,3,4,5], [np.mean(sim[i][:, 1]) for i in range(len(sim))])\n",
    "plt.bar([ 1,2,3,4,5,6], [np.mean(sim11[i][:, 1])  for i in range(len(sim11))])\n",
    "ax = plt.gca()\n",
    "ax.set_xticks([1,2,3,4,5,6])\n",
    "ax.set_xticklabels([5, 10, 20, 30, 40, 50])\n",
    "plt.xlabel(\"Number of Basis Functions\")\n",
    "plt.ylabel(\"Average Error\")"
   ]
  },
  {
   "cell_type": "code",
   "execution_count": 51,
   "metadata": {},
   "outputs": [],
   "source": [
    "X = df_values.values[:, :-3]\n",
    "sig = np.std(X)"
   ]
  },
  {
   "cell_type": "code",
   "execution_count": 52,
   "metadata": {},
   "outputs": [
    {
     "data": {
      "text/plain": [
       "11.543396380615196"
      ]
     },
     "execution_count": 52,
     "metadata": {},
     "output_type": "execute_result"
    }
   ],
   "source": [
    "sig"
   ]
  },
  {
   "cell_type": "code",
   "execution_count": null,
   "metadata": {},
   "outputs": [],
   "source": []
  },
  {
   "cell_type": "markdown",
   "metadata": {},
   "source": [
    "# COMPARING ALL THE ALGORITHMS"
   ]
  },
  {
   "cell_type": "code",
   "execution_count": 20,
   "metadata": {},
   "outputs": [],
   "source": [
    "df_values = pd.read_csv(\"data1000eps2.csv\", index_col = 0)"
   ]
  },
  {
   "cell_type": "code",
   "execution_count": 21,
   "metadata": {},
   "outputs": [
    {
     "data": {
      "text/plain": [
       "(1600, 5)"
      ]
     },
     "execution_count": 21,
     "metadata": {},
     "output_type": "execute_result"
    }
   ],
   "source": [
    "df_values.shape"
   ]
  },
  {
   "cell_type": "code",
   "execution_count": 22,
   "metadata": {},
   "outputs": [],
   "source": [
    "table = []\n",
    "for i in range(len(df_values)):\n",
    "    for j in range(3):\n",
    "        table.append([df_values.values[i][0], df_values.values[i][1], j, df_values.values[i][j]])"
   ]
  },
  {
   "cell_type": "code",
   "execution_count": 23,
   "metadata": {},
   "outputs": [],
   "source": [
    "df_values = pd.DataFrame(table)"
   ]
  },
  {
   "cell_type": "code",
   "execution_count": 24,
   "metadata": {},
   "outputs": [
    {
     "data": {
      "text/plain": [
       "(4800, 4)"
      ]
     },
     "execution_count": 24,
     "metadata": {},
     "output_type": "execute_result"
    }
   ],
   "source": [
    "df_values.shape"
   ]
  },
  {
   "cell_type": "code",
   "execution_count": 25,
   "metadata": {},
   "outputs": [
    {
     "data": {
      "text/html": [
       "<div>\n",
       "<style scoped>\n",
       "    .dataframe tbody tr th:only-of-type {\n",
       "        vertical-align: middle;\n",
       "    }\n",
       "\n",
       "    .dataframe tbody tr th {\n",
       "        vertical-align: top;\n",
       "    }\n",
       "\n",
       "    .dataframe thead th {\n",
       "        text-align: right;\n",
       "    }\n",
       "</style>\n",
       "<table border=\"1\" class=\"dataframe\">\n",
       "  <thead>\n",
       "    <tr style=\"text-align: right;\">\n",
       "      <th></th>\n",
       "      <th>0</th>\n",
       "      <th>1</th>\n",
       "      <th>2</th>\n",
       "      <th>3</th>\n",
       "    </tr>\n",
       "  </thead>\n",
       "  <tbody>\n",
       "    <tr>\n",
       "      <th>0</th>\n",
       "      <td>0.0</td>\n",
       "      <td>0.0</td>\n",
       "      <td>0</td>\n",
       "      <td>0.0</td>\n",
       "    </tr>\n",
       "    <tr>\n",
       "      <th>1</th>\n",
       "      <td>0.0</td>\n",
       "      <td>0.0</td>\n",
       "      <td>1</td>\n",
       "      <td>0.0</td>\n",
       "    </tr>\n",
       "    <tr>\n",
       "      <th>2</th>\n",
       "      <td>0.0</td>\n",
       "      <td>0.0</td>\n",
       "      <td>2</td>\n",
       "      <td>0.0</td>\n",
       "    </tr>\n",
       "    <tr>\n",
       "      <th>3</th>\n",
       "      <td>0.0</td>\n",
       "      <td>1.0</td>\n",
       "      <td>0</td>\n",
       "      <td>0.0</td>\n",
       "    </tr>\n",
       "    <tr>\n",
       "      <th>4</th>\n",
       "      <td>0.0</td>\n",
       "      <td>1.0</td>\n",
       "      <td>1</td>\n",
       "      <td>1.0</td>\n",
       "    </tr>\n",
       "  </tbody>\n",
       "</table>\n",
       "</div>"
      ],
      "text/plain": [
       "     0    1  2    3\n",
       "0  0.0  0.0  0  0.0\n",
       "1  0.0  0.0  1  0.0\n",
       "2  0.0  0.0  2  0.0\n",
       "3  0.0  1.0  0  0.0\n",
       "4  0.0  1.0  1  1.0"
      ]
     },
     "execution_count": 25,
     "metadata": {},
     "output_type": "execute_result"
    }
   ],
   "source": [
    "df_values.head()"
   ]
  },
  {
   "cell_type": "code",
   "execution_count": 29,
   "metadata": {},
   "outputs": [],
   "source": [
    "def get_means(J):\n",
    "#     print(df_values.shape)\n",
    "    X = df_values.values[:, :-1] #state space is the position, velocity and action\n",
    "    means = []\n",
    "#     print(X.shape)\n",
    "    N = len(df_values)\n",
    "    sig = np.std(X)\n",
    "    \n",
    "    for i in range(3):\n",
    "        means.append(np.linspace(X[:, i].min(), X[:, i].max(), J))\n",
    "    means  = np.array(means).T\n",
    "    \n",
    "    U = np.zeros((N,J))\n",
    "\n",
    "    for i in range(N):\n",
    "        for j in range(J):\n",
    "            U[i][j] = np.exp(-0.5 *np.linalg.norm(X[i] - means[j])/(sig))\n",
    "    \n",
    "    return(U, means)"
   ]
  },
  {
   "cell_type": "code",
   "execution_count": 30,
   "metadata": {},
   "outputs": [],
   "source": [
    "J = 10\n",
    "U, kmeans = get_means(J)"
   ]
  },
  {
   "cell_type": "code",
   "execution_count": 31,
   "metadata": {},
   "outputs": [
    {
     "data": {
      "text/plain": [
       "(1600, 2)"
      ]
     },
     "execution_count": 31,
     "metadata": {},
     "output_type": "execute_result"
    }
   ],
   "source": [
    "X.shape"
   ]
  },
  {
   "cell_type": "code",
   "execution_count": 32,
   "metadata": {},
   "outputs": [],
   "source": [
    "X = df_values.values[:, :-1] #vector of actions\n",
    "sig = np.std(X)"
   ]
  },
  {
   "cell_type": "code",
   "execution_count": 33,
   "metadata": {},
   "outputs": [],
   "source": [
    "def RBF(pos, vel, w):\n",
    "    vals = []\n",
    "    for act in range(3):\n",
    "        U = []\n",
    "        states = np.array([pos, vel, act])\n",
    "        for j in range(J):\n",
    "            U.append(np.exp(-0.5 *np.linalg.norm(states - kmeans[j])/sig))\n",
    "        vals.append(U @ w)\n",
    "    return(vals)"
   ]
  },
  {
   "cell_type": "code",
   "execution_count": 34,
   "metadata": {},
   "outputs": [],
   "source": [
    "def evaluate_a(pos, vel, a, w):\n",
    "    states = np.array([pos, vel, a])\n",
    "    U = []\n",
    "    for j in range(J):\n",
    "            U.append(np.exp(-0.5 *np.linalg.norm(states - kmeans[j])/sig))\n",
    "#     print(U.shape, w.shape)\n",
    "    return(U @ w, U)"
   ]
  },
  {
   "cell_type": "code",
   "execution_count": 35,
   "metadata": {},
   "outputs": [
    {
     "name": "stdout",
     "output_type": "stream",
     "text": [
      "12.849556844930921\n"
     ]
    }
   ],
   "source": [
    "print(sig)"
   ]
  },
  {
   "cell_type": "code",
   "execution_count": 36,
   "metadata": {},
   "outputs": [
    {
     "data": {
      "text/plain": [
       "array([[1.        , 0.78771526, 0.62049533, ..., 0.18818492, 0.14823613,\n",
       "        0.11676786],\n",
       "       [0.96183549, 0.78633313, 0.62038599, ..., 0.18836512, 0.14838648,\n",
       "        0.11689145],\n",
       "       [0.92512752, 0.78013124, 0.61831979, ..., 0.18837461, 0.1484192 ,\n",
       "        0.11693268],\n",
       "       ...,\n",
       "       [0.11693268, 0.1484192 , 0.18837461, ..., 0.61831979, 0.78013124,\n",
       "        0.92512752],\n",
       "       [0.11689145, 0.14838648, 0.18836512, ..., 0.62038599, 0.78633313,\n",
       "        0.96183549],\n",
       "       [0.11676786, 0.14823613, 0.18818492, ..., 0.62049533, 0.78771526,\n",
       "        1.        ]])"
      ]
     },
     "execution_count": 36,
     "metadata": {},
     "output_type": "execute_result"
    }
   ],
   "source": [
    "U"
   ]
  },
  {
   "cell_type": "markdown",
   "metadata": {},
   "source": [
    "## Q-Learning"
   ]
  },
  {
   "cell_type": "code",
   "execution_count": 37,
   "metadata": {},
   "outputs": [
    {
     "data": {
      "text/plain": [
       "array([[ 0.,  0.,  0.],\n",
       "       [ 0.,  0.,  1.],\n",
       "       [ 0.,  0.,  2.],\n",
       "       ...,\n",
       "       [39., 39.,  0.],\n",
       "       [39., 39.,  1.],\n",
       "       [39., 39.,  2.]])"
      ]
     },
     "execution_count": 37,
     "metadata": {},
     "output_type": "execute_result"
    }
   ],
   "source": [
    "X"
   ]
  },
  {
   "cell_type": "code",
   "execution_count": 38,
   "metadata": {},
   "outputs": [
    {
     "data": {
      "text/plain": [
       "((4800, 10), (4800, 3), (100, 2))"
      ]
     },
     "execution_count": 38,
     "metadata": {},
     "output_type": "execute_result"
    }
   ],
   "source": [
    "U.shape, X.shape, means.shape"
   ]
  },
  {
   "cell_type": "code",
   "execution_count": 39,
   "metadata": {
    "tags": []
   },
   "outputs": [
    {
     "name": "stdout",
     "output_type": "stream",
     "text": [
      "Episode: 0\n",
      "13120\n",
      "Episode: 1\n",
      "3122\n",
      "Episode: 2\n",
      "23552\n",
      "Episode: 3\n",
      "20360\n",
      "Episode: 4\n",
      "18907\n",
      "Episode: 5\n",
      "12820\n",
      "Episode: 6\n",
      "7177\n",
      "Episode: 7\n",
      "27719\n",
      "Episode: 8\n",
      "9636\n",
      "Episode: 9\n",
      "452\n",
      "Episode: 10\n",
      "4983\n",
      "Episode: 11\n",
      "7226\n",
      "Episode: 12\n",
      "1362\n",
      "Episode: 13\n",
      "217\n",
      "Episode: 14\n"
     ]
    },
    {
     "ename": "KeyboardInterrupt",
     "evalue": "",
     "output_type": "error",
     "traceback": [
      "\u001b[1;31m---------------------------------------------------------------------------\u001b[0m",
      "\u001b[1;31mKeyboardInterrupt\u001b[0m                         Traceback (most recent call last)",
      "\u001b[1;32mC:\\conda_tmp/ipykernel_19560/2257924344.py\u001b[0m in \u001b[0;36m<module>\u001b[1;34m\u001b[0m\n\u001b[0;32m     59\u001b[0m         \u001b[1;32melse\u001b[0m\u001b[1;33m:\u001b[0m\u001b[1;33m\u001b[0m\u001b[1;33m\u001b[0m\u001b[0m\n\u001b[0;32m     60\u001b[0m             \u001b[0ma\u001b[0m \u001b[1;33m=\u001b[0m \u001b[0mnp\u001b[0m\u001b[1;33m.\u001b[0m\u001b[0margmax\u001b[0m\u001b[1;33m(\u001b[0m\u001b[0mRBF\u001b[0m\u001b[1;33m(\u001b[0m\u001b[0mpos\u001b[0m\u001b[1;33m,\u001b[0m \u001b[0mvel\u001b[0m\u001b[1;33m,\u001b[0m \u001b[0mw\u001b[0m\u001b[1;33m)\u001b[0m\u001b[1;33m)\u001b[0m\u001b[1;33m\u001b[0m\u001b[1;33m\u001b[0m\u001b[0m\n\u001b[1;32m---> 61\u001b[1;33m             \u001b[0ma_value\u001b[0m\u001b[1;33m,\u001b[0m \u001b[0mU\u001b[0m \u001b[1;33m=\u001b[0m \u001b[0mevaluate_a\u001b[0m\u001b[1;33m(\u001b[0m\u001b[0mpos\u001b[0m\u001b[1;33m,\u001b[0m \u001b[0mvel\u001b[0m\u001b[1;33m,\u001b[0m \u001b[0ma\u001b[0m\u001b[1;33m,\u001b[0m \u001b[0mw\u001b[0m\u001b[1;33m)\u001b[0m\u001b[1;33m\u001b[0m\u001b[1;33m\u001b[0m\u001b[0m\n\u001b[0m\u001b[0;32m     62\u001b[0m \u001b[1;33m\u001b[0m\u001b[0m\n\u001b[0;32m     63\u001b[0m         \u001b[0mobs\u001b[0m\u001b[1;33m,\u001b[0m \u001b[0mreward\u001b[0m\u001b[1;33m,\u001b[0m \u001b[0mterminate\u001b[0m\u001b[1;33m,\u001b[0m\u001b[0m_\u001b[0m \u001b[1;33m=\u001b[0m \u001b[0menv\u001b[0m\u001b[1;33m.\u001b[0m\u001b[0mstep\u001b[0m\u001b[1;33m(\u001b[0m\u001b[0ma\u001b[0m\u001b[1;33m)\u001b[0m\u001b[1;33m\u001b[0m\u001b[1;33m\u001b[0m\u001b[0m\n",
      "\u001b[1;32mC:\\conda_tmp/ipykernel_19560/3931357218.py\u001b[0m in \u001b[0;36mevaluate_a\u001b[1;34m(pos, vel, a, w)\u001b[0m\n\u001b[0;32m      3\u001b[0m     \u001b[0mU\u001b[0m \u001b[1;33m=\u001b[0m \u001b[1;33m[\u001b[0m\u001b[1;33m]\u001b[0m\u001b[1;33m\u001b[0m\u001b[1;33m\u001b[0m\u001b[0m\n\u001b[0;32m      4\u001b[0m     \u001b[1;32mfor\u001b[0m \u001b[0mj\u001b[0m \u001b[1;32min\u001b[0m \u001b[0mrange\u001b[0m\u001b[1;33m(\u001b[0m\u001b[0mJ\u001b[0m\u001b[1;33m)\u001b[0m\u001b[1;33m:\u001b[0m\u001b[1;33m\u001b[0m\u001b[1;33m\u001b[0m\u001b[0m\n\u001b[1;32m----> 5\u001b[1;33m             \u001b[0mU\u001b[0m\u001b[1;33m.\u001b[0m\u001b[0mappend\u001b[0m\u001b[1;33m(\u001b[0m\u001b[0mnp\u001b[0m\u001b[1;33m.\u001b[0m\u001b[0mexp\u001b[0m\u001b[1;33m(\u001b[0m\u001b[1;33m-\u001b[0m\u001b[1;36m0.5\u001b[0m \u001b[1;33m*\u001b[0m\u001b[0mnp\u001b[0m\u001b[1;33m.\u001b[0m\u001b[0mlinalg\u001b[0m\u001b[1;33m.\u001b[0m\u001b[0mnorm\u001b[0m\u001b[1;33m(\u001b[0m\u001b[0mstates\u001b[0m \u001b[1;33m-\u001b[0m \u001b[0mkmeans\u001b[0m\u001b[1;33m[\u001b[0m\u001b[0mj\u001b[0m\u001b[1;33m]\u001b[0m\u001b[1;33m)\u001b[0m\u001b[1;33m/\u001b[0m\u001b[0msig\u001b[0m\u001b[1;33m)\u001b[0m\u001b[1;33m)\u001b[0m\u001b[1;33m\u001b[0m\u001b[1;33m\u001b[0m\u001b[0m\n\u001b[0m\u001b[0;32m      6\u001b[0m \u001b[1;31m#     print(U.shape, w.shape)\u001b[0m\u001b[1;33m\u001b[0m\u001b[1;33m\u001b[0m\u001b[1;33m\u001b[0m\u001b[0m\n\u001b[0;32m      7\u001b[0m     \u001b[1;32mreturn\u001b[0m\u001b[1;33m(\u001b[0m\u001b[0mU\u001b[0m \u001b[1;33m@\u001b[0m \u001b[0mw\u001b[0m\u001b[1;33m,\u001b[0m \u001b[0mU\u001b[0m\u001b[1;33m)\u001b[0m\u001b[1;33m\u001b[0m\u001b[1;33m\u001b[0m\u001b[0m\n",
      "\u001b[1;32m<__array_function__ internals>\u001b[0m in \u001b[0;36mnorm\u001b[1;34m(*args, **kwargs)\u001b[0m\n",
      "\u001b[1;32m~\\anaconda3\\lib\\site-packages\\numpy\\linalg\\linalg.py\u001b[0m in \u001b[0;36mnorm\u001b[1;34m(x, ord, axis, keepdims)\u001b[0m\n\u001b[0;32m   2528\u001b[0m                 \u001b[0msqnorm\u001b[0m \u001b[1;33m=\u001b[0m \u001b[0mdot\u001b[0m\u001b[1;33m(\u001b[0m\u001b[0mx\u001b[0m\u001b[1;33m.\u001b[0m\u001b[0mreal\u001b[0m\u001b[1;33m,\u001b[0m \u001b[0mx\u001b[0m\u001b[1;33m.\u001b[0m\u001b[0mreal\u001b[0m\u001b[1;33m)\u001b[0m \u001b[1;33m+\u001b[0m \u001b[0mdot\u001b[0m\u001b[1;33m(\u001b[0m\u001b[0mx\u001b[0m\u001b[1;33m.\u001b[0m\u001b[0mimag\u001b[0m\u001b[1;33m,\u001b[0m \u001b[0mx\u001b[0m\u001b[1;33m.\u001b[0m\u001b[0mimag\u001b[0m\u001b[1;33m)\u001b[0m\u001b[1;33m\u001b[0m\u001b[1;33m\u001b[0m\u001b[0m\n\u001b[0;32m   2529\u001b[0m             \u001b[1;32melse\u001b[0m\u001b[1;33m:\u001b[0m\u001b[1;33m\u001b[0m\u001b[1;33m\u001b[0m\u001b[0m\n\u001b[1;32m-> 2530\u001b[1;33m                 \u001b[0msqnorm\u001b[0m \u001b[1;33m=\u001b[0m \u001b[0mdot\u001b[0m\u001b[1;33m(\u001b[0m\u001b[0mx\u001b[0m\u001b[1;33m,\u001b[0m \u001b[0mx\u001b[0m\u001b[1;33m)\u001b[0m\u001b[1;33m\u001b[0m\u001b[1;33m\u001b[0m\u001b[0m\n\u001b[0m\u001b[0;32m   2531\u001b[0m             \u001b[0mret\u001b[0m \u001b[1;33m=\u001b[0m \u001b[0msqrt\u001b[0m\u001b[1;33m(\u001b[0m\u001b[0msqnorm\u001b[0m\u001b[1;33m)\u001b[0m\u001b[1;33m\u001b[0m\u001b[1;33m\u001b[0m\u001b[0m\n\u001b[0;32m   2532\u001b[0m             \u001b[1;32mif\u001b[0m \u001b[0mkeepdims\u001b[0m\u001b[1;33m:\u001b[0m\u001b[1;33m\u001b[0m\u001b[1;33m\u001b[0m\u001b[0m\n",
      "\u001b[1;32m<__array_function__ internals>\u001b[0m in \u001b[0;36mdot\u001b[1;34m(*args, **kwargs)\u001b[0m\n",
      "\u001b[1;31mKeyboardInterrupt\u001b[0m: "
     ]
    }
   ],
   "source": [
    "import gym\n",
    "import numpy as np\n",
    "env_name = \"MountainCar-v0\"\n",
    "env = gym.make(env_name)\n",
    "obs = env.reset()\n",
    "\n",
    "# Some initializations\n",
    "#\n",
    "n_states = 40\n",
    "episodes = 50\n",
    "initial_lr = 1.0\n",
    "min_lr = 0.005\n",
    "gamma = 0.99\n",
    "max_stps = 300\n",
    "epsilon = 0.05\n",
    "env = env.unwrapped\n",
    "env.seed()\n",
    "np.random.seed(0)\n",
    "\n",
    "def discretization(env, obs):\n",
    "    env_low = env.observation_space.low\n",
    "    env_high = env.observation_space.high\n",
    "    env_den = (env_high - env_low)# / n_states\n",
    "    pos_den = env_den[0]\n",
    "    vel_den = env_den[1]\n",
    "    pos_high = env_high[0]\n",
    "    pos_low = env_low[0]\n",
    "    vel_high = env_high[1]\n",
    "    vel_low = env_low[1]\n",
    "    pos_scaled =(obs[0] - pos_low) / pos_den   #int((obs[0] - pos_low) / pos_den)\n",
    "    vel_scaled = (obs[1] - vel_low) / vel_den#int((obs[1] - vel_low) / vel_den)\n",
    "    return(pos_scaled, vel_scaled)\n",
    "\n",
    "q_table = np.zeros((n_states, n_states, env.action_space.n))\n",
    "total_steps = []\n",
    "\n",
    "\n",
    "w = np.random.rand(J, 1)\n",
    "for episode in range(episodes):\n",
    "    \n",
    "    # by solving bellmans equations for a number of episodes we can optain a value function of that policy at every state\n",
    "    # we can improve the policy (what is the action im going to take given a state)\n",
    "    \n",
    "    print(\"Episode:\", episode)\n",
    "    obs = env.reset()\n",
    "    total_reward = 0\n",
    "    alpha = max(min_lr, initial_lr*(gamma**(episode/0.1)))# max(min_lr, initial_lr*(gamma**(episode//100)))\n",
    "\n",
    "#     alpha = 0.1\n",
    "    steps = 0\n",
    "    while True:\n",
    "#         if steps % 5000 == 0:  \n",
    "#             print(steps)\n",
    "        pos, vel = discretization(env, obs)\n",
    "        \n",
    "        if np.random.uniform(low=0, high=1) < epsilon:\n",
    "            a = np.random.choice(env.action_space.n)\n",
    "            a_value, U = evaluate_a(pos, vel, a, w)\n",
    "        else:\n",
    "            a = np.argmax(RBF(pos, vel, w))\n",
    "            a_value, U = evaluate_a(pos, vel, a, w)\n",
    "            \n",
    "        obs, reward, terminate,_ = env.step(a)\n",
    "        total_reward += abs(obs[0]+0.5)\n",
    "        pos_, vel_ = discretization(env, obs)\n",
    "        \n",
    "        states = np.array([pos, vel, a])\n",
    "        \n",
    "    \n",
    "        max_val = np.max(RBF(pos_,vel_, w)) #random thing for sarsa\n",
    "        \n",
    "        # Q function update\n",
    "#         print( (alpha * (reward + gamma*max_val - a_value) * U).shape)\n",
    "        w += (alpha * (reward + gamma*max_val - a_value) * U).reshape(J,1)\n",
    "#         w += (1-alpha)*a_value + alpha*(reward+gamma*max_val)\n",
    "        \n",
    "        steps += 1\n",
    "        if terminate:\n",
    "            total_steps.append(steps)\n",
    "            print(steps)\n",
    "            break\n",
    "# while True:\n",
    "#     env.render()"
   ]
  },
  {
   "cell_type": "code",
   "execution_count": 48,
   "metadata": {},
   "outputs": [],
   "source": [
    "w_qlearning = w"
   ]
  },
  {
   "cell_type": "code",
   "execution_count": 52,
   "metadata": {},
   "outputs": [],
   "source": [
    "U, kmeans = get_means(J)"
   ]
  },
  {
   "cell_type": "code",
   "execution_count": 101,
   "metadata": {},
   "outputs": [
    {
     "data": {
      "text/plain": [
       "((4800, 3), (4800, 20))"
      ]
     },
     "execution_count": 101,
     "metadata": {},
     "output_type": "execute_result"
    }
   ],
   "source": [
    "X.shape, U.shape"
   ]
  },
  {
   "cell_type": "code",
   "execution_count": 102,
   "metadata": {},
   "outputs": [
    {
     "data": {
      "text/plain": [
       "(4800, 4)"
      ]
     },
     "execution_count": 102,
     "metadata": {},
     "output_type": "execute_result"
    }
   ],
   "source": [
    "df_values.shape"
   ]
  },
  {
   "cell_type": "code",
   "execution_count": 143,
   "metadata": {},
   "outputs": [],
   "source": [
    "tabular_tab = np.zeros([40,40])\n",
    "\n",
    "step = 0\n",
    "for i in range(40):\n",
    "    for j in range(40):\n",
    "\n",
    "        tabular_tab[i][j] = np.argmax(df_values.values[step*3: step*3+3][-1])\n",
    "        step += 1"
   ]
  },
  {
   "cell_type": "code",
   "execution_count": 144,
   "metadata": {},
   "outputs": [],
   "source": [
    "qlearning_tab = np.zeros([40,40])\n",
    "# a_label = [\"move left\", \"move right\", \"stay still\"]\n",
    "step = 0\n",
    "for i in range(40):\n",
    "    for j in range(40):\n",
    "#         print(step*3, step*3+3)\n",
    "        qlearning_tab[i][j] = np.argmax(U[step*3: step*3+3] @ w_qlearning)\n",
    "        step += 1"
   ]
  },
  {
   "cell_type": "code",
   "execution_count": 190,
   "metadata": {},
   "outputs": [],
   "source": [
    "import matplotlib.patches as mpatches"
   ]
  },
  {
   "cell_type": "code",
   "execution_count": 210,
   "metadata": {},
   "outputs": [
    {
     "name": "stderr",
     "output_type": "stream",
     "text": [
      "C:\\Users\\DIEGO UNZUETA\\Anaconda3\\lib\\site-packages\\ipykernel_launcher.py:4: MatplotlibDeprecationWarning: shading='flat' when X and Y have the same dimensions as C is deprecated since 3.3.  Either specify the corners of the quadrilaterals with X and Y, or pass shading='auto', 'nearest' or 'gouraud', or set rcParams['pcolor.shading'].  This will become an error two minor releases later.\n",
      "  after removing the cwd from sys.path.\n"
     ]
    },
    {
     "data": {
      "text/plain": [
       "<matplotlib.legend.Legend at 0x24a941c1588>"
      ]
     },
     "execution_count": 210,
     "metadata": {},
     "output_type": "execute_result"
    },
    {
     "data": {
      "image/png": "[encoded data removed]",
      "text/plain": [
       "<Figure size 360x360 with 1 Axes>"
      ]
     },
     "metadata": {
      "needs_background": "light"
     },
     "output_type": "display_data"
    }
   ],
   "source": [
    "plt.figure(figsize = (5,5))\n",
    "\n",
    "cmap = plt.cm.get_cmap('Blues', 8) \n",
    "plt.pcolor(range(40), range(40), qlearning_tab[::-1, ::-1], cmap = cmap)\n",
    "plt.xlabel(\"Position\", fontsize = 15)\n",
    "plt.ylabel(\"Velocity\", fontsize = 15)\n",
    "plt.title(\"Q-Learning Value Function Approximation\", fontsize = 15)\n",
    "\n",
    "\n",
    "bound = np.linspace(0, 2, 4)\n",
    "# Preparing borders for the legend\n",
    "bound_prep = np.round(bound * 7, 2)\n",
    "plt.legend([mpatches.Patch(color=cmap(b)) for b in bound[:-1]],\n",
    "           [labels[i] for i in range(3)])"
   ]
  },
  {
   "cell_type": "code",
   "execution_count": 155,
   "metadata": {},
   "outputs": [],
   "source": [
    "indices_one = tabular_tab == 0\n",
    "indices_zero = tabular_tab == 2\n",
    "tabular_tab[indices_one] = 2 # replacing 1s with 0s\n",
    "tabular_tab[indices_zero] = 0"
   ]
  },
  {
   "cell_type": "code",
   "execution_count": 206,
   "metadata": {},
   "outputs": [],
   "source": [
    "labels = [\"Move Left\", \"Don't Accelerate\", \"Move Right\"]"
   ]
  },
  {
   "cell_type": "code",
   "execution_count": 207,
   "metadata": {},
   "outputs": [
    {
     "name": "stderr",
     "output_type": "stream",
     "text": [
      "C:\\Users\\DIEGO UNZUETA\\Anaconda3\\lib\\site-packages\\ipykernel_launcher.py:6: MatplotlibDeprecationWarning: shading='flat' when X and Y have the same dimensions as C is deprecated since 3.3.  Either specify the corners of the quadrilaterals with X and Y, or pass shading='auto', 'nearest' or 'gouraud', or set rcParams['pcolor.shading'].  This will become an error two minor releases later.\n",
      "  \n"
     ]
    },
    {
     "data": {
      "text/plain": [
       "<matplotlib.legend.Legend at 0x24a93dfa688>"
      ]
     },
     "execution_count": 207,
     "metadata": {},
     "output_type": "execute_result"
    },
    {
     "data": {
      "text/plain": [
       "<Figure size 360x360 with 0 Axes>"
      ]
     },
     "metadata": {},
     "output_type": "display_data"
    },
    {
     "data": {
      "image/png": "[encoded data removed]",
      "text/plain": [
       "<Figure size 360x360 with 1 Axes>"
      ]
     },
     "metadata": {
      "needs_background": "light"
     },
     "output_type": "display_data"
    }
   ],
   "source": [
    "plt.figure(figsize = (5,5))\n",
    "\n",
    "cmap = plt.cm.get_cmap('Blues', 8) \n",
    "\n",
    "plt.figure(figsize = (5,5))\n",
    "plt.pcolor(range(40), range(40), tabular_tab[::-1], cmap   = cmap)\n",
    "plt.xlabel(\"Position\", fontsize = 15)\n",
    "plt.ylabel(\"Velocity\", fontsize = 15)\n",
    "plt.title(\"Tabular Value Function Approximation\", fontsize = 15)\n",
    "\n",
    "bound = np.linspace(0, 2, 4)\n",
    "# Preparing borders for the legend\n",
    "bound_prep = np.round(bound * 7, 2)\n",
    "plt.legend([mpatches.Patch(color=cmap(b)) for b in bound[:-1]],\n",
    "           [labels[i] for i in range(3)])"
   ]
  },
  {
   "cell_type": "code",
   "execution_count": 154,
   "metadata": {},
   "outputs": [
    {
     "data": {
      "text/plain": [
       "array([[1., 1., 0., ..., 0., 0., 0.],\n",
       "       [1., 1., 0., ..., 0., 0., 0.],\n",
       "       [2., 2., 2., ..., 0., 0., 0.],\n",
       "       ...,\n",
       "       [2., 2., 2., ..., 2., 0., 0.],\n",
       "       [2., 2., 2., ..., 2., 2., 0.],\n",
       "       [2., 2., 2., ..., 2., 2., 2.]])"
      ]
     },
     "execution_count": 154,
     "metadata": {},
     "output_type": "execute_result"
    }
   ],
   "source": [
    "tabular_tab"
   ]
  },
  {
   "cell_type": "code",
   "execution_count": 139,
   "metadata": {},
   "outputs": [
    {
     "data": {
      "text/plain": [
       "array([[1., 2., 2., ..., 2., 2., 2.],\n",
       "       [2., 2., 2., ..., 2., 2., 2.],\n",
       "       [2., 2., 2., ..., 2., 2., 2.],\n",
       "       ...,\n",
       "       [2., 2., 2., ..., 0., 0., 0.],\n",
       "       [2., 2., 2., ..., 0., 0., 0.],\n",
       "       [2., 2., 2., ..., 0., 0., 0.]])"
      ]
     },
     "execution_count": 139,
     "metadata": {},
     "output_type": "execute_result"
    }
   ],
   "source": [
    "qlearning_tab"
   ]
  },
  {
   "cell_type": "markdown",
   "metadata": {},
   "source": [
    "## SARSA"
   ]
  },
  {
   "cell_type": "code",
   "execution_count": 157,
   "metadata": {
    "collapsed": true,
    "jupyter": {
     "outputs_hidden": true
    },
    "tags": []
   },
   "outputs": [
    {
     "name": "stdout",
     "output_type": "stream",
     "text": [
      "Episode: 0\n",
      "33439\n",
      "Episode: 1\n",
      "20933\n",
      "Episode: 2\n",
      "2591\n",
      "Episode: 3\n",
      "2682\n",
      "Episode: 4\n",
      "2725\n",
      "Episode: 5\n",
      "521\n",
      "Episode: 6\n",
      "1599\n",
      "Episode: 7\n",
      "137\n",
      "Episode: 8\n",
      "9617\n",
      "Episode: 9\n",
      "140\n",
      "Episode: 10\n",
      "221\n",
      "Episode: 11\n",
      "2159\n",
      "Episode: 12\n",
      "187\n",
      "Episode: 13\n",
      "449\n",
      "Episode: 14\n",
      "165\n",
      "Episode: 15\n",
      "147\n",
      "Episode: 16\n",
      "390\n",
      "Episode: 17\n",
      "620\n",
      "Episode: 18\n",
      "1077\n",
      "Episode: 19\n",
      "765\n",
      "Episode: 20\n",
      "301\n",
      "Episode: 21\n",
      "1388\n",
      "Episode: 22\n",
      "311\n",
      "Episode: 23\n",
      "473\n",
      "Episode: 24\n",
      "154\n",
      "Episode: 25\n",
      "3739\n",
      "Episode: 26\n",
      "308\n",
      "Episode: 27\n",
      "2401\n",
      "Episode: 28\n",
      "1189\n",
      "Episode: 29\n",
      "3830\n",
      "Episode: 30\n",
      "491\n",
      "Episode: 31\n",
      "1460\n",
      "Episode: 32\n",
      "399\n",
      "Episode: 33\n",
      "1360\n",
      "Episode: 34\n",
      "491\n",
      "Episode: 35\n",
      "1090\n",
      "Episode: 36\n",
      "382\n",
      "Episode: 37\n",
      "139\n",
      "Episode: 38\n",
      "143\n",
      "Episode: 39\n",
      "154\n",
      "Episode: 40\n",
      "143\n",
      "Episode: 41\n",
      "1688\n",
      "Episode: 42\n",
      "151\n",
      "Episode: 43\n",
      "1330\n",
      "Episode: 44\n",
      "1090\n",
      "Episode: 45\n",
      "231\n",
      "Episode: 46\n",
      "1370\n",
      "Episode: 47\n",
      "2893\n",
      "Episode: 48\n",
      "483\n",
      "Episode: 49\n",
      "1381\n"
     ]
    }
   ],
   "source": [
    "import gym\n",
    "import numpy as np\n",
    "env_name = \"MountainCar-v0\"\n",
    "env = gym.make(env_name)\n",
    "obs = env.reset()\n",
    "env.render()\n",
    "# Some initializations\n",
    "#\n",
    "n_states = 40\n",
    "episodes = 50\n",
    "initial_lr = 1.0\n",
    "min_lr = 0.005\n",
    "gamma = 0.99\n",
    "max_stps = 300\n",
    "epsilon = 0.05\n",
    "env = env.unwrapped\n",
    "env.seed()\n",
    "np.random.seed(0)\n",
    "\n",
    "def discretization(env, obs):\n",
    "    env_low = env.observation_space.low\n",
    "    env_high = env.observation_space.high\n",
    "    env_den = (env_high - env_low)# / n_states\n",
    "    pos_den = env_den[0]\n",
    "    vel_den = env_den[1]\n",
    "    pos_high = env_high[0]\n",
    "    pos_low = env_low[0]\n",
    "    vel_high = env_high[1]\n",
    "    vel_low = env_low[1]\n",
    "    pos_scaled =(obs[0] - pos_low) / pos_den   #int((obs[0] - pos_low) / pos_den)\n",
    "    vel_scaled = (obs[1] - vel_low) / vel_den#int((obs[1] - vel_low) / vel_den)\n",
    "    return(pos_scaled, vel_scaled)\n",
    "\n",
    "q_table = np.zeros((n_states, n_states, env.action_space.n))\n",
    "sarsa_steps = []\n",
    "\n",
    "\n",
    "w = np.random.rand(J, 1)\n",
    "for episode in range(episodes):\n",
    "    \n",
    "    # by solving bellmans equations for a number of episodes we can optain a value function of that policy at every state\n",
    "    # we can improve the policy (what is the action im going to take given a state)\n",
    "    \n",
    "    print(\"Episode:\", episode)\n",
    "    obs = env.reset()\n",
    "    total_reward = 0\n",
    "    alpha = max(min_lr, initial_lr*(gamma**(episode/0.1)))# max(min_lr, initial_lr*(gamma**(episode//100)))\n",
    "\n",
    "#     alpha = 0.1\n",
    "    steps = 0\n",
    "    while True:\n",
    "#         if steps % 100 == 0:  \n",
    "#             env.render()\n",
    "        pos, vel = discretization(env, obs)\n",
    "        \n",
    "        if np.random.uniform(low=0, high=1) < epsilon:\n",
    "            a = np.random.choice(env.action_space.n)\n",
    "            a_value, U = evaluate_a(pos, vel, a, w)\n",
    "        else:\n",
    "            a = np.argmax(RBF(pos, vel, w))\n",
    "            a_value, U = evaluate_a(pos, vel, a, w)\n",
    "            \n",
    "        obs, reward, terminate,_ = env.step(a)\n",
    "        total_reward += abs(obs[0]+0.5)\n",
    "        pos_, vel_ = discretization(env, obs)\n",
    "        \n",
    "        states = np.array([pos, vel, a])\n",
    "        \n",
    "        if np.random.uniform(low=0, high=1) < epsilon:\n",
    "\n",
    "            next_val = np.random.choice(np.array(RBF(pos_,vel_, w)).reshape(3))\n",
    "#             print(next_val)\n",
    "        else:\n",
    "            next_val = np.max(RBF(pos_,vel_, w)) \n",
    "        \n",
    "        # Q function update\n",
    "#         print( (alpha * (reward + gamma*max_val - a_value) * U).shape)\n",
    "        w += (alpha * (reward + gamma*next_val - a_value) * U).reshape(J,1)\n",
    "#         w += (1-alpha)*a_value + alpha*(reward+gamma*max_val)\n",
    "        \n",
    "        steps += 1\n",
    "        if terminate:\n",
    "            sarsa_steps.append(steps)\n",
    "            print(steps)\n",
    "            break\n",
    "# while True:\n",
    "#     env.render()"
   ]
  },
  {
   "cell_type": "code",
   "execution_count": 158,
   "metadata": {},
   "outputs": [],
   "source": [
    "w_sarsa = w"
   ]
  },
  {
   "cell_type": "code",
   "execution_count": 164,
   "metadata": {},
   "outputs": [],
   "source": [
    "U, kmeans = get_means(J)"
   ]
  },
  {
   "cell_type": "code",
   "execution_count": 166,
   "metadata": {},
   "outputs": [],
   "source": [
    "sarsa_tab = np.zeros([40,40])\n",
    "# a_label = [\"move left\", \"move right\", \"stay still\"]\n",
    "step = 0\n",
    "for i in range(40):\n",
    "    for j in range(40):\n",
    "#         print(U[step*3:step*3+3])\n",
    "        sarsa_tab[i][j] = np.argmax(U[step*3: step*3+3] @ w_sarsa)\n",
    "        step += 1"
   ]
  },
  {
   "cell_type": "code",
   "execution_count": 209,
   "metadata": {},
   "outputs": [
    {
     "name": "stderr",
     "output_type": "stream",
     "text": [
      "C:\\Users\\DIEGO UNZUETA\\Anaconda3\\lib\\site-packages\\ipykernel_launcher.py:6: MatplotlibDeprecationWarning: shading='flat' when X and Y have the same dimensions as C is deprecated since 3.3.  Either specify the corners of the quadrilaterals with X and Y, or pass shading='auto', 'nearest' or 'gouraud', or set rcParams['pcolor.shading'].  This will become an error two minor releases later.\n",
      "  \n"
     ]
    },
    {
     "data": {
      "text/plain": [
       "<matplotlib.legend.Legend at 0x24a9406a288>"
      ]
     },
     "execution_count": 209,
     "metadata": {},
     "output_type": "execute_result"
    },
    {
     "data": {
      "text/plain": [
       "<Figure size 360x360 with 0 Axes>"
      ]
     },
     "metadata": {},
     "output_type": "display_data"
    },
    {
     "data": {
      "image/png": "[encoded data removed]",
      "text/plain": [
       "<Figure size 360x360 with 1 Axes>"
      ]
     },
     "metadata": {
      "needs_background": "light"
     },
     "output_type": "display_data"
    }
   ],
   "source": [
    "plt.figure(figsize = (5,5))\n",
    "\n",
    "cmap = plt.cm.get_cmap('Blues', 8) \n",
    "\n",
    "plt.figure(figsize = (5,5))\n",
    "plt.pcolormesh(range(40), range(40), sarsa_tab[::-1, ::-1], cmap = cmap)\n",
    "plt.xlabel(\"Position\", fontsize = 15)\n",
    "plt.ylabel(\"Velocity\", fontsize = 15)\n",
    "plt.title(\"SARSA Value Function Approximation\", fontsize = 15)\n",
    "bound = np.linspace(0, 2, 4)\n",
    "# Preparing borders for the legend\n",
    "bound_prep = np.round(bound * 7, 2)\n",
    "plt.legend([mpatches.Patch(color=cmap(b)) for b in bound[:-1]],\n",
    "           [labels[i] for i in range(3)])"
   ]
  },
  {
   "cell_type": "code",
   "execution_count": null,
   "metadata": {},
   "outputs": [],
   "source": []
  },
  {
   "cell_type": "markdown",
   "metadata": {},
   "source": [
    "## Some more plots"
   ]
  },
  {
   "cell_type": "code",
   "execution_count": 98,
   "metadata": {},
   "outputs": [
    {
     "data": {
      "text/plain": [
       "<matplotlib.legend.Legend at 0x18baedde608>"
      ]
     },
     "execution_count": 98,
     "metadata": {},
     "output_type": "execute_result"
    },
    {
     "data": {
      "image/png": "[encoded data removed]",
      "text/plain": [
       "<Figure size 432x288 with 1 Axes>"
      ]
     },
     "metadata": {
      "needs_background": "light"
     },
     "output_type": "display_data"
    }
   ],
   "source": [
    "plt.plot(np.arange(50), total_steps, label = \"Q-Learning\")\n",
    "plt.plot(np.arange(50), tabular_steps, label = \"Tabular Method\")\n",
    "plt.plot(np.arange(50), sarsa_steps, label = \"SARSA\")\n",
    "plt.xlim(0, 50)\n",
    "plt.xlabel(\"Episode\")\n",
    "plt.ylabel(\"Actions to termination\")\n",
    "plt.legend()"
   ]
  },
  {
   "cell_type": "code",
   "execution_count": 99,
   "metadata": {},
   "outputs": [
    {
     "data": {
      "text/plain": [
       "<matplotlib.legend.Legend at 0x18bb1829708>"
      ]
     },
     "execution_count": 99,
     "metadata": {},
     "output_type": "execute_result"
    },
    {
     "data": {
      "image/png": "[encoded data removed]",
      "text/plain": [
       "<Figure size 432x288 with 1 Axes>"
      ]
     },
     "metadata": {
      "needs_background": "light"
     },
     "output_type": "display_data"
    }
   ],
   "source": [
    "plt.plot(np.arange(50), np.log(total_steps), label = \"Q-Learning\")\n",
    "plt.plot(np.arange(50), np.log(tabular_steps), label = \"Tabular Method\")\n",
    "plt.plot(np.arange(50), np.log(sarsa_steps), label = \"SARSA\")\n",
    "plt.xlim(0, 50)\n",
    "plt.xlabel(\"Episode\")\n",
    "plt.ylabel(\"Actions to termination\")\n",
    "plt.legend()"
   ]
  }
 ],
 "metadata": {
  "kernelspec": {
   "display_name": "Python 3 (ipykernel)",
   "language": "python",
   "name": "python3"
  },
  "language_info": {
   "codemirror_mode": {
    "name": "ipython",
    "version": 3
   },
   "file_extension": ".py",
   "mimetype": "text/x-python",
   "name": "python",
   "nbconvert_exporter": "python",
   "pygments_lexer": "ipython3",
   "version": "3.8.12"
  }
 },
 "nbformat": 4,
 "nbformat_minor": 4
}
