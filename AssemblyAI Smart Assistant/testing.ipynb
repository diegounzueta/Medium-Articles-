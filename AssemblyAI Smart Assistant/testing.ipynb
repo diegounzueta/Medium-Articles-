{
 "cells": [
  {
   "cell_type": "code",
   "execution_count": 11,
   "metadata": {},
   "outputs": [],
   "source": [
    "from google.cloud import aiplatform\n",
    "\n",
    "\n",
    "def create_custom_job_sample(\n",
    "    project: str,\n",
    "    display_name: str,\n",
    "    container_image_uri: str,\n",
    "    location: str = \"us-central1\",\n",
    "    api_endpoint: str = \"us-central1-aiplatform.googleapis.com\",\n",
    "):\n",
    "    # The AI Platform services require regional API endpoints.\n",
    "    client_options = {\"api_endpoint\": api_endpoint}\n",
    "    # Initialize client that will be used to create and send requests.\n",
    "    # This client only needs to be created once, and can be reused for multiple requests.\n",
    "    client = aiplatform.gapic.JobServiceClient(client_options=client_options)\n",
    "    custom_job = {\n",
    "        \"display_name\": display_name,\n",
    "        \"job_spec\": {\n",
    "            \"worker_pool_specs\": [\n",
    "                {\n",
    "                    \"machine_spec\": {\n",
    "                        \"machine_type\": \"n1-standard-4\",\n",
    "                        \"accelerator_type\": aiplatform.gapic.AcceleratorType.NVIDIA_TESLA_K80,\n",
    "                        \"accelerator_count\": 1,\n",
    "                    },\n",
    "                    \"replica_count\": 1,\n",
    "                    \"python_package_spec\": {\n",
    "                        \"executor_image_uri\": container_image_uri,\n",
    "                        \"package_uris\" : [\"gs://image_gen_jobs/image_generation-0.2.tar.gz\"],\n",
    "                        \"python_module\": \"trainer.task\",\n",
    "                        \"args\":[]\n",
    "                        },\n",
    "                }\n",
    "            ]\n",
    "        },\n",
    "    }\n",
    "    parent = f\"projects/{project}/locations/{location}\"\n",
    "    response = client.create_custom_job(parent=parent, custom_job=custom_job)\n",
    "    print(\"response:\", response)\n",
    "\n"
   ]
  },
  {
   "cell_type": "code",
   "execution_count": 12,
   "metadata": {},
   "outputs": [
    {
     "name": "stdout",
     "output_type": "stream",
     "text": [
      "response: name: \"projects/466977410093/locations/us-central1/customJobs/3292072228857839616\"\n",
      "display_name: \"art_gen_script\"\n",
      "job_spec {\n",
      "  worker_pool_specs {\n",
      "    machine_spec {\n",
      "      machine_type: \"n1-standard-4\"\n",
      "      accelerator_type: NVIDIA_TESLA_K80\n",
      "      accelerator_count: 1\n",
      "    }\n",
      "    replica_count: 1\n",
      "    disk_spec {\n",
      "      boot_disk_type: \"pd-ssd\"\n",
      "      boot_disk_size_gb: 100\n",
      "    }\n",
      "    python_package_spec {\n",
      "      executor_image_uri: \"europe-docker.pkg.dev/vertex-ai/training/pytorch-gpu.1-10:latest\"\n",
      "      package_uris: \"gs://image_gen_jobs/image_generation-0.2.tar.gz\"\n",
      "      python_module: \"trainer.task\"\n",
      "    }\n",
      "  }\n",
      "}\n",
      "state: JOB_STATE_PENDING\n",
      "create_time {\n",
      "  seconds: 1657801044\n",
      "  nanos: 2157000\n",
      "}\n",
      "update_time {\n",
      "  seconds: 1657801044\n",
      "  nanos: 2157000\n",
      "}\n",
      "\n"
     ]
    }
   ],
   "source": [
    "create_custom_job_sample(\n",
    "    project = \"drone-swarm\",\n",
    "    container_image_uri = \"europe-docker.pkg.dev/vertex-ai/training/pytorch-gpu.1-10:latest\",\n",
    "    display_name = \"art_gen_script\")"
   ]
  },
  {
   "cell_type": "code",
   "execution_count": null,
   "metadata": {},
   "outputs": [],
   "source": []
  },
  {
   "cell_type": "code",
   "execution_count": 3,
   "metadata": {},
   "outputs": [],
   "source": [
    "import os\n",
    "os.environ[\"GOOGLE_APPLICATION_CREDENTIALS\"]=\"C://Users//DIEGO UNZUETA//Documents//GitHub//drone-swarm-e156ec7da86b.json\""
   ]
  },
  {
   "cell_type": "code",
   "execution_count": null,
   "metadata": {},
   "outputs": [],
   "source": []
  }
 ],
 "metadata": {
  "interpreter": {
   "hash": "82afc70c54f7a2e5dc937fd0578d0af171e87f4426c6aabb016b2ff5abd80ace"
  },
  "kernelspec": {
   "display_name": "Python 3.8.12 ('base')",
   "language": "python",
   "name": "python3"
  },
  "language_info": {
   "codemirror_mode": {
    "name": "ipython",
    "version": 3
   },
   "file_extension": ".py",
   "mimetype": "text/x-python",
   "name": "python",
   "nbconvert_exporter": "python",
   "pygments_lexer": "ipython3",
   "version": "3.8.12"
  },
  "orig_nbformat": 4
 },
 "nbformat": 4,
 "nbformat_minor": 2
}
